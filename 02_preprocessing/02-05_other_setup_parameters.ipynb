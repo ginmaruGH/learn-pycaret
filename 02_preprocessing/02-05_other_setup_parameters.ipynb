{
 "cells": [
  {
   "cell_type": "code",
   "execution_count": null,
   "metadata": {},
   "outputs": [],
   "source": [
    "import pandas as pd\n",
    "\n",
    "pd.set_option(\"display.max_columns\", None)"
   ]
  },
  {
   "cell_type": "markdown",
   "metadata": {},
   "source": [
    "# [Other setup parameters（その他の設定パラメータ）](https://pycaret.gitbook.io/docs/get-started/preprocessing/other-setup-parameters)"
   ]
  },
  {
   "cell_type": "markdown",
   "metadata": {},
   "source": [
    "## Required Parameters（必須パラメータ） <a id=\"required_parameters\"></a>\n",
    "\n",
    "There are only two non-optional parameters in the setup function.\n",
    "\n",
    "\n",
    "setup 関数には、オプションでないパラメータが2つだけあります。"
   ]
  },
  {
   "cell_type": "markdown",
   "metadata": {},
   "source": [
    "### PARAMETERS\n",
    "\n",
    "- **data**: pandas.DataFrame\n",
    "  - Shape (n_samples, n_features)\n",
    "  - where n_samples is the number of samples and n_features is the number of features.\n",
    "  - ここで、n_samples はサンプル数、n_features は特徴量の数です。\n",
    "- **target**: str\n",
    "  - Name of the target column to be passed in as a string.\n",
    "  - 文字列として渡されるターゲットのカラム名。"
   ]
  },
  {
   "cell_type": "markdown",
   "metadata": {},
   "source": [
    "## Experiment Logging（実験ログの記録） <a id=\"experiment_logging\"></a>\n",
    "\n",
    "PyCaret can automatically log entire experiments including setup parameters, model hyperparameters, performance metrics, and pipeline artifacts. The default settings use [MLflow](https://mlflow.org/) as the logging backend. [wandb](https://wandb.ai/site) is also available as an option for logging backend. A parameter in the setup can be enabled to automatically track all the metrics, hyperparameters, and other important information about your machine learning model.\n",
    "\n",
    "PyCaretはセットアップパラメータ、モデルのハイパーパラメータ、性能指標、パイプラインの成果物を含む実験全体を自動的にログに記録することができます。デフォルトの設定では、ロギングバックエンドとして [MLflow](https://mlflow.org/) が使用されます。また、ロギングバックエンドのオプションとして [wandb](https://wandb.ai/site) も利用可能です。セットアップのパラメータを有効にすると、機械学習モデルに関するすべての指標、ハイパーパラメータ、および他の重要な情報を自動的に追跡することができます。"
   ]
  },
  {
   "cell_type": "markdown",
   "metadata": {},
   "source": [
    "### PARAMETERS\n",
    "\n",
    "- **log_experiment**: bool, default = bool or string 'mlflow' or 'wandb'\n",
    "  - A (list of) PyCaret `BaseLogger` or str (one of `mlflow`, `wandb`) corresponding to a logger to determine which experiment loggers to use. Setting to True will use the MLFlow backend by default.\n",
    "  - どの実験ロガーを使用するかを決めるために、ロガーに対応する PyCaret `BaseLogger` または str (`mlflow`, `wandb` のいずれか) のリストです。 `True` に設定すると、デフォルトで MLFlow バックエンドを使用します。\n",
    "- **experiment_name**: str, default = None\n",
    "  - Name of the experiment for logging. When set to `None`, a default name is used.\n",
    "  - ロギングを行う実験の名前。None` に設定すると、デフォルトの名前が使用されます。\n",
    "- **experiment_custom_tags**: dict, default = None\n",
    "  - Dictionary of tag_name: String -> value: (String, but will be string-ified if not) passed to the mlflow.set_tags to add new custom tags for the experiment.\n",
    "  - tag_nameの辞書：String -> value: (String, ただし文字列化される) mlflow.set_tags に渡され、実験に新しいカスタムタグを追加します。\n",
    "- **log_plots**: bool, default = False\n",
    "  - When set to `True`, applicable analysis plots are logged as an image file.\n",
    "  - `True` に設定すると、該当する解析プロットを画像ファイルとしてログに記録します。\n",
    "- **log_profile**: bool, default = False\n",
    "  - When set to `True`, the data profile is logged as an HTML file.\n",
    "  - `True` に設定すると、データプロファイルは HTML ファイルとして記録されます。\n",
    "- **log_data**: bool, default = False\n",
    "  - When set to `True`, train and test dataset are logged as a CSV file.\n",
    "  - `True` に設定すると、train および test データセットが CSV ファイルとしてログに記録されます。"
   ]
  },
  {
   "cell_type": "markdown",
   "metadata": {},
   "source": [
    "### Example"
   ]
  },
  {
   "cell_type": "code",
   "execution_count": null,
   "metadata": {},
   "outputs": [],
   "source": [
    "# load dataset\n",
    "from pycaret.datasets import get_data\n",
    "data = get_data('diabetes')\n",
    "\n",
    "# init setup\n",
    "from pycaret.classification import *\n",
    "clf1 = setup(data, target='Class variable', log_experiment=True, experiment_name='diabetes1')\n",
    "\n",
    "# model training\n",
    "best_model = compare_models()"
   ]
  },
  {
   "cell_type": "markdown",
   "metadata": {},
   "source": [
    "To initialize `MLflow` server you must run the following command from within the notebook or from the command line. Once the server is initialized, you can track your experiment on `https://localhost:5000`.\n",
    "\n",
    "MLflow` サーバを初期化するには、ノートブック内またはコマンドラインから以下のコマンドを実行する必要があります。サーバーが初期化されると、`https://localhost:5000` で実験を追跡できるようになります。"
   ]
  },
  {
   "cell_type": "code",
   "execution_count": null,
   "metadata": {},
   "outputs": [],
   "source": [
    "# init server\n",
    "!mlflow ui"
   ]
  },
  {
   "cell_type": "markdown",
   "metadata": {},
   "source": [
    "![mlflow](./images/mlflow_image.png)"
   ]
  },
  {
   "cell_type": "markdown",
   "metadata": {},
   "source": [
    "#### Configure MLflow tracking server（MLflowトラッキングサーバーの設定）\n",
    "\n",
    "When no backend is configured Data is stored locally at the provided file (or ./mlruns if empty). To configure the backend use mlflow.`set_tracking_uri` before executing the setup function.\n",
    "\n",
    "バックエンドが設定されていない場合、データは提供されたファイル(空の場合は ./mlruns)にローカルで保存されます。バックエンドを設定するには、setup 関数を実行する前に mlflow.`set_tracking_uri` を使用します。\n",
    "\n",
    "- An empty string, or a local file path, prefixed with file:/. Data is stored locally at the provided file (or ./mlruns if empty).\n",
    "  - 空の文字列、またはローカルファイルのパスで、先頭に file:/ が付きます。データは提供されたファイル（空の場合は./mlruns）にローカルで保存されます。\n",
    "- An HTTP URI like https://my-tracking-server:5000.\n",
    "  - https://my-tracking-server:5000 のようなHTTP URI\n",
    "- A Databricks workspace, provided as the string “databricks” or, to use a Databricks CLI profile, “databricks://<profileName>”.\n",
    "  - Databricks ワークスペース。文字列 \"databricks\"、または Databricks CLI プロファイルを使用する場合は \"databricks://<profileName>\" として提供されます。\n"
   ]
  },
  {
   "cell_type": "code",
   "execution_count": null,
   "metadata": {},
   "outputs": [],
   "source": [
    "# set tracking uri\n",
    "import mlflow\n",
    "\n",
    "mlflow.set_tracking_uri('file:/c:/users/mlflow-server')\n",
    "\n",
    "# load dataset\n",
    "from pycaret.datasets import get_data\n",
    "\n",
    "data = get_data('diabetes')\n",
    "\n",
    "# init setup\n",
    "from pycaret.classification import *\n",
    "\n",
    "clf1 = setup(\n",
    "    data,\n",
    "    target='Class variable',\n",
    "    log_experiment=True,\n",
    "    experiment_name='diabetes1'\n",
    ")"
   ]
  },
  {
   "cell_type": "markdown",
   "metadata": {},
   "source": [
    "#### PyCaret on Databricks（Databricks上のPyCaret）\n",
    "\n",
    "When using PyCaret on Databricks `experiment_name` parameter in the setup must include complete path to storage.  See example below on how to log experiments when using Databricks:\n",
    "\n",
    "Databricks 上で PyCaret を使用する場合、セットアップの `experiment_name` パラメータにストレージへの完全なパスを含める必要があります。 Databricks を使用した場合の実験記録の取り方については、以下の例を参照してください。"
   ]
  },
  {
   "cell_type": "code",
   "execution_count": null,
   "metadata": {},
   "outputs": [],
   "source": [
    "# load dataset\n",
    "from pycaret.datasets import get_data\n",
    "\n",
    "data = get_data('diabetes')\n",
    "\n",
    "# init setup\n",
    "from pycaret.classification import *\n",
    "\n",
    "clf1 = setup(\n",
    "    data,\n",
    "    target='Class variable',\n",
    "    log_experiment=True,\n",
    "    experiment_name='/Users/username@domain.com/experiment-name-here'\n",
    ")"
   ]
  },
  {
   "cell_type": "markdown",
   "metadata": {},
   "source": [
    "## Model Selection（モデル選択） <a id=\"model_selection\"></a>\n",
    "\n",
    "Following parameters in the setup can be used for setting parameters for model selection process. These are not related to data preprocessing but can influence your model selection process.\n",
    "\n",
    "設定に含まれる以下のパラメータは、モデル選択処理のパラメータ設定に使用できます。これらはデータの前処理とは関係ありませんが、モデル選択処理に影響を与えることがあります。"
   ]
  },
  {
   "cell_type": "markdown",
   "metadata": {},
   "source": [
    "### PARAMETERS\n",
    "\n",
    "- **train_size**: float, default = 0.7\n",
    "  - The proportion of the dataset to be used for training and validation.\n",
    "  - 学習と検証に使用するデータセットの割合。\n",
    "- **test_data**: pandas.DataFrame, default = None\n",
    "  - If not `None`, the `test_data` is used as a hold-out set and the `train_size` is ignored. `test_data` must be labeled and the shape of the data and `test_data` must match.\n",
    "  - `None` でない場合は、 `test_data` を保留セットとして使用し、 `train_size` は無視されます。`test_data` はラベル付けされ、データと `test_data` の形状が一致しなければなりません。\n",
    "- **data_split_shuffle**: bool, default = True\n",
    "  - When set to `False`, prevents shuffling of rows during `train_test_split`.\n",
    "  - `False` に設定すると、 `train_test_split` の際に行のシャッフルを行わないようにします。\n",
    "- **data_split_stratify**: bool or list, default = False\n",
    "  - Controls stratification during the `train_test_split`. When set to `True`, it will stratify by target column. To stratify on any other columns, pass a list of column names. Ignored when `data_split_shuffle` is `False`.\n",
    "  - `train_test_split` の際に階層化を行うかどうかを制御します。`True` に設定すると、ターゲットカラムで階層化されます。他のカラムで階層化する場合は、カラム名のリストを渡します。`data_split_shuffle` が `False` の場合は無視されます。\n",
    "- **fold_strategy**: str or scikit-learn CV generator object, default = ‘stratifiedkfold’\n",
    "  - Choice of cross-validation strategy. Possible values are:\n",
    "  - 交差検証手法の選択。可能な値は以下の通り。\n",
    "    - ‘kfold’\n",
    "    - ‘stratifiedkfold’\n",
    "    - ‘groupkfold’\n",
    "    - ‘timeseries’\n",
    "    - a custom CV generator object compatible with `scikit-learn`.\n",
    "    - `scikit-learn` と互換性のあるカスタム CV ジェネレータオブジェクトです。\n",
    "- **fold**: int, default = 10\n",
    "  - The number of folds to be used in cross-validation. Must be at least 2. This is a global setting that can be over-written at the function level by using the fold parameter. Ignored when `fold_strategy` is a custom object.\n",
    "  - 交差検証で使用するフォルド数．これはグローバルな設定であり、関数レベルでは fold パラメータで上書きすることができます。fold_strategy` がカスタムオブジェクトの場合は、無視されます。\n",
    "- **fold_shuffle**: bool, default = False\n",
    "  - Controls the shuffle parameter of CV. Only applicable when `fold_strategy` is `kfold` or `stratifiedkfold`. Ignored when `fold_strategy` is a custom object.\n",
    "  - CV のシャッフルパラメータを制御します．`fold_strategy` が `kfold` または `stratifiedkfold` の場合のみ適用されます。`fold_strategy` がカスタムオブジェクトの場合は無視されます。\n",
    "- **fold_groups**: str or array-like, with shape (n_samples,), default = None\n",
    "  - Optional group labels when ‘GroupKFold’ is used for the cross-validation. It takes an array with shape (n_samples, ) where n_samples is the number of rows in the training dataset. When the string is passed, it is interpreted as the column name in the dataset containing group labels.\n",
    "  - 交差検証で 'GroupKFold' を利用する場合に，オプションで指定するグループラベル。shape (n_samples, ) の配列で，n_samples は学習データセットの行数．文字列を渡すと，グループラベルを含むデータセットの列名として解釈されます。"
   ]
  },
  {
   "cell_type": "markdown",
   "metadata": {},
   "source": [
    "## Other Miscellaneous（その他雑多なもの） <a id=\"other_miscellaneous\"></a>\n",
    "\n",
    "Following parameters in the setup can be used for controlling other experiment settings such as using GPU for training or setting verbosity of the experiment. They do not affect the data in any way.\n",
    "\n",
    "セットアップの以下のパラメータは、トレーニングにGPUを使用したり、実験の冗長性を設定するなど、他の実験設定を制御するために使用することができます。これらはデータには一切影響を与えません。"
   ]
  },
  {
   "cell_type": "markdown",
   "metadata": {},
   "source": [
    "### PARAMETERS\n",
    "\n",
    "- **n_jobs**: int, default = -1\n",
    "  - The number of jobs to run in parallel (for functions that support parallel processing) -1 means using all processors. To run all functions on single processor set n_jobs to `None`.\n",
    "  - 並列に実行するジョブの数（並列処理をサポートする関数の場合） -1 はすべてのプロセッサを使用することを意味します。すべての関数をシングルプロセッサで実行するには、n_jobs に `None` を設定します。\n",
    "- **use_gpu**: bool or str, default = False\n",
    "  - When set to `True`, it will use GPU for training with algorithms that support it and fall back to CPU if they are unavailable. When set to `force` it will only use GPU-enabled algorithms and raise exceptions when they are unavailable. When `False` all algorithms are trained using CPU only.\n",
    "  - `True` に設定すると、GPU をサポートするアルゴリズムの学習に使用し、使用できない場合は CPU にフォールバックします。`強制`に設定すると、GPUに対応したアルゴリズムのみを使用し、使用できない場合は例外を発生させます。False` に設定すると、すべてのアルゴリズムが CPU のみで学習されます。\n",
    "- **html**: bool, default = True\n",
    "  - When set to `False`, prevents the runtime display of the monitor. This must be set to `False` when the environment does not support IPython. For example, command line terminal, Databricks, PyCharm, Spyder, and other similar IDEs.\n",
    "  - `False` に設定すると、ランタイムモニタの表示を行いません。IPythonをサポートしていない環境では、`False`に設定する必要があります。例えば、コマンドライン・ターミナル、Databricks、PyCharm、Spyder、その他類似のIDEなどです。\n",
    "- **session_id**: int, default = None\n",
    "  - Controls the randomness of the experiment. It is equivalent to `random_state` in `scikit-learn`. When `None`, a pseudo-random number is generated. This can be used for later reproducibility of the entire experiment.\n",
    "  - 実験のランダム性を制御します。これは `scikit-learn` の `random_state` と等価です。None` の場合、擬似乱数が生成されます。これは後で実験全体の再現性を高めるために用いることができます。\n",
    "- **silent**: bool, default = False\n",
    "  - Controls the confirmation input of data types when `setup` is executed. When executing in completely automated mode or on a remote kernel, this must be `True`.\n",
    "  - `setup` 実行時のデータ型の確認入力を制御します。完全に自動化されたモードやリモートカーネルで実行する場合、これは `True` でなければなりません。\n",
    "- **verbose**: bool, default = True\n",
    "  - When set to `False`, Information grid is not printed.\n",
    "  - False` に設定すると、情報グリッドは印刷されません。\n",
    "- **profile**: bool, default = False\n",
    "  - When set to `True`, an interactive EDA report is displayed.\n",
    "  - `True` に設定すると、インタラクティブな EDA レポートが表示されます。\n",
    "- **profile_kwargs**: dict, default = {} (empty dict)\n",
    "  - Dictionary of arguments passed to the ProfileReport method used to create the EDA report. Ignored if `profile` is `False`.\n",
    "  - EDA レポートを作成するために使用される ProfileReport メソッドに渡される引数のディクショナリです。`profile` が `False` の場合、無視されます。\n",
    "- **custom_pipeline**: (str, transformer) or list of (str, transformer), default = None\n",
    "  - When passed, will append the custom transformers in the preprocessing pipeline and are applied on each CV fold separately and on the final fit. All the custom transformations are applied after `train_test_split` and before PyCaret's internal transformations.\n",
    "  - 渡されると、前処理パイプラインにカスタムトランスが追加され、各 CV フォールドに個別に適用され、最終的なフィットにも適用されます。すべてのカスタム変換は `train_test_split` の後、PyCaret の内部変換の前に適用されます。\n",
    "- **preprocess**: bool, default = True\n",
    "  - When set to `False`, no transformations are applied except for `train_test_split` and custom transformations passed in `custom_pipeline` parameter. Data must be ready for modeling (no missing values, no dates, categorical data encoding) when preprocess is set to `False`.\n",
    "  - `False` に設定すると、`train_test_split` と `custom_pipeline` パラメータで渡されたカスタム変換以外の変換は適用されません。`preprocess` を `False` に設定した場合、データはモデリング可能な状態でなければならない（欠損値なし、日付なし、カテゴリカルデータのエンコーディング）。"
   ]
  }
 ],
 "metadata": {
  "kernelspec": {
   "display_name": "Python 3.8.15 ('venv': venv)",
   "language": "python",
   "name": "python3"
  },
  "language_info": {
   "name": "python",
   "version": "3.8.15"
  },
  "orig_nbformat": 4,
  "vscode": {
   "interpreter": {
    "hash": "144d929da0570c40592d9dc325047f87d05d6a3c34760fe6027613ddef8a9521"
   }
  }
 },
 "nbformat": 4,
 "nbformat_minor": 2
}
