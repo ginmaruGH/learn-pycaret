{
 "cells": [
  {
   "cell_type": "code",
   "execution_count": null,
   "metadata": {},
   "outputs": [],
   "source": [
    "import pandas as pd\n",
    "\n",
    "pd.set_option(\"display.max_columns\", None)"
   ]
  },
  {
   "cell_type": "markdown",
   "metadata": {},
   "source": [
    "# [Functions](https://pycaret.gitbook.io/docs/get-started/functions)\n",
    "\n",
    "## [Deploy（配備・展開）](https://pycaret.gitbook.io/docs/get-started/functions/deploy)\n",
    "\n",
    "MLOps and deployment related functions in PyCaret\n",
    "\n",
    "MLOpsとPyCaretの開発関連関数"
   ]
  },
  {
   "cell_type": "markdown",
   "metadata": {},
   "source": [
    "### predict_model\n",
    "\n",
    "This function generates the label using a trained model.  When `data` is None, it predicts label and score on the holdout set.\n",
    "\n",
    "この関数は、学習されたモデルを用いてラベルを生成します。 `data` が None の場合、ホールドアウトされたセットのラベルとスコアを予測します。"
   ]
  },
  {
   "cell_type": "markdown",
   "metadata": {},
   "source": [
    "#### Hold-out predictions（ホールドアウト予測）"
   ]
  },
  {
   "cell_type": "code",
   "execution_count": null,
   "metadata": {},
   "outputs": [],
   "source": [
    "# load dataset\n",
    "from pycaret.datasets import get_data\n",
    "diabetes = get_data('diabetes')\n",
    "\n",
    "# init setup\n",
    "from pycaret.classification import *\n",
    "clf1 = setup(data=diabetes, target='Class variable')\n",
    "\n",
    "# create a model\n",
    "xgboost = create_model('xgboost')\n",
    "\n",
    "# predict on hold-out\n",
    "predict_model(xgboost)"
   ]
  },
  {
   "cell_type": "markdown",
   "metadata": {},
   "source": [
    "![predict_model_hold-out](./images/predict_model_hold-out.png)"
   ]
  },
  {
   "cell_type": "markdown",
   "metadata": {},
   "source": [
    "#### Unseen data predictions（未知なるデータ予測）"
   ]
  },
  {
   "cell_type": "code",
   "execution_count": null,
   "metadata": {},
   "outputs": [],
   "source": [
    "# load dataset\n",
    "from pycaret.datasets import get_data\n",
    "diabetes = get_data('diabetes')\n",
    "\n",
    "# init setup\n",
    "from pycaret.classification import *\n",
    "clf1 = setup(data=diabetes, target='Class variable')\n",
    "\n",
    "# create a model\n",
    "xgboost = create_model('xgboost')\n",
    "\n",
    "# predict on new data\n",
    "new_data = diabetes.copy()\n",
    "new_data.drop('Class variable', axis=1, inplace=True)\n",
    "predict_model(xgboost, data=new_data)"
   ]
  },
  {
   "cell_type": "markdown",
   "metadata": {},
   "source": [
    "![predict_model_unseen_data](./images/predict_model_unseen_data.png)"
   ]
  },
  {
   "cell_type": "markdown",
   "metadata": {},
   "source": [
    "#### Probability by class（クラス別の確率）"
   ]
  },
  {
   "cell_type": "markdown",
   "metadata": {},
   "source": [
    "> NOTE: This is only applicable for the [Classification](https://pycaret.gitbook.io/docs/get-started/modules) use-cases.\n",
    ">\n",
    "> 注：これは、[分類](https://pycaret.gitbook.io/docs/get-started/modules のユースケースにのみ適用されます。"
   ]
  },
  {
   "cell_type": "code",
   "execution_count": null,
   "metadata": {},
   "outputs": [],
   "source": [
    "# load dataset\n",
    "from pycaret.datasets import get_data\n",
    "diabetes = get_data('diabetes')\n",
    "\n",
    "# init setup\n",
    "from pycaret.classification import *\n",
    "clf1 = setup(data=diabetes, target='Class variable')\n",
    "\n",
    "# create a model\n",
    "xgboost = create_model('xgboost')\n",
    "\n",
    "# predict on new data\n",
    "new_data = diabetes.copy()\n",
    "new_data.drop('Class variable', axis=1, inplace=True)\n",
    "predict_model(xgboost, raw_score=True, data=new_data)"
   ]
  },
  {
   "cell_type": "markdown",
   "metadata": {},
   "source": [
    "![predict_model_probability_by_class](./images/predict_model_probability_by_class.png)"
   ]
  },
  {
   "cell_type": "markdown",
   "metadata": {},
   "source": [
    "#### Setting probability threshold（確率の閾値の設定）"
   ]
  },
  {
   "cell_type": "markdown",
   "metadata": {},
   "source": [
    "> NOTE: This is only applicable for the [Classification](https://pycaret.gitbook.io/docs/get-started/modules) use-cases (binary only).\n",
    ">\n",
    "> 注：これは、[分類](https://pycaret.gitbook.io/docs/get-started/modules) のユースケースにのみ適用されます（バイナリのみ）。"
   ]
  },
  {
   "cell_type": "markdown",
   "metadata": {},
   "source": [
    "The threshold for converting predicted probability to the class labels. Unless this parameter is set, it will default to the value set during model creation. If that wasn’t set, the default will be 0.5 for all classifiers. Only applicable for binary classification.\n",
    "\n",
    "予測される確率をクラスラベルに変換するための閾値。このパラメータが設定されない限り、デフォルトはモデル作成時に設定された値になります。設定されていない場合、すべての分類器のデフォルトは0.5となります。2値分類にのみ適用されます。"
   ]
  },
  {
   "cell_type": "code",
   "execution_count": null,
   "metadata": {},
   "outputs": [],
   "source": [
    "# load dataset\n",
    "from pycaret.datasets import get_data\n",
    "diabetes = get_data('diabetes')\n",
    "\n",
    "# init setup\n",
    "from pycaret.classification import *\n",
    "clf1 = setup(data=diabetes, target='Class variable')\n",
    "\n",
    "# create a model\n",
    "xgboost = create_model('xgboost')\n",
    "\n",
    "# probability threshold 0.3\n",
    "predict_model(xgboost, probability_threshold=0.3)"
   ]
  },
  {
   "cell_type": "markdown",
   "metadata": {},
   "source": [
    "![predict_model_probability_threshold](./images/predict_model_probability_threshold.png)"
   ]
  },
  {
   "cell_type": "markdown",
   "metadata": {},
   "source": [
    "##### Comparison between different thresholds on the hold-out data（ホールドアウトデータにおける閾値の違いによる比較）\n",
    "\n",
    "![predict_model_probability_threshold](./images/predict_model_probability_threshold2.png)"
   ]
  },
  {
   "cell_type": "markdown",
   "metadata": {},
   "source": [
    "#### Monitor data drift（データドリフトの監視）\n",
    "\n",
    "An interactive drift report can be generated by using `drift_report` parameter.\n",
    "\n",
    "`drift_report` パラメータを使用すると、インタラクティブなドリフトレポートを作成することができます。"
   ]
  },
  {
   "cell_type": "code",
   "execution_count": null,
   "metadata": {},
   "outputs": [],
   "source": [
    "# load dataset\n",
    "from pycaret.datasets import get_data\n",
    "diabetes = get_data('diabetes')\n",
    "\n",
    "# init setup\n",
    "from pycaret.classification import *\n",
    "clf1 = setup(data=diabetes, target='Class variable')\n",
    "\n",
    "# create a model\n",
    "xgboost = create_model('xgboost')\n",
    "\n",
    "# predict on new data\n",
    "predict_model(xgboost, drift_report=True)"
   ]
  },
  {
   "cell_type": "markdown",
   "metadata": {},
   "source": [
    "![predict_model_monitor_data_drift](./images/predict_model_monitor_data_drift.png)\n",
    "\n",
    "![predict_model_monitor_data_drift](./images/predict_model_monitor_data_drift2.png)\n",
    "\n",
    "![predict_model_monitor_data_drift](./images/predict_model_monitor_data_drift3.png)\n",
    "\n",
    "![predict_model_monitor_data_drift](./images/predict_model_monitor_data_drift4.png)"
   ]
  },
  {
   "cell_type": "markdown",
   "metadata": {},
   "source": [
    "### finalize_model\n",
    "\n",
    "This function trains a given model on the entire dataset including the hold-out set.\n",
    "\n",
    "この関数は、ホールドアウトセットを含むデータセット全体に対して、与えられたモデルを学習させます。"
   ]
  },
  {
   "cell_type": "code",
   "execution_count": null,
   "metadata": {},
   "outputs": [],
   "source": [
    "# load dataset\n",
    "from pycaret.datasets import get_data\n",
    "diabetes = get_data('diabetes')\n",
    "\n",
    "# init setup\n",
    "from pycaret.classification import *\n",
    "clf1 = setup(data=diabetes, target='Class variable')\n",
    "\n",
    "# create a model\n",
    "rf = create_model('rf')\n",
    "\n",
    "# finalize a model\n",
    "finalize_model(rf)"
   ]
  },
  {
   "cell_type": "markdown",
   "metadata": {},
   "source": [
    "![finalize_model](./images/finalize_model.png)\n",
    "\n",
    "This function doesn't change any parameter of the model. It only refits on the entire dataset including the hold-out set.\n",
    "\n",
    "この関数はモデルのどのパラメータも変更しません。ホールドアウトセットを含む全データセットに対してのみリフィットを行います。"
   ]
  },
  {
   "cell_type": "markdown",
   "metadata": {},
   "source": [
    "### deploy_model\n",
    "\n",
    "This function deploys the entire ML pipeline on the cloud.\n",
    "\n",
    "この関数は、MLパイプライン全体をクラウド上に展開するものです。"
   ]
  },
  {
   "cell_type": "code",
   "execution_count": null,
   "metadata": {},
   "outputs": [],
   "source": [
    "# load dataset\n",
    "from pycaret.datasets import get_data\n",
    "diabetes = get_data('diabetes')\n",
    "\n",
    "# init setup\n",
    "from pycaret.classification import *\n",
    "clf1 = setup(data=diabetes, target='Class variable')\n",
    "\n",
    "# create a model\n",
    "lr = create_model('lr')\n",
    "\n",
    "# finalize a model\n",
    "final_lr = finalize_model(lr)\n",
    "\n",
    "# deploy a model\n",
    "deploy_model(\n",
    "    final_lr,\n",
    "    model_name='lr_aws',\n",
    "    platform='aws',\n",
    "    authentication={ 'bucket': 'pycaret-test' }\n",
    ")"
   ]
  },
  {
   "cell_type": "markdown",
   "metadata": {},
   "source": [
    "![deploy_model](./images/deploy_model.png)"
   ]
  },
  {
   "cell_type": "markdown",
   "metadata": {},
   "source": [
    "#### AWS\n",
    "\n",
    "Before deploying a model to an AWS S3 (‘aws’), environment variables must be configured using the command-line interface. To configure AWS environment variables, type **aws configure** in your python command line. The following information is required which can be generated using the Identity and Access Management (IAM) portal of your amazon console account:\n",
    "\n",
    "AWS S3 ('aws') にモデルをデプロイする前に、コマンドラインインターフェースを使用して環境変数を設定する必要があります。AWS環境変数を設定するには、pythonのコマンドラインに **aws configure** と入力します。以下の情報は、amazonコンソールアカウントのIdentity and Access Management (IAM) ポータルを使用して生成することが必要です。\n",
    "\n",
    "- AWS Access Key ID\n",
    "  - AWSアクセスキーID\n",
    "- AWS Secret Key Access\n",
    "  - AWSシークレットキーアクセス\n",
    "- Default Region Name (can be seen under Global settings on your AWS console)\n",
    "  - デフォルトのリージョン名（AWSコンソールのグローバル設定から確認可能）\n",
    "- Default output format (must be left blank)\n",
    "  - デフォルトの出力形式（空白のままにしておく必要があります。）"
   ]
  },
  {
   "cell_type": "markdown",
   "metadata": {},
   "source": [
    "#### GCP\n",
    "\n",
    "To deploy a model on Google Cloud Platform ('gcp'), the project must be created using the command-line or GCP console. Once the project is created, you must create a service account and download the service account key as a JSON file to set environment variables in your local environment.\n",
    "\n",
    "Google Cloud Platform ('gcp')にモデルをデプロイするには、コマンドラインまたはGCPコンソールを使用してプロジェクトを作成する必要があります。プロジェクトを作成したら、サービスアカウントを作成し、サービスアカウントキーをJSONファイルとしてダウンロードし、ローカル環境に環境変数を設定する必要があります。\n",
    "\n",
    "Learn more about it: <https://cloud.google.com/docs/authentication/production>"
   ]
  },
  {
   "cell_type": "markdown",
   "metadata": {},
   "source": [
    "#### Azure\n",
    "\n",
    "To deploy a model on Microsoft Azure ('azure'), environment variables for the connection string must be set in your local environment. Go to settings of storage account on Azure portal to access the connection string required.\n",
    "\n",
    "Microsoft Azure (以下、Azure) 上にモデルを配置するには、接続文字列の環境変数をローカル環境に設定する必要があります。Azureポータルからストレージアカウントの設定にアクセスし、必要な接続文字列にアクセスします。\n",
    "\n",
    "- AZURE_STORAGE_CONNECTION_STRING (required as environment variable)\n",
    "  - AZURE_STORAGE_CONNECTION_STRING (環境変数として必要)\n",
    "\n",
    "Learn more about it: <https://docs.microsoft.com/en-us/azure/storage/blobs/storage-quickstart-blobs-python?toc=%2Fpython%2Fazure%2FTOC.json>"
   ]
  },
  {
   "cell_type": "markdown",
   "metadata": {},
   "source": [
    "### save_model\n",
    "\n",
    "This function saves the transformation pipeline and a trained model object into the current working directory as a pickle file for later use.\n",
    "\n",
    "この関数は、変換パイプラインと学習済みモデルオブジェクトを、あとで使用するためにpickleファイルとして現在の作業ディレクトリに保存します。"
   ]
  },
  {
   "cell_type": "code",
   "execution_count": null,
   "metadata": {},
   "outputs": [],
   "source": [
    "# load dataset\n",
    "from pycaret.datasets import get_data\n",
    "diabetes = get_data('diabetes')\n",
    "\n",
    "# init setup\n",
    "from pycaret.classification import *\n",
    "clf1 = setup(data=diabetes, target='Class variable')\n",
    "\n",
    "# create a model\n",
    "dt = create_model('dt')\n",
    "\n",
    "# save pipeline\n",
    "save_model(dt, 'dt_pipeline')"
   ]
  },
  {
   "cell_type": "markdown",
   "metadata": {},
   "source": [
    "![save_model](./images/save_model.png)"
   ]
  },
  {
   "cell_type": "markdown",
   "metadata": {},
   "source": [
    "### load_model\n",
    "\n",
    "This function loads a previously saved pipeline.\n",
    "\n",
    "この関数は、以前に保存されたパイプラインを読み込みます。"
   ]
  },
  {
   "cell_type": "code",
   "execution_count": null,
   "metadata": {},
   "outputs": [],
   "source": [
    "# load dataset\n",
    "from pycaret.datasets import get_data\n",
    "diabetes = get_data('diabetes')\n",
    "\n",
    "# init setup\n",
    "from pycaret.classification import *\n",
    "clf1 = setup(data=diabetes, target='Class variable')\n",
    "\n",
    "# create a model\n",
    "dt = create_model('dt')\n",
    "\n",
    "# save pipeline\n",
    "save_model(dt, 'dt_pipeline')\n",
    "\n",
    "# load pipeline\n",
    "load_model('dt_pipeline')"
   ]
  },
  {
   "cell_type": "markdown",
   "metadata": {},
   "source": [
    "![load_model](./images/load_model.png)"
   ]
  },
  {
   "cell_type": "markdown",
   "metadata": {},
   "source": [
    "### save_config\n",
    "\n",
    "This function saves all the global variables to a pickle file, allowing to later resume without rerunning the setup function.\n",
    "\n",
    "この関数は、すべてのグローバル変数をpickleファイルに保存し、setup 関数を再実行することなく、あとで再開することを可能にします。"
   ]
  },
  {
   "cell_type": "code",
   "execution_count": null,
   "metadata": {},
   "outputs": [],
   "source": [
    "# load dataset\n",
    "from pycaret.datasets import get_data\n",
    "diabetes = get_data('diabetes')\n",
    "\n",
    "# init setup\n",
    "from pycaret.classification import *\n",
    "clf1 = setup(data=diabetes, target='Class variable')\n",
    "\n",
    "# save config\n",
    "save_config('my_config')"
   ]
  },
  {
   "cell_type": "markdown",
   "metadata": {},
   "source": [
    "### load_config\n",
    "\n",
    "This function loads global variables from a pickle file into the Python environment.\n",
    "\n",
    "この関数は、pickleファイルからPython環境にグローバル変数を読み込みます。"
   ]
  },
  {
   "cell_type": "markdown",
   "metadata": {},
   "source": [
    "### convert_model\n",
    "\n",
    "This function transpiles the trained machine learning model's decision function in different programming languages such as Python, C, Java, Go, C#, etc. It is very useful if you want to deploy models into environments where you can't install your normal Python stack to support model inference.\n",
    "\n",
    "Python、C、Java、Go、C#などの異なるプログラミング言語で学習された機械学習モデルの決定関数をトランスパイルする関数です。モデルの推論をサポートするために通常のPythonスタックをインストールできない環境にモデルを展開したい場合に非常に便利です。"
   ]
  },
  {
   "cell_type": "code",
   "execution_count": null,
   "metadata": {},
   "outputs": [],
   "source": [
    "# load dataset\n",
    "from pycaret.datasets import get_data\n",
    "juice = get_data('juice')\n",
    "\n",
    "# init setup\n",
    "from pycaret.classification import *\n",
    "exp_name = setup(data=juice,  target='Purchase')\n",
    "\n",
    "# train a model\n",
    "lr = create_model('lr')\n",
    "\n",
    "# convert a model\n",
    "convert_model(lr, 'java')"
   ]
  },
  {
   "cell_type": "markdown",
   "metadata": {},
   "source": [
    "![convert_model](./images/convert_model.png)"
   ]
  },
  {
   "cell_type": "markdown",
   "metadata": {},
   "source": [
    "#### Video:\n",
    "\n",
    "<https://www.youtube.com/watch?v=xwQgfNC7808>"
   ]
  },
  {
   "cell_type": "markdown",
   "metadata": {},
   "source": [
    "### create_api\n",
    "\n",
    "This function takes an input model and creates a POST API for inference. It only creates the API and doesn't run it automatically. To run the API, you must run the Python file using `!python`.\n",
    "\n",
    "この関数は、入力モデルを受け取り、推論用のPOST APIを作成します。APIを作成するだけで、自動的に実行されることはありません。APIを実行するには、`!python`を使用してPythonファイルを実行する必要があります。"
   ]
  },
  {
   "cell_type": "code",
   "execution_count": null,
   "metadata": {},
   "outputs": [],
   "source": [
    "# load dataset\n",
    "from pycaret.datasets import get_data\n",
    "juice = get_data('juice')\n",
    "\n",
    "# init setup\n",
    "from pycaret.classification import *\n",
    "exp_name = setup(data=juice,  target='Purchase')\n",
    "\n",
    "# train a model\n",
    "lr = create_model('lr')\n",
    "\n",
    "# create api\n",
    "create_api(lr, 'lr_api')\n",
    "\n",
    "# run api\n",
    "!python lr_api.py"
   ]
  },
  {
   "cell_type": "markdown",
   "metadata": {},
   "source": [
    "![create_api](./images/create_api.png)"
   ]
  },
  {
   "cell_type": "markdown",
   "metadata": {},
   "source": [
    "Once you initialize API with the `!python` command. You can see the server on localhost:8000/docs.\n",
    "\n",
    "一旦、`!python`コマンドでAPIを初期化します。localhost:8000/docsにあるサーバーを確認することができます。"
   ]
  },
  {
   "cell_type": "markdown",
   "metadata": {},
   "source": [
    "![create_api](./images/create_api2.png)"
   ]
  },
  {
   "cell_type": "markdown",
   "metadata": {},
   "source": [
    "#### Video:\n",
    "\n",
    "<https://www.youtube.com/watch?v=88M9c5Hc-k0>"
   ]
  },
  {
   "cell_type": "markdown",
   "metadata": {},
   "source": [
    "### create_docker\n",
    "\n",
    "This function creates a `Dockerfile` and `requirements.txt` for productionalizing API end-point.\n",
    "\n",
    "この関数は、APIエンドポイントをプロダクションするための `Dockerfile` と `requirements.txt` を作成します。"
   ]
  },
  {
   "cell_type": "code",
   "execution_count": null,
   "metadata": {},
   "outputs": [],
   "source": [
    "# load dataset\n",
    "from pycaret.datasets import get_data\n",
    "juice = get_data('juice')\n",
    "\n",
    "# init setup\n",
    "from pycaret.classification import *\n",
    "exp_name = setup(data=juice,  target='Purchase')\n",
    "\n",
    "# train a model\n",
    "lr = create_model('lr')\n",
    "\n",
    "# create api\n",
    "create_api(lr, 'lr_api')\n",
    "\n",
    "# create docker\n",
    "create_docker('lr_api')"
   ]
  },
  {
   "cell_type": "markdown",
   "metadata": {},
   "source": [
    "![create_docker](./images/create_docker.png)"
   ]
  },
  {
   "cell_type": "markdown",
   "metadata": {},
   "source": [
    "You can see two files are created for you.\n",
    "\n",
    "2つのファイルが作成されているのがわかると思います。"
   ]
  },
  {
   "cell_type": "markdown",
   "metadata": {},
   "source": [
    "![create_docker](./images/create_docker2.png)\n",
    "\n",
    "![create_docker](./images/create_docker3.png)"
   ]
  },
  {
   "cell_type": "markdown",
   "metadata": {},
   "source": [
    "#### Video:\n",
    "\n",
    "<https://www.youtube.com/watch?v=xMgwEJ57uxs>"
   ]
  },
  {
   "cell_type": "markdown",
   "metadata": {},
   "source": [
    "### create_app\n",
    "\n",
    "This function creates a basic `gradio` app for inference. It will later be expanded for other app types such `Streamlit`.\n",
    "\n",
    "この関数は推論用の基本的な `gradio` アプリを作成します。この関数は後に `Streamlit` のようなほかのタイプのアプリのために拡張される予定です。"
   ]
  },
  {
   "cell_type": "markdown",
   "metadata": {},
   "source": [
    "![create_app](./images/create_app.png)"
   ]
  },
  {
   "cell_type": "markdown",
   "metadata": {},
   "source": [
    "#### Video:\n",
    "\n",
    "<https://www.youtube.com/watch?v=4JyYhbW6eCA>"
   ]
  }
 ],
 "metadata": {
  "kernelspec": {
   "display_name": "Python 3.8.15 ('venv': venv)",
   "language": "python",
   "name": "python3"
  },
  "language_info": {
   "name": "python",
   "version": "3.8.15"
  },
  "orig_nbformat": 4,
  "vscode": {
   "interpreter": {
    "hash": "144d929da0570c40592d9dc325047f87d05d6a3c34760fe6027613ddef8a9521"
   }
  }
 },
 "nbformat": 4,
 "nbformat_minor": 2
}
