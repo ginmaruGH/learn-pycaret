{
 "cells": [
  {
   "cell_type": "code",
   "execution_count": null,
   "metadata": {},
   "outputs": [],
   "source": [
    "import pandas as pd\n",
    "\n",
    "pd.set_option(\"display.max_columns\", None)"
   ]
  },
  {
   "cell_type": "markdown",
   "metadata": {},
   "source": [
    "# [Functions](https://pycaret.gitbook.io/docs/get-started/functions)\n",
    "\n",
    "## [Initialize（初期化）](https://pycaret.gitbook.io/docs/get-started/functions/initialize)\n",
    "\n",
    "Functions that initialize experiment in PyCaret\n",
    "\n",
    "PyCaretで実験を初期化する関数"
   ]
  },
  {
   "cell_type": "markdown",
   "metadata": {},
   "source": [
    "### setup\n",
    "\n",
    "This function initializes the experiment in PyCaret and creates the transformation pipeline based on all the parameters passed in the function. Setup function must be called before executing any other function. It takes two mandatory parameters: `data` and `target`. All the other parameters are optional.\n",
    "\n",
    "この関数は PyCaret の実験を初期化し、関数に渡されたすべてのパラメータを基に変換パイプラインを作成します。Setup 関数は、ほかの関数を実行する前に呼び出す必要があります。この関数は2つの必須パラメータを受け取ります。`data` と `target` です。その他のパラメータは任意です。"
   ]
  },
  {
   "cell_type": "markdown",
   "metadata": {},
   "source": [
    "#### Example"
   ]
  },
  {
   "cell_type": "code",
   "execution_count": null,
   "metadata": {},
   "outputs": [],
   "source": [
    "# load dataset\n",
    "from pycaret.datasets import get_data\n",
    "diabetes = get_data('diabetes')\n",
    "\n",
    "# init setup\n",
    "from pycaret.classification import *\n",
    "clf1 = setup(data=diabetes, target='Class variable')"
   ]
  },
  {
   "cell_type": "markdown",
   "metadata": {},
   "source": [
    "As soon as you run the setup function, PyCaret will automatically infer the data types of all the variables in the dataset. If these are correctly inferred, you can press enter to continue.\n",
    "\n",
    "setup 関数を実行するとすぐに、PyCaret はデータセット内のすべての変数のデータ型を自動的に推測します。これらが正しく推測された場合、Enter キーを押して続行することができます。\n",
    "\n",
    "![setup_01](./images/setup_01.png)"
   ]
  },
  {
   "cell_type": "markdown",
   "metadata": {},
   "source": [
    "Once you press enter to continue, you will see the output like this:\n",
    "\n",
    "Enterキーを押して続行すると、次のような出力が表示されます。\n",
    "\n",
    "![setup_02](./images/setup_02.png)\n",
    "\n",
    "All the preprocessing and data transformations are configured within the setup function. There are many options to choose from, from data cleaning to feature engineering. To learn more about all the available Preprocessing, [see this page](https://pycaret.gitbook.io/docs/get-started/preprocessing).\n",
    "\n",
    "すべての前処理とデータ変換は、setup関数内で設定されます。データクリーニングからフィーチャーエンジニアリングまで、多くのオプションから選択することができます。利用可能なすべての前処理について詳しく知るには、[このページを参照してください](https://pycaret.gitbook.io/docs/get-started/preprocessing)。\n",
    "\n",
    "> NOTE: If you do not want to see the data type confirmation, you can pass silent=True in the setup to run it without any interruption.\n",
    ">\n",
    "> 注：データ型の確認を表示したくない場合は、セットアップでsilent=Trueを渡すと、途切れることなく実行されます。"
   ]
  },
  {
   "cell_type": "markdown",
   "metadata": {},
   "source": [
    "#### Required Parameters\n",
    "\n",
    "There are many parameters in the setup function but only two are non-optional.\n",
    "\n",
    "setup関数には多くのパラメータがありますが、2つだけオプションでないものがあります。\n",
    "\n",
    "- **data**: pandas.DataFrame\n",
    "  - Shape (n_samples, n_features), where n_samples is the number of samples and n_features is the number of features.\n",
    "  - Shape (n_samples, n_features), n_samples はサンプル数、n_features は特徴量数です。\n",
    "- **target**: str\n",
    "  - Name of the target column to be passed in as a string.\n",
    "  - 文字列として渡されるターゲットカラム名。\n",
    "\n",
    "> NOTE: target parameter is not required for unsupervised modules such as clustering, anomaly detection or NLP.\n",
    ">\n",
    "> 注：target パラメータは、クラスタリング、異常検出、NLP などの教師なしモジュールでは必要ありません。\n"
   ]
  },
  {
   "cell_type": "markdown",
   "metadata": {},
   "source": [
    "#### Default Transformations（デフォルトの変換）\n",
    "\n",
    "All the preprocessing steps in setup are simply a flag of `True` or `False` . For example, if you want to scale your features, you will have to pass `normalize=True` in the setup function. However, there are three things that will happen by default:\n",
    "\n",
    "setup のすべての前処理は，単に `True` か `False` のフラグを立てるだけです．例えば，特徴量をスケーリングしたい場合は，setup 関数で `normalize=True` を渡す必要があります．しかし，デフォルトでは3つのことが行われます．\n",
    "\n",
    "- [Missing Value Imputation（欠測値）](../02_preprocessing/02-01_data_preparation.ipynb#missing_values)\n",
    "- [One-Hot Encoding（ワンホットエンコーディング）](../02_preprocessing/02-01_data_preparation.ipynb#one_hot_encoding)\n",
    "- [Train-Test Split（訓練/テストの分割）](../02_preprocessing/02-05_other_setup_parameters.ipynb#model_selection)"
   ]
  },
  {
   "cell_type": "markdown",
   "metadata": {},
   "source": [
    "#### Experiment Logging（実験ログの記録）\n",
    "\n",
    "PyCaret uses [MLflow](https://mlflow.org/) for experiment tracking. A parameter in the setup can be enabled to automatically track all the metrics, hyperparameters, and other important information about your machine learning model.\n",
    "\n",
    "PyCaretは実験のトラッキングに[MLflow](https://mlflow.org/)を使用しています。setupのパラメータを有効にすることで、機械学習モデルに関する全てのメトリクス、ハイパーパラメータ、その他の重要な情報を自動的に追跡することが可能です。"
   ]
  },
  {
   "cell_type": "code",
   "execution_count": null,
   "metadata": {},
   "outputs": [],
   "source": [
    "# load dataset\n",
    "from pycaret.datasets import get_data\n",
    "data = get_data('diabetes')\n",
    "\n",
    "# init setup\n",
    "from pycaret.classification import *\n",
    "clf1 = setup(data, target='Class variable', log_experiment=True, experiment_name='diabetes1')\n",
    "\n",
    "# model training\n",
    "best_model = compare_models()"
   ]
  },
  {
   "cell_type": "markdown",
   "metadata": {},
   "source": [
    "To initialize the `MLflow` server you must run the following command from within the notebook or from the command line. Once the server is initialized, you can track your experiment on `https://localhost:5000`.\n",
    "\n",
    "`MLflow` サーバを初期化するには、ノートブック内またはコマンドラインから以下のコマンドを実行する必要があります。サーバーが初期化されると、`https://localhost:5000` で実験を追跡できるようになります。\n",
    "\n",
    "```python\n",
    "# init server\n",
    "!mlflow ui\n",
    "```\n",
    "\n",
    "![setup_03](./images/setup_03.png)\n",
    "\n",
    "To learn more about experiment tracking in PyCaret, [see this page](../02_preprocessing/02-05_other_setup_parameters.ipynb#experiment_logging).\n",
    "\n",
    "PyCaretでの実験追跡について詳しく知りたい方は、[こちらのページをご覧ください](../02_preprocessing/02-05_other_setup_parameters.ipynb#experiment_logging)。"
   ]
  },
  {
   "cell_type": "markdown",
   "metadata": {},
   "source": [
    "#### Model Validation（モデルの検証）\n",
    "\n",
    "There are quite a few parameters in the setup function that are not directly related to preprocessing or data transformation but they are used as part of model validation and selection strategy such as `train_size`, `fold_strategy`, or number of `fold` for cross-validation. To learn more about all the model validation and selection settings in the setup, see [this page](../02_preprocessing/02-05_other_setup_parameters.ipynb#model_selection).\n",
    "\n",
    "setup関数には、前処理やデータ変換には直接関係しないが、モデルの検証や選択戦略の一部として使われるパラメータがかなりあります。例えば、`train_size`, `fold_strategy`, または交差検証のための `fold` の数などです。setupでの全てのモデル検証・選択設定について詳しく知るには、[このページ]を参照してください。"
   ]
  },
  {
   "cell_type": "markdown",
   "metadata": {},
   "source": [
    "#### GPU Support（GPUサポート）\n",
    "\n",
    "With PyCaret, you can train models on GPU and speed up your workflow by 10x. To train models on GPU simply pass `use_gpu = True` in the setup function. There is no change in the use of the API, however, in some cases, additional libraries have to be installed as they are not installed with the default version or the full version.\n",
    "\n",
    "PyCaretを使えば、GPU上でモデルを学習させることができ、ワークフローを10倍高速化することができます。GPU上でモデルを学習させるには、setup関数内で `use_gpu = True` を渡すだけです。APIの使い方に変更はありませんが、デフォルトバージョンやフルバージョンではインストールされないため、場合によっては追加のライブラリのインストールが必要です。\n",
    "\n",
    "##### GPU\n",
    "\n",
    "With PyCaret, you can train models on GPU and speed up your workflow by 10x. To train models on GPU simply pass `use_gpu = True` in the setup function. There is no change in the use of the API, however, in some cases, additional libraries have to be installed as they are not installed with the default version or the full version. As of the latest release, the following models can be trained on GPU:\n",
    "\n",
    "PyCaretを使えば、GPU上でモデルを学習させることができ、ワークフローを10倍高速化することができます。GPU上でモデルを学習させるには、setup関数内で `use_gpu = True` を渡すだけです。APIの使い方に変更はありませんが、デフォルトバージョンやフルバージョンではインストールされないため、場合によっては追加ライブラリのインストールが必要です。最新リリースでは，以下のモデルがGPUで学習可能です。\n",
    "\n",
    "- Extreme Gradient Boosting (requires no further installation)\n",
    "  - エクストリームグラデーションブースティング（インストール不要）\n",
    "- Catboost (requires no further installation)\n",
    "  - Catboost (インストール不要)\n",
    "- Light Gradient Boosting Machine requires [GPU installation](https://lightgbm.readthedocs.io/en/latest/GPU-Tutorial.html)\n",
    "  - Light Gradient Boosting Machineは、[GPUのインストール](https://lightgbm.readthedocs.io/en/latest/GPU-Tutorial.html)が必要です。\n",
    "- Logistic Regression, Ridge Classifier, Random Forest, K Neighbors Classifier, K Neighbors Regressor, Support Vector Machine, Linear Regression, Ridge Regression, Lasso Regression requires [cuML >= 0.15](https://github.com/rapidsai/cuml)\n",
    "  - ロジスティック回帰、リッジ分類器、ランダムフォレスト、K隣接分類器、K隣接回帰器、サポートベクターマシン、線形回帰、リッジ回帰、ラッソ回帰は[cuML >= 0.15](https://github.com/rapidsai/cuml)が必要です。"
   ]
  },
  {
   "cell_type": "markdown",
   "metadata": {},
   "source": [
    "#### Examples\n",
    "\n",
    "To see the use of the `setup` in other modules of PyCaret, see below:\n",
    "\n",
    "PyCaret の他のモジュールでの `setup` の使用方法は、以下を参照してください。\n",
    "\n",
    "- [Classification（分類）](../00_quickstart/classifiction.ipynb)\n",
    "- [Regression（回帰）](../00_quickstart/regression.ipynb)\n",
    "- [Clustering](../00_quickstart/clustering.ipynb)\n",
    "- [Anomaly Detection（異常検出）](../00_quickstart/anomaly-detection.ipynb)\n",
    "- [Natural Language Processing（自然言語処理）](../00_quickstart/natural-language-processing.ipynb)\n",
    "- [Association Rules Mining（アソシエーションルール・マイニング）](../00_quickstart/association-rules-mining.ipynb)\n",
    "\n",
    "> NOTE: setup function uses global environment variables in Python. Therefore, if you run the setup function twice in the same script, it will overwrite the previous experiment. PyCaret next major release will include a new object-oriented API that will make it possible to create multiple instances through class instances.\n",
    ">\n",
    "> 注意：setup関数はPythonのグローバル環境変数を使用します。そのため、同じスクリプトで setup 関数を 2 回実行すると、前の実験が上書きされます。PyCaret の次のメジャーリリースでは、クラスインスタンスを通じて複数のインスタンスを作成できるようになる新しいオブジェクト指向 API が含まれる予定です。"
   ]
  }
 ],
 "metadata": {
  "kernelspec": {
   "display_name": "Python 3.8.15 ('venv': venv)",
   "language": "python",
   "name": "python3"
  },
  "language_info": {
   "name": "python",
   "version": "3.8.15"
  },
  "orig_nbformat": 4,
  "vscode": {
   "interpreter": {
    "hash": "144d929da0570c40592d9dc325047f87d05d6a3c34760fe6027613ddef8a9521"
   }
  }
 },
 "nbformat": 4,
 "nbformat_minor": 2
}
