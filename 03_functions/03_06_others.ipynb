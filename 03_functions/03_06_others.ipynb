{
 "cells": [
  {
   "cell_type": "code",
   "execution_count": null,
   "metadata": {},
   "outputs": [],
   "source": [
    "import pandas as pd\n",
    "\n",
    "pd.set_option(\"display.max_columns\", None)"
   ]
  },
  {
   "cell_type": "markdown",
   "metadata": {},
   "source": [
    "# [Functions](https://pycaret.gitbook.io/docs/get-started/functions)\n",
    "\n",
    "## [Others（その他）](https://pycaret.gitbook.io/docs/get-started/functions/others)\n",
    "\n",
    "\n",
    "Other Functions in PyCaret\n",
    "\n",
    "PyCaret のその他の関数"
   ]
  },
  {
   "cell_type": "markdown",
   "metadata": {},
   "source": [
    "### pull()\n",
    "\n",
    "Returns the last printed scoring grid. Use `pull()` function after any training function to store the scoring grid in `pandas.DataFrame`.\n",
    "\n",
    "最後に出力されたスコアリンググリッドを返します。スコアリンググリッドを `pandas.DataFrame` に格納するために、トレーニング関数の後に `pull()` 関数を使用します。"
   ]
  },
  {
   "cell_type": "markdown",
   "metadata": {},
   "source": [
    "#### Example"
   ]
  },
  {
   "cell_type": "code",
   "execution_count": null,
   "metadata": {},
   "outputs": [],
   "source": [
    "# loading dataset\n",
    "from pycaret.datasets import get_data\n",
    "data = get_data('diabetes')\n",
    "\n",
    "# init setup\n",
    "from pycaret.classification import *\n",
    "clf1 = setup(data, target='Class variable')\n",
    "\n",
    "# compare models\n",
    "best_model = compare_models()\n",
    "\n",
    "# get the scoring grid\n",
    "results = pull()"
   ]
  },
  {
   "cell_type": "markdown",
   "metadata": {},
   "source": [
    "![other_pull](./images/other_pull.png)"
   ]
  },
  {
   "cell_type": "code",
   "execution_count": null,
   "metadata": {},
   "outputs": [],
   "source": [
    "type(results)\n",
    "# >>> pandas.core.frame.DataFrame"
   ]
  },
  {
   "cell_type": "markdown",
   "metadata": {},
   "source": [
    "### models()\n",
    "\n",
    "Return a table containing all the models available in the imported module of the model library.\n",
    "\n",
    "モデルライブラリのインポートモジュールで利用可能なすべてのモデルを含むテーブルを返します。"
   ]
  },
  {
   "cell_type": "markdown",
   "metadata": {},
   "source": [
    "#### Example"
   ]
  },
  {
   "cell_type": "code",
   "execution_count": null,
   "metadata": {},
   "outputs": [],
   "source": [
    "# loading dataset\n",
    "from pycaret.datasets import get_data\n",
    "data = get_data('diabetes')\n",
    "\n",
    "# init setup\n",
    "from pycaret.classification import *\n",
    "clf1 = setup(data, target='Class variable')\n",
    "\n",
    "# check model library\n",
    "models()"
   ]
  },
  {
   "cell_type": "markdown",
   "metadata": {},
   "source": [
    "![other_model](./images/other_models1.png)"
   ]
  },
  {
   "cell_type": "markdown",
   "metadata": {},
   "source": [
    "If you want to see a little more information than this, you can pass `internal=True`.\n",
    "\n",
    "これよりもう少し情報を見たい場合は、`internal=True`を渡すことができます。"
   ]
  },
  {
   "cell_type": "code",
   "execution_count": null,
   "metadata": {},
   "outputs": [],
   "source": [
    "# loading dataset\n",
    "from pycaret.datasets import get_data\n",
    "data = get_data('diabetes')\n",
    "\n",
    "# init setup\n",
    "from pycaret.classification import *\n",
    "clf1 = setup(data, target='Class variable')\n",
    "\n",
    "# check model library\n",
    "models(internal=True)"
   ]
  },
  {
   "cell_type": "markdown",
   "metadata": {},
   "source": [
    "![other_model](./images/other_models2.png)"
   ]
  },
  {
   "cell_type": "markdown",
   "metadata": {},
   "source": [
    "### get_config()\n",
    "\n",
    "This function retrieves the global variables created when initializing the [setup](./03_01_initialize.ipynb) function.\n",
    "\n",
    "[setup](./03_01_initialize.ipynb) 関数の初期化時に作成されたグローバル変数を取得する関数です。"
   ]
  },
  {
   "cell_type": "markdown",
   "metadata": {},
   "source": [
    "#### Example"
   ]
  },
  {
   "cell_type": "code",
   "execution_count": null,
   "metadata": {},
   "outputs": [],
   "source": [
    "# load dataset\n",
    "from pycaret.datasets import get_data\n",
    "data = get_data('diabetes')\n",
    "\n",
    "# init setup\n",
    "from pycaret.classification import *\n",
    "clf1 = setup(data, target='Class variable')\n",
    "\n",
    "# get X_train\n",
    "get_config('X_train')"
   ]
  },
  {
   "cell_type": "markdown",
   "metadata": {},
   "source": [
    "![other_get_config](./images/other_get_config.png)"
   ]
  },
  {
   "cell_type": "markdown",
   "metadata": {},
   "source": [
    "Variables accessible by `get_config` function:\n",
    "\n",
    "`get_config` 関数でアクセス可能な変数:\n",
    "\n",
    "|Keyword|Description|free translation|\n",
    "|:-|:-|:-|\n",
    "|'X'| Transformed dataset (X)|（変換後のデータセット(x)）|\n",
    "|'y'| Transformed dataset (y)|（変換後のデータセット(y)）|\n",
    "|'X_train'| Transformed train dataset (X)|（変換後の学習データセット(X)）|\n",
    "|'X_test'| Transformed test/holdout dataset (X)|（変換後のテスト/ホールドアウトデータセット(X)）|\n",
    "|'y_train'| Transformed train dataset (y)|（変換後の学習データセット（y））|\n",
    "|'y_test'| Transformed test/holdout dataset (y)|（変換後のテスト/ホールドアウトデータセット(y)）|\n",
    "|'seed'| random state set through session_id|（session_idで設定されたランダムな状態）|\n",
    "|'prep_pipe'| Transformation pipeline|（トランスフォーメーション・パイプライン）|\n",
    "|'fold_shuffle_param'| shuffle parameter used in Kfolds|（Kfoldsで使用されるシャッフルパラメータ）|\n",
    "|'n_jobs_param'| n_jobs parameter used in model training|（モデル学習で使用するn_jobsパラメータ）|\n",
    "|'html_param'| html_param configured through setup|（setup で設定した html_param）|\n",
    "|'create_model_container'| results grid storage container|（結果グリッドストレージコンテナ）|\n",
    "|'master_model_container'| model storage container|（モデル収納コンテナ）|\n",
    "|'display_container'| results display container|（結果表示用コンテナ）|\n",
    "|'exp_name_log'| Name of experiment|（実験名）|\n",
    "|'logging_param'| log_experiment param|（ログ実験パラメータ）|\n",
    "|'log_plots_param'| log_plots param|（ログプロットパラメータ）|\n",
    "|'USI'| Unique session ID parameter|（ユニークなセッションIDパラメータ）|\n",
    "|'fix_imbalance_param'| fix_imbalance param|（不均衡修正パラメータ）|\n",
    "|'fix_imbalance_method_param'| fix_imbalance_method param|（不均衡修正メソッドパラメータ）|\n",
    "|'data_before_preprocess'| data before preprocessing|（前処理前のデータ）|\n",
    "|'target_param'| name of target variable|（ターゲット変数名）|\n",
    "|'gpu_param'| use_gpu param configured through setup|（setup で構成された use_gpu パラメータ）|\n",
    "|'fold_generator'| CV splitter configured in fold_strategy|（折りたたみ戦略のCV分割装置）|\n",
    "|'fold_param'| fold params defined in the setup|（setupで定義されたfold パラメータ）|\n",
    "|'fold_groups_param'| fold groups defined in the setup|（setupで定義されたfoldグループ）|\n",
    "|'stratify_param'| stratify parameter defined in the setup|（setupで定義された階層化パラメータ）|"
   ]
  },
  {
   "cell_type": "markdown",
   "metadata": {},
   "source": [
    "### set_config()\n",
    "\n",
    "This function resets the global variables.\n",
    "\n",
    "グローバル変数をリセットします。"
   ]
  },
  {
   "cell_type": "markdown",
   "metadata": {},
   "source": [
    "#### Example"
   ]
  },
  {
   "cell_type": "code",
   "execution_count": null,
   "metadata": {},
   "outputs": [],
   "source": [
    "# load dataset\n",
    "from pycaret.datasets import get_data\n",
    "data = get_data('diabetes')\n",
    "\n",
    "# init setup\n",
    "from pycaret.classification import *\n",
    "clf1 = setup(data, target='Class variable', session_id=123)\n",
    "\n",
    "# reset environment seed\n",
    "set_config('seed', 999)"
   ]
  },
  {
   "cell_type": "markdown",
   "metadata": {},
   "source": [
    "### get_metrics()\n",
    "\n",
    "Returns the table of all the available metrics in the metric container. All these metrics are used for cross-validation.\n",
    "\n",
    "メトリックコンテナで利用可能なすべてのメトリックのテーブルを返します。これらすべてのメトリクスは、交差検証のために使用されます。"
   ]
  },
  {
   "cell_type": "code",
   "execution_count": null,
   "metadata": {},
   "outputs": [],
   "source": [
    "# load dataset\n",
    "from pycaret.datasets import get_data\n",
    "data = get_data('diabetes')\n",
    "\n",
    "# init setup\n",
    "from pycaret.classification import *\n",
    "clf1 = setup(data, target='Class variable', session_id=123)\n",
    "\n",
    "# get metrics\n",
    "get_metrics()"
   ]
  },
  {
   "cell_type": "markdown",
   "metadata": {},
   "source": [
    "![other_get_metrics](./images/other_get_metrics.png)"
   ]
  },
  {
   "cell_type": "markdown",
   "metadata": {},
   "source": [
    "### add_metric()\n",
    "\n",
    "Adds a custom metric to the metric container.\n",
    "\n",
    "カスタムメトリックをメトリックスコンテナに追加します。"
   ]
  },
  {
   "cell_type": "code",
   "execution_count": null,
   "metadata": {},
   "outputs": [],
   "source": [
    "# load dataset\n",
    "from pycaret.datasets import get_data\n",
    "data = get_data('diabetes')\n",
    "\n",
    "# init setup\n",
    "from pycaret.classification import *\n",
    "clf1 = setup(data, target='Class variable', session_id=123)\n",
    "\n",
    "# add metric\n",
    "from sklearn.metrics import log_loss\n",
    "add_metric('logloss', 'Log Loss', log_loss, greater_is_better=False)"
   ]
  },
  {
   "cell_type": "markdown",
   "metadata": {},
   "source": [
    "![other_add_metrics](./images/other_add_metrics.png)"
   ]
  },
  {
   "cell_type": "markdown",
   "metadata": {},
   "source": [
    "Now if you check metric container:\n",
    "\n",
    "ここで、メトリック コンテナーを確認すると、次のようになります。"
   ]
  },
  {
   "cell_type": "code",
   "execution_count": null,
   "metadata": {},
   "outputs": [],
   "source": [
    "get_metrics()"
   ]
  },
  {
   "cell_type": "markdown",
   "metadata": {},
   "source": [
    "![other_add_metrics](./images/other_add_metrics2.png)"
   ]
  },
  {
   "cell_type": "markdown",
   "metadata": {},
   "source": [
    "### remove_metric()\n",
    "\n",
    "Removes a metric from the metric container.\n",
    "\n",
    "メトリックコンテナからメトリックを削除します。"
   ]
  },
  {
   "cell_type": "code",
   "execution_count": null,
   "metadata": {},
   "outputs": [],
   "source": [
    "# remove metric\n",
    "remove_metric('logloss')"
   ]
  },
  {
   "cell_type": "markdown",
   "metadata": {},
   "source": [
    "No Output. Let's check the metric container again.\n",
    "\n",
    "出力されない。もう一度、メトリックコンテナを確認してみましょう。"
   ]
  },
  {
   "cell_type": "code",
   "execution_count": null,
   "metadata": {},
   "outputs": [],
   "source": [
    "get_metrics()"
   ]
  },
  {
   "cell_type": "markdown",
   "metadata": {},
   "source": [
    "![other_remove_metric](./images/other_remove_metric.png)"
   ]
  },
  {
   "cell_type": "markdown",
   "metadata": {},
   "source": [
    "### automl\n",
    "\n",
    "This function returns the best model out of all trained models in the current setup based on the `optimize` parameter. Metrics evaluated can be accessed using the `get_metrics` function.\n",
    "\n",
    "この関数は、`optimize` パラメータに基づいて、現在のセットアップで学習したすべてのモデルの中から最適なモデルを返します。評価されたメトリクスは `get_metrics` 関数を用いてアクセスすることができます。"
   ]
  },
  {
   "cell_type": "code",
   "execution_count": null,
   "metadata": {},
   "outputs": [],
   "source": [
    "# load dataset\n",
    "from pycaret.datasets import get_data\n",
    "data = get_data('diabetes')\n",
    "\n",
    "# init setup\n",
    "from pycaret.classification import *\n",
    "clf1 = setup(data, target='Class variable')\n",
    "\n",
    "# compare models\n",
    "top5 = compare_models(n_select=5)\n",
    "\n",
    "# tune models\n",
    "tuned_top5 = [tune_model(i) for i in top5]\n",
    "\n",
    "# ensemble models\n",
    "bagged_top5 = [ensemble_model(i) for i in tuned_top5]\n",
    "\n",
    "# blend models\n",
    "blender = blend_models(estimator_list=top5)\n",
    "\n",
    "# stack models\n",
    "stacker = stack_models(estimator_list=top5)\n",
    "\n",
    "# automl\n",
    "best = automl(optimize='Recall')\n",
    "print(best)"
   ]
  },
  {
   "cell_type": "markdown",
   "metadata": {},
   "source": [
    "![other_automl](./images/other_automl.png)"
   ]
  },
  {
   "cell_type": "markdown",
   "metadata": {},
   "source": [
    "### get_logs()\n",
    "\n",
    "Returns a table of experiment logs. Only works when `log_experiment=True` when initializing the [setup](./03_01_initialize.ipynb) function.\n",
    "\n",
    "実験ログのテーブルを返します。[setup](./03_01_initialize.ipynb) 関数の初期化時に `log_experiment=True` の場合のみ動作します。"
   ]
  },
  {
   "cell_type": "markdown",
   "metadata": {},
   "source": [
    "#### Example"
   ]
  },
  {
   "cell_type": "code",
   "execution_count": null,
   "metadata": {},
   "outputs": [],
   "source": [
    "# load dataset\n",
    "from pycaret.datasets import get_data\n",
    "data = get_data('diabetes')\n",
    "\n",
    "# init setup\n",
    "from pycaret.classification import *\n",
    "clf1 = setup(\n",
    "    data,\n",
    "    target='Class variable',\n",
    "    log_experiment=True,\n",
    "    experiment_name='diabetes1'\n",
    ")\n",
    "\n",
    "# compare models\n",
    "top5 = compare_models()\n",
    "\n",
    "# check ML logs\n",
    "get_logs()"
   ]
  },
  {
   "cell_type": "markdown",
   "metadata": {},
   "source": [
    "![other_get_logs](./images/other_get_logs.png)"
   ]
  },
  {
   "cell_type": "markdown",
   "metadata": {},
   "source": [
    "### get_system_logs()\n",
    "\n",
    "Read and print `logs.log` file from current active directory.\n",
    "\n",
    "現在のアクティブディレクトリから `logs.log` ファイルを読み込んで表示します。"
   ]
  },
  {
   "cell_type": "markdown",
   "metadata": {},
   "source": [
    "#### Example"
   ]
  },
  {
   "cell_type": "code",
   "execution_count": null,
   "metadata": {},
   "outputs": [],
   "source": [
    "# loading dataset\n",
    "from pycaret.datasets import get_data\n",
    "data = get_data('diabetes')\n",
    "\n",
    "# init setup\n",
    "from pycaret.classification import *\n",
    "clf1 = setup(data, target='Class variable', session_id=123)\n",
    "\n",
    "# check system logs\n",
    "from pycaret.utils import get_system_logs\n",
    "get_system_logs()"
   ]
  },
  {
   "cell_type": "markdown",
   "metadata": {},
   "source": [
    "![other_get_system_logs](./images/other_get_system_logs.png)"
   ]
  }
 ],
 "metadata": {
  "kernelspec": {
   "display_name": "Python 3.8.15 ('venv': venv)",
   "language": "python",
   "name": "python3"
  },
  "language_info": {
   "name": "python",
   "version": "3.8.15"
  },
  "orig_nbformat": 4,
  "vscode": {
   "interpreter": {
    "hash": "144d929da0570c40592d9dc325047f87d05d6a3c34760fe6027613ddef8a9521"
   }
  }
 },
 "nbformat": 4,
 "nbformat_minor": 2
}
