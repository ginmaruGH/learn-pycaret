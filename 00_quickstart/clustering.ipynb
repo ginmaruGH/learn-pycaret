{
 "cells": [
  {
   "cell_type": "code",
   "execution_count": 2,
   "metadata": {},
   "outputs": [],
   "source": [
    "import pandas as pd\n",
    "pd.set_option(\"display.max_columns\", None)"
   ]
  },
  {
   "cell_type": "markdown",
   "metadata": {},
   "source": [
    "# [Quickstart](https://pycaret.gitbook.io/docs/get-started/quickstart)\n",
    "\n",
    "## [Clustering](https://pycaret.gitbook.io/docs/get-started/quickstart#clustering)"
   ]
  },
  {
   "cell_type": "markdown",
   "metadata": {},
   "source": [
    "PyCaret’s **Clustering Module** is an unsupervised machine learning module that performs the task of **grouping** a set of objects in such a way that objects in the same group (also known as a **cluster**) are more similar to each other than to those in other groups. It provides several [pre-processing](https://pycaret.gitbook.io/docs/get-started/preprocessing) features that prepare the data for modeling through the [setup](https://pycaret.gitbook.io/docs/get-started/functions#setting-up-environment) function. It has over 10 ready-to-use algorithms and [several plots](https://pycaret.gitbook.io/docs/get-started/functions#plot-model) to analyze the performance of trained models."
   ]
  },
  {
   "cell_type": "markdown",
   "metadata": {},
   "source": [
    "PyCaret の **Clustering Module** は教師なし機械学習モジュールで、同じグループ (**クラスタ**とも呼ばれる) のオブジェクトは他のグループのオブジェクトよりも互いに似ているように、オブジェクトのセットを**グループ化**するタスクを実行します。[セットアップ](https://pycaret.gitbook.io/docs/get-started/functions#setting-up-environment)機能を通じて、モデリングに必要なデータを準備するための[前処理](https://pycaret.gitbook.io/docs/get-started/preprocessing)機能をいくつか備えています。10以上のすぐに使えるアルゴリズムと、学習したモデルの性能を分析するための[いくつかのプロット](https://pycaret.gitbook.io/docs/get-started/functions#plot-model)を備えています。"
   ]
  },
  {
   "cell_type": "markdown",
   "metadata": {},
   "source": [
    "### Setup\n",
    "\n",
    "This function initializes the training environment and creates the transformation pipeline. Setup function must be called before executing any other function. It takes one mandatory parameter: data. All the other parameters are optional.\n",
    "\n",
    "### セットアップ\n",
    "\n",
    "この関数は、学習環境を初期化し、変換パイプラインを作成します。Setup 関数は他の関数を実行する前に呼び出す必要があります。この関数は，data という 1 つの必須パラメータを受け取ります．その他のパラメータは任意です．"
   ]
  },
  {
   "cell_type": "code",
   "execution_count": 3,
   "metadata": {},
   "outputs": [
    {
     "data": {
      "text/html": [
       "<div>\n",
       "<style scoped>\n",
       "    .dataframe tbody tr th:only-of-type {\n",
       "        vertical-align: middle;\n",
       "    }\n",
       "\n",
       "    .dataframe tbody tr th {\n",
       "        vertical-align: top;\n",
       "    }\n",
       "\n",
       "    .dataframe thead th {\n",
       "        text-align: right;\n",
       "    }\n",
       "</style>\n",
       "<table border=\"1\" class=\"dataframe\">\n",
       "  <thead>\n",
       "    <tr style=\"text-align: right;\">\n",
       "      <th></th>\n",
       "      <th>Age</th>\n",
       "      <th>Income</th>\n",
       "      <th>SpendingScore</th>\n",
       "      <th>Savings</th>\n",
       "    </tr>\n",
       "  </thead>\n",
       "  <tbody>\n",
       "    <tr>\n",
       "      <th>0</th>\n",
       "      <td>58</td>\n",
       "      <td>77769</td>\n",
       "      <td>0.791329</td>\n",
       "      <td>6559.829923</td>\n",
       "    </tr>\n",
       "    <tr>\n",
       "      <th>1</th>\n",
       "      <td>59</td>\n",
       "      <td>81799</td>\n",
       "      <td>0.791082</td>\n",
       "      <td>5417.661426</td>\n",
       "    </tr>\n",
       "    <tr>\n",
       "      <th>2</th>\n",
       "      <td>62</td>\n",
       "      <td>74751</td>\n",
       "      <td>0.702657</td>\n",
       "      <td>9258.992965</td>\n",
       "    </tr>\n",
       "    <tr>\n",
       "      <th>3</th>\n",
       "      <td>59</td>\n",
       "      <td>74373</td>\n",
       "      <td>0.765680</td>\n",
       "      <td>7346.334504</td>\n",
       "    </tr>\n",
       "    <tr>\n",
       "      <th>4</th>\n",
       "      <td>87</td>\n",
       "      <td>17760</td>\n",
       "      <td>0.348778</td>\n",
       "      <td>16869.507130</td>\n",
       "    </tr>\n",
       "  </tbody>\n",
       "</table>\n",
       "</div>"
      ],
      "text/plain": [
       "   Age  Income  SpendingScore       Savings\n",
       "0   58   77769       0.791329   6559.829923\n",
       "1   59   81799       0.791082   5417.661426\n",
       "2   62   74751       0.702657   9258.992965\n",
       "3   59   74373       0.765680   7346.334504\n",
       "4   87   17760       0.348778  16869.507130"
      ]
     },
     "metadata": {},
     "output_type": "display_data"
    }
   ],
   "source": [
    "from pycaret.datasets import get_data\n",
    "data = get_data('jewellery')"
   ]
  },
  {
   "cell_type": "markdown",
   "metadata": {},
   "source": [
    "When the `setup` is executed, PyCaret's inference algorithm will automatically infer the data types for all features based on certain properties. The data type should be inferred correctly but this is not always the case. To handle this, PyCaret displays a prompt, asking for data types confirmation, once you execute the `setup`. You can press enter if all data types are correct or type `quit` to exit the setup.\n",
    "\n",
    "Ensuring that the data types are correct is really important in PyCaret as it automatically performs multiple type-specific preprocessing tasks which are imperative for machine learning models.\n",
    "\n",
    "Alternatively, you can also use `numeric_features` and `categorical_features` parameters in the `setup` to pre-define the data types."
   ]
  },
  {
   "cell_type": "markdown",
   "metadata": {},
   "source": [
    "`setup` を実行すると、PyCaret の推論アルゴリズムが、特定のプロパティに基づいてすべての素性のデータ型を自動的に推論します。データ型は正しく推論されるはずですが、必ずしもそうなるとは限りません。これを処理するために、PyCaret は `setup` を実行すると、データ型の確認を求めるプロンプトを表示します。すべてのデータ型が正しい場合は Enter キーを、セットアップを終了する場合は `quit` と入力してください。\n",
    "\n",
    "PyCaret は機械学習モデルで必須となる複数の型固有の前処理を自動的に行うため、データ型が正しいかどうかを確認することは非常に重要です。\n",
    "\n",
    "また、 `setup` の `numeric_features` と `categorical_features` パラメータを使用して、データ型を事前に定義することも可能です。"
   ]
  },
  {
   "cell_type": "code",
   "execution_count": 4,
   "metadata": {},
   "outputs": [
    {
     "data": {
      "text/html": [
       "<style type=\"text/css\">\n",
       "#T_4ef88_row21_col1 {\n",
       "  background-color: lightgreen;\n",
       "}\n",
       "</style>\n",
       "<table id=\"T_4ef88\">\n",
       "  <thead>\n",
       "    <tr>\n",
       "      <th class=\"blank level0\" >&nbsp;</th>\n",
       "      <th id=\"T_4ef88_level0_col0\" class=\"col_heading level0 col0\" >Description</th>\n",
       "      <th id=\"T_4ef88_level0_col1\" class=\"col_heading level0 col1\" >Value</th>\n",
       "    </tr>\n",
       "  </thead>\n",
       "  <tbody>\n",
       "    <tr>\n",
       "      <th id=\"T_4ef88_level0_row0\" class=\"row_heading level0 row0\" >0</th>\n",
       "      <td id=\"T_4ef88_row0_col0\" class=\"data row0 col0\" >session_id</td>\n",
       "      <td id=\"T_4ef88_row0_col1\" class=\"data row0 col1\" >3195</td>\n",
       "    </tr>\n",
       "    <tr>\n",
       "      <th id=\"T_4ef88_level0_row1\" class=\"row_heading level0 row1\" >1</th>\n",
       "      <td id=\"T_4ef88_row1_col0\" class=\"data row1 col0\" >Original Data</td>\n",
       "      <td id=\"T_4ef88_row1_col1\" class=\"data row1 col1\" >(505, 4)</td>\n",
       "    </tr>\n",
       "    <tr>\n",
       "      <th id=\"T_4ef88_level0_row2\" class=\"row_heading level0 row2\" >2</th>\n",
       "      <td id=\"T_4ef88_row2_col0\" class=\"data row2 col0\" >Missing Values</td>\n",
       "      <td id=\"T_4ef88_row2_col1\" class=\"data row2 col1\" >False</td>\n",
       "    </tr>\n",
       "    <tr>\n",
       "      <th id=\"T_4ef88_level0_row3\" class=\"row_heading level0 row3\" >3</th>\n",
       "      <td id=\"T_4ef88_row3_col0\" class=\"data row3 col0\" >Numeric Features</td>\n",
       "      <td id=\"T_4ef88_row3_col1\" class=\"data row3 col1\" >4</td>\n",
       "    </tr>\n",
       "    <tr>\n",
       "      <th id=\"T_4ef88_level0_row4\" class=\"row_heading level0 row4\" >4</th>\n",
       "      <td id=\"T_4ef88_row4_col0\" class=\"data row4 col0\" >Categorical Features</td>\n",
       "      <td id=\"T_4ef88_row4_col1\" class=\"data row4 col1\" >0</td>\n",
       "    </tr>\n",
       "    <tr>\n",
       "      <th id=\"T_4ef88_level0_row5\" class=\"row_heading level0 row5\" >5</th>\n",
       "      <td id=\"T_4ef88_row5_col0\" class=\"data row5 col0\" >Ordinal Features</td>\n",
       "      <td id=\"T_4ef88_row5_col1\" class=\"data row5 col1\" >False</td>\n",
       "    </tr>\n",
       "    <tr>\n",
       "      <th id=\"T_4ef88_level0_row6\" class=\"row_heading level0 row6\" >6</th>\n",
       "      <td id=\"T_4ef88_row6_col0\" class=\"data row6 col0\" >High Cardinality Features</td>\n",
       "      <td id=\"T_4ef88_row6_col1\" class=\"data row6 col1\" >False</td>\n",
       "    </tr>\n",
       "    <tr>\n",
       "      <th id=\"T_4ef88_level0_row7\" class=\"row_heading level0 row7\" >7</th>\n",
       "      <td id=\"T_4ef88_row7_col0\" class=\"data row7 col0\" >High Cardinality Method</td>\n",
       "      <td id=\"T_4ef88_row7_col1\" class=\"data row7 col1\" >None</td>\n",
       "    </tr>\n",
       "    <tr>\n",
       "      <th id=\"T_4ef88_level0_row8\" class=\"row_heading level0 row8\" >8</th>\n",
       "      <td id=\"T_4ef88_row8_col0\" class=\"data row8 col0\" >Transformed Data</td>\n",
       "      <td id=\"T_4ef88_row8_col1\" class=\"data row8 col1\" >(505, 4)</td>\n",
       "    </tr>\n",
       "    <tr>\n",
       "      <th id=\"T_4ef88_level0_row9\" class=\"row_heading level0 row9\" >9</th>\n",
       "      <td id=\"T_4ef88_row9_col0\" class=\"data row9 col0\" >CPU Jobs</td>\n",
       "      <td id=\"T_4ef88_row9_col1\" class=\"data row9 col1\" >-1</td>\n",
       "    </tr>\n",
       "    <tr>\n",
       "      <th id=\"T_4ef88_level0_row10\" class=\"row_heading level0 row10\" >10</th>\n",
       "      <td id=\"T_4ef88_row10_col0\" class=\"data row10 col0\" >Use GPU</td>\n",
       "      <td id=\"T_4ef88_row10_col1\" class=\"data row10 col1\" >False</td>\n",
       "    </tr>\n",
       "    <tr>\n",
       "      <th id=\"T_4ef88_level0_row11\" class=\"row_heading level0 row11\" >11</th>\n",
       "      <td id=\"T_4ef88_row11_col0\" class=\"data row11 col0\" >Log Experiment</td>\n",
       "      <td id=\"T_4ef88_row11_col1\" class=\"data row11 col1\" >False</td>\n",
       "    </tr>\n",
       "    <tr>\n",
       "      <th id=\"T_4ef88_level0_row12\" class=\"row_heading level0 row12\" >12</th>\n",
       "      <td id=\"T_4ef88_row12_col0\" class=\"data row12 col0\" >Experiment Name</td>\n",
       "      <td id=\"T_4ef88_row12_col1\" class=\"data row12 col1\" >cluster-default-name</td>\n",
       "    </tr>\n",
       "    <tr>\n",
       "      <th id=\"T_4ef88_level0_row13\" class=\"row_heading level0 row13\" >13</th>\n",
       "      <td id=\"T_4ef88_row13_col0\" class=\"data row13 col0\" >USI</td>\n",
       "      <td id=\"T_4ef88_row13_col1\" class=\"data row13 col1\" >bb76</td>\n",
       "    </tr>\n",
       "    <tr>\n",
       "      <th id=\"T_4ef88_level0_row14\" class=\"row_heading level0 row14\" >14</th>\n",
       "      <td id=\"T_4ef88_row14_col0\" class=\"data row14 col0\" >Imputation Type</td>\n",
       "      <td id=\"T_4ef88_row14_col1\" class=\"data row14 col1\" >simple</td>\n",
       "    </tr>\n",
       "    <tr>\n",
       "      <th id=\"T_4ef88_level0_row15\" class=\"row_heading level0 row15\" >15</th>\n",
       "      <td id=\"T_4ef88_row15_col0\" class=\"data row15 col0\" >Iterative Imputation Iteration</td>\n",
       "      <td id=\"T_4ef88_row15_col1\" class=\"data row15 col1\" >None</td>\n",
       "    </tr>\n",
       "    <tr>\n",
       "      <th id=\"T_4ef88_level0_row16\" class=\"row_heading level0 row16\" >16</th>\n",
       "      <td id=\"T_4ef88_row16_col0\" class=\"data row16 col0\" >Numeric Imputer</td>\n",
       "      <td id=\"T_4ef88_row16_col1\" class=\"data row16 col1\" >mean</td>\n",
       "    </tr>\n",
       "    <tr>\n",
       "      <th id=\"T_4ef88_level0_row17\" class=\"row_heading level0 row17\" >17</th>\n",
       "      <td id=\"T_4ef88_row17_col0\" class=\"data row17 col0\" >Iterative Imputation Numeric Model</td>\n",
       "      <td id=\"T_4ef88_row17_col1\" class=\"data row17 col1\" >None</td>\n",
       "    </tr>\n",
       "    <tr>\n",
       "      <th id=\"T_4ef88_level0_row18\" class=\"row_heading level0 row18\" >18</th>\n",
       "      <td id=\"T_4ef88_row18_col0\" class=\"data row18 col0\" >Categorical Imputer</td>\n",
       "      <td id=\"T_4ef88_row18_col1\" class=\"data row18 col1\" >mode</td>\n",
       "    </tr>\n",
       "    <tr>\n",
       "      <th id=\"T_4ef88_level0_row19\" class=\"row_heading level0 row19\" >19</th>\n",
       "      <td id=\"T_4ef88_row19_col0\" class=\"data row19 col0\" >Iterative Imputation Categorical Model</td>\n",
       "      <td id=\"T_4ef88_row19_col1\" class=\"data row19 col1\" >None</td>\n",
       "    </tr>\n",
       "    <tr>\n",
       "      <th id=\"T_4ef88_level0_row20\" class=\"row_heading level0 row20\" >20</th>\n",
       "      <td id=\"T_4ef88_row20_col0\" class=\"data row20 col0\" >Unknown Categoricals Handling</td>\n",
       "      <td id=\"T_4ef88_row20_col1\" class=\"data row20 col1\" >least_frequent</td>\n",
       "    </tr>\n",
       "    <tr>\n",
       "      <th id=\"T_4ef88_level0_row21\" class=\"row_heading level0 row21\" >21</th>\n",
       "      <td id=\"T_4ef88_row21_col0\" class=\"data row21 col0\" >Normalize</td>\n",
       "      <td id=\"T_4ef88_row21_col1\" class=\"data row21 col1\" >True</td>\n",
       "    </tr>\n",
       "    <tr>\n",
       "      <th id=\"T_4ef88_level0_row22\" class=\"row_heading level0 row22\" >22</th>\n",
       "      <td id=\"T_4ef88_row22_col0\" class=\"data row22 col0\" >Normalize Method</td>\n",
       "      <td id=\"T_4ef88_row22_col1\" class=\"data row22 col1\" >zscore</td>\n",
       "    </tr>\n",
       "    <tr>\n",
       "      <th id=\"T_4ef88_level0_row23\" class=\"row_heading level0 row23\" >23</th>\n",
       "      <td id=\"T_4ef88_row23_col0\" class=\"data row23 col0\" >Transformation</td>\n",
       "      <td id=\"T_4ef88_row23_col1\" class=\"data row23 col1\" >False</td>\n",
       "    </tr>\n",
       "    <tr>\n",
       "      <th id=\"T_4ef88_level0_row24\" class=\"row_heading level0 row24\" >24</th>\n",
       "      <td id=\"T_4ef88_row24_col0\" class=\"data row24 col0\" >Transformation Method</td>\n",
       "      <td id=\"T_4ef88_row24_col1\" class=\"data row24 col1\" >None</td>\n",
       "    </tr>\n",
       "    <tr>\n",
       "      <th id=\"T_4ef88_level0_row25\" class=\"row_heading level0 row25\" >25</th>\n",
       "      <td id=\"T_4ef88_row25_col0\" class=\"data row25 col0\" >PCA</td>\n",
       "      <td id=\"T_4ef88_row25_col1\" class=\"data row25 col1\" >False</td>\n",
       "    </tr>\n",
       "    <tr>\n",
       "      <th id=\"T_4ef88_level0_row26\" class=\"row_heading level0 row26\" >26</th>\n",
       "      <td id=\"T_4ef88_row26_col0\" class=\"data row26 col0\" >PCA Method</td>\n",
       "      <td id=\"T_4ef88_row26_col1\" class=\"data row26 col1\" >None</td>\n",
       "    </tr>\n",
       "    <tr>\n",
       "      <th id=\"T_4ef88_level0_row27\" class=\"row_heading level0 row27\" >27</th>\n",
       "      <td id=\"T_4ef88_row27_col0\" class=\"data row27 col0\" >PCA Components</td>\n",
       "      <td id=\"T_4ef88_row27_col1\" class=\"data row27 col1\" >None</td>\n",
       "    </tr>\n",
       "    <tr>\n",
       "      <th id=\"T_4ef88_level0_row28\" class=\"row_heading level0 row28\" >28</th>\n",
       "      <td id=\"T_4ef88_row28_col0\" class=\"data row28 col0\" >Ignore Low Variance</td>\n",
       "      <td id=\"T_4ef88_row28_col1\" class=\"data row28 col1\" >False</td>\n",
       "    </tr>\n",
       "    <tr>\n",
       "      <th id=\"T_4ef88_level0_row29\" class=\"row_heading level0 row29\" >29</th>\n",
       "      <td id=\"T_4ef88_row29_col0\" class=\"data row29 col0\" >Combine Rare Levels</td>\n",
       "      <td id=\"T_4ef88_row29_col1\" class=\"data row29 col1\" >False</td>\n",
       "    </tr>\n",
       "    <tr>\n",
       "      <th id=\"T_4ef88_level0_row30\" class=\"row_heading level0 row30\" >30</th>\n",
       "      <td id=\"T_4ef88_row30_col0\" class=\"data row30 col0\" >Rare Level Threshold</td>\n",
       "      <td id=\"T_4ef88_row30_col1\" class=\"data row30 col1\" >None</td>\n",
       "    </tr>\n",
       "    <tr>\n",
       "      <th id=\"T_4ef88_level0_row31\" class=\"row_heading level0 row31\" >31</th>\n",
       "      <td id=\"T_4ef88_row31_col0\" class=\"data row31 col0\" >Numeric Binning</td>\n",
       "      <td id=\"T_4ef88_row31_col1\" class=\"data row31 col1\" >False</td>\n",
       "    </tr>\n",
       "    <tr>\n",
       "      <th id=\"T_4ef88_level0_row32\" class=\"row_heading level0 row32\" >32</th>\n",
       "      <td id=\"T_4ef88_row32_col0\" class=\"data row32 col0\" >Remove Outliers</td>\n",
       "      <td id=\"T_4ef88_row32_col1\" class=\"data row32 col1\" >False</td>\n",
       "    </tr>\n",
       "    <tr>\n",
       "      <th id=\"T_4ef88_level0_row33\" class=\"row_heading level0 row33\" >33</th>\n",
       "      <td id=\"T_4ef88_row33_col0\" class=\"data row33 col0\" >Outliers Threshold</td>\n",
       "      <td id=\"T_4ef88_row33_col1\" class=\"data row33 col1\" >None</td>\n",
       "    </tr>\n",
       "    <tr>\n",
       "      <th id=\"T_4ef88_level0_row34\" class=\"row_heading level0 row34\" >34</th>\n",
       "      <td id=\"T_4ef88_row34_col0\" class=\"data row34 col0\" >Remove Multicollinearity</td>\n",
       "      <td id=\"T_4ef88_row34_col1\" class=\"data row34 col1\" >False</td>\n",
       "    </tr>\n",
       "    <tr>\n",
       "      <th id=\"T_4ef88_level0_row35\" class=\"row_heading level0 row35\" >35</th>\n",
       "      <td id=\"T_4ef88_row35_col0\" class=\"data row35 col0\" >Multicollinearity Threshold</td>\n",
       "      <td id=\"T_4ef88_row35_col1\" class=\"data row35 col1\" >None</td>\n",
       "    </tr>\n",
       "    <tr>\n",
       "      <th id=\"T_4ef88_level0_row36\" class=\"row_heading level0 row36\" >36</th>\n",
       "      <td id=\"T_4ef88_row36_col0\" class=\"data row36 col0\" >Remove Perfect Collinearity</td>\n",
       "      <td id=\"T_4ef88_row36_col1\" class=\"data row36 col1\" >False</td>\n",
       "    </tr>\n",
       "    <tr>\n",
       "      <th id=\"T_4ef88_level0_row37\" class=\"row_heading level0 row37\" >37</th>\n",
       "      <td id=\"T_4ef88_row37_col0\" class=\"data row37 col0\" >Clustering</td>\n",
       "      <td id=\"T_4ef88_row37_col1\" class=\"data row37 col1\" >False</td>\n",
       "    </tr>\n",
       "    <tr>\n",
       "      <th id=\"T_4ef88_level0_row38\" class=\"row_heading level0 row38\" >38</th>\n",
       "      <td id=\"T_4ef88_row38_col0\" class=\"data row38 col0\" >Clustering Iteration</td>\n",
       "      <td id=\"T_4ef88_row38_col1\" class=\"data row38 col1\" >None</td>\n",
       "    </tr>\n",
       "    <tr>\n",
       "      <th id=\"T_4ef88_level0_row39\" class=\"row_heading level0 row39\" >39</th>\n",
       "      <td id=\"T_4ef88_row39_col0\" class=\"data row39 col0\" >Polynomial Features</td>\n",
       "      <td id=\"T_4ef88_row39_col1\" class=\"data row39 col1\" >False</td>\n",
       "    </tr>\n",
       "    <tr>\n",
       "      <th id=\"T_4ef88_level0_row40\" class=\"row_heading level0 row40\" >40</th>\n",
       "      <td id=\"T_4ef88_row40_col0\" class=\"data row40 col0\" >Polynomial Degree</td>\n",
       "      <td id=\"T_4ef88_row40_col1\" class=\"data row40 col1\" >None</td>\n",
       "    </tr>\n",
       "    <tr>\n",
       "      <th id=\"T_4ef88_level0_row41\" class=\"row_heading level0 row41\" >41</th>\n",
       "      <td id=\"T_4ef88_row41_col0\" class=\"data row41 col0\" >Trignometry Features</td>\n",
       "      <td id=\"T_4ef88_row41_col1\" class=\"data row41 col1\" >False</td>\n",
       "    </tr>\n",
       "    <tr>\n",
       "      <th id=\"T_4ef88_level0_row42\" class=\"row_heading level0 row42\" >42</th>\n",
       "      <td id=\"T_4ef88_row42_col0\" class=\"data row42 col0\" >Polynomial Threshold</td>\n",
       "      <td id=\"T_4ef88_row42_col1\" class=\"data row42 col1\" >None</td>\n",
       "    </tr>\n",
       "    <tr>\n",
       "      <th id=\"T_4ef88_level0_row43\" class=\"row_heading level0 row43\" >43</th>\n",
       "      <td id=\"T_4ef88_row43_col0\" class=\"data row43 col0\" >Group Features</td>\n",
       "      <td id=\"T_4ef88_row43_col1\" class=\"data row43 col1\" >False</td>\n",
       "    </tr>\n",
       "    <tr>\n",
       "      <th id=\"T_4ef88_level0_row44\" class=\"row_heading level0 row44\" >44</th>\n",
       "      <td id=\"T_4ef88_row44_col0\" class=\"data row44 col0\" >Feature Selection</td>\n",
       "      <td id=\"T_4ef88_row44_col1\" class=\"data row44 col1\" >False</td>\n",
       "    </tr>\n",
       "    <tr>\n",
       "      <th id=\"T_4ef88_level0_row45\" class=\"row_heading level0 row45\" >45</th>\n",
       "      <td id=\"T_4ef88_row45_col0\" class=\"data row45 col0\" >Feature Selection Method</td>\n",
       "      <td id=\"T_4ef88_row45_col1\" class=\"data row45 col1\" >classic</td>\n",
       "    </tr>\n",
       "    <tr>\n",
       "      <th id=\"T_4ef88_level0_row46\" class=\"row_heading level0 row46\" >46</th>\n",
       "      <td id=\"T_4ef88_row46_col0\" class=\"data row46 col0\" >Features Selection Threshold</td>\n",
       "      <td id=\"T_4ef88_row46_col1\" class=\"data row46 col1\" >None</td>\n",
       "    </tr>\n",
       "    <tr>\n",
       "      <th id=\"T_4ef88_level0_row47\" class=\"row_heading level0 row47\" >47</th>\n",
       "      <td id=\"T_4ef88_row47_col0\" class=\"data row47 col0\" >Feature Interaction</td>\n",
       "      <td id=\"T_4ef88_row47_col1\" class=\"data row47 col1\" >False</td>\n",
       "    </tr>\n",
       "    <tr>\n",
       "      <th id=\"T_4ef88_level0_row48\" class=\"row_heading level0 row48\" >48</th>\n",
       "      <td id=\"T_4ef88_row48_col0\" class=\"data row48 col0\" >Feature Ratio</td>\n",
       "      <td id=\"T_4ef88_row48_col1\" class=\"data row48 col1\" >False</td>\n",
       "    </tr>\n",
       "    <tr>\n",
       "      <th id=\"T_4ef88_level0_row49\" class=\"row_heading level0 row49\" >49</th>\n",
       "      <td id=\"T_4ef88_row49_col0\" class=\"data row49 col0\" >Interaction Threshold</td>\n",
       "      <td id=\"T_4ef88_row49_col1\" class=\"data row49 col1\" >None</td>\n",
       "    </tr>\n",
       "  </tbody>\n",
       "</table>\n"
      ],
      "text/plain": [
       "<pandas.io.formats.style.Styler at 0x113dadbe0>"
      ]
     },
     "metadata": {},
     "output_type": "display_data"
    }
   ],
   "source": [
    "from pycaret.clustering import *\n",
    "s = setup(data, normalize=True)"
   ]
  },
  {
   "cell_type": "markdown",
   "metadata": {},
   "source": [
    "### Create Model\n",
    "\n",
    "This function trains and evaluates the performance of a given model. Metrics evaluated can be accessed using the `get_metrics` function. Custom metrics can be added or removed using the `add_metric` and `remove_metric` function. All the available models can be accessed using the `models` function.\n",
    "\n",
    "### モデル作成\n",
    "\n",
    "この関数は与えられたモデルをトレーニングし、その性能を評価する。評価されたメトリクスには `get_metrics` 関数を用いてアクセスすることができる。カスタムメトリクスは `add_metric` と `remove_metric` 関数で追加・削除することができる。利用可能なすべてのモデルには `models` 関数を使ってアクセスすることができる。"
   ]
  },
  {
   "cell_type": "code",
   "execution_count": 5,
   "metadata": {},
   "outputs": [
    {
     "data": {
      "text/html": [
       "<div>\n",
       "<style scoped>\n",
       "    .dataframe tbody tr th:only-of-type {\n",
       "        vertical-align: middle;\n",
       "    }\n",
       "\n",
       "    .dataframe tbody tr th {\n",
       "        vertical-align: top;\n",
       "    }\n",
       "\n",
       "    .dataframe thead th {\n",
       "        text-align: right;\n",
       "    }\n",
       "</style>\n",
       "<table border=\"1\" class=\"dataframe\">\n",
       "  <thead>\n",
       "    <tr style=\"text-align: right;\">\n",
       "      <th></th>\n",
       "      <th>Silhouette</th>\n",
       "      <th>Calinski-Harabasz</th>\n",
       "      <th>Davies-Bouldin</th>\n",
       "      <th>Homogeneity</th>\n",
       "      <th>Rand Index</th>\n",
       "      <th>Completeness</th>\n",
       "    </tr>\n",
       "  </thead>\n",
       "  <tbody>\n",
       "    <tr>\n",
       "      <th>0</th>\n",
       "      <td>0.7581</td>\n",
       "      <td>1611.2649</td>\n",
       "      <td>0.3743</td>\n",
       "      <td>0</td>\n",
       "      <td>0</td>\n",
       "      <td>0</td>\n",
       "    </tr>\n",
       "  </tbody>\n",
       "</table>\n",
       "</div>"
      ],
      "text/plain": [
       "   Silhouette  Calinski-Harabasz  Davies-Bouldin  Homogeneity  Rand Index  \\\n",
       "0      0.7581          1611.2649          0.3743            0           0   \n",
       "\n",
       "   Completeness  \n",
       "0             0  "
      ]
     },
     "metadata": {},
     "output_type": "display_data"
    }
   ],
   "source": [
    "kmeans = create_model('kmeans')"
   ]
  },
  {
   "cell_type": "code",
   "execution_count": 6,
   "metadata": {},
   "outputs": [
    {
     "name": "stdout",
     "output_type": "stream",
     "text": [
      "KMeans(algorithm='auto', copy_x=True, init='k-means++', max_iter=300,\n",
      "       n_clusters=4, n_init=10, n_jobs=-1, precompute_distances='deprecated',\n",
      "       random_state=3195, tol=0.0001, verbose=0)\n"
     ]
    }
   ],
   "source": [
    "print(kmeans)"
   ]
  },
  {
   "cell_type": "markdown",
   "metadata": {},
   "source": [
    "### Analyze Model\n",
    "\n",
    "This function analyzes the performance of a trained model.\n",
    "\n",
    "### モデル解析\n",
    "\n",
    "学習したモデルの性能を解析する機能です。"
   ]
  },
  {
   "cell_type": "code",
   "execution_count": 7,
   "metadata": {},
   "outputs": [
    {
     "data": {
      "application/vnd.plotly.v1+json": {
       "config": {
        "plotlyServerURL": "https://plot.ly"
       },
       "data": [
        {
         "customdata": [
          [
           89
          ],
          [
           91
          ],
          [
           92
          ],
          [
           90
          ],
          [
           93
          ],
          [
           89
          ],
          [
           88
          ],
          [
           87
          ],
          [
           86
          ],
          [
           82
          ],
          [
           91
          ],
          [
           88
          ],
          [
           87
          ],
          [
           91
          ],
          [
           90
          ],
          [
           85
          ],
          [
           91
          ],
          [
           88
          ],
          [
           85
          ],
          [
           85
          ],
          [
           88
          ],
          [
           84
          ],
          [
           88
          ],
          [
           94
          ],
          [
           86
          ],
          [
           94
          ],
          [
           89
          ],
          [
           87
          ],
          [
           84
          ],
          [
           91
          ],
          [
           91
          ],
          [
           88
          ],
          [
           88
          ],
          [
           89
          ],
          [
           91
          ],
          [
           90
          ],
          [
           89
          ],
          [
           83
          ],
          [
           83
          ],
          [
           86
          ],
          [
           84
          ],
          [
           94
          ],
          [
           94
          ],
          [
           79
          ],
          [
           88
          ],
          [
           85
          ],
          [
           82
          ],
          [
           82
          ],
          [
           91
          ],
          [
           91
          ],
          [
           89
          ],
          [
           84
          ],
          [
           87
          ],
          [
           81
          ],
          [
           93
          ],
          [
           84
          ],
          [
           95
          ],
          [
           89
          ],
          [
           86
          ],
          [
           85
          ],
          [
           87
          ],
          [
           92
          ],
          [
           89
          ],
          [
           85
          ],
          [
           88
          ],
          [
           86
          ],
          [
           94
          ],
          [
           87
          ],
          [
           85
          ],
          [
           83
          ],
          [
           87
          ],
          [
           88
          ],
          [
           84
          ],
          [
           85
          ],
          [
           91
          ],
          [
           90
          ],
          [
           88
          ],
          [
           89
          ],
          [
           88
          ],
          [
           92
          ],
          [
           90
          ],
          [
           85
          ],
          [
           88
          ],
          [
           94
          ],
          [
           84
          ],
          [
           91
          ],
          [
           88
          ],
          [
           87
          ],
          [
           86
          ],
          [
           83
          ],
          [
           83
          ],
          [
           91
          ],
          [
           86
          ],
          [
           89
          ],
          [
           92
          ],
          [
           87
          ],
          [
           84
          ],
          [
           83
          ],
          [
           83
          ],
          [
           85
          ],
          [
           90
          ],
          [
           97
          ],
          [
           92
          ],
          [
           87
          ],
          [
           91
          ],
          [
           83
          ],
          [
           87
          ],
          [
           91
          ],
          [
           82
          ],
          [
           91
          ],
          [
           90
          ],
          [
           86
          ],
          [
           85
          ],
          [
           90
          ],
          [
           84
          ],
          [
           87
          ],
          [
           84
          ],
          [
           88
          ],
          [
           91
          ],
          [
           84
          ],
          [
           94
          ],
          [
           89
          ],
          [
           92
          ],
          [
           89
          ],
          [
           90
          ],
          [
           90
          ],
          [
           88
          ],
          [
           88
          ],
          [
           93
          ],
          [
           90
          ],
          [
           87
          ],
          [
           87
          ],
          [
           91
          ],
          [
           87
          ],
          [
           87
          ],
          [
           92
          ],
          [
           84
          ],
          [
           87
          ],
          [
           87
          ],
          [
           83
          ],
          [
           79
          ],
          [
           92
          ],
          [
           91
          ],
          [
           83
          ],
          [
           86
          ],
          [
           84
          ],
          [
           82
          ]
         ],
         "hovertemplate": "Cluster=Cluster 0<br>PCA1=%{x}<br>PCA2=%{y}<br>Feature=%{customdata[0]}<extra></extra>",
         "legendgroup": "Cluster 0",
         "marker": {
          "color": "#636efa",
          "opacity": 0.5,
          "symbol": "circle"
         },
         "mode": "markers",
         "name": "Cluster 0",
         "orientation": "v",
         "showlegend": true,
         "textposition": "top center",
         "type": "scatter",
         "x": [
          -1.8925099,
          -2.4461403,
          -2.4413583,
          -1.9237711,
          -2.567402,
          -2.1055772,
          -2.188414,
          -2.061751,
          -2.302295,
          -2.0517528,
          -2.287583,
          -1.9803944,
          -2.1869233,
          -1.9888636,
          -2.4957368,
          -2.0693767,
          -2.0606763,
          -1.8568492,
          -1.8605675,
          -1.8598624,
          -1.858375,
          -1.8125976,
          -2.181046,
          -2.1219974,
          -1.9440776,
          -2.0897734,
          -2.133874,
          -1.9494245,
          -2.039294,
          -2.2638319,
          -2.0596228,
          -2.1045487,
          -1.8776597,
          -1.5876434,
          -2.470856,
          -1.8108778,
          -1.9874394,
          -2.084896,
          -2.0752454,
          -2.0773067,
          -2.1082654,
          -2.4042835,
          -2.2408636,
          -1.6518968,
          -2.1966546,
          -2.1063108,
          -1.687261,
          -1.9126166,
          -2.351104,
          -2.3779006,
          -2.160151,
          -1.8555923,
          -2.1368668,
          -1.9100568,
          -2.4199347,
          -2.3536232,
          -2.3908005,
          -2.2267337,
          -1.7605102,
          -1.7579718,
          -2.011018,
          -2.054529,
          -2.1099749,
          -2.034199,
          -2.2967079,
          -2.3114407,
          -2.0640278,
          -2.189495,
          -2.2135644,
          -1.7196677,
          -1.6415102,
          -1.963515,
          -1.8819535,
          -1.9593517,
          -2.19875,
          -2.1246152,
          -1.9475651,
          -2.269625,
          -2.0257154,
          -1.9876142,
          -2.2367454,
          -2.1555302,
          -1.9479423,
          -2.3241777,
          -2.0794022,
          -2.160133,
          -2.3256655,
          -1.890535,
          -2.127959,
          -1.8501141,
          -2.066031,
          -2.2841172,
          -2.408626,
          -2.054962,
          -2.1151361,
          -2.2149146,
          -1.826845,
          -2.0488758,
          -2.0740645,
          -1.779924,
          -2.1132555,
          -2.1665833,
          -2.1383715,
          -2.1009648,
          -2.271969,
          -2.1726077,
          -1.9797368,
          -2.2095294,
          -1.9316932,
          -2.1905832,
          -2.0875242,
          -2.0325477,
          -1.8449571,
          -2.0546997,
          -2.316873,
          -2.01567,
          -2.137448,
          -1.8744649,
          -2.1795394,
          -1.8540492,
          -2.3009036,
          -1.961474,
          -2.062019,
          -1.6899788,
          -2.0057282,
          -1.9113857,
          -2.3722398,
          -1.7185094,
          -2.665085,
          -2.034847,
          -1.912235,
          -1.8777112,
          -2.021921,
          -2.176369,
          -1.9208518,
          -2.0072057,
          -2.0126104,
          -2.1694531,
          -1.9726822,
          -1.692014,
          -1.7340498,
          -2.3091838,
          -2.3963854,
          -1.8945491,
          -2.09049,
          -2.0610476,
          -2.1423469
         ],
         "xaxis": "x",
         "y": [
          -0.6046136,
          -0.27829498,
          -0.51817554,
          -0.62737375,
          -0.55842453,
          -0.55177945,
          -0.40186438,
          -0.39991602,
          -0.11431676,
          -0.15961845,
          -0.8755626,
          -0.45017564,
          -0.8067985,
          -0.46772352,
          -0.36810687,
          -0.56985897,
          -0.5417887,
          -0.70540977,
          -0.5908673,
          -0.43428046,
          -0.5353789,
          -0.19896418,
          -0.47087687,
          -0.7167499,
          -0.52984166,
          -0.4424067,
          -0.56967616,
          -0.6280525,
          -0.40534395,
          -0.4544438,
          -0.6563174,
          -0.64800644,
          -0.7015095,
          -1.0908341,
          -0.24686979,
          -0.6893547,
          -0.51699775,
          -0.5585021,
          -0.37940228,
          -0.68256277,
          -0.31381777,
          -0.71733844,
          -0.78955805,
          -0.2911757,
          -0.62731093,
          -0.28449574,
          -0.7954898,
          -0.31220025,
          -0.6846135,
          -0.5926919,
          -0.66763353,
          -0.5744373,
          -0.5519557,
          -0.19150499,
          -0.59718764,
          -0.103205346,
          -0.5480988,
          -0.46464035,
          -0.1739626,
          -0.627495,
          -0.57660335,
          -0.50098985,
          -0.7826586,
          -0.40722278,
          -0.1965793,
          -0.057587214,
          -0.7464146,
          -0.5869165,
          -0.25504494,
          -0.6422724,
          -0.32005164,
          -0.9640467,
          -0.29422048,
          -0.3045942,
          -0.6138377,
          -0.4603716,
          -0.5215538,
          -0.288632,
          -0.5390365,
          -0.64185274,
          -0.526418,
          -0.3982902,
          -0.6458556,
          -0.5246599,
          -0.56085676,
          -0.58931804,
          -0.53500736,
          -0.5393492,
          -0.13910994,
          -0.4274953,
          -0.1527017,
          -0.4958564,
          -0.4487434,
          -0.75395215,
          -0.42973623,
          -0.52412695,
          -0.3671599,
          -0.29102808,
          -0.45389563,
          -0.64415336,
          -0.36960745,
          -0.7505226,
          -0.8410368,
          -0.5619378,
          -0.44915223,
          -0.23068531,
          -0.45659307,
          -0.5797511,
          -0.30033976,
          -0.6014844,
          -0.63386804,
          -0.5563914,
          -0.7365494,
          -0.75200826,
          -0.40881792,
          -0.61021656,
          -0.38343868,
          -0.6191138,
          -0.6347758,
          -0.52758145,
          -0.6493925,
          -0.64003843,
          -0.5549704,
          -0.69349015,
          -0.42003044,
          -0.5456025,
          -0.5161716,
          -0.7034941,
          -0.35627365,
          -0.57285184,
          -0.6857117,
          -0.6206334,
          -0.5746305,
          -0.67401946,
          -0.9227835,
          -0.56827796,
          -0.6402751,
          -0.36895534,
          -0.20918386,
          -0.4664393,
          -0.32696488,
          -0.6093332,
          -0.10743711,
          -0.30305186,
          -0.44017458,
          -0.41872197,
          -0.30471092
         ],
         "yaxis": "y"
        },
        {
         "customdata": [
          [
           65
          ],
          [
           57
          ],
          [
           65
          ],
          [
           59
          ],
          [
           61
          ],
          [
           60
          ],
          [
           55
          ],
          [
           63
          ],
          [
           62
          ],
          [
           59
          ],
          [
           67
          ],
          [
           58
          ],
          [
           66
          ],
          [
           58
          ],
          [
           57
          ],
          [
           57
          ],
          [
           66
          ],
          [
           59
          ],
          [
           68
          ],
          [
           61
          ],
          [
           58
          ],
          [
           59
          ],
          [
           61
          ],
          [
           64
          ],
          [
           63
          ],
          [
           64
          ],
          [
           62
          ],
          [
           61
          ],
          [
           62
          ],
          [
           67
          ],
          [
           61
          ],
          [
           57
          ],
          [
           63
          ],
          [
           56
          ],
          [
           51
          ],
          [
           59
          ],
          [
           58
          ],
          [
           55
          ],
          [
           61
          ],
          [
           55
          ],
          [
           58
          ],
          [
           68
          ],
          [
           58
          ],
          [
           67
          ],
          [
           56
          ],
          [
           59
          ],
          [
           59
          ],
          [
           57
          ],
          [
           60
          ],
          [
           67
          ],
          [
           61
          ],
          [
           60
          ],
          [
           59
          ],
          [
           57
          ],
          [
           59
          ],
          [
           59
          ],
          [
           58
          ],
          [
           63
          ],
          [
           61
          ],
          [
           56
          ],
          [
           58
          ],
          [
           56
          ],
          [
           59
          ],
          [
           61
          ],
          [
           60
          ],
          [
           56
          ],
          [
           63
          ],
          [
           58
          ],
          [
           59
          ],
          [
           62
          ],
          [
           59
          ],
          [
           59
          ],
          [
           65
          ],
          [
           64
          ],
          [
           59
          ],
          [
           59
          ],
          [
           61
          ],
          [
           64
          ],
          [
           58
          ],
          [
           57
          ],
          [
           58
          ],
          [
           56
          ],
          [
           63
          ],
          [
           58
          ],
          [
           60
          ],
          [
           58
          ],
          [
           62
          ],
          [
           66
          ],
          [
           66
          ],
          [
           63
          ],
          [
           64
          ],
          [
           62
          ],
          [
           62
          ],
          [
           60
          ],
          [
           65
          ],
          [
           60
          ],
          [
           63
          ],
          [
           56
          ],
          [
           58
          ],
          [
           62
          ],
          [
           56
          ],
          [
           59
          ],
          [
           65
          ],
          [
           62
          ],
          [
           59
          ],
          [
           64
          ],
          [
           66
          ],
          [
           59
          ],
          [
           59
          ],
          [
           59
          ],
          [
           62
          ],
          [
           59
          ],
          [
           54
          ],
          [
           61
          ],
          [
           55
          ],
          [
           53
          ],
          [
           55
          ],
          [
           61
          ],
          [
           59
          ],
          [
           59
          ],
          [
           56
          ],
          [
           61
          ],
          [
           61
          ],
          [
           60
          ],
          [
           57
          ],
          [
           61
          ],
          [
           55
          ],
          [
           53
          ],
          [
           61
          ],
          [
           64
          ],
          [
           62
          ],
          [
           55
          ],
          [
           58
          ],
          [
           57
          ],
          [
           58
          ],
          [
           64
          ],
          [
           57
          ],
          [
           62
          ],
          [
           56
          ],
          [
           53
          ],
          [
           60
          ],
          [
           56
          ],
          [
           62
          ],
          [
           61
          ],
          [
           62
          ],
          [
           55
          ],
          [
           60
          ],
          [
           58
          ],
          [
           61
          ],
          [
           59
          ],
          [
           58
          ],
          [
           56
          ],
          [
           60
          ],
          [
           62
          ],
          [
           58
          ],
          [
           64
          ],
          [
           63
          ]
         ],
         "hovertemplate": "Cluster=Cluster 1<br>PCA1=%{x}<br>PCA2=%{y}<br>Feature=%{customdata[0]}<extra></extra>",
         "legendgroup": "Cluster 1",
         "marker": {
          "color": "#EF553B",
          "opacity": 0.5,
          "symbol": "circle"
         },
         "mode": "markers",
         "name": "Cluster 1",
         "orientation": "v",
         "showlegend": true,
         "textposition": "top center",
         "type": "scatter",
         "x": [
          0.705959,
          0.9384808,
          0.6609915,
          1.2113136,
          0.716018,
          1.1328869,
          1.2062161,
          0.91465586,
          0.927872,
          1.2454269,
          0.77287185,
          1.1074471,
          0.86529595,
          1.268718,
          0.94495225,
          1.3021687,
          0.76223016,
          1.0169674,
          1.010373,
          0.79547733,
          1.1841079,
          1.1080724,
          0.8997238,
          1.0437341,
          0.5968283,
          0.97776353,
          1.0725408,
          0.85662496,
          1.2474037,
          0.73243624,
          1.0077904,
          1.0477718,
          1.1951048,
          1.0101203,
          1.219179,
          1.302976,
          0.9578521,
          0.9594896,
          1.1929188,
          0.98904383,
          1.2806107,
          0.7310235,
          0.69352406,
          1.1100276,
          1.0574468,
          1.0262004,
          1.3206457,
          1.3467036,
          0.8764453,
          1.0464728,
          0.94314647,
          0.9041617,
          0.86455,
          0.9352329,
          0.94259083,
          0.8657567,
          0.9030623,
          0.8473229,
          0.9366535,
          1.0860479,
          1.0019395,
          1.121955,
          0.9119063,
          0.96049976,
          0.7580629,
          1.185148,
          0.84639275,
          1.1666385,
          0.82200116,
          0.93893254,
          1.0372275,
          0.6350499,
          0.8416798,
          0.57708824,
          0.86372805,
          1.0205106,
          0.7065484,
          0.8861279,
          1.1682823,
          1.1695776,
          1.1412692,
          0.96944815,
          1.1193995,
          0.97002774,
          1.3791562,
          0.92143863,
          0.9629559,
          0.9783077,
          0.9549223,
          1.1697143,
          1.0121022,
          0.85989505,
          0.73445773,
          0.9008403,
          0.8612086,
          0.78219235,
          1.2041492,
          1.2062681,
          1.0852603,
          0.84594274,
          0.8943121,
          0.87264127,
          0.9041287,
          0.9066273,
          0.9808077,
          1.0768585,
          1.0636824,
          0.649155,
          1.1276574,
          1.3253411,
          0.5838874,
          0.9688215,
          1.1878048,
          0.9680404,
          0.9446695,
          1.3514656,
          1.1107911,
          0.96944827,
          0.9863656,
          0.88543177,
          0.84047437,
          1.1788954,
          0.912889,
          0.9540251,
          0.99510586,
          0.99039954,
          1.20973,
          0.85452634,
          1.2113981,
          0.6485194,
          1.1686583,
          0.97809124,
          0.94150186,
          1.1543304,
          0.9390618,
          0.9404506,
          1.217597,
          0.8417692,
          0.8659567,
          0.9983586,
          0.65557295,
          0.79184306,
          1.0488436,
          0.66430753,
          0.7759043,
          1.4165237,
          1.0276415,
          1.3211838,
          0.78747785,
          0.8919389,
          1.2856247,
          1.040564,
          0.93123436,
          0.98197055,
          1.1042739,
          1.0590695,
          0.7440266
         ],
         "xaxis": "x",
         "y": [
          -1.0135586,
          -0.9114184,
          -1.0233874,
          -1.3413427,
          -0.85598344,
          -1.3481123,
          -0.98909706,
          -1.0457973,
          -1.3218176,
          -1.135094,
          -1.4498322,
          -0.9032412,
          -1.0111197,
          -1.2877278,
          -1.0827042,
          -1.1317551,
          -1.1008295,
          -1.1019901,
          -1.2406546,
          -0.8398828,
          -1.2783961,
          -1.0491406,
          -1.0180186,
          -1.1407849,
          -1.2466718,
          -1.0054324,
          -1.3410543,
          -1.08991,
          -1.3089099,
          -1.2033209,
          -0.92512065,
          -0.9909498,
          -1.5360719,
          -0.71924484,
          -0.933913,
          -1.0354556,
          -0.7304667,
          -1.0207958,
          -1.3237197,
          -0.7460962,
          -1.148785,
          -1.2106186,
          -0.8048183,
          -1.2312022,
          -0.96255904,
          -1.0784361,
          -0.8439511,
          -1.0718241,
          -0.9881937,
          -1.1669307,
          -1.2236754,
          -0.92687875,
          -0.8363637,
          -1.0689487,
          -1.4138814,
          -1.0093228,
          -0.95711625,
          -1.0958575,
          -1.0537809,
          -1.154081,
          -0.8672711,
          -0.9361936,
          -1.092109,
          -1.1213905,
          -1.08996,
          -0.92624193,
          -0.7750477,
          -0.9858206,
          -0.71512455,
          -1.1841016,
          -1.1311767,
          -0.84448844,
          -1.0551121,
          -1.1057266,
          -0.6305228,
          -1.0689999,
          -1.007164,
          -1.3114514,
          -1.0001818,
          -0.99484235,
          -1.1282609,
          -0.51665175,
          -0.94546163,
          -1.0226848,
          -1.1911315,
          -0.96077895,
          -1.0563539,
          -1.2837073,
          -1.4279648,
          -1.3232677,
          -1.2827358,
          -1.2307736,
          -1.1739384,
          -1.0551957,
          -1.3076652,
          -0.901711,
          -1.1104902,
          -0.7873292,
          -1.0005435,
          -1.025556,
          -0.8956354,
          -1.0128642,
          -1.3387061,
          -0.8129184,
          -1.1529577,
          -0.86462706,
          -1.0687675,
          -0.7130072,
          -1.1423073,
          -1.0537876,
          -0.70952326,
          -0.9508264,
          -0.9010032,
          -1.1378583,
          -0.8512722,
          -0.96841586,
          -0.85046756,
          -0.96525484,
          -1.2147596,
          -0.9872029,
          -1.0083834,
          -1.1914817,
          -1.2877887,
          -1.1050117,
          -0.8446993,
          -1.0986215,
          -1.0174124,
          -0.93654484,
          -1.3813316,
          -1.2345564,
          -1.3828849,
          -0.8932651,
          -0.8738518,
          -0.89869124,
          -0.82482094,
          -1.0093417,
          -1.0940497,
          -1.1315541,
          -0.9501852,
          -0.72614557,
          -0.9506073,
          -1.0428462,
          -1.0341294,
          -0.8901298,
          -1.0307951,
          -1.1874053,
          -1.2614195,
          -1.0112114,
          -1.0185752,
          -0.92448294,
          -1.049161,
          -1.0879014,
          -1.1517195,
          -1.2111098,
          -0.9261339,
          -0.8907999,
          -1.0170299
         ],
         "yaxis": "y"
        },
        {
         "customdata": [
          [
           38
          ],
          [
           29
          ],
          [
           36
          ],
          [
           31
          ],
          [
           39
          ],
          [
           88
          ],
          [
           86
          ],
          [
           35
          ],
          [
           30
          ],
          [
           35
          ],
          [
           25
          ],
          [
           37
          ],
          [
           30
          ],
          [
           36
          ],
          [
           34
          ],
          [
           33
          ],
          [
           36
          ],
          [
           32
          ],
          [
           83
          ],
          [
           31
          ],
          [
           37
          ],
          [
           36
          ],
          [
           90
          ],
          [
           31
          ],
          [
           37
          ],
          [
           35
          ],
          [
           33
          ],
          [
           84
          ],
          [
           37
          ],
          [
           29
          ],
          [
           44
          ],
          [
           32
          ],
          [
           31
          ],
          [
           29
          ],
          [
           36
          ],
          [
           31
          ],
          [
           90
          ],
          [
           33
          ],
          [
           33
          ],
          [
           89
          ],
          [
           29
          ],
          [
           32
          ],
          [
           84
          ],
          [
           30
          ],
          [
           88
          ],
          [
           38
          ],
          [
           92
          ],
          [
           31
          ],
          [
           30
          ],
          [
           36
          ],
          [
           85
          ],
          [
           30
          ],
          [
           28
          ],
          [
           37
          ],
          [
           29
          ],
          [
           31
          ],
          [
           29
          ],
          [
           31
          ],
          [
           33
          ],
          [
           31
          ],
          [
           83
          ],
          [
           34
          ],
          [
           22
          ],
          [
           87
          ],
          [
           34
          ],
          [
           25
          ],
          [
           31
          ],
          [
           31
          ],
          [
           31
          ],
          [
           35
          ],
          [
           28
          ],
          [
           33
          ],
          [
           31
          ],
          [
           28
          ],
          [
           39
          ],
          [
           36
          ],
          [
           32
          ],
          [
           93
          ],
          [
           36
          ],
          [
           34
          ],
          [
           37
          ],
          [
           33
          ],
          [
           43
          ],
          [
           33
          ],
          [
           26
          ],
          [
           24
          ],
          [
           31
          ],
          [
           29
          ],
          [
           36
          ],
          [
           86
          ],
          [
           33
          ],
          [
           29
          ],
          [
           40
          ],
          [
           35
          ],
          [
           32
          ],
          [
           37
          ],
          [
           34
          ],
          [
           34
          ],
          [
           84
          ],
          [
           82
          ],
          [
           88
          ],
          [
           85
          ],
          [
           35
          ],
          [
           33
          ],
          [
           33
          ],
          [
           29
          ],
          [
           83
          ],
          [
           28
          ],
          [
           31
          ],
          [
           37
          ],
          [
           31
          ],
          [
           33
          ],
          [
           30
          ],
          [
           30
          ],
          [
           34
          ],
          [
           30
          ],
          [
           30
          ],
          [
           86
          ],
          [
           29
          ],
          [
           30
          ],
          [
           28
          ],
          [
           37
          ],
          [
           37
          ],
          [
           82
          ],
          [
           42
          ],
          [
           28
          ],
          [
           30
          ],
          [
           32
          ],
          [
           35
          ],
          [
           35
          ],
          [
           31
          ],
          [
           35
          ],
          [
           33
          ],
          [
           29
          ],
          [
           35
          ],
          [
           38
          ],
          [
           34
          ],
          [
           33
          ],
          [
           32
          ],
          [
           34
          ],
          [
           31
          ],
          [
           27
          ],
          [
           39
          ],
          [
           38
          ],
          [
           84
          ],
          [
           77
          ],
          [
           34
          ],
          [
           28
          ],
          [
           36
          ],
          [
           91
          ],
          [
           34
          ]
         ],
         "hovertemplate": "Cluster=Cluster 2<br>PCA1=%{x}<br>PCA2=%{y}<br>Feature=%{customdata[0]}<extra></extra>",
         "legendgroup": "Cluster 2",
         "marker": {
          "color": "#00cc96",
          "opacity": 0.5,
          "symbol": "circle"
         },
         "mode": "markers",
         "name": "Cluster 2",
         "orientation": "v",
         "showlegend": true,
         "textposition": "top center",
         "type": "scatter",
         "x": [
          0.21730576,
          0.5268502,
          0.302945,
          0.47040445,
          -0.04759941,
          -1.0392525,
          -1.2481126,
          0.012673603,
          0.23417912,
          0.18269624,
          0.29052827,
          0.32006606,
          0.28531936,
          0.066698104,
          0.1368986,
          0.036998246,
          0.16245548,
          -0.08843384,
          -1.1277982,
          0.4950566,
          -0.13748595,
          0.22836755,
          -1.2098762,
          0.32955977,
          0.31098077,
          0.15597025,
          0.23575677,
          -1.2666196,
          0.3880968,
          0.1471149,
          0.21406922,
          0.32921454,
          0.02445972,
          0.18989465,
          -0.06863161,
          0.347477,
          -0.9541643,
          0.20307952,
          0.3138362,
          -1.2921516,
          0.32782802,
          0.050989132,
          -0.90318996,
          0.3071315,
          -1.0975606,
          -0.09633146,
          -1.0952296,
          0.4327583,
          0.4262608,
          -0.15304361,
          -1.3983089,
          0.22945112,
          0.41961426,
          -0.110692576,
          0.5747355,
          0.35806426,
          0.37691063,
          -0.015299419,
          0.18176503,
          0.11017619,
          -1.1975948,
          0.0142235905,
          0.40868744,
          -0.9670626,
          -0.04815662,
          0.405385,
          0.4099481,
          0.4899927,
          0.7206938,
          0.20455782,
          0.10836543,
          0.37524697,
          0.42775053,
          0.13276306,
          -0.019185642,
          -0.033676587,
          0.4708598,
          -1.1784385,
          0.14166424,
          0.4088949,
          0.13527568,
          0.22843207,
          0.1615026,
          0.3904837,
          0.14248265,
          0.46704924,
          0.24080142,
          0.6209194,
          0.10015249,
          -0.763417,
          0.41940162,
          0.47174865,
          -0.178431,
          0.07082777,
          0.19313473,
          0.14987943,
          0.286256,
          0.2430283,
          -1.0903655,
          -1.0432092,
          -1.6249117,
          -1.0212916,
          0.22200242,
          0.07021182,
          0.34601194,
          0.18708579,
          -0.95528424,
          0.15203868,
          0.333378,
          0.16539967,
          0.40319547,
          0.25349665,
          0.10798384,
          0.2529774,
          -0.22938156,
          0.4200036,
          0.53306973,
          -1.1908668,
          0.25870785,
          0.10471193,
          0.44920892,
          -0.15415533,
          0.18370955,
          -0.96755624,
          0.10755244,
          0.23395872,
          0.38863146,
          -0.017083637,
          -0.057302542,
          0.29574955,
          0.26865605,
          0.086192384,
          -0.024304431,
          0.25281167,
          0.39567584,
          0.27421653,
          0.38336036,
          0.21584931,
          0.42412835,
          0.230469,
          0.24405302,
          0.2857243,
          -0.1854784,
          0.3379546,
          -1.1915513,
          -0.834865,
          0.188655,
          0.57028615,
          0.23536445,
          -1.2427849,
          0.31007376
         ],
         "xaxis": "x",
         "y": [
          1.384014,
          1.7074313,
          1.5526615,
          1.6505079,
          1.4687291,
          1.3135295,
          1.5822625,
          1.8431362,
          1.4609125,
          1.6082289,
          1.7901949,
          1.4396318,
          1.7974603,
          1.7356198,
          1.6224831,
          1.5980235,
          1.4691565,
          1.8279328,
          1.3804687,
          1.6722878,
          1.9393256,
          1.3946956,
          1.3846391,
          1.5755297,
          1.5576446,
          1.5906011,
          1.290231,
          1.3289765,
          1.4121017,
          1.6852226,
          1.4915243,
          1.623856,
          1.8809428,
          1.7329705,
          1.5834935,
          1.6445943,
          0.98935753,
          1.7269868,
          1.5917895,
          1.327207,
          1.6049141,
          1.8996631,
          1.289857,
          1.5713305,
          1.258997,
          1.3905679,
          1.1727355,
          1.6303408,
          1.430814,
          1.71178,
          1.379567,
          1.4856658,
          1.5081253,
          1.7989042,
          1.8315719,
          1.562804,
          1.6541399,
          1.7923003,
          1.559809,
          1.7275523,
          1.4958438,
          1.5946018,
          1.974072,
          1.0706344,
          1.7782212,
          1.762807,
          1.6457155,
          1.7492542,
          1.3508518,
          1.719241,
          1.8203264,
          1.7995704,
          1.7193215,
          1.6239616,
          1.4381683,
          1.5181024,
          1.7797644,
          1.3195281,
          1.6379031,
          1.4115543,
          1.713627,
          1.3602029,
          1.1885107,
          1.3470465,
          1.7697529,
          1.9073383,
          1.728855,
          1.5672679,
          1.694899,
          1.2243903,
          1.7434924,
          1.8495575,
          1.555708,
          1.6776865,
          1.648588,
          1.6099938,
          1.1386856,
          1.6242219,
          1.2543908,
          1.5599324,
          1.5343345,
          1.2016264,
          1.8694701,
          1.9697391,
          1.5959792,
          1.5100583,
          1.1784848,
          1.748243,
          1.4389173,
          1.3074845,
          1.670925,
          1.6210644,
          1.9551011,
          1.8050065,
          1.8646983,
          1.5791507,
          1.5752054,
          1.2792906,
          1.6856589,
          1.7883366,
          1.8500044,
          1.629954,
          1.6274924,
          1.402701,
          1.4363189,
          1.620393,
          1.7142452,
          1.6424211,
          1.8753568,
          1.39395,
          1.6683763,
          1.6215233,
          1.7425568,
          1.8908243,
          1.6332617,
          1.6670978,
          1.6070728,
          1.7098538,
          1.6521552,
          1.3890036,
          1.9799552,
          1.8709046,
          1.6505735,
          1.5676656,
          1.2071735,
          1.6633248,
          1.6265681,
          1.608649,
          1.5278625,
          1.2472152,
          1.9068395
         ],
         "yaxis": "y"
        },
        {
         "customdata": [
          [
           27
          ],
          [
           23
          ],
          [
           25
          ],
          [
           17
          ],
          [
           24
          ],
          [
           20
          ],
          [
           23
          ],
          [
           26
          ],
          [
           23
          ],
          [
           27
          ],
          [
           23
          ],
          [
           31
          ],
          [
           22
          ],
          [
           24
          ],
          [
           29
          ],
          [
           22
          ],
          [
           28
          ],
          [
           26
          ],
          [
           25
          ],
          [
           24
          ],
          [
           24
          ],
          [
           25
          ],
          [
           20
          ],
          [
           30
          ],
          [
           25
          ],
          [
           28
          ],
          [
           20
          ],
          [
           24
          ],
          [
           22
          ],
          [
           26
          ],
          [
           17
          ],
          [
           26
          ],
          [
           28
          ],
          [
           18
          ],
          [
           21
          ],
          [
           21
          ],
          [
           17
          ],
          [
           27
          ],
          [
           25
          ],
          [
           24
          ],
          [
           28
          ],
          [
           26
          ],
          [
           28
          ],
          [
           25
          ],
          [
           24
          ],
          [
           17
          ],
          [
           29
          ],
          [
           29
          ],
          [
           28
          ],
          [
           18
          ]
         ],
         "hovertemplate": "Cluster=Cluster 3<br>PCA1=%{x}<br>PCA2=%{y}<br>Feature=%{customdata[0]}<extra></extra>",
         "legendgroup": "Cluster 3",
         "marker": {
          "color": "#ab63fa",
          "opacity": 0.5,
          "symbol": "circle"
         },
         "mode": "markers",
         "name": "Cluster 3",
         "orientation": "v",
         "showlegend": true,
         "textposition": "top center",
         "type": "scatter",
         "x": [
          2.8772197,
          3.2896662,
          3.3147829,
          3.6060112,
          2.9684908,
          3.0222116,
          2.9965293,
          3.0233417,
          3.0284705,
          2.7928143,
          2.8210847,
          2.8857012,
          2.9555457,
          3.0276701,
          2.9081922,
          3.227135,
          3.0574043,
          2.9467087,
          2.7441227,
          3.3345883,
          3.1060512,
          3.0625439,
          2.9645305,
          2.5824323,
          2.9946136,
          3.1899009,
          2.9100544,
          3.128438,
          2.9790409,
          3.0296826,
          3.2033837,
          2.7615137,
          2.727691,
          3.0185013,
          3.0184648,
          3.133689,
          3.2480216,
          3.1369286,
          2.8772066,
          2.836009,
          3.1090477,
          2.6580312,
          2.6248467,
          2.6834428,
          3.0785127,
          3.3186576,
          3.0194788,
          2.9969652,
          2.6126325,
          2.85965
         ],
         "xaxis": "x",
         "y": [
          -0.15961285,
          0.055497915,
          -0.06019208,
          -0.020803731,
          0.09709045,
          0.12764984,
          0.10028162,
          -0.27979043,
          -0.005102673,
          -0.13296771,
          -0.016744545,
          -0.2874931,
          0.2758652,
          0.03958524,
          0.014593819,
          0.023557495,
          -0.37266764,
          0.07393526,
          0.22846499,
          -0.023428392,
          0.046652246,
          -0.02478924,
          0.030776368,
          -0.011832073,
          0.0043449015,
          -0.3934189,
          0.24234724,
          -0.12386395,
          -0.17767802,
          -0.11781953,
          -0.04759579,
          0.027471999,
          0.06575152,
          0.26981527,
          0.025678214,
          0.0053649037,
          0.22315392,
          -0.33384293,
          0.15353769,
          -0.075593196,
          -0.22672912,
          0.22000507,
          -0.1050875,
          0.038763817,
          0.11283381,
          0.18149401,
          0.12620153,
          -0.32384303,
          0.0076555912,
          0.27202234
         ],
         "yaxis": "y"
        }
       ],
       "layout": {
        "height": 600,
        "legend": {
         "title": {
          "text": "Cluster"
         },
         "tracegroupgap": 0
        },
        "margin": {
         "t": 60
        },
        "plot_bgcolor": "rgb(240,240,240)",
        "template": {
         "data": {
          "bar": [
           {
            "error_x": {
             "color": "#2a3f5f"
            },
            "error_y": {
             "color": "#2a3f5f"
            },
            "marker": {
             "line": {
              "color": "#E5ECF6",
              "width": 0.5
             },
             "pattern": {
              "fillmode": "overlay",
              "size": 10,
              "solidity": 0.2
             }
            },
            "type": "bar"
           }
          ],
          "barpolar": [
           {
            "marker": {
             "line": {
              "color": "#E5ECF6",
              "width": 0.5
             },
             "pattern": {
              "fillmode": "overlay",
              "size": 10,
              "solidity": 0.2
             }
            },
            "type": "barpolar"
           }
          ],
          "carpet": [
           {
            "aaxis": {
             "endlinecolor": "#2a3f5f",
             "gridcolor": "white",
             "linecolor": "white",
             "minorgridcolor": "white",
             "startlinecolor": "#2a3f5f"
            },
            "baxis": {
             "endlinecolor": "#2a3f5f",
             "gridcolor": "white",
             "linecolor": "white",
             "minorgridcolor": "white",
             "startlinecolor": "#2a3f5f"
            },
            "type": "carpet"
           }
          ],
          "choropleth": [
           {
            "colorbar": {
             "outlinewidth": 0,
             "ticks": ""
            },
            "type": "choropleth"
           }
          ],
          "contour": [
           {
            "colorbar": {
             "outlinewidth": 0,
             "ticks": ""
            },
            "colorscale": [
             [
              0,
              "#0d0887"
             ],
             [
              0.1111111111111111,
              "#46039f"
             ],
             [
              0.2222222222222222,
              "#7201a8"
             ],
             [
              0.3333333333333333,
              "#9c179e"
             ],
             [
              0.4444444444444444,
              "#bd3786"
             ],
             [
              0.5555555555555556,
              "#d8576b"
             ],
             [
              0.6666666666666666,
              "#ed7953"
             ],
             [
              0.7777777777777778,
              "#fb9f3a"
             ],
             [
              0.8888888888888888,
              "#fdca26"
             ],
             [
              1,
              "#f0f921"
             ]
            ],
            "type": "contour"
           }
          ],
          "contourcarpet": [
           {
            "colorbar": {
             "outlinewidth": 0,
             "ticks": ""
            },
            "type": "contourcarpet"
           }
          ],
          "heatmap": [
           {
            "colorbar": {
             "outlinewidth": 0,
             "ticks": ""
            },
            "colorscale": [
             [
              0,
              "#0d0887"
             ],
             [
              0.1111111111111111,
              "#46039f"
             ],
             [
              0.2222222222222222,
              "#7201a8"
             ],
             [
              0.3333333333333333,
              "#9c179e"
             ],
             [
              0.4444444444444444,
              "#bd3786"
             ],
             [
              0.5555555555555556,
              "#d8576b"
             ],
             [
              0.6666666666666666,
              "#ed7953"
             ],
             [
              0.7777777777777778,
              "#fb9f3a"
             ],
             [
              0.8888888888888888,
              "#fdca26"
             ],
             [
              1,
              "#f0f921"
             ]
            ],
            "type": "heatmap"
           }
          ],
          "heatmapgl": [
           {
            "colorbar": {
             "outlinewidth": 0,
             "ticks": ""
            },
            "colorscale": [
             [
              0,
              "#0d0887"
             ],
             [
              0.1111111111111111,
              "#46039f"
             ],
             [
              0.2222222222222222,
              "#7201a8"
             ],
             [
              0.3333333333333333,
              "#9c179e"
             ],
             [
              0.4444444444444444,
              "#bd3786"
             ],
             [
              0.5555555555555556,
              "#d8576b"
             ],
             [
              0.6666666666666666,
              "#ed7953"
             ],
             [
              0.7777777777777778,
              "#fb9f3a"
             ],
             [
              0.8888888888888888,
              "#fdca26"
             ],
             [
              1,
              "#f0f921"
             ]
            ],
            "type": "heatmapgl"
           }
          ],
          "histogram": [
           {
            "marker": {
             "pattern": {
              "fillmode": "overlay",
              "size": 10,
              "solidity": 0.2
             }
            },
            "type": "histogram"
           }
          ],
          "histogram2d": [
           {
            "colorbar": {
             "outlinewidth": 0,
             "ticks": ""
            },
            "colorscale": [
             [
              0,
              "#0d0887"
             ],
             [
              0.1111111111111111,
              "#46039f"
             ],
             [
              0.2222222222222222,
              "#7201a8"
             ],
             [
              0.3333333333333333,
              "#9c179e"
             ],
             [
              0.4444444444444444,
              "#bd3786"
             ],
             [
              0.5555555555555556,
              "#d8576b"
             ],
             [
              0.6666666666666666,
              "#ed7953"
             ],
             [
              0.7777777777777778,
              "#fb9f3a"
             ],
             [
              0.8888888888888888,
              "#fdca26"
             ],
             [
              1,
              "#f0f921"
             ]
            ],
            "type": "histogram2d"
           }
          ],
          "histogram2dcontour": [
           {
            "colorbar": {
             "outlinewidth": 0,
             "ticks": ""
            },
            "colorscale": [
             [
              0,
              "#0d0887"
             ],
             [
              0.1111111111111111,
              "#46039f"
             ],
             [
              0.2222222222222222,
              "#7201a8"
             ],
             [
              0.3333333333333333,
              "#9c179e"
             ],
             [
              0.4444444444444444,
              "#bd3786"
             ],
             [
              0.5555555555555556,
              "#d8576b"
             ],
             [
              0.6666666666666666,
              "#ed7953"
             ],
             [
              0.7777777777777778,
              "#fb9f3a"
             ],
             [
              0.8888888888888888,
              "#fdca26"
             ],
             [
              1,
              "#f0f921"
             ]
            ],
            "type": "histogram2dcontour"
           }
          ],
          "mesh3d": [
           {
            "colorbar": {
             "outlinewidth": 0,
             "ticks": ""
            },
            "type": "mesh3d"
           }
          ],
          "parcoords": [
           {
            "line": {
             "colorbar": {
              "outlinewidth": 0,
              "ticks": ""
             }
            },
            "type": "parcoords"
           }
          ],
          "pie": [
           {
            "automargin": true,
            "type": "pie"
           }
          ],
          "scatter": [
           {
            "fillpattern": {
             "fillmode": "overlay",
             "size": 10,
             "solidity": 0.2
            },
            "type": "scatter"
           }
          ],
          "scatter3d": [
           {
            "line": {
             "colorbar": {
              "outlinewidth": 0,
              "ticks": ""
             }
            },
            "marker": {
             "colorbar": {
              "outlinewidth": 0,
              "ticks": ""
             }
            },
            "type": "scatter3d"
           }
          ],
          "scattercarpet": [
           {
            "marker": {
             "colorbar": {
              "outlinewidth": 0,
              "ticks": ""
             }
            },
            "type": "scattercarpet"
           }
          ],
          "scattergeo": [
           {
            "marker": {
             "colorbar": {
              "outlinewidth": 0,
              "ticks": ""
             }
            },
            "type": "scattergeo"
           }
          ],
          "scattergl": [
           {
            "marker": {
             "colorbar": {
              "outlinewidth": 0,
              "ticks": ""
             }
            },
            "type": "scattergl"
           }
          ],
          "scattermapbox": [
           {
            "marker": {
             "colorbar": {
              "outlinewidth": 0,
              "ticks": ""
             }
            },
            "type": "scattermapbox"
           }
          ],
          "scatterpolar": [
           {
            "marker": {
             "colorbar": {
              "outlinewidth": 0,
              "ticks": ""
             }
            },
            "type": "scatterpolar"
           }
          ],
          "scatterpolargl": [
           {
            "marker": {
             "colorbar": {
              "outlinewidth": 0,
              "ticks": ""
             }
            },
            "type": "scatterpolargl"
           }
          ],
          "scatterternary": [
           {
            "marker": {
             "colorbar": {
              "outlinewidth": 0,
              "ticks": ""
             }
            },
            "type": "scatterternary"
           }
          ],
          "surface": [
           {
            "colorbar": {
             "outlinewidth": 0,
             "ticks": ""
            },
            "colorscale": [
             [
              0,
              "#0d0887"
             ],
             [
              0.1111111111111111,
              "#46039f"
             ],
             [
              0.2222222222222222,
              "#7201a8"
             ],
             [
              0.3333333333333333,
              "#9c179e"
             ],
             [
              0.4444444444444444,
              "#bd3786"
             ],
             [
              0.5555555555555556,
              "#d8576b"
             ],
             [
              0.6666666666666666,
              "#ed7953"
             ],
             [
              0.7777777777777778,
              "#fb9f3a"
             ],
             [
              0.8888888888888888,
              "#fdca26"
             ],
             [
              1,
              "#f0f921"
             ]
            ],
            "type": "surface"
           }
          ],
          "table": [
           {
            "cells": {
             "fill": {
              "color": "#EBF0F8"
             },
             "line": {
              "color": "white"
             }
            },
            "header": {
             "fill": {
              "color": "#C8D4E3"
             },
             "line": {
              "color": "white"
             }
            },
            "type": "table"
           }
          ]
         },
         "layout": {
          "annotationdefaults": {
           "arrowcolor": "#2a3f5f",
           "arrowhead": 0,
           "arrowwidth": 1
          },
          "autotypenumbers": "strict",
          "coloraxis": {
           "colorbar": {
            "outlinewidth": 0,
            "ticks": ""
           }
          },
          "colorscale": {
           "diverging": [
            [
             0,
             "#8e0152"
            ],
            [
             0.1,
             "#c51b7d"
            ],
            [
             0.2,
             "#de77ae"
            ],
            [
             0.3,
             "#f1b6da"
            ],
            [
             0.4,
             "#fde0ef"
            ],
            [
             0.5,
             "#f7f7f7"
            ],
            [
             0.6,
             "#e6f5d0"
            ],
            [
             0.7,
             "#b8e186"
            ],
            [
             0.8,
             "#7fbc41"
            ],
            [
             0.9,
             "#4d9221"
            ],
            [
             1,
             "#276419"
            ]
           ],
           "sequential": [
            [
             0,
             "#0d0887"
            ],
            [
             0.1111111111111111,
             "#46039f"
            ],
            [
             0.2222222222222222,
             "#7201a8"
            ],
            [
             0.3333333333333333,
             "#9c179e"
            ],
            [
             0.4444444444444444,
             "#bd3786"
            ],
            [
             0.5555555555555556,
             "#d8576b"
            ],
            [
             0.6666666666666666,
             "#ed7953"
            ],
            [
             0.7777777777777778,
             "#fb9f3a"
            ],
            [
             0.8888888888888888,
             "#fdca26"
            ],
            [
             1,
             "#f0f921"
            ]
           ],
           "sequentialminus": [
            [
             0,
             "#0d0887"
            ],
            [
             0.1111111111111111,
             "#46039f"
            ],
            [
             0.2222222222222222,
             "#7201a8"
            ],
            [
             0.3333333333333333,
             "#9c179e"
            ],
            [
             0.4444444444444444,
             "#bd3786"
            ],
            [
             0.5555555555555556,
             "#d8576b"
            ],
            [
             0.6666666666666666,
             "#ed7953"
            ],
            [
             0.7777777777777778,
             "#fb9f3a"
            ],
            [
             0.8888888888888888,
             "#fdca26"
            ],
            [
             1,
             "#f0f921"
            ]
           ]
          },
          "colorway": [
           "#636efa",
           "#EF553B",
           "#00cc96",
           "#ab63fa",
           "#FFA15A",
           "#19d3f3",
           "#FF6692",
           "#B6E880",
           "#FF97FF",
           "#FECB52"
          ],
          "font": {
           "color": "#2a3f5f"
          },
          "geo": {
           "bgcolor": "white",
           "lakecolor": "white",
           "landcolor": "#E5ECF6",
           "showlakes": true,
           "showland": true,
           "subunitcolor": "white"
          },
          "hoverlabel": {
           "align": "left"
          },
          "hovermode": "closest",
          "mapbox": {
           "style": "light"
          },
          "paper_bgcolor": "white",
          "plot_bgcolor": "#E5ECF6",
          "polar": {
           "angularaxis": {
            "gridcolor": "white",
            "linecolor": "white",
            "ticks": ""
           },
           "bgcolor": "#E5ECF6",
           "radialaxis": {
            "gridcolor": "white",
            "linecolor": "white",
            "ticks": ""
           }
          },
          "scene": {
           "xaxis": {
            "backgroundcolor": "#E5ECF6",
            "gridcolor": "white",
            "gridwidth": 2,
            "linecolor": "white",
            "showbackground": true,
            "ticks": "",
            "zerolinecolor": "white"
           },
           "yaxis": {
            "backgroundcolor": "#E5ECF6",
            "gridcolor": "white",
            "gridwidth": 2,
            "linecolor": "white",
            "showbackground": true,
            "ticks": "",
            "zerolinecolor": "white"
           },
           "zaxis": {
            "backgroundcolor": "#E5ECF6",
            "gridcolor": "white",
            "gridwidth": 2,
            "linecolor": "white",
            "showbackground": true,
            "ticks": "",
            "zerolinecolor": "white"
           }
          },
          "shapedefaults": {
           "line": {
            "color": "#2a3f5f"
           }
          },
          "ternary": {
           "aaxis": {
            "gridcolor": "white",
            "linecolor": "white",
            "ticks": ""
           },
           "baxis": {
            "gridcolor": "white",
            "linecolor": "white",
            "ticks": ""
           },
           "bgcolor": "#E5ECF6",
           "caxis": {
            "gridcolor": "white",
            "linecolor": "white",
            "ticks": ""
           }
          },
          "title": {
           "x": 0.05
          },
          "xaxis": {
           "automargin": true,
           "gridcolor": "white",
           "linecolor": "white",
           "ticks": "",
           "title": {
            "standoff": 15
           },
           "zerolinecolor": "white",
           "zerolinewidth": 2
          },
          "yaxis": {
           "automargin": true,
           "gridcolor": "white",
           "linecolor": "white",
           "ticks": "",
           "title": {
            "standoff": 15
           },
           "zerolinecolor": "white",
           "zerolinewidth": 2
          }
         }
        },
        "title": {
         "text": "2D Cluster PCA Plot"
        },
        "xaxis": {
         "anchor": "y",
         "domain": [
          0,
          1
         ],
         "title": {
          "text": "PCA1"
         }
        },
        "yaxis": {
         "anchor": "x",
         "domain": [
          0,
          1
         ],
         "title": {
          "text": "PCA2"
         }
        }
       }
      }
     },
     "metadata": {},
     "output_type": "display_data"
    },
    {
     "data": {
      "application/vnd.jupyter.widget-view+json": {
       "model_id": "fcbba976b338473faf372a9d49e5eeaf",
       "version_major": 2,
       "version_minor": 0
      },
      "text/plain": [
       "interactive(children=(ToggleButtons(description='Plot Type:', icons=('',), options=(('Cluster PCA Plot (2d)', …"
      ]
     },
     "metadata": {},
     "output_type": "display_data"
    },
    {
     "data": {
      "application/vnd.plotly.v1+json": {
       "config": {
        "plotlyServerURL": "https://plot.ly"
       },
       "data": [
        {
         "customdata": [
          [
           89
          ],
          [
           91
          ],
          [
           92
          ],
          [
           90
          ],
          [
           93
          ],
          [
           89
          ],
          [
           88
          ],
          [
           87
          ],
          [
           86
          ],
          [
           82
          ],
          [
           91
          ],
          [
           88
          ],
          [
           87
          ],
          [
           91
          ],
          [
           90
          ],
          [
           85
          ],
          [
           91
          ],
          [
           88
          ],
          [
           85
          ],
          [
           85
          ],
          [
           88
          ],
          [
           84
          ],
          [
           88
          ],
          [
           94
          ],
          [
           86
          ],
          [
           94
          ],
          [
           89
          ],
          [
           87
          ],
          [
           84
          ],
          [
           91
          ],
          [
           91
          ],
          [
           88
          ],
          [
           88
          ],
          [
           89
          ],
          [
           91
          ],
          [
           90
          ],
          [
           89
          ],
          [
           83
          ],
          [
           83
          ],
          [
           86
          ],
          [
           84
          ],
          [
           94
          ],
          [
           94
          ],
          [
           79
          ],
          [
           88
          ],
          [
           85
          ],
          [
           82
          ],
          [
           82
          ],
          [
           91
          ],
          [
           91
          ],
          [
           89
          ],
          [
           84
          ],
          [
           87
          ],
          [
           81
          ],
          [
           93
          ],
          [
           84
          ],
          [
           95
          ],
          [
           89
          ],
          [
           86
          ],
          [
           85
          ],
          [
           87
          ],
          [
           92
          ],
          [
           89
          ],
          [
           85
          ],
          [
           88
          ],
          [
           86
          ],
          [
           94
          ],
          [
           87
          ],
          [
           85
          ],
          [
           83
          ],
          [
           87
          ],
          [
           88
          ],
          [
           84
          ],
          [
           85
          ],
          [
           91
          ],
          [
           90
          ],
          [
           88
          ],
          [
           89
          ],
          [
           88
          ],
          [
           92
          ],
          [
           90
          ],
          [
           85
          ],
          [
           88
          ],
          [
           94
          ],
          [
           84
          ],
          [
           91
          ],
          [
           88
          ],
          [
           87
          ],
          [
           86
          ],
          [
           83
          ],
          [
           83
          ],
          [
           91
          ],
          [
           86
          ],
          [
           89
          ],
          [
           92
          ],
          [
           87
          ],
          [
           84
          ],
          [
           83
          ],
          [
           83
          ],
          [
           85
          ],
          [
           90
          ],
          [
           97
          ],
          [
           92
          ],
          [
           87
          ],
          [
           91
          ],
          [
           83
          ],
          [
           87
          ],
          [
           91
          ],
          [
           82
          ],
          [
           91
          ],
          [
           90
          ],
          [
           86
          ],
          [
           85
          ],
          [
           90
          ],
          [
           84
          ],
          [
           87
          ],
          [
           84
          ],
          [
           88
          ],
          [
           91
          ],
          [
           84
          ],
          [
           94
          ],
          [
           89
          ],
          [
           92
          ],
          [
           89
          ],
          [
           90
          ],
          [
           90
          ],
          [
           88
          ],
          [
           88
          ],
          [
           93
          ],
          [
           90
          ],
          [
           87
          ],
          [
           87
          ],
          [
           91
          ],
          [
           87
          ],
          [
           87
          ],
          [
           92
          ],
          [
           84
          ],
          [
           87
          ],
          [
           87
          ],
          [
           83
          ],
          [
           79
          ],
          [
           92
          ],
          [
           91
          ],
          [
           83
          ],
          [
           86
          ],
          [
           84
          ],
          [
           82
          ]
         ],
         "hovertemplate": "Cluster=Cluster 0<br>0=%{x}<br>1=%{y}<br>2=%{z}<br>Feature=%{customdata[0]}<extra></extra>",
         "legendgroup": "Cluster 0",
         "marker": {
          "color": "#636efa",
          "opacity": 0.7,
          "symbol": "circle"
         },
         "mode": "markers",
         "name": "Cluster 0",
         "scene": "scene",
         "showlegend": true,
         "type": "scatter3d",
         "x": [
          17.138838,
          22.250156,
          30.653,
          -12.9061365,
          39.48443,
          25.529476,
          9.957477,
          13.883258,
          9.675787,
          -17.360764,
          43.775387,
          -27.050325,
          50.743645,
          -26.85455,
          34.226486,
          44.114113,
          6.806842,
          29.50497,
          4.8692,
          -24.87598,
          -2.2116125,
          -15.155973,
          17.06182,
          -18.337824,
          16.339174,
          -36.14481,
          20.408966,
          22.246372,
          55.320503,
          12.541029,
          11.223593,
          45.765274,
          -5.560401,
          0.5355675,
          14.085766,
          -6.6467395,
          -23.017256,
          54.614964,
          -10.578136,
          44.87213,
          -5.8794637,
          36.569965,
          27.643644,
          -29.717682,
          40.451096,
          67.10573,
          -3.2953546,
          -27.39212,
          42.576874,
          23.48151,
          33.28952,
          16.171556,
          -0.5492788,
          -6.6354547,
          40.142807,
          19.87668,
          22.148453,
          17.558123,
          -17.635899,
          25.242134,
          24.39582,
          -34.976917,
          26.964191,
          -15.509337,
          6.5278225,
          -0.89027995,
          11.850386,
          47.04929,
          -5.3877773,
          4.1844416,
          -26.17403,
          5.87836,
          -33.66155,
          -3.075929,
          18.70498,
          8.240126,
          -20.244734,
          16.91073,
          26.955324,
          -14.742583,
          15.342515,
          -12.970935,
          -7.182196,
          28.102509,
          4.536028,
          24.450846,
          50.07088,
          -97.99454,
          7.9955277,
          66.07146,
          4.2290993,
          27.757307,
          53.437233,
          19.054705,
          -39.01644,
          1.5403488,
          -31.07239,
          -17.369894,
          43.31973,
          9.333431,
          5.07512,
          17.449413,
          35.333397,
          32.88518,
          19.618977,
          -6.1022696,
          -60.496307,
          10.473554,
          -24.840181,
          18.803627,
          26.226748,
          38.78944,
          35.069378,
          20.648365,
          43.811787,
          -5.0316544,
          48.91513,
          -7.569406,
          35.126762,
          -15.436412,
          32.23645,
          9.233721,
          -26.48918,
          4.4384127,
          -35.717255,
          -16.945786,
          43.436943,
          -7.711592,
          46.425552,
          13.319733,
          8.580488,
          138.52362,
          16.638367,
          36.895554,
          38.297134,
          -23.163706,
          13.909926,
          -1.6584964,
          -41.752106,
          69.41557,
          77.55346,
          29.397284,
          13.24733,
          -22.788025,
          5.1923413,
          -6.491149,
          49.806423
         ],
         "y": [
          8.951477,
          43.465614,
          18.974804,
          3.8386462,
          24.910858,
          14.49705,
          25.872,
          27.06389,
          46.129955,
          33.781776,
          -9.357698,
          6.441781,
          -11.709687,
          -16.31627,
          36.904217,
          4.4738812,
          11.253471,
          9.493819,
          -22.389969,
          -7.8922567,
          -10.729272,
          30.745832,
          23.82525,
          3.197227,
          -16.084332,
          -5.7792435,
          6.111967,
          -8.775058,
          17.288748,
          24.92173,
          0.335074,
          116.54074,
          -21.554789,
          -21.822794,
          45.552597,
          -22.94874,
          -4.1640377,
          0.49965173,
          16.792767,
          -9.11057,
          25.064972,
          8.477909,
          -1.4545498,
          -14.277774,
          1.6116691,
          20.115196,
          -30.586924,
          8.620922,
          4.1012354,
          10.436805,
          -3.553226,
          -28.37549,
          -3.4448023,
          41.656376,
          16.633917,
          47.523922,
          26.478106,
          16.427393,
          30.655508,
          3.8831286,
          -2.1524475,
          4.055321,
          -17.888727,
          13.154664,
          41.922928,
          51.41942,
          -1.8996992,
          0.74898154,
          34.738647,
          -34.428066,
          35.82432,
          -24.394922,
          7.811894,
          27.738054,
          3.4352949,
          16.961689,
          -14.884063,
          37.097046,
          9.716919,
          -1.8367594,
          13.969345,
          -13.581533,
          -9.553655,
          22.581808,
          -0.10279989,
          19.269495,
          14.4421015,
          -24.373203,
          38.365032,
          20.117823,
          41.736996,
          22.9061,
          27.369791,
          -19.09572,
          -8.565498,
          7.5179186,
          -3.3483386,
          25.066196,
          19.650509,
          -27.671919,
          24.18365,
          -10.048662,
          -14.452238,
          6.7030783,
          27.672052,
          37.335472,
          16.056978,
          5.057151,
          17.414108,
          10.794128,
          1.67845,
          9.3621645,
          -1.8791742,
          -9.304422,
          32.787495,
          -8.54042,
          18.571815,
          -16.969437,
          -3.4967976,
          -16.560495,
          10.164994,
          -6.5082574,
          -3.7351644,
          -0.8310734,
          -3.1541288,
          -15.926468,
          24.224634,
          -30.359646,
          35.382496,
          5.784441,
          -18.714052,
          41.772686,
          15.594446,
          -13.862034,
          -11.927148,
          8.288199,
          -12.548219,
          22.437168,
          8.321916,
          19.951725,
          19.86037,
          9.872797,
          52.86484,
          -1.3433144,
          16.418354,
          8.521025,
          28.504421
         ],
         "z": [
          96.74838,
          24.708235,
          6.490058,
          58.429813,
          13.439437,
          48.134533,
          36.99593,
          69.1499,
          42.174824,
          43.560116,
          33.32005,
          55.32529,
          42.765347,
          79.7146,
          21.974241,
          61.01431,
          85.75356,
          97.24035,
          64.50418,
          45.631733,
          78.40876,
          67.18046,
          45.953255,
          80.6137,
          66.279396,
          81.16341,
          51.071667,
          77.77313,
          57.085114,
          20.615557,
          61.71411,
          -12.331073,
          52.44481,
          94.55413,
          17.781603,
          79.51673,
          59.010136,
          59.427784,
          43.51239,
          54.139553,
          36.51278,
          14.632377,
          39.53439,
          31.659403,
          48.043827,
          51.692513,
          40.494045,
          30.376032,
          28.87146,
          10.003328,
          56.826054,
          66.49788,
          25.473532,
          61.63532,
          25.957918,
          46.38043,
          12.06995,
          36.969616,
          78.079384,
          107.02475,
          67.92124,
          70.14111,
          36.697327,
          25.967659,
          26.749569,
          24.326408,
          87.4438,
          74.319244,
          27.364029,
          62.046284,
          75.80584,
          36.40356,
          44.236755,
          61.374687,
          25.486086,
          70.145676,
          57.835777,
          36.792656,
          77.33385,
          69.90025,
          23.761642,
          -16.798756,
          51.170296,
          23.582836,
          36.157673,
          57.68711,
          41.737843,
          48.37841,
          56.84714,
          17.204893,
          66.88361,
          35.892044,
          41.387646,
          44.195007,
          70.185936,
          24.812735,
          37.77525,
          34.3886,
          55.907253,
          76.62806,
          80.168396,
          93.543915,
          67.14484,
          62.352192,
          29.444098,
          38.92103,
          -103.84738,
          15.04428,
          43.266956,
          63.32664,
          85.65971,
          80.43502,
          98.97842,
          52.63707,
          46.256226,
          37.411873,
          68.52721,
          64.18172,
          79.73734,
          42.495483,
          36.70538,
          71.25926,
          71.02803,
          102.009544,
          60.184975,
          74.1895,
          37.388397,
          71.18327,
          25.677082,
          75.548386,
          54.45086,
          -93.46015,
          81.639244,
          44.376377,
          94.23274,
          67.29248,
          32.00909,
          25.103434,
          53.864285,
          5.051476,
          14.870144,
          25.628012,
          28.135948,
          27.758812,
          44.835583,
          36.237213,
          62.66575
         ]
        },
        {
         "customdata": [
          [
           65
          ],
          [
           57
          ],
          [
           65
          ],
          [
           59
          ],
          [
           61
          ],
          [
           60
          ],
          [
           55
          ],
          [
           63
          ],
          [
           62
          ],
          [
           59
          ],
          [
           67
          ],
          [
           58
          ],
          [
           66
          ],
          [
           58
          ],
          [
           57
          ],
          [
           57
          ],
          [
           66
          ],
          [
           59
          ],
          [
           68
          ],
          [
           61
          ],
          [
           58
          ],
          [
           59
          ],
          [
           61
          ],
          [
           64
          ],
          [
           63
          ],
          [
           64
          ],
          [
           62
          ],
          [
           61
          ],
          [
           62
          ],
          [
           67
          ],
          [
           61
          ],
          [
           57
          ],
          [
           63
          ],
          [
           56
          ],
          [
           51
          ],
          [
           59
          ],
          [
           58
          ],
          [
           55
          ],
          [
           61
          ],
          [
           55
          ],
          [
           58
          ],
          [
           68
          ],
          [
           58
          ],
          [
           67
          ],
          [
           56
          ],
          [
           59
          ],
          [
           59
          ],
          [
           57
          ],
          [
           60
          ],
          [
           67
          ],
          [
           61
          ],
          [
           60
          ],
          [
           59
          ],
          [
           57
          ],
          [
           59
          ],
          [
           59
          ],
          [
           58
          ],
          [
           63
          ],
          [
           61
          ],
          [
           56
          ],
          [
           58
          ],
          [
           56
          ],
          [
           59
          ],
          [
           61
          ],
          [
           60
          ],
          [
           56
          ],
          [
           63
          ],
          [
           58
          ],
          [
           59
          ],
          [
           62
          ],
          [
           59
          ],
          [
           59
          ],
          [
           65
          ],
          [
           64
          ],
          [
           59
          ],
          [
           59
          ],
          [
           61
          ],
          [
           64
          ],
          [
           58
          ],
          [
           57
          ],
          [
           58
          ],
          [
           56
          ],
          [
           63
          ],
          [
           58
          ],
          [
           60
          ],
          [
           58
          ],
          [
           62
          ],
          [
           66
          ],
          [
           66
          ],
          [
           63
          ],
          [
           64
          ],
          [
           62
          ],
          [
           62
          ],
          [
           60
          ],
          [
           65
          ],
          [
           60
          ],
          [
           63
          ],
          [
           56
          ],
          [
           58
          ],
          [
           62
          ],
          [
           56
          ],
          [
           59
          ],
          [
           65
          ],
          [
           62
          ],
          [
           59
          ],
          [
           64
          ],
          [
           66
          ],
          [
           59
          ],
          [
           59
          ],
          [
           59
          ],
          [
           62
          ],
          [
           59
          ],
          [
           54
          ],
          [
           61
          ],
          [
           55
          ],
          [
           53
          ],
          [
           55
          ],
          [
           61
          ],
          [
           59
          ],
          [
           59
          ],
          [
           56
          ],
          [
           61
          ],
          [
           61
          ],
          [
           60
          ],
          [
           57
          ],
          [
           61
          ],
          [
           55
          ],
          [
           53
          ],
          [
           61
          ],
          [
           64
          ],
          [
           62
          ],
          [
           55
          ],
          [
           58
          ],
          [
           57
          ],
          [
           58
          ],
          [
           64
          ],
          [
           57
          ],
          [
           62
          ],
          [
           56
          ],
          [
           53
          ],
          [
           60
          ],
          [
           56
          ],
          [
           62
          ],
          [
           61
          ],
          [
           62
          ],
          [
           55
          ],
          [
           60
          ],
          [
           58
          ],
          [
           61
          ],
          [
           59
          ],
          [
           58
          ],
          [
           56
          ],
          [
           60
          ],
          [
           62
          ],
          [
           58
          ],
          [
           64
          ],
          [
           63
          ]
         ],
         "hovertemplate": "Cluster=Cluster 1<br>0=%{x}<br>1=%{y}<br>2=%{z}<br>Feature=%{customdata[0]}<extra></extra>",
         "legendgroup": "Cluster 1",
         "marker": {
          "color": "#EF553B",
          "opacity": 0.7,
          "symbol": "circle"
         },
         "mode": "markers",
         "name": "Cluster 1",
         "scene": "scene",
         "showlegend": true,
         "type": "scatter3d",
         "x": [
          32.18957,
          18.032797,
          -21.53334,
          58.516457,
          -28.880646,
          42.26658,
          11.990548,
          -3.080118,
          35.642105,
          20.589834,
          36.174904,
          2.1363554,
          46.70112,
          54.787178,
          6.760243,
          37.711987,
          -9.494807,
          9.760366,
          65.34134,
          25.684065,
          -12.4136,
          39.368023,
          3.1089544,
          52.959484,
          -10.984489,
          51.401344,
          49.09497,
          1.8952453,
          33.91595,
          -9.209471,
          45.176216,
          25.403923,
          65.28307,
          43.07003,
          23.1233,
          34.320675,
          39.1672,
          8.454289,
          26.441465,
          31.22752,
          -9.7478695,
          -11.606573,
          -21.508743,
          32.210423,
          19.311575,
          -17.196249,
          68.67012,
          29.240995,
          15.042863,
          67.59985,
          35.163624,
          13.828644,
          27.102556,
          12.776197,
          38.325485,
          9.4030905,
          13.027783,
          -1.9677932,
          10.513271,
          12.989462,
          33.22025,
          30.168777,
          -6.9860516,
          -6.1610355,
          2.6831539,
          30.317501,
          51.366432,
          44.831203,
          39.393963,
          -0.55146366,
          22.12159,
          -24.770145,
          1.1337038,
          -12.951405,
          38.564915,
          24.084257,
          0.75238454,
          45.03027,
          41.10166,
          16.21483,
          19.323511,
          49.660915,
          64.502716,
          15.862353,
          34.113976,
          13.644186,
          39.02232,
          58.24331,
          35.555775,
          43.473675,
          5.1501102,
          40.430294,
          -0.18320069,
          -16.359114,
          52.940247,
          13.056137,
          23.790684,
          78.58428,
          18.547583,
          4.623531,
          21.517536,
          21.091543,
          47.203598,
          42.52358,
          2.491817,
          61.126163,
          63.72042,
          -33.98064,
          34.328297,
          24.693716,
          -31.66554,
          6.0246696,
          31.485306,
          -16.041166,
          21.098312,
          10.314135,
          13.93702,
          32.356247,
          4.5826163,
          -78.06571,
          12.109926,
          29.749321,
          -7.88454,
          5.1474633,
          26.609238,
          3.5562322,
          26.888052,
          10.120841,
          46.289066,
          -6.4699345,
          55.154274,
          25.443039,
          25.723236,
          42.826633,
          41.181824,
          54.741314,
          24.372066,
          -5.5421753,
          -22.926767,
          30.92447,
          -13.766854,
          9.506792,
          51.765842,
          -22.404354,
          7.860935,
          49.84382,
          -3.6329343,
          67.76937,
          -27.09202,
          23.190348,
          -65.2713,
          15.294727,
          19.433573,
          41.87767,
          39.73549,
          62.37619,
          -0.6105953
         ],
         "y": [
          -16.878185,
          -1.4624039,
          -49.254642,
          -31.061548,
          -54.03301,
          0.5569902,
          -16.921843,
          -57.945583,
          3.17351,
          -8.742624,
          19.337822,
          -7.6048927,
          -20.84988,
          0.72868174,
          -74.552284,
          -45.01366,
          -58.893196,
          -19.927864,
          -19.915777,
          -42.89264,
          -60.162518,
          -35.335606,
          64.89363,
          -23.041397,
          -69.3292,
          -28.754011,
          -10.977088,
          -22.905588,
          -1.0253481,
          -66.760414,
          -38.366276,
          -34.908512,
          -21.089945,
          -68.98666,
          -51.148006,
          -27.932196,
          -54.221287,
          -20.834976,
          5.358567,
          -64.819984,
          -71.61178,
          -71.9239,
          -39.14641,
          0.364076,
          -68.98155,
          -69.083664,
          -55.606182,
          -35.226562,
          -20.467245,
          -30.806808,
          -9.482916,
          -52.83946,
          -30.996841,
          -10.8209915,
          -2.6053991,
          -13.683946,
          -57.089703,
          -47.845345,
          -40.418762,
          -7.522096,
          -37.964794,
          -45.771465,
          -50.062046,
          -62.807465,
          -53.928997,
          -65.74073,
          -55.146614,
          -44.822655,
          -61.780754,
          -38.090607,
          -17.07498,
          -48.66064,
          -61.194836,
          -57.464504,
          -43.586117,
          18.980219,
          -41.544598,
          9.685366,
          -36.19471,
          117.69404,
          -8.445639,
          -71.396736,
          -43.91888,
          -45.273922,
          -14.153618,
          -25.756136,
          -22.512854,
          -17.748053,
          11.933587,
          -13.718941,
          -59.525906,
          10.23023,
          -64.39569,
          -62.410656,
          1.1688623,
          -44.899128,
          -6.3559313,
          -53.55023,
          -59.688526,
          -37.06214,
          -23.795414,
          -16.018387,
          -3.2550979,
          -34.18315,
          -48.556065,
          -51.016594,
          -28.676542,
          -64.18252,
          -25.594929,
          -21.345654,
          -57.496304,
          -46.902775,
          -52.028255,
          -56.577938,
          -66.115265,
          -20.24124,
          -76.08154,
          124.6234,
          -38.09655,
          19.296589,
          -73.94978,
          -8.42617,
          -39.631863,
          -49.04225,
          -37.37288,
          -61.28228,
          -40.339455,
          -85.807755,
          -2.6460779,
          -60.238884,
          -13.659678,
          -58.13668,
          -48.75039,
          -48.375343,
          -61.58738,
          -25.63201,
          -24.04662,
          77.42699,
          -71.14975,
          -73.01796,
          -45.876926,
          -79.63962,
          -36.984566,
          -48.479923,
          -31.57808,
          -44.68368,
          -48.301662,
          -50.294838,
          -58.418713,
          -28.221376,
          16.955763,
          -33.418182,
          2.7343876,
          -17.376091,
          -59.47163,
          -41.207344,
          -50.149918
         ],
         "z": [
          11.381986,
          -6.6048408,
          -19.672443,
          -52.447502,
          -13.098244,
          -44.954617,
          -47.92857,
          -18.249598,
          -25.823269,
          -56.791542,
          -28.612474,
          -46.764366,
          4.0734763,
          -49.437397,
          -17.412722,
          -57.41173,
          -3.7599044,
          -33.94558,
          -19.060753,
          10.544094,
          -60.15089,
          -35.515774,
          9.112134,
          -16.140617,
          24.170557,
          -4.9111047,
          -41.307762,
          1.4055946,
          -59.19522,
          4.670985,
          -10.384306,
          -24.490488,
          -51.02769,
          -6.384789,
          -52.49993,
          -69.32299,
          -2.1148489,
          -20.805365,
          -48.909206,
          -5.995878,
          -57.921944,
          -6.013384,
          4.0328183,
          -74.64098,
          -31.822035,
          -45.00412,
          -23.649609,
          -60.81546,
          6.0183444,
          -23.373264,
          -24.916822,
          -6.273468,
          12.6484995,
          -17.675922,
          -11.520603,
          -4.5552025,
          -19.04498,
          -7.3606668,
          -9.808183,
          -30.627188,
          -2.1495175,
          -32.753174,
          -34.70724,
          -42.911404,
          19.836004,
          -41.09586,
          3.8724983,
          -41.47025,
          6.666411,
          -31.817793,
          -32.50059,
          8.453655,
          -4.755956,
          18.288017,
          15.368959,
          -65.51778,
          15.88825,
          -29.15668,
          -47.05923,
          -12.788338,
          -42.652527,
          3.859972,
          -19.214363,
          -24.438696,
          -64.909454,
          -6.732249,
          -8.914327,
          -29.314823,
          -37.809216,
          -52.67349,
          -54.056477,
          -17.582949,
          19.56476,
          -34.140205,
          -22.368439,
          8.855207,
          -70.07527,
          -13.945412,
          -38.560867,
          0.053329147,
          -15.250616,
          -4.531766,
          -29.989267,
          8.700516,
          -42.52865,
          -11.263029,
          -9.906276,
          -17.65453,
          -41.016846,
          -66.85552,
          0.15379524,
          -18.58265,
          -42.986217,
          -45.353622,
          -14.092436,
          -57.99815,
          -42.829624,
          -121.0269,
          -46.14097,
          -9.090941,
          -3.2100427,
          -51.289482,
          -46.07706,
          -31.569536,
          -9.950536,
          -34.616203,
          -45.385334,
          -0.7255138,
          -55.902794,
          28.45014,
          -51.034184,
          -19.881475,
          -6.419287,
          -29.963854,
          -14.853689,
          9.323609,
          -48.978237,
          3.179734,
          -28.420273,
          -14.322112,
          11.8359785,
          9.21398,
          -24.941374,
          -3.1205766,
          10.811322,
          -58.81064,
          -53.56322,
          -37.19599,
          -28.808586,
          1.3679478,
          40.812897,
          -33.202515,
          -21.345816,
          -31.17269,
          -33.613815,
          -6.6916394,
          4.700474
         ]
        },
        {
         "customdata": [
          [
           38
          ],
          [
           29
          ],
          [
           36
          ],
          [
           31
          ],
          [
           39
          ],
          [
           88
          ],
          [
           86
          ],
          [
           35
          ],
          [
           30
          ],
          [
           35
          ],
          [
           25
          ],
          [
           37
          ],
          [
           30
          ],
          [
           36
          ],
          [
           34
          ],
          [
           33
          ],
          [
           36
          ],
          [
           32
          ],
          [
           83
          ],
          [
           31
          ],
          [
           37
          ],
          [
           36
          ],
          [
           90
          ],
          [
           31
          ],
          [
           37
          ],
          [
           35
          ],
          [
           33
          ],
          [
           84
          ],
          [
           37
          ],
          [
           29
          ],
          [
           44
          ],
          [
           32
          ],
          [
           31
          ],
          [
           29
          ],
          [
           36
          ],
          [
           31
          ],
          [
           90
          ],
          [
           33
          ],
          [
           33
          ],
          [
           89
          ],
          [
           29
          ],
          [
           32
          ],
          [
           84
          ],
          [
           30
          ],
          [
           88
          ],
          [
           38
          ],
          [
           92
          ],
          [
           31
          ],
          [
           30
          ],
          [
           36
          ],
          [
           85
          ],
          [
           30
          ],
          [
           28
          ],
          [
           37
          ],
          [
           29
          ],
          [
           31
          ],
          [
           29
          ],
          [
           31
          ],
          [
           33
          ],
          [
           31
          ],
          [
           83
          ],
          [
           34
          ],
          [
           22
          ],
          [
           87
          ],
          [
           34
          ],
          [
           25
          ],
          [
           31
          ],
          [
           31
          ],
          [
           31
          ],
          [
           35
          ],
          [
           28
          ],
          [
           33
          ],
          [
           31
          ],
          [
           28
          ],
          [
           39
          ],
          [
           36
          ],
          [
           32
          ],
          [
           93
          ],
          [
           36
          ],
          [
           34
          ],
          [
           37
          ],
          [
           33
          ],
          [
           43
          ],
          [
           33
          ],
          [
           26
          ],
          [
           24
          ],
          [
           31
          ],
          [
           29
          ],
          [
           36
          ],
          [
           86
          ],
          [
           33
          ],
          [
           29
          ],
          [
           40
          ],
          [
           35
          ],
          [
           32
          ],
          [
           37
          ],
          [
           34
          ],
          [
           34
          ],
          [
           84
          ],
          [
           82
          ],
          [
           88
          ],
          [
           85
          ],
          [
           35
          ],
          [
           33
          ],
          [
           33
          ],
          [
           29
          ],
          [
           83
          ],
          [
           28
          ],
          [
           31
          ],
          [
           37
          ],
          [
           31
          ],
          [
           33
          ],
          [
           30
          ],
          [
           30
          ],
          [
           34
          ],
          [
           30
          ],
          [
           30
          ],
          [
           86
          ],
          [
           29
          ],
          [
           30
          ],
          [
           28
          ],
          [
           37
          ],
          [
           37
          ],
          [
           82
          ],
          [
           42
          ],
          [
           28
          ],
          [
           30
          ],
          [
           32
          ],
          [
           35
          ],
          [
           35
          ],
          [
           31
          ],
          [
           35
          ],
          [
           33
          ],
          [
           29
          ],
          [
           35
          ],
          [
           38
          ],
          [
           34
          ],
          [
           33
          ],
          [
           32
          ],
          [
           34
          ],
          [
           31
          ],
          [
           27
          ],
          [
           39
          ],
          [
           38
          ],
          [
           84
          ],
          [
           77
          ],
          [
           34
          ],
          [
           28
          ],
          [
           36
          ],
          [
           91
          ],
          [
           34
          ]
         ],
         "hovertemplate": "Cluster=Cluster 2<br>0=%{x}<br>1=%{y}<br>2=%{z}<br>Feature=%{customdata[0]}<extra></extra>",
         "legendgroup": "Cluster 2",
         "marker": {
          "color": "#00cc96",
          "opacity": 0.7,
          "symbol": "circle"
         },
         "mode": "markers",
         "name": "Cluster 2",
         "scene": "scene",
         "showlegend": true,
         "type": "scatter3d",
         "x": [
          -11.889694,
          -51.960346,
          -41.694126,
          -21.74376,
          -11.970407,
          62.1044,
          59.503345,
          -8.421054,
          -53.296448,
          -30.27326,
          -32.780617,
          -39.623314,
          4.580716,
          -26.885519,
          -19.779865,
          -19.295803,
          -44.3196,
          -29.02459,
          60.84271,
          -25.371632,
          8.792806,
          -32.840866,
          41.221634,
          -52.49388,
          -35.04087,
          -23.913609,
          -38.083122,
          51.38765,
          -43.580994,
          -33.37268,
          -45.916206,
          -20.69236,
          -42.830463,
          -40.94689,
          -9.13923,
          -10.942005,
          50.292698,
          56.28947,
          -36.396873,
          55.71059,
          -34.491203,
          -37.96246,
          36.629066,
          -27.217606,
          33.205,
          -0.8583497,
          50.037903,
          -8.243387,
          -50.30865,
          -0.32588613,
          46.78122,
          -60.876297,
          -58.7223,
          -24.133001,
          -47.090088,
          -4.2992625,
          -44.071285,
          -31.60898,
          -23.521662,
          -12.594796,
          46.05747,
          -19.96091,
          -45.95178,
          29.598345,
          -3.338221,
          -53.39721,
          -6.375327,
          -13.693501,
          -1.5608897,
          -30.130594,
          -16.695915,
          -34.457764,
          -40.18351,
          -26.719702,
          -9.249509,
          -6.4106283,
          -26.53099,
          60.953163,
          11.129506,
          -42.001442,
          -29.249056,
          -37.266514,
          -60.206017,
          -48.489685,
          -28.045382,
          -40.12173,
          -49.81007,
          -61.834587,
          -22.469719,
          39.42935,
          -14.543736,
          -47.237732,
          4.446005,
          -22.353296,
          -7.296823,
          -23.369139,
          -27.572329,
          -30.855457,
          57.490356,
          43.552727,
          52.355362,
          37.253975,
          -29.956553,
          -2.4956741,
          12.281565,
          -12.583715,
          37.624916,
          -21.236227,
          -48.965946,
          -53.408863,
          1.3007071,
          -35.97521,
          -7.7165112,
          -45.819542,
          9.706652,
          -52.56308,
          3.3895113,
          45.344524,
          -20.35188,
          -4.55553,
          7.0622625,
          2.5204892,
          -24.215942,
          37.043552,
          -55.158905,
          -33.81856,
          -12.586343,
          -6.080238,
          84.790146,
          -44.88149,
          -16.582775,
          -7.6574106,
          2.6079624,
          -46.239902,
          -22.469536,
          -36.07296,
          -36.09367,
          -35.60158,
          -11.873097,
          -59.205376,
          -41.25336,
          -26.056076,
          13.668833,
          -43.56179,
          50.29461,
          28.3735,
          1.2675124,
          -58.52055,
          -30.126863,
          49.64604,
          -37.365765
         ],
         "y": [
          27.610332,
          11.427765,
          23.168926,
          16.457047,
          21.92614,
          62.038464,
          75.81303,
          47.675247,
          54.352573,
          24.875732,
          66.75763,
          -62.11616,
          39.884487,
          10.328437,
          32.93899,
          40.13941,
          21.680277,
          25.436972,
          74.27886,
          8.729563,
          54.02615,
          47.991436,
          54.58958,
          35.69699,
          20.188473,
          25.39105,
          62.204433,
          84.33981,
          31.127583,
          47.00589,
          15.930908,
          30.768265,
          26.999727,
          37.432236,
          34.201405,
          38.371086,
          53.713398,
          18.525309,
          30.642244,
          53.28161,
          49.807365,
          17.395187,
          53.526123,
          50.230747,
          68.87035,
          20.647335,
          64.85046,
          29.109945,
          60.959324,
          38.932407,
          62.73752,
          49.86567,
          44.184162,
          12.011593,
          -2.3755362,
          42.700233,
          40.09319,
          33.222416,
          42.671688,
          52.25885,
          74.56544,
          34.665367,
          54.966633,
          74.56695,
          50.900223,
          43.89546,
          27.027407,
          5.2515116,
          12.8359995,
          27.508163,
          61.54005,
          -0.46293166,
          36.67124,
          54.799362,
          15.261131,
          35.34313,
          0.5214125,
          67.216194,
          47.878998,
          40.663406,
          16.671122,
          59.314995,
          34.331337,
          50.616665,
          55.179943,
          65.9077,
          44.90693,
          20.412956,
          14.0869465,
          65.03743,
          2.9190717,
          2.7954915,
          30.691803,
          19.849503,
          51.096592,
          36.084084,
          65.433,
          21.570984,
          60.192585,
          60.62541,
          87.82707,
          83.587715,
          -1.0883415,
          57.921574,
          35.41165,
          55.380608,
          82.048515,
          65.5761,
          50.29513,
          66.1873,
          34.828987,
          29.881767,
          64.19645,
          22.535782,
          59.69931,
          33.730774,
          25.20712,
          76.22648,
          56.45027,
          19.127245,
          26.54799,
          41.244823,
          25.240782,
          69.486084,
          21.969774,
          60.034786,
          22.63013,
          63.1389,
          -38.017914,
          46.8431,
          42.76415,
          43.393944,
          53.649628,
          11.762856,
          11.831337,
          7.6200104,
          13.393714,
          16.378,
          16.912228,
          56.77537,
          0.6074946,
          70.68165,
          46.904842,
          12.363024,
          68.43975,
          60.696842,
          50.109047,
          22.950954,
          33.358788,
          76.16617,
          -7.808093
         ],
         "z": [
          -87.195145,
          -24.20921,
          -18.41177,
          -17.098799,
          -72.94771,
          -11.617271,
          -14.650808,
          -71.59461,
          -39.832344,
          -51.677963,
          -49.77011,
          24.462198,
          -20.716103,
          -59.701603,
          -34.095028,
          -50.83236,
          -34.672844,
          -76.244026,
          -0.753924,
          -25.618532,
          -67.11435,
          -4.8891945,
          -20.582447,
          -43.19917,
          -5.3130035,
          -42.21943,
          -2.1263006,
          -3.709455,
          -3.4296024,
          -49.591232,
          7.499398,
          -17.39586,
          -70.97222,
          -57.969055,
          -55.466038,
          -11.5366125,
          -8.786102,
          115.76749,
          -27.663332,
          -22.263853,
          -29.393799,
          -67.06293,
          -6.4118876,
          -21.143787,
          -0.2507243,
          -74.88114,
          -17.95373,
          -2.3456643,
          -7.9839144,
          -62.418816,
          -31.408518,
          -48.14701,
          -34.087795,
          -74.79686,
          -26.14826,
          -0.37797228,
          -35.39095,
          -68.65028,
          -35.35291,
          -43.294174,
          5.2749395,
          -60.44656,
          -63.673225,
          -12.639839,
          -56.602257,
          -58.42057,
          -13.9455385,
          -17.280327,
          2.0424774,
          9.993017,
          -53.229828,
          -30.99045,
          14.853097,
          -44.622437,
          -80.70003,
          -43.778824,
          -15.554636,
          -25.494064,
          -5.0400863,
          -11.765765,
          10.045254,
          -12.6410055,
          -0.01505878,
          -12.352015,
          -57.013535,
          -63.669884,
          30.355654,
          -33.294403,
          -48.359756,
          -10.899648,
          -4.632403,
          -35.871944,
          -54.096424,
          -63.18188,
          -20.005484,
          3.1479957,
          -4.6905584,
          -32.896664,
          1.8110105,
          3.7674978,
          -17.329329,
          -20.113316,
          -45.242237,
          -74.79597,
          -4.81432,
          -4.2588253,
          -4.1682053,
          -42.766415,
          -25.794992,
          -24.826021,
          -8.965834,
          -40.696587,
          -65.25076,
          -52.152897,
          -53.387745,
          -30.586977,
          -0.7929567,
          -13.4529295,
          -29.512405,
          -51.733727,
          -19.461414,
          -50.257183,
          0.8119239,
          -23.895296,
          -0.2632229,
          -37.144505,
          -23.596258,
          -42.476765,
          67.27978,
          -1.702468,
          -21.499226,
          -33.462543,
          -43.595898,
          -57.376366,
          -3.7744155,
          0.89421225,
          -19.769821,
          -45.21244,
          -10.269141,
          -26.471626,
          -51.124523,
          -60.83511,
          -51.912575,
          -6.519923,
          -5.398768,
          -16.943834,
          -11.356859,
          -22.24772,
          -7.648436,
          -26.604214,
          -40.700348
         ]
        },
        {
         "customdata": [
          [
           27
          ],
          [
           23
          ],
          [
           25
          ],
          [
           17
          ],
          [
           24
          ],
          [
           20
          ],
          [
           23
          ],
          [
           26
          ],
          [
           23
          ],
          [
           27
          ],
          [
           23
          ],
          [
           31
          ],
          [
           22
          ],
          [
           24
          ],
          [
           29
          ],
          [
           22
          ],
          [
           28
          ],
          [
           26
          ],
          [
           25
          ],
          [
           24
          ],
          [
           24
          ],
          [
           25
          ],
          [
           20
          ],
          [
           30
          ],
          [
           25
          ],
          [
           28
          ],
          [
           20
          ],
          [
           24
          ],
          [
           22
          ],
          [
           26
          ],
          [
           17
          ],
          [
           26
          ],
          [
           28
          ],
          [
           18
          ],
          [
           21
          ],
          [
           21
          ],
          [
           17
          ],
          [
           27
          ],
          [
           25
          ],
          [
           24
          ],
          [
           28
          ],
          [
           26
          ],
          [
           28
          ],
          [
           25
          ],
          [
           24
          ],
          [
           17
          ],
          [
           29
          ],
          [
           29
          ],
          [
           28
          ],
          [
           18
          ]
         ],
         "hovertemplate": "Cluster=Cluster 3<br>0=%{x}<br>1=%{y}<br>2=%{z}<br>Feature=%{customdata[0]}<extra></extra>",
         "legendgroup": "Cluster 3",
         "marker": {
          "color": "#ab63fa",
          "opacity": 0.7,
          "symbol": "circle"
         },
         "mode": "markers",
         "name": "Cluster 3",
         "scene": "scene",
         "showlegend": true,
         "type": "scatter3d",
         "x": [
          -57.407803,
          -82.69586,
          -71.95415,
          -77.13946,
          -75.45734,
          -87.532875,
          -66.11742,
          -50.687183,
          -71.15917,
          -53.15977,
          69.93206,
          -49.868656,
          -83.88256,
          -79.75441,
          -63.19365,
          -77.425804,
          -45.715065,
          -72.250755,
          -77.21703,
          -68.85922,
          -88.26023,
          -71.936714,
          -64.61321,
          -59.635918,
          -69.81029,
          -58.368633,
          -76.96133,
          -64.226654,
          -72.13388,
          -60.11384,
          -69.945656,
          -64.161064,
          -68.43716,
          -77.90227,
          -71.032425,
          -77.33608,
          -85.75887,
          -52.81358,
          65.740135,
          -59.114773,
          -58.335365,
          -78.9296,
          -55.29816,
          -72.27459,
          -82.56958,
          -81.64605,
          -95.584206,
          -49.96456,
          -65.6751,
          -63.042526
         ],
         "y": [
          -22.498013,
          -43.94551,
          -50.51128,
          -49.60535,
          -23.884304,
          -22.092287,
          -37.301163,
          -31.200802,
          -33.84805,
          -12.878681,
          45.19024,
          -27.340767,
          -14.032506,
          -26.46786,
          -21.00483,
          -44.42282,
          -32.63067,
          -21.77348,
          -9.91817,
          -54.40534,
          -33.017082,
          -33.975018,
          -29.647396,
          -0.92530817,
          -23.965206,
          -48.082314,
          -15.035802,
          -43.295708,
          -7.665143,
          -34.09458,
          -41.57984,
          -7.2970104,
          -10.873426,
          -24.018858,
          -34.465622,
          -31.702595,
          -38.203014,
          -43.52627,
          -6.7737927,
          -19.674814,
          -33.80673,
          -2.017362,
          -9.474235,
          -0.039089914,
          -31.169739,
          -45.231182,
          -22.834192,
          -40.30909,
          -1.6049548,
          -25.109022
         ],
         "z": [
          10.640521,
          12.50722,
          12.009782,
          38.804333,
          33.623436,
          -6.3239474,
          4.2604723,
          -0.1136031,
          27.799423,
          4.092318,
          -139.01332,
          25.777039,
          6.153098,
          8.882409,
          28.628033,
          24.35582,
          10.708899,
          17.522507,
          23.633368,
          29.88852,
          4.2556,
          13.780828,
          -9.437061,
          7.023317,
          4.116748,
          36.93829,
          -5.209762,
          22.082563,
          -17.62015,
          31.867893,
          -10.783178,
          -5.210706,
          8.616253,
          -14.531416,
          40.545418,
          -2.938187,
          -11.034371,
          12.66813,
          17.729485,
          -3.804936,
          17.857342,
          14.147645,
          18.146362,
          2.1864648,
          21.442019,
          -1.8733884,
          11.551423,
          26.895166,
          17.986095,
          -23.216608
         ]
        }
       ],
       "layout": {
        "height": 800,
        "legend": {
         "title": {
          "text": "Cluster"
         },
         "tracegroupgap": 0
        },
        "scene": {
         "domain": {
          "x": [
           0,
           1
          ],
          "y": [
           0,
           1
          ]
         },
         "xaxis": {
          "title": {
           "text": "0"
          }
         },
         "yaxis": {
          "title": {
           "text": "1"
          }
         },
         "zaxis": {
          "title": {
           "text": "2"
          }
         }
        },
        "template": {
         "data": {
          "bar": [
           {
            "error_x": {
             "color": "#2a3f5f"
            },
            "error_y": {
             "color": "#2a3f5f"
            },
            "marker": {
             "line": {
              "color": "#E5ECF6",
              "width": 0.5
             },
             "pattern": {
              "fillmode": "overlay",
              "size": 10,
              "solidity": 0.2
             }
            },
            "type": "bar"
           }
          ],
          "barpolar": [
           {
            "marker": {
             "line": {
              "color": "#E5ECF6",
              "width": 0.5
             },
             "pattern": {
              "fillmode": "overlay",
              "size": 10,
              "solidity": 0.2
             }
            },
            "type": "barpolar"
           }
          ],
          "carpet": [
           {
            "aaxis": {
             "endlinecolor": "#2a3f5f",
             "gridcolor": "white",
             "linecolor": "white",
             "minorgridcolor": "white",
             "startlinecolor": "#2a3f5f"
            },
            "baxis": {
             "endlinecolor": "#2a3f5f",
             "gridcolor": "white",
             "linecolor": "white",
             "minorgridcolor": "white",
             "startlinecolor": "#2a3f5f"
            },
            "type": "carpet"
           }
          ],
          "choropleth": [
           {
            "colorbar": {
             "outlinewidth": 0,
             "ticks": ""
            },
            "type": "choropleth"
           }
          ],
          "contour": [
           {
            "colorbar": {
             "outlinewidth": 0,
             "ticks": ""
            },
            "colorscale": [
             [
              0,
              "#0d0887"
             ],
             [
              0.1111111111111111,
              "#46039f"
             ],
             [
              0.2222222222222222,
              "#7201a8"
             ],
             [
              0.3333333333333333,
              "#9c179e"
             ],
             [
              0.4444444444444444,
              "#bd3786"
             ],
             [
              0.5555555555555556,
              "#d8576b"
             ],
             [
              0.6666666666666666,
              "#ed7953"
             ],
             [
              0.7777777777777778,
              "#fb9f3a"
             ],
             [
              0.8888888888888888,
              "#fdca26"
             ],
             [
              1,
              "#f0f921"
             ]
            ],
            "type": "contour"
           }
          ],
          "contourcarpet": [
           {
            "colorbar": {
             "outlinewidth": 0,
             "ticks": ""
            },
            "type": "contourcarpet"
           }
          ],
          "heatmap": [
           {
            "colorbar": {
             "outlinewidth": 0,
             "ticks": ""
            },
            "colorscale": [
             [
              0,
              "#0d0887"
             ],
             [
              0.1111111111111111,
              "#46039f"
             ],
             [
              0.2222222222222222,
              "#7201a8"
             ],
             [
              0.3333333333333333,
              "#9c179e"
             ],
             [
              0.4444444444444444,
              "#bd3786"
             ],
             [
              0.5555555555555556,
              "#d8576b"
             ],
             [
              0.6666666666666666,
              "#ed7953"
             ],
             [
              0.7777777777777778,
              "#fb9f3a"
             ],
             [
              0.8888888888888888,
              "#fdca26"
             ],
             [
              1,
              "#f0f921"
             ]
            ],
            "type": "heatmap"
           }
          ],
          "heatmapgl": [
           {
            "colorbar": {
             "outlinewidth": 0,
             "ticks": ""
            },
            "colorscale": [
             [
              0,
              "#0d0887"
             ],
             [
              0.1111111111111111,
              "#46039f"
             ],
             [
              0.2222222222222222,
              "#7201a8"
             ],
             [
              0.3333333333333333,
              "#9c179e"
             ],
             [
              0.4444444444444444,
              "#bd3786"
             ],
             [
              0.5555555555555556,
              "#d8576b"
             ],
             [
              0.6666666666666666,
              "#ed7953"
             ],
             [
              0.7777777777777778,
              "#fb9f3a"
             ],
             [
              0.8888888888888888,
              "#fdca26"
             ],
             [
              1,
              "#f0f921"
             ]
            ],
            "type": "heatmapgl"
           }
          ],
          "histogram": [
           {
            "marker": {
             "pattern": {
              "fillmode": "overlay",
              "size": 10,
              "solidity": 0.2
             }
            },
            "type": "histogram"
           }
          ],
          "histogram2d": [
           {
            "colorbar": {
             "outlinewidth": 0,
             "ticks": ""
            },
            "colorscale": [
             [
              0,
              "#0d0887"
             ],
             [
              0.1111111111111111,
              "#46039f"
             ],
             [
              0.2222222222222222,
              "#7201a8"
             ],
             [
              0.3333333333333333,
              "#9c179e"
             ],
             [
              0.4444444444444444,
              "#bd3786"
             ],
             [
              0.5555555555555556,
              "#d8576b"
             ],
             [
              0.6666666666666666,
              "#ed7953"
             ],
             [
              0.7777777777777778,
              "#fb9f3a"
             ],
             [
              0.8888888888888888,
              "#fdca26"
             ],
             [
              1,
              "#f0f921"
             ]
            ],
            "type": "histogram2d"
           }
          ],
          "histogram2dcontour": [
           {
            "colorbar": {
             "outlinewidth": 0,
             "ticks": ""
            },
            "colorscale": [
             [
              0,
              "#0d0887"
             ],
             [
              0.1111111111111111,
              "#46039f"
             ],
             [
              0.2222222222222222,
              "#7201a8"
             ],
             [
              0.3333333333333333,
              "#9c179e"
             ],
             [
              0.4444444444444444,
              "#bd3786"
             ],
             [
              0.5555555555555556,
              "#d8576b"
             ],
             [
              0.6666666666666666,
              "#ed7953"
             ],
             [
              0.7777777777777778,
              "#fb9f3a"
             ],
             [
              0.8888888888888888,
              "#fdca26"
             ],
             [
              1,
              "#f0f921"
             ]
            ],
            "type": "histogram2dcontour"
           }
          ],
          "mesh3d": [
           {
            "colorbar": {
             "outlinewidth": 0,
             "ticks": ""
            },
            "type": "mesh3d"
           }
          ],
          "parcoords": [
           {
            "line": {
             "colorbar": {
              "outlinewidth": 0,
              "ticks": ""
             }
            },
            "type": "parcoords"
           }
          ],
          "pie": [
           {
            "automargin": true,
            "type": "pie"
           }
          ],
          "scatter": [
           {
            "fillpattern": {
             "fillmode": "overlay",
             "size": 10,
             "solidity": 0.2
            },
            "type": "scatter"
           }
          ],
          "scatter3d": [
           {
            "line": {
             "colorbar": {
              "outlinewidth": 0,
              "ticks": ""
             }
            },
            "marker": {
             "colorbar": {
              "outlinewidth": 0,
              "ticks": ""
             }
            },
            "type": "scatter3d"
           }
          ],
          "scattercarpet": [
           {
            "marker": {
             "colorbar": {
              "outlinewidth": 0,
              "ticks": ""
             }
            },
            "type": "scattercarpet"
           }
          ],
          "scattergeo": [
           {
            "marker": {
             "colorbar": {
              "outlinewidth": 0,
              "ticks": ""
             }
            },
            "type": "scattergeo"
           }
          ],
          "scattergl": [
           {
            "marker": {
             "colorbar": {
              "outlinewidth": 0,
              "ticks": ""
             }
            },
            "type": "scattergl"
           }
          ],
          "scattermapbox": [
           {
            "marker": {
             "colorbar": {
              "outlinewidth": 0,
              "ticks": ""
             }
            },
            "type": "scattermapbox"
           }
          ],
          "scatterpolar": [
           {
            "marker": {
             "colorbar": {
              "outlinewidth": 0,
              "ticks": ""
             }
            },
            "type": "scatterpolar"
           }
          ],
          "scatterpolargl": [
           {
            "marker": {
             "colorbar": {
              "outlinewidth": 0,
              "ticks": ""
             }
            },
            "type": "scatterpolargl"
           }
          ],
          "scatterternary": [
           {
            "marker": {
             "colorbar": {
              "outlinewidth": 0,
              "ticks": ""
             }
            },
            "type": "scatterternary"
           }
          ],
          "surface": [
           {
            "colorbar": {
             "outlinewidth": 0,
             "ticks": ""
            },
            "colorscale": [
             [
              0,
              "#0d0887"
             ],
             [
              0.1111111111111111,
              "#46039f"
             ],
             [
              0.2222222222222222,
              "#7201a8"
             ],
             [
              0.3333333333333333,
              "#9c179e"
             ],
             [
              0.4444444444444444,
              "#bd3786"
             ],
             [
              0.5555555555555556,
              "#d8576b"
             ],
             [
              0.6666666666666666,
              "#ed7953"
             ],
             [
              0.7777777777777778,
              "#fb9f3a"
             ],
             [
              0.8888888888888888,
              "#fdca26"
             ],
             [
              1,
              "#f0f921"
             ]
            ],
            "type": "surface"
           }
          ],
          "table": [
           {
            "cells": {
             "fill": {
              "color": "#EBF0F8"
             },
             "line": {
              "color": "white"
             }
            },
            "header": {
             "fill": {
              "color": "#C8D4E3"
             },
             "line": {
              "color": "white"
             }
            },
            "type": "table"
           }
          ]
         },
         "layout": {
          "annotationdefaults": {
           "arrowcolor": "#2a3f5f",
           "arrowhead": 0,
           "arrowwidth": 1
          },
          "autotypenumbers": "strict",
          "coloraxis": {
           "colorbar": {
            "outlinewidth": 0,
            "ticks": ""
           }
          },
          "colorscale": {
           "diverging": [
            [
             0,
             "#8e0152"
            ],
            [
             0.1,
             "#c51b7d"
            ],
            [
             0.2,
             "#de77ae"
            ],
            [
             0.3,
             "#f1b6da"
            ],
            [
             0.4,
             "#fde0ef"
            ],
            [
             0.5,
             "#f7f7f7"
            ],
            [
             0.6,
             "#e6f5d0"
            ],
            [
             0.7,
             "#b8e186"
            ],
            [
             0.8,
             "#7fbc41"
            ],
            [
             0.9,
             "#4d9221"
            ],
            [
             1,
             "#276419"
            ]
           ],
           "sequential": [
            [
             0,
             "#0d0887"
            ],
            [
             0.1111111111111111,
             "#46039f"
            ],
            [
             0.2222222222222222,
             "#7201a8"
            ],
            [
             0.3333333333333333,
             "#9c179e"
            ],
            [
             0.4444444444444444,
             "#bd3786"
            ],
            [
             0.5555555555555556,
             "#d8576b"
            ],
            [
             0.6666666666666666,
             "#ed7953"
            ],
            [
             0.7777777777777778,
             "#fb9f3a"
            ],
            [
             0.8888888888888888,
             "#fdca26"
            ],
            [
             1,
             "#f0f921"
            ]
           ],
           "sequentialminus": [
            [
             0,
             "#0d0887"
            ],
            [
             0.1111111111111111,
             "#46039f"
            ],
            [
             0.2222222222222222,
             "#7201a8"
            ],
            [
             0.3333333333333333,
             "#9c179e"
            ],
            [
             0.4444444444444444,
             "#bd3786"
            ],
            [
             0.5555555555555556,
             "#d8576b"
            ],
            [
             0.6666666666666666,
             "#ed7953"
            ],
            [
             0.7777777777777778,
             "#fb9f3a"
            ],
            [
             0.8888888888888888,
             "#fdca26"
            ],
            [
             1,
             "#f0f921"
            ]
           ]
          },
          "colorway": [
           "#636efa",
           "#EF553B",
           "#00cc96",
           "#ab63fa",
           "#FFA15A",
           "#19d3f3",
           "#FF6692",
           "#B6E880",
           "#FF97FF",
           "#FECB52"
          ],
          "font": {
           "color": "#2a3f5f"
          },
          "geo": {
           "bgcolor": "white",
           "lakecolor": "white",
           "landcolor": "#E5ECF6",
           "showlakes": true,
           "showland": true,
           "subunitcolor": "white"
          },
          "hoverlabel": {
           "align": "left"
          },
          "hovermode": "closest",
          "mapbox": {
           "style": "light"
          },
          "paper_bgcolor": "white",
          "plot_bgcolor": "#E5ECF6",
          "polar": {
           "angularaxis": {
            "gridcolor": "white",
            "linecolor": "white",
            "ticks": ""
           },
           "bgcolor": "#E5ECF6",
           "radialaxis": {
            "gridcolor": "white",
            "linecolor": "white",
            "ticks": ""
           }
          },
          "scene": {
           "xaxis": {
            "backgroundcolor": "#E5ECF6",
            "gridcolor": "white",
            "gridwidth": 2,
            "linecolor": "white",
            "showbackground": true,
            "ticks": "",
            "zerolinecolor": "white"
           },
           "yaxis": {
            "backgroundcolor": "#E5ECF6",
            "gridcolor": "white",
            "gridwidth": 2,
            "linecolor": "white",
            "showbackground": true,
            "ticks": "",
            "zerolinecolor": "white"
           },
           "zaxis": {
            "backgroundcolor": "#E5ECF6",
            "gridcolor": "white",
            "gridwidth": 2,
            "linecolor": "white",
            "showbackground": true,
            "ticks": "",
            "zerolinecolor": "white"
           }
          },
          "shapedefaults": {
           "line": {
            "color": "#2a3f5f"
           }
          },
          "ternary": {
           "aaxis": {
            "gridcolor": "white",
            "linecolor": "white",
            "ticks": ""
           },
           "baxis": {
            "gridcolor": "white",
            "linecolor": "white",
            "ticks": ""
           },
           "bgcolor": "#E5ECF6",
           "caxis": {
            "gridcolor": "white",
            "linecolor": "white",
            "ticks": ""
           }
          },
          "title": {
           "x": 0.05
          },
          "xaxis": {
           "automargin": true,
           "gridcolor": "white",
           "linecolor": "white",
           "ticks": "",
           "title": {
            "standoff": 15
           },
           "zerolinecolor": "white",
           "zerolinewidth": 2
          },
          "yaxis": {
           "automargin": true,
           "gridcolor": "white",
           "linecolor": "white",
           "ticks": "",
           "title": {
            "standoff": 15
           },
           "zerolinecolor": "white",
           "zerolinewidth": 2
          }
         }
        },
        "title": {
         "text": "3d TSNE Plot for Clusters"
        },
        "width": 900
       }
      }
     },
     "metadata": {},
     "output_type": "display_data"
    }
   ],
   "source": [
    "evaluate_model(kmeans)"
   ]
  },
  {
   "cell_type": "markdown",
   "metadata": {},
   "source": [
    "`evaluate_model` can only be used in Notebook since it uses `ipywidget` . You can also use the `plot_model` function to generate plots individually.\n",
    "\n",
    "`evaluate_model` は `ipywidget` を使用しているため、Notebook でのみ使用することができます。また、 `plot_model` 関数を使用すると、プロットを個別に生成することができます。"
   ]
  },
  {
   "cell_type": "code",
   "execution_count": 8,
   "metadata": {},
   "outputs": [
    {
     "data": {
      "image/png": "[encoded data removed]",
      "text/plain": [
       "<Figure size 800x550 with 1 Axes>"
      ]
     },
     "metadata": {},
     "output_type": "display_data"
    }
   ],
   "source": [
    "plot_model(kmeans, plot='elbow')"
   ]
  },
  {
   "cell_type": "code",
   "execution_count": 9,
   "metadata": {},
   "outputs": [
    {
     "data": {
      "image/png": "[encoded data removed]",
      "text/plain": [
       "<Figure size 800x550 with 1 Axes>"
      ]
     },
     "metadata": {},
     "output_type": "display_data"
    }
   ],
   "source": [
    "plot_model(kmeans, plot='silhouette')"
   ]
  },
  {
   "cell_type": "markdown",
   "metadata": {},
   "source": [
    "### Assign Model\n",
    "\n",
    "This function assigns cluster labels to the training data, given a trained model.\n",
    "\n",
    "### モデルの割り当て\n",
    "\n",
    "この関数は、学習済みモデルが与えられた場合に、クラスタラベルを学習データに割り当てる。"
   ]
  },
  {
   "cell_type": "code",
   "execution_count": 10,
   "metadata": {},
   "outputs": [
    {
     "data": {
      "text/html": [
       "<div>\n",
       "<style scoped>\n",
       "    .dataframe tbody tr th:only-of-type {\n",
       "        vertical-align: middle;\n",
       "    }\n",
       "\n",
       "    .dataframe tbody tr th {\n",
       "        vertical-align: top;\n",
       "    }\n",
       "\n",
       "    .dataframe thead th {\n",
       "        text-align: right;\n",
       "    }\n",
       "</style>\n",
       "<table border=\"1\" class=\"dataframe\">\n",
       "  <thead>\n",
       "    <tr style=\"text-align: right;\">\n",
       "      <th></th>\n",
       "      <th>Age</th>\n",
       "      <th>Income</th>\n",
       "      <th>SpendingScore</th>\n",
       "      <th>Savings</th>\n",
       "      <th>Cluster</th>\n",
       "    </tr>\n",
       "  </thead>\n",
       "  <tbody>\n",
       "    <tr>\n",
       "      <th>0</th>\n",
       "      <td>58</td>\n",
       "      <td>77769</td>\n",
       "      <td>0.791329</td>\n",
       "      <td>6559.829923</td>\n",
       "      <td>Cluster 1</td>\n",
       "    </tr>\n",
       "    <tr>\n",
       "      <th>1</th>\n",
       "      <td>59</td>\n",
       "      <td>81799</td>\n",
       "      <td>0.791082</td>\n",
       "      <td>5417.661426</td>\n",
       "      <td>Cluster 1</td>\n",
       "    </tr>\n",
       "    <tr>\n",
       "      <th>2</th>\n",
       "      <td>62</td>\n",
       "      <td>74751</td>\n",
       "      <td>0.702657</td>\n",
       "      <td>9258.992965</td>\n",
       "      <td>Cluster 1</td>\n",
       "    </tr>\n",
       "    <tr>\n",
       "      <th>3</th>\n",
       "      <td>59</td>\n",
       "      <td>74373</td>\n",
       "      <td>0.765680</td>\n",
       "      <td>7346.334504</td>\n",
       "      <td>Cluster 1</td>\n",
       "    </tr>\n",
       "    <tr>\n",
       "      <th>4</th>\n",
       "      <td>87</td>\n",
       "      <td>17760</td>\n",
       "      <td>0.348778</td>\n",
       "      <td>16869.507130</td>\n",
       "      <td>Cluster 0</td>\n",
       "    </tr>\n",
       "  </tbody>\n",
       "</table>\n",
       "</div>"
      ],
      "text/plain": [
       "   Age  Income  SpendingScore       Savings    Cluster\n",
       "0   58   77769       0.791329   6559.829923  Cluster 1\n",
       "1   59   81799       0.791082   5417.661426  Cluster 1\n",
       "2   62   74751       0.702657   9258.992965  Cluster 1\n",
       "3   59   74373       0.765680   7346.334504  Cluster 1\n",
       "4   87   17760       0.348778  16869.507130  Cluster 0"
      ]
     },
     "execution_count": 10,
     "metadata": {},
     "output_type": "execute_result"
    }
   ],
   "source": [
    "result = assign_model(kmeans)\n",
    "result.head()"
   ]
  },
  {
   "cell_type": "markdown",
   "metadata": {},
   "source": [
    "### Predictions\n",
    "\n",
    "This function generates cluster labels using a trained model on the new/unseen dataset.\n",
    "\n",
    "### 予測値\n",
    "\n",
    "この関数は、新規/未見データセットに対して学習したモデルを用いて、クラスタラベルを生成する。"
   ]
  },
  {
   "cell_type": "code",
   "execution_count": 11,
   "metadata": {},
   "outputs": [
    {
     "data": {
      "text/html": [
       "<div>\n",
       "<style scoped>\n",
       "    .dataframe tbody tr th:only-of-type {\n",
       "        vertical-align: middle;\n",
       "    }\n",
       "\n",
       "    .dataframe tbody tr th {\n",
       "        vertical-align: top;\n",
       "    }\n",
       "\n",
       "    .dataframe thead th {\n",
       "        text-align: right;\n",
       "    }\n",
       "</style>\n",
       "<table border=\"1\" class=\"dataframe\">\n",
       "  <thead>\n",
       "    <tr style=\"text-align: right;\">\n",
       "      <th></th>\n",
       "      <th>Age</th>\n",
       "      <th>Income</th>\n",
       "      <th>SpendingScore</th>\n",
       "      <th>Savings</th>\n",
       "      <th>Cluster</th>\n",
       "    </tr>\n",
       "  </thead>\n",
       "  <tbody>\n",
       "    <tr>\n",
       "      <th>0</th>\n",
       "      <td>58</td>\n",
       "      <td>77769</td>\n",
       "      <td>0.791329</td>\n",
       "      <td>6559.829923</td>\n",
       "      <td>Cluster 1</td>\n",
       "    </tr>\n",
       "    <tr>\n",
       "      <th>1</th>\n",
       "      <td>59</td>\n",
       "      <td>81799</td>\n",
       "      <td>0.791082</td>\n",
       "      <td>5417.661426</td>\n",
       "      <td>Cluster 1</td>\n",
       "    </tr>\n",
       "    <tr>\n",
       "      <th>2</th>\n",
       "      <td>62</td>\n",
       "      <td>74751</td>\n",
       "      <td>0.702657</td>\n",
       "      <td>9258.992965</td>\n",
       "      <td>Cluster 1</td>\n",
       "    </tr>\n",
       "    <tr>\n",
       "      <th>3</th>\n",
       "      <td>59</td>\n",
       "      <td>74373</td>\n",
       "      <td>0.765680</td>\n",
       "      <td>7346.334504</td>\n",
       "      <td>Cluster 1</td>\n",
       "    </tr>\n",
       "    <tr>\n",
       "      <th>4</th>\n",
       "      <td>87</td>\n",
       "      <td>17760</td>\n",
       "      <td>0.348778</td>\n",
       "      <td>16869.507130</td>\n",
       "      <td>Cluster 0</td>\n",
       "    </tr>\n",
       "  </tbody>\n",
       "</table>\n",
       "</div>"
      ],
      "text/plain": [
       "   Age  Income  SpendingScore       Savings    Cluster\n",
       "0   58   77769       0.791329   6559.829923  Cluster 1\n",
       "1   59   81799       0.791082   5417.661426  Cluster 1\n",
       "2   62   74751       0.702657   9258.992965  Cluster 1\n",
       "3   59   74373       0.765680   7346.334504  Cluster 1\n",
       "4   87   17760       0.348778  16869.507130  Cluster 0"
      ]
     },
     "execution_count": 11,
     "metadata": {},
     "output_type": "execute_result"
    }
   ],
   "source": [
    "predictions = predict_model(kmeans, data=data)\n",
    "predictions.head()"
   ]
  },
  {
   "cell_type": "markdown",
   "metadata": {},
   "source": [
    "### Save the model\n",
    "\n",
    "### モデルの保存"
   ]
  },
  {
   "cell_type": "code",
   "execution_count": 12,
   "metadata": {},
   "outputs": [
    {
     "name": "stdout",
     "output_type": "stream",
     "text": [
      "Transformation Pipeline and Model Successfully Saved\n"
     ]
    },
    {
     "data": {
      "text/plain": [
       "(Pipeline(memory=None,\n",
       "          steps=[('dtypes',\n",
       "                  DataTypes_Auto_infer(categorical_features=[],\n",
       "                                       display_types=True, features_todrop=[],\n",
       "                                       id_columns=[], ml_usecase='regression',\n",
       "                                       numerical_features=[],\n",
       "                                       target='UNSUPERVISED_DUMMY_TARGET',\n",
       "                                       time_features=[])),\n",
       "                 ('imputer',\n",
       "                  Simple_Imputer(categorical_strategy='most frequent',\n",
       "                                 fill_value_categorical=None,\n",
       "                                 fill_value_numerical=None...\n",
       "                 ('fix_perfect', 'passthrough'),\n",
       "                 ('clean_names', Clean_Colum_Names()),\n",
       "                 ('feature_select', 'passthrough'), ('fix_multi', 'passthrough'),\n",
       "                 ('dfs', 'passthrough'), ('pca', 'passthrough'),\n",
       "                 ['trained_model',\n",
       "                  KMeans(algorithm='auto', copy_x=True, init='k-means++',\n",
       "                         max_iter=300, n_clusters=4, n_init=10, n_jobs=-1,\n",
       "                         precompute_distances='deprecated', random_state=3195,\n",
       "                         tol=0.0001, verbose=0)]],\n",
       "          verbose=False),\n",
       " 'kmeans_pipeline.pkl')"
      ]
     },
     "execution_count": 12,
     "metadata": {},
     "output_type": "execute_result"
    }
   ],
   "source": [
    "save_model(kmeans, 'kmeans_pipeline')"
   ]
  },
  {
   "cell_type": "markdown",
   "metadata": {},
   "source": [
    "#### To load the model back in the environment:\n",
    "\n",
    "#### モデルを環境に戻すには:"
   ]
  },
  {
   "cell_type": "code",
   "execution_count": 13,
   "metadata": {},
   "outputs": [
    {
     "name": "stdout",
     "output_type": "stream",
     "text": [
      "Transformation Pipeline and Model Successfully Loaded\n",
      "Pipeline(memory=None,\n",
      "         steps=[('dtypes',\n",
      "                 DataTypes_Auto_infer(categorical_features=[],\n",
      "                                      display_types=True, features_todrop=[],\n",
      "                                      id_columns=[], ml_usecase='regression',\n",
      "                                      numerical_features=[],\n",
      "                                      target='UNSUPERVISED_DUMMY_TARGET',\n",
      "                                      time_features=[])),\n",
      "                ('imputer',\n",
      "                 Simple_Imputer(categorical_strategy='most frequent',\n",
      "                                fill_value_categorical=None,\n",
      "                                fill_value_numerical=None...\n",
      "                ('fix_perfect', 'passthrough'),\n",
      "                ('clean_names', Clean_Colum_Names()),\n",
      "                ('feature_select', 'passthrough'), ('fix_multi', 'passthrough'),\n",
      "                ('dfs', 'passthrough'), ('pca', 'passthrough'),\n",
      "                ['trained_model',\n",
      "                 KMeans(algorithm='auto', copy_x=True, init='k-means++',\n",
      "                        max_iter=300, n_clusters=4, n_init=10, n_jobs=-1,\n",
      "                        precompute_distances='deprecated', random_state=3195,\n",
      "                        tol=0.0001, verbose=0)]],\n",
      "         verbose=False)\n"
     ]
    }
   ],
   "source": [
    "loaded_model = load_model('kmeans_pipeline')\n",
    "print(loaded_model)"
   ]
  }
 ],
 "metadata": {
  "kernelspec": {
   "display_name": "Python 3.8.15 ('venv': venv)",
   "language": "python",
   "name": "python3"
  },
  "language_info": {
   "codemirror_mode": {
    "name": "ipython",
    "version": 3
   },
   "file_extension": ".py",
   "mimetype": "text/x-python",
   "name": "python",
   "nbconvert_exporter": "python",
   "pygments_lexer": "ipython3",
   "version": "3.8.15"
  },
  "orig_nbformat": 4,
  "vscode": {
   "interpreter": {
    "hash": "144d929da0570c40592d9dc325047f87d05d6a3c34760fe6027613ddef8a9521"
   }
  }
 },
 "nbformat": 4,
 "nbformat_minor": 2
}
