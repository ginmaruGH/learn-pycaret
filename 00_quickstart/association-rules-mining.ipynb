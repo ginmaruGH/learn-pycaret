{
 "cells": [
  {
   "cell_type": "code",
   "execution_count": 1,
   "metadata": {},
   "outputs": [],
   "source": [
    "import pandas as pd\n",
    "pd.set_option(\"display.max_columns\", None)"
   ]
  },
  {
   "cell_type": "markdown",
   "metadata": {},
   "source": [
    "# [Quickstart](https://pycaret.gitbook.io/docs/get-started/quickstart)\n",
    "\n",
    "## [Association Rules Mining](https://pycaret.gitbook.io/docs/get-started/quickstart#association-rules-mining)（アソシエーションルール・マイニング）"
   ]
  },
  {
   "cell_type": "markdown",
   "metadata": {},
   "source": [
    "PyCaret's association rule module is a supervised machine learning module that is used for discovering interesting relations between variables in the dataset. This module automatically transforms any transactional database into a shape that is acceptable for the apriori algorithm. Apriori is an algorithm for frequent itemset mining and association rule learning over relational databases."
   ]
  },
  {
   "cell_type": "markdown",
   "metadata": {},
   "source": [
    "PyCaret のアソシエーションルールモジュールは、データセット内の変数間の興味深い関係を発見するために使用される教師あり機械学習モジュールです。このモジュールは、あらゆるトランザクションデータベースを、apriori アルゴリズムが許容する形状に自動的に変換します。アプリオリとは、リレーショナルデータベースにおける頻出事項のマイニングとアソシエーションルール学習のためのアルゴリズムである。"
   ]
  },
  {
   "cell_type": "markdown",
   "metadata": {},
   "source": [
    "### Setup\n",
    "\n",
    "### 設定"
   ]
  },
  {
   "cell_type": "code",
   "execution_count": 2,
   "metadata": {},
   "outputs": [
    {
     "data": {
      "text/html": [
       "<div>\n",
       "<style scoped>\n",
       "    .dataframe tbody tr th:only-of-type {\n",
       "        vertical-align: middle;\n",
       "    }\n",
       "\n",
       "    .dataframe tbody tr th {\n",
       "        vertical-align: top;\n",
       "    }\n",
       "\n",
       "    .dataframe thead th {\n",
       "        text-align: right;\n",
       "    }\n",
       "</style>\n",
       "<table border=\"1\" class=\"dataframe\">\n",
       "  <thead>\n",
       "    <tr style=\"text-align: right;\">\n",
       "      <th></th>\n",
       "      <th>InvoiceNo</th>\n",
       "      <th>StockCode</th>\n",
       "      <th>Description</th>\n",
       "      <th>Quantity</th>\n",
       "      <th>InvoiceDate</th>\n",
       "      <th>UnitPrice</th>\n",
       "      <th>CustomerID</th>\n",
       "      <th>Country</th>\n",
       "    </tr>\n",
       "  </thead>\n",
       "  <tbody>\n",
       "    <tr>\n",
       "      <th>0</th>\n",
       "      <td>536370</td>\n",
       "      <td>22728</td>\n",
       "      <td>ALARM CLOCK BAKELIKE PINK</td>\n",
       "      <td>24</td>\n",
       "      <td>12/1/2010 8:45</td>\n",
       "      <td>3.75</td>\n",
       "      <td>12583.0</td>\n",
       "      <td>France</td>\n",
       "    </tr>\n",
       "    <tr>\n",
       "      <th>1</th>\n",
       "      <td>536370</td>\n",
       "      <td>22727</td>\n",
       "      <td>ALARM CLOCK BAKELIKE RED</td>\n",
       "      <td>24</td>\n",
       "      <td>12/1/2010 8:45</td>\n",
       "      <td>3.75</td>\n",
       "      <td>12583.0</td>\n",
       "      <td>France</td>\n",
       "    </tr>\n",
       "    <tr>\n",
       "      <th>2</th>\n",
       "      <td>536370</td>\n",
       "      <td>22726</td>\n",
       "      <td>ALARM CLOCK BAKELIKE GREEN</td>\n",
       "      <td>12</td>\n",
       "      <td>12/1/2010 8:45</td>\n",
       "      <td>3.75</td>\n",
       "      <td>12583.0</td>\n",
       "      <td>France</td>\n",
       "    </tr>\n",
       "    <tr>\n",
       "      <th>3</th>\n",
       "      <td>536370</td>\n",
       "      <td>21724</td>\n",
       "      <td>PANDA AND BUNNIES STICKER SHEET</td>\n",
       "      <td>12</td>\n",
       "      <td>12/1/2010 8:45</td>\n",
       "      <td>0.85</td>\n",
       "      <td>12583.0</td>\n",
       "      <td>France</td>\n",
       "    </tr>\n",
       "    <tr>\n",
       "      <th>4</th>\n",
       "      <td>536370</td>\n",
       "      <td>21883</td>\n",
       "      <td>STARS GIFT TAPE</td>\n",
       "      <td>24</td>\n",
       "      <td>12/1/2010 8:45</td>\n",
       "      <td>0.65</td>\n",
       "      <td>12583.0</td>\n",
       "      <td>France</td>\n",
       "    </tr>\n",
       "  </tbody>\n",
       "</table>\n",
       "</div>"
      ],
      "text/plain": [
       "  InvoiceNo StockCode                      Description  Quantity  \\\n",
       "0    536370     22728        ALARM CLOCK BAKELIKE PINK        24   \n",
       "1    536370     22727        ALARM CLOCK BAKELIKE RED         24   \n",
       "2    536370     22726       ALARM CLOCK BAKELIKE GREEN        12   \n",
       "3    536370     21724  PANDA AND BUNNIES STICKER SHEET        12   \n",
       "4    536370     21883                 STARS GIFT TAPE         24   \n",
       "\n",
       "      InvoiceDate  UnitPrice  CustomerID Country  \n",
       "0  12/1/2010 8:45       3.75     12583.0  France  \n",
       "1  12/1/2010 8:45       3.75     12583.0  France  \n",
       "2  12/1/2010 8:45       3.75     12583.0  France  \n",
       "3  12/1/2010 8:45       0.85     12583.0  France  \n",
       "4  12/1/2010 8:45       0.65     12583.0  France  "
      ]
     },
     "metadata": {},
     "output_type": "display_data"
    }
   ],
   "source": [
    "from pycaret.datasets import get_data\n",
    "data = get_data('france')"
   ]
  },
  {
   "cell_type": "code",
   "execution_count": 3,
   "metadata": {},
   "outputs": [
    {
     "data": {
      "text/html": [
       "<style type=\"text/css\">\n",
       "</style>\n",
       "<table id=\"T_b61a6\">\n",
       "  <thead>\n",
       "    <tr>\n",
       "      <th id=\"T_b61a6_level0_col0\" class=\"col_heading level0 col0\" >Description</th>\n",
       "      <th id=\"T_b61a6_level0_col1\" class=\"col_heading level0 col1\" >Value</th>\n",
       "    </tr>\n",
       "  </thead>\n",
       "  <tbody>\n",
       "    <tr>\n",
       "      <td id=\"T_b61a6_row0_col0\" class=\"data row0 col0\" >session_id</td>\n",
       "      <td id=\"T_b61a6_row0_col1\" class=\"data row0 col1\" >5249</td>\n",
       "    </tr>\n",
       "    <tr>\n",
       "      <td id=\"T_b61a6_row1_col0\" class=\"data row1 col0\" ># Transactions</td>\n",
       "      <td id=\"T_b61a6_row1_col1\" class=\"data row1 col1\" >461</td>\n",
       "    </tr>\n",
       "    <tr>\n",
       "      <td id=\"T_b61a6_row2_col0\" class=\"data row2 col0\" ># Items</td>\n",
       "      <td id=\"T_b61a6_row2_col1\" class=\"data row2 col1\" >1565</td>\n",
       "    </tr>\n",
       "    <tr>\n",
       "      <td id=\"T_b61a6_row3_col0\" class=\"data row3 col0\" >Ignore Items</td>\n",
       "      <td id=\"T_b61a6_row3_col1\" class=\"data row3 col1\" >None</td>\n",
       "    </tr>\n",
       "  </tbody>\n",
       "</table>\n"
      ],
      "text/plain": [
       "<pandas.io.formats.style.Styler at 0x1077b2220>"
      ]
     },
     "metadata": {},
     "output_type": "display_data"
    }
   ],
   "source": [
    "from pycaret.arules import *\n",
    "arules = setup(data, transaction_id='InvoiceNo', item_id='Description')"
   ]
  },
  {
   "cell_type": "markdown",
   "metadata": {},
   "source": [
    "### Create Model\n",
    "\n",
    "### モデル作成"
   ]
  },
  {
   "cell_type": "code",
   "execution_count": 6,
   "metadata": {},
   "outputs": [
    {
     "data": {
      "text/html": [
       "<div>\n",
       "<style scoped>\n",
       "    .dataframe tbody tr th:only-of-type {\n",
       "        vertical-align: middle;\n",
       "    }\n",
       "\n",
       "    .dataframe tbody tr th {\n",
       "        vertical-align: top;\n",
       "    }\n",
       "\n",
       "    .dataframe thead th {\n",
       "        text-align: right;\n",
       "    }\n",
       "</style>\n",
       "<table border=\"1\" class=\"dataframe\">\n",
       "  <thead>\n",
       "    <tr style=\"text-align: right;\">\n",
       "      <th></th>\n",
       "      <th>antecedents</th>\n",
       "      <th>consequents</th>\n",
       "      <th>antecedent support</th>\n",
       "      <th>consequent support</th>\n",
       "      <th>support</th>\n",
       "      <th>confidence</th>\n",
       "      <th>lift</th>\n",
       "      <th>leverage</th>\n",
       "      <th>conviction</th>\n",
       "    </tr>\n",
       "  </thead>\n",
       "  <tbody>\n",
       "    <tr>\n",
       "      <th>0</th>\n",
       "      <td>(JUMBO BAG WOODLAND ANIMALS)</td>\n",
       "      <td>(POSTAGE)</td>\n",
       "      <td>0.0651</td>\n",
       "      <td>0.6746</td>\n",
       "      <td>0.0651</td>\n",
       "      <td>1.0000</td>\n",
       "      <td>1.4823</td>\n",
       "      <td>0.0212</td>\n",
       "      <td>inf</td>\n",
       "    </tr>\n",
       "    <tr>\n",
       "      <th>1</th>\n",
       "      <td>(SET/6 RED SPOTTY PAPER CUPS, SET/20 RED RETRO...</td>\n",
       "      <td>(SET/6 RED SPOTTY PAPER PLATES)</td>\n",
       "      <td>0.0868</td>\n",
       "      <td>0.1085</td>\n",
       "      <td>0.0846</td>\n",
       "      <td>0.9750</td>\n",
       "      <td>8.9895</td>\n",
       "      <td>0.0752</td>\n",
       "      <td>35.6616</td>\n",
       "    </tr>\n",
       "    <tr>\n",
       "      <th>2</th>\n",
       "      <td>(SET/20 RED RETROSPOT PAPER NAPKINS , SET/6 RE...</td>\n",
       "      <td>(SET/6 RED SPOTTY PAPER CUPS)</td>\n",
       "      <td>0.0868</td>\n",
       "      <td>0.1171</td>\n",
       "      <td>0.0846</td>\n",
       "      <td>0.9750</td>\n",
       "      <td>8.3236</td>\n",
       "      <td>0.0744</td>\n",
       "      <td>35.3145</td>\n",
       "    </tr>\n",
       "    <tr>\n",
       "      <th>3</th>\n",
       "      <td>(SET/6 RED SPOTTY PAPER CUPS, SET/20 RED RETRO...</td>\n",
       "      <td>(SET/6 RED SPOTTY PAPER PLATES)</td>\n",
       "      <td>0.0716</td>\n",
       "      <td>0.1085</td>\n",
       "      <td>0.0694</td>\n",
       "      <td>0.9697</td>\n",
       "      <td>8.9406</td>\n",
       "      <td>0.0617</td>\n",
       "      <td>29.4208</td>\n",
       "    </tr>\n",
       "    <tr>\n",
       "      <th>4</th>\n",
       "      <td>(SET/20 RED RETROSPOT PAPER NAPKINS , SET/6 RE...</td>\n",
       "      <td>(SET/6 RED SPOTTY PAPER CUPS)</td>\n",
       "      <td>0.0716</td>\n",
       "      <td>0.1171</td>\n",
       "      <td>0.0694</td>\n",
       "      <td>0.9697</td>\n",
       "      <td>8.2783</td>\n",
       "      <td>0.0610</td>\n",
       "      <td>29.1345</td>\n",
       "    </tr>\n",
       "    <tr>\n",
       "      <th>...</th>\n",
       "      <td>...</td>\n",
       "      <td>...</td>\n",
       "      <td>...</td>\n",
       "      <td>...</td>\n",
       "      <td>...</td>\n",
       "      <td>...</td>\n",
       "      <td>...</td>\n",
       "      <td>...</td>\n",
       "      <td>...</td>\n",
       "    </tr>\n",
       "    <tr>\n",
       "      <th>149</th>\n",
       "      <td>(LUNCH BAG RED RETROSPOT)</td>\n",
       "      <td>(LUNCH BAG APPLE DESIGN)</td>\n",
       "      <td>0.1323</td>\n",
       "      <td>0.1085</td>\n",
       "      <td>0.0564</td>\n",
       "      <td>0.4262</td>\n",
       "      <td>3.9298</td>\n",
       "      <td>0.0420</td>\n",
       "      <td>1.5538</td>\n",
       "    </tr>\n",
       "    <tr>\n",
       "      <th>150</th>\n",
       "      <td>(PLASTERS IN TIN WOODLAND ANIMALS)</td>\n",
       "      <td>(PLASTERS IN TIN CIRCUS PARADE , PLASTERS IN T...</td>\n",
       "      <td>0.1453</td>\n",
       "      <td>0.0781</td>\n",
       "      <td>0.0586</td>\n",
       "      <td>0.4030</td>\n",
       "      <td>5.1604</td>\n",
       "      <td>0.0472</td>\n",
       "      <td>1.5442</td>\n",
       "    </tr>\n",
       "    <tr>\n",
       "      <th>151</th>\n",
       "      <td>(PLASTERS IN TIN CIRCUS PARADE )</td>\n",
       "      <td>(PLASTERS IN TIN SPACEBOY, PLASTERS IN TIN WOO...</td>\n",
       "      <td>0.1475</td>\n",
       "      <td>0.0889</td>\n",
       "      <td>0.0586</td>\n",
       "      <td>0.3971</td>\n",
       "      <td>4.4645</td>\n",
       "      <td>0.0454</td>\n",
       "      <td>1.5110</td>\n",
       "    </tr>\n",
       "    <tr>\n",
       "      <th>152</th>\n",
       "      <td>(LUNCH BAG RED RETROSPOT)</td>\n",
       "      <td>(LUNCH BAG APPLE DESIGN, POSTAGE)</td>\n",
       "      <td>0.1323</td>\n",
       "      <td>0.0889</td>\n",
       "      <td>0.0521</td>\n",
       "      <td>0.3934</td>\n",
       "      <td>4.4238</td>\n",
       "      <td>0.0403</td>\n",
       "      <td>1.5020</td>\n",
       "    </tr>\n",
       "    <tr>\n",
       "      <th>153</th>\n",
       "      <td>(ROUND SNACK BOXES SET OF4 WOODLAND )</td>\n",
       "      <td>(ROUND SNACK BOXES SET OF 4 FRUITS )</td>\n",
       "      <td>0.1388</td>\n",
       "      <td>0.0933</td>\n",
       "      <td>0.0542</td>\n",
       "      <td>0.3906</td>\n",
       "      <td>4.1879</td>\n",
       "      <td>0.0413</td>\n",
       "      <td>1.4880</td>\n",
       "    </tr>\n",
       "  </tbody>\n",
       "</table>\n",
       "<p>154 rows × 9 columns</p>\n",
       "</div>"
      ],
      "text/plain": [
       "                                           antecedents  \\\n",
       "0                         (JUMBO BAG WOODLAND ANIMALS)   \n",
       "1    (SET/6 RED SPOTTY PAPER CUPS, SET/20 RED RETRO...   \n",
       "2    (SET/20 RED RETROSPOT PAPER NAPKINS , SET/6 RE...   \n",
       "3    (SET/6 RED SPOTTY PAPER CUPS, SET/20 RED RETRO...   \n",
       "4    (SET/20 RED RETROSPOT PAPER NAPKINS , SET/6 RE...   \n",
       "..                                                 ...   \n",
       "149                          (LUNCH BAG RED RETROSPOT)   \n",
       "150                 (PLASTERS IN TIN WOODLAND ANIMALS)   \n",
       "151                   (PLASTERS IN TIN CIRCUS PARADE )   \n",
       "152                          (LUNCH BAG RED RETROSPOT)   \n",
       "153              (ROUND SNACK BOXES SET OF4 WOODLAND )   \n",
       "\n",
       "                                           consequents  antecedent support  \\\n",
       "0                                            (POSTAGE)              0.0651   \n",
       "1                      (SET/6 RED SPOTTY PAPER PLATES)              0.0868   \n",
       "2                        (SET/6 RED SPOTTY PAPER CUPS)              0.0868   \n",
       "3                      (SET/6 RED SPOTTY PAPER PLATES)              0.0716   \n",
       "4                        (SET/6 RED SPOTTY PAPER CUPS)              0.0716   \n",
       "..                                                 ...                 ...   \n",
       "149                           (LUNCH BAG APPLE DESIGN)              0.1323   \n",
       "150  (PLASTERS IN TIN CIRCUS PARADE , PLASTERS IN T...              0.1453   \n",
       "151  (PLASTERS IN TIN SPACEBOY, PLASTERS IN TIN WOO...              0.1475   \n",
       "152                  (LUNCH BAG APPLE DESIGN, POSTAGE)              0.1323   \n",
       "153               (ROUND SNACK BOXES SET OF 4 FRUITS )              0.1388   \n",
       "\n",
       "     consequent support  support  confidence    lift  leverage  conviction  \n",
       "0                0.6746   0.0651      1.0000  1.4823    0.0212         inf  \n",
       "1                0.1085   0.0846      0.9750  8.9895    0.0752     35.6616  \n",
       "2                0.1171   0.0846      0.9750  8.3236    0.0744     35.3145  \n",
       "3                0.1085   0.0694      0.9697  8.9406    0.0617     29.4208  \n",
       "4                0.1171   0.0694      0.9697  8.2783    0.0610     29.1345  \n",
       "..                  ...      ...         ...     ...       ...         ...  \n",
       "149              0.1085   0.0564      0.4262  3.9298    0.0420      1.5538  \n",
       "150              0.0781   0.0586      0.4030  5.1604    0.0472      1.5442  \n",
       "151              0.0889   0.0586      0.3971  4.4645    0.0454      1.5110  \n",
       "152              0.0889   0.0521      0.3934  4.4238    0.0403      1.5020  \n",
       "153              0.0933   0.0542      0.3906  4.1879    0.0413      1.4880  \n",
       "\n",
       "[154 rows x 9 columns]"
      ]
     },
     "execution_count": 6,
     "metadata": {},
     "output_type": "execute_result"
    }
   ],
   "source": [
    "model = create_model(metric='confidence', threshold=0.3)\n",
    "model"
   ]
  },
  {
   "cell_type": "markdown",
   "metadata": {},
   "source": [
    "### Analyze Model\n",
    "\n",
    "### モデルの分析"
   ]
  },
  {
   "cell_type": "code",
   "execution_count": 7,
   "metadata": {},
   "outputs": [
    {
     "data": {
      "text/html": [
       "        <script type=\"text/javascript\">\n",
       "        window.PlotlyConfig = {MathJaxConfig: 'local'};\n",
       "        if (window.MathJax && window.MathJax.Hub && window.MathJax.Hub.Config) {window.MathJax.Hub.Config({SVG: {font: \"STIX-Web\"}});}\n",
       "        if (typeof require !== 'undefined') {\n",
       "        require.undef(\"plotly\");\n",
       "        requirejs.config({\n",
       "            paths: {\n",
       "                'plotly': ['https://cdn.plot.ly/plotly-2.16.1.min']\n",
       "            }\n",
       "        });\n",
       "        require(['plotly'], function(Plotly) {\n",
       "            window._Plotly = Plotly;\n",
       "        });\n",
       "        }\n",
       "        </script>\n",
       "        "
      ]
     },
     "metadata": {},
     "output_type": "display_data"
    },
    {
     "data": {
      "application/vnd.plotly.v1+json": {
       "config": {
        "plotlyServerURL": "https://plot.ly"
       },
       "data": [
        {
         "customdata": [
          [
           [
            "JUMBO BAG WOODLAND ANIMALS"
           ],
           [
            "POSTAGE"
           ]
          ],
          [
           [
            "SET/6 RED SPOTTY PAPER CUPS",
            "SET/20 RED RETROSPOT PAPER NAPKINS "
           ],
           [
            "SET/6 RED SPOTTY PAPER PLATES"
           ]
          ],
          [
           [
            "SET/20 RED RETROSPOT PAPER NAPKINS ",
            "SET/6 RED SPOTTY PAPER PLATES"
           ],
           [
            "SET/6 RED SPOTTY PAPER CUPS"
           ]
          ],
          [
           [
            "SET/6 RED SPOTTY PAPER CUPS",
            "SET/20 RED RETROSPOT PAPER NAPKINS ",
            "POSTAGE"
           ],
           [
            "SET/6 RED SPOTTY PAPER PLATES"
           ]
          ],
          [
           [
            "SET/20 RED RETROSPOT PAPER NAPKINS ",
            "SET/6 RED SPOTTY PAPER PLATES",
            "POSTAGE"
           ],
           [
            "SET/6 RED SPOTTY PAPER CUPS"
           ]
          ],
          [
           [
            "SET OF 9 BLACK SKULL BALLOONS"
           ],
           [
            "POSTAGE"
           ]
          ],
          [
           [
            "PACK OF 6 SKULL PAPER CUPS"
           ],
           [
            "POSTAGE"
           ]
          ],
          [
           [
            "SET/6 RED SPOTTY PAPER PLATES"
           ],
           [
            "SET/6 RED SPOTTY PAPER CUPS"
           ]
          ],
          [
           [
            "SET/6 RED SPOTTY PAPER PLATES",
            "POSTAGE"
           ],
           [
            "SET/6 RED SPOTTY PAPER CUPS"
           ]
          ],
          [
           [
            "TEA PARTY BIRTHDAY CARD"
           ],
           [
            "POSTAGE"
           ]
          ],
          [
           [
            "STRAWBERRY LUNCH BOX WITH CUTLERY"
           ],
           [
            "POSTAGE"
           ]
          ],
          [
           [
            "RED RETROSPOT PICNIC BAG"
           ],
           [
            "POSTAGE"
           ]
          ],
          [
           [
            "SET OF 2 TEA TOWELS APPLE AND PEARS"
           ],
           [
            "POSTAGE"
           ]
          ],
          [
           [
            "ASSORTED COLOUR MINI CASES"
           ],
           [
            "POSTAGE"
           ]
          ],
          [
           [
            "CHILDRENS CUTLERY SPACEBOY "
           ],
           [
            "CHILDRENS CUTLERY DOLLY GIRL "
           ]
          ],
          [
           [
            "LUNCH BAG RED RETROSPOT",
            "LUNCH BAG APPLE DESIGN"
           ],
           [
            "POSTAGE"
           ]
          ],
          [
           [
            "ALARM CLOCK BAKELIKE RED "
           ],
           [
            "POSTAGE"
           ]
          ],
          [
           [
            "ROUND SNACK BOXES SET OF4 WOODLAND "
           ],
           [
            "POSTAGE"
           ]
          ],
          [
           [
            "ALARM CLOCK BAKELIKE RED ",
            "ALARM CLOCK BAKELIKE GREEN"
           ],
           [
            "POSTAGE"
           ]
          ],
          [
           [
            "WOODLAND CHARLOTTE BAG"
           ],
           [
            "POSTAGE"
           ]
          ],
          [
           [
            "ALARM CLOCK BAKELIKE RED ",
            "ALARM CLOCK BAKELIKE PINK"
           ],
           [
            "POSTAGE"
           ]
          ],
          [
           [
            "SET/6 RED SPOTTY PAPER CUPS"
           ],
           [
            "SET/6 RED SPOTTY PAPER PLATES"
           ]
          ],
          [
           [
            "ALARM CLOCK BAKELIKE PINK"
           ],
           [
            "POSTAGE"
           ]
          ],
          [
           [
            "PAPER BUNTING RETROSPOT"
           ],
           [
            "POSTAGE"
           ]
          ],
          [
           [
            "SET/6 RED SPOTTY PAPER CUPS",
            "POSTAGE"
           ],
           [
            "SET/6 RED SPOTTY PAPER PLATES"
           ]
          ],
          [
           [
            "RABBIT NIGHT LIGHT"
           ],
           [
            "POSTAGE"
           ]
          ],
          [
           [
            "CHILDRENS CUTLERY DOLLY GIRL "
           ],
           [
            "CHILDRENS CUTLERY SPACEBOY "
           ]
          ],
          [
           [
            "ALARM CLOCK BAKELIKE PINK",
            "ALARM CLOCK BAKELIKE GREEN"
           ],
           [
            "ALARM CLOCK BAKELIKE RED "
           ]
          ],
          [
           [
            "ALARM CLOCK BAKELIKE RED ",
            "ALARM CLOCK BAKELIKE PINK"
           ],
           [
            "ALARM CLOCK BAKELIKE GREEN"
           ]
          ],
          [
           [
            "RED TOADSTOOL LED NIGHT LIGHT"
           ],
           [
            "POSTAGE"
           ]
          ],
          [
           [
            "ROUND SNACK BOXES SET OF 4 FRUITS "
           ],
           [
            "POSTAGE"
           ]
          ],
          [
           [
            "COFFEE MUG APPLES DESIGN"
           ],
           [
            "POSTAGE"
           ]
          ],
          [
           [
            "PLASTERS IN TIN CIRCUS PARADE "
           ],
           [
            "POSTAGE"
           ]
          ],
          [
           [
            "SET/6 RED SPOTTY PAPER CUPS"
           ],
           [
            "POSTAGE"
           ]
          ],
          [
           [
            "LUNCH BAG WOODLAND"
           ],
           [
            "POSTAGE"
           ]
          ],
          [
           [
            "ALARM CLOCK BAKELIKE GREEN",
            "POSTAGE"
           ],
           [
            "ALARM CLOCK BAKELIKE RED "
           ]
          ],
          [
           [
            "ALARM CLOCK BAKELIKE GREEN"
           ],
           [
            "POSTAGE"
           ]
          ],
          [
           [
            "JUMBO BAG RED RETROSPOT"
           ],
           [
            "POSTAGE"
           ]
          ],
          [
           [
            "RED RETROSPOT CHARLOTTE BAG"
           ],
           [
            "POSTAGE"
           ]
          ],
          [
           [
            "SET/6 RED SPOTTY PAPER PLATES"
           ],
           [
            "POSTAGE"
           ]
          ],
          [
           [
            "ALARM CLOCK BAKELIKE RED "
           ],
           [
            "ALARM CLOCK BAKELIKE GREEN"
           ]
          ],
          [
           [
            "SET/6 RED SPOTTY PAPER CUPS",
            "SET/6 RED SPOTTY PAPER PLATES"
           ],
           [
            "POSTAGE"
           ]
          ],
          [
           [
            "SET/10 RED POLKADOT PARTY CANDLES"
           ],
           [
            "POSTAGE"
           ]
          ],
          [
           [
            "ALARM CLOCK BAKELIKE PINK",
            "ALARM CLOCK BAKELIKE GREEN"
           ],
           [
            "POSTAGE"
           ]
          ],
          [
           [
            "SET/20 RED RETROSPOT PAPER NAPKINS "
           ],
           [
            "POSTAGE"
           ]
          ],
          [
           [
            "SET/6 RED SPOTTY PAPER CUPS",
            "SET/20 RED RETROSPOT PAPER NAPKINS "
           ],
           [
            "POSTAGE"
           ]
          ],
          [
           [
            "SET/20 RED RETROSPOT PAPER NAPKINS ",
            "SET/6 RED SPOTTY PAPER PLATES"
           ],
           [
            "POSTAGE"
           ]
          ],
          [
           [
            "PLASTERS IN TIN CIRCUS PARADE ",
            "PLASTERS IN TIN WOODLAND ANIMALS"
           ],
           [
            "POSTAGE"
           ]
          ],
          [
           [
            "PACK OF 72 RETROSPOT CAKE CASES"
           ],
           [
            "POSTAGE"
           ]
          ],
          [
           [
            "ALARM CLOCK BAKELIKE RED ",
            "POSTAGE"
           ],
           [
            "ALARM CLOCK BAKELIKE GREEN"
           ]
          ],
          [
           [
            "SET/6 RED SPOTTY PAPER CUPS",
            "SET/20 RED RETROSPOT PAPER NAPKINS ",
            "SET/6 RED SPOTTY PAPER PLATES"
           ],
           [
            "POSTAGE"
           ]
          ],
          [
           [
            "LUNCH BAG APPLE DESIGN"
           ],
           [
            "POSTAGE"
           ]
          ],
          [
           [
            "PLASTERS IN TIN SPACEBOY"
           ],
           [
            "POSTAGE"
           ]
          ],
          [
           [
            "RED RETROSPOT MINI CASES"
           ],
           [
            "POSTAGE"
           ]
          ],
          [
           [
            "SET/6 RED SPOTTY PAPER CUPS",
            "SET/6 RED SPOTTY PAPER PLATES"
           ],
           [
            "SET/20 RED RETROSPOT PAPER NAPKINS "
           ]
          ],
          [
           [
            "ALARM CLOCK BAKELIKE RED ",
            "ALARM CLOCK BAKELIKE GREEN"
           ],
           [
            "ALARM CLOCK BAKELIKE PINK"
           ]
          ],
          [
           [
            "PLASTERS IN TIN WOODLAND ANIMALS"
           ],
           [
            "POSTAGE"
           ]
          ],
          [
           [
            "PLASTERS IN TIN CIRCUS PARADE ",
            "PLASTERS IN TIN SPACEBOY"
           ],
           [
            "POSTAGE"
           ]
          ],
          [
           [
            "PLASTERS IN TIN SPACEBOY",
            "PLASTERS IN TIN WOODLAND ANIMALS"
           ],
           [
            "POSTAGE"
           ]
          ],
          [
           [
            "SET/6 RED SPOTTY PAPER CUPS",
            "SET/6 RED SPOTTY PAPER PLATES",
            "POSTAGE"
           ],
           [
            "SET/20 RED RETROSPOT PAPER NAPKINS "
           ]
          ],
          [
           [
            "SET/20 RED RETROSPOT PAPER NAPKINS ",
            "SET/6 RED SPOTTY PAPER PLATES"
           ],
           [
            "SET/6 RED SPOTTY PAPER CUPS",
            "POSTAGE"
           ]
          ],
          [
           [
            "SET/6 RED SPOTTY PAPER CUPS",
            "SET/20 RED RETROSPOT PAPER NAPKINS "
           ],
           [
            "SET/6 RED SPOTTY PAPER PLATES",
            "POSTAGE"
           ]
          ],
          [
           [
            "SET/6 RED SPOTTY PAPER PLATES"
           ],
           [
            "SET/6 RED SPOTTY PAPER CUPS",
            "POSTAGE"
           ]
          ],
          [
           [
            "SET/6 RED SPOTTY PAPER PLATES"
           ],
           [
            "SET/20 RED RETROSPOT PAPER NAPKINS "
           ]
          ],
          [
           [
            "ALARM CLOCK BAKELIKE GREEN"
           ],
           [
            "ALARM CLOCK BAKELIKE RED "
           ]
          ],
          [
           [
            "LUNCH BOX WITH CUTLERY RETROSPOT "
           ],
           [
            "POSTAGE"
           ]
          ],
          [
           [
            "LUNCH BAG RED RETROSPOT"
           ],
           [
            "POSTAGE"
           ]
          ],
          [
           [
            "SET/6 RED SPOTTY PAPER PLATES",
            "POSTAGE"
           ],
           [
            "SET/20 RED RETROSPOT PAPER NAPKINS "
           ]
          ],
          [
           [
            "ALARM CLOCK BAKELIKE RED "
           ],
           [
            "ALARM CLOCK BAKELIKE PINK"
           ]
          ],
          [
           [
            "PLASTERS IN TIN STRONGMAN"
           ],
           [
            "POSTAGE"
           ]
          ],
          [
           [
            "MINI PAINT SET VINTAGE "
           ],
           [
            "POSTAGE"
           ]
          ],
          [
           [
            "SET/6 RED SPOTTY PAPER PLATES"
           ],
           [
            "SET/6 RED SPOTTY PAPER CUPS",
            "SET/20 RED RETROSPOT PAPER NAPKINS "
           ]
          ],
          [
           [
            "REGENCY CAKESTAND 3 TIER"
           ],
           [
            "POSTAGE"
           ]
          ],
          [
           [
            "SPACEBOY LUNCH BOX "
           ],
           [
            "POSTAGE"
           ]
          ],
          [
           [
            "SET/20 RED RETROSPOT PAPER NAPKINS "
           ],
           [
            "SET/6 RED SPOTTY PAPER CUPS"
           ]
          ],
          [
           [
            "SET/20 RED RETROSPOT PAPER NAPKINS "
           ],
           [
            "SET/6 RED SPOTTY PAPER PLATES"
           ]
          ],
          [
           [
            "SET/20 RED RETROSPOT PAPER NAPKINS ",
            "POSTAGE"
           ],
           [
            "SET/6 RED SPOTTY PAPER PLATES"
           ]
          ],
          [
           [
            "SET/20 RED RETROSPOT PAPER NAPKINS ",
            "POSTAGE"
           ],
           [
            "SET/6 RED SPOTTY PAPER CUPS"
           ]
          ],
          [
           [
            "ALARM CLOCK BAKELIKE RED ",
            "POSTAGE"
           ],
           [
            "ALARM CLOCK BAKELIKE PINK"
           ]
          ],
          [
           [
            "SET/6 RED SPOTTY PAPER PLATES",
            "POSTAGE"
           ],
           [
            "SET/6 RED SPOTTY PAPER CUPS",
            "SET/20 RED RETROSPOT PAPER NAPKINS "
           ]
          ],
          [
           [
            "ALARM CLOCK BAKELIKE RED "
           ],
           [
            "ALARM CLOCK BAKELIKE GREEN",
            "POSTAGE"
           ]
          ],
          [
           [
            "SET/20 RED RETROSPOT PAPER NAPKINS "
           ],
           [
            "SET/6 RED SPOTTY PAPER CUPS",
            "SET/6 RED SPOTTY PAPER PLATES"
           ]
          ],
          [
           [
            "LUNCH BAG SPACEBOY DESIGN "
           ],
           [
            "POSTAGE"
           ]
          ],
          [
           [
            "PLASTERS IN TIN CIRCUS PARADE ",
            "PLASTERS IN TIN SPACEBOY"
           ],
           [
            "PLASTERS IN TIN WOODLAND ANIMALS"
           ]
          ],
          [
           [
            "PLASTERS IN TIN SPACEBOY"
           ],
           [
            "PLASTERS IN TIN WOODLAND ANIMALS"
           ]
          ],
          [
           [
            "SET/20 RED RETROSPOT PAPER NAPKINS ",
            "POSTAGE"
           ],
           [
            "SET/6 RED SPOTTY PAPER CUPS",
            "SET/6 RED SPOTTY PAPER PLATES"
           ]
          ],
          [
           [
            "ALARM CLOCK BAKELIKE GREEN"
           ],
           [
            "ALARM CLOCK BAKELIKE PINK"
           ]
          ],
          [
           [
            "ALARM CLOCK BAKELIKE PINK",
            "POSTAGE"
           ],
           [
            "ALARM CLOCK BAKELIKE RED "
           ]
          ],
          [
           [
            "SET/6 RED SPOTTY PAPER CUPS"
           ],
           [
            "SET/6 RED SPOTTY PAPER PLATES",
            "POSTAGE"
           ]
          ],
          [
           [
            "SET/6 RED SPOTTY PAPER CUPS"
           ],
           [
            "SET/20 RED RETROSPOT PAPER NAPKINS "
           ]
          ],
          [
           [
            "PLASTERS IN TIN SPACEBOY",
            "POSTAGE"
           ],
           [
            "PLASTERS IN TIN WOODLAND ANIMALS"
           ]
          ],
          [
           [
            "ALARM CLOCK BAKELIKE GREEN",
            "POSTAGE"
           ],
           [
            "ALARM CLOCK BAKELIKE PINK"
           ]
          ],
          [
           [
            "ALARM CLOCK BAKELIKE PINK"
           ],
           [
            "ALARM CLOCK BAKELIKE GREEN"
           ]
          ],
          [
           [
            "ALARM CLOCK BAKELIKE PINK"
           ],
           [
            "ALARM CLOCK BAKELIKE RED "
           ]
          ],
          [
           [
            "DOLLY GIRL LUNCH BOX"
           ],
           [
            "POSTAGE"
           ]
          ],
          [
           [
            "SET/6 RED SPOTTY PAPER CUPS"
           ],
           [
            "SET/20 RED RETROSPOT PAPER NAPKINS ",
            "SET/6 RED SPOTTY PAPER PLATES"
           ]
          ],
          [
           [
            "ALARM CLOCK BAKELIKE GREEN"
           ],
           [
            "ALARM CLOCK BAKELIKE RED ",
            "POSTAGE"
           ]
          ],
          [
           [
            "SET/6 RED SPOTTY PAPER CUPS",
            "POSTAGE"
           ],
           [
            "SET/20 RED RETROSPOT PAPER NAPKINS "
           ]
          ],
          [
           [
            "ALARM CLOCK BAKELIKE RED "
           ],
           [
            "ALARM CLOCK BAKELIKE PINK",
            "POSTAGE"
           ]
          ],
          [
           [
            "DOLLY GIRL LUNCH BOX"
           ],
           [
            "SPACEBOY LUNCH BOX "
           ]
          ],
          [
           [
            "SET/6 RED SPOTTY PAPER CUPS",
            "POSTAGE"
           ],
           [
            "SET/20 RED RETROSPOT PAPER NAPKINS ",
            "SET/6 RED SPOTTY PAPER PLATES"
           ]
          ],
          [
           [
            "ALARM CLOCK BAKELIKE PINK",
            "POSTAGE"
           ],
           [
            "ALARM CLOCK BAKELIKE GREEN"
           ]
          ],
          [
           [
            "ALARM CLOCK BAKELIKE RED "
           ],
           [
            "ALARM CLOCK BAKELIKE PINK",
            "ALARM CLOCK BAKELIKE GREEN"
           ]
          ],
          [
           [
            "PLASTERS IN TIN CIRCUS PARADE ",
            "PLASTERS IN TIN WOODLAND ANIMALS"
           ],
           [
            "PLASTERS IN TIN SPACEBOY"
           ]
          ],
          [
           [
            "SET/6 RED SPOTTY PAPER CUPS",
            "SET/6 RED SPOTTY PAPER PLATES"
           ],
           [
            "SET/20 RED RETROSPOT PAPER NAPKINS ",
            "POSTAGE"
           ]
          ],
          [
           [
            "SET/6 RED SPOTTY PAPER PLATES"
           ],
           [
            "SET/20 RED RETROSPOT PAPER NAPKINS ",
            "POSTAGE"
           ]
          ],
          [
           [
            "PLASTERS IN TIN SPACEBOY",
            "PLASTERS IN TIN WOODLAND ANIMALS"
           ],
           [
            "PLASTERS IN TIN CIRCUS PARADE "
           ]
          ],
          [
           [
            "PLASTERS IN TIN SPACEBOY"
           ],
           [
            "PLASTERS IN TIN CIRCUS PARADE "
           ]
          ],
          [
           [
            "ALARM CLOCK BAKELIKE PINK"
           ],
           [
            "ALARM CLOCK BAKELIKE RED ",
            "POSTAGE"
           ]
          ],
          [
           [
            "PLASTERS IN TIN SPACEBOY",
            "POSTAGE"
           ],
           [
            "PLASTERS IN TIN CIRCUS PARADE "
           ]
          ],
          [
           [
            "ALARM CLOCK BAKELIKE GREEN"
           ],
           [
            "ALARM CLOCK BAKELIKE RED ",
            "ALARM CLOCK BAKELIKE PINK"
           ]
          ],
          [
           [
            "SET/6 RED SPOTTY PAPER PLATES"
           ],
           [
            "SET/6 RED SPOTTY PAPER CUPS",
            "SET/20 RED RETROSPOT PAPER NAPKINS ",
            "POSTAGE"
           ]
          ],
          [
           [
            "SET/20 RED RETROSPOT PAPER NAPKINS "
           ],
           [
            "SET/6 RED SPOTTY PAPER PLATES",
            "POSTAGE"
           ]
          ],
          [
           [
            "SET/20 RED RETROSPOT PAPER NAPKINS "
           ],
           [
            "SET/6 RED SPOTTY PAPER CUPS",
            "POSTAGE"
           ]
          ],
          [
           [
            "ALARM CLOCK BAKELIKE PINK"
           ],
           [
            "ALARM CLOCK BAKELIKE RED ",
            "ALARM CLOCK BAKELIKE GREEN"
           ]
          ],
          [
           [
            "SET/20 RED RETROSPOT PAPER NAPKINS "
           ],
           [
            "SET/6 RED SPOTTY PAPER CUPS",
            "SET/6 RED SPOTTY PAPER PLATES",
            "POSTAGE"
           ]
          ],
          [
           [
            "ALARM CLOCK BAKELIKE GREEN"
           ],
           [
            "ALARM CLOCK BAKELIKE PINK",
            "POSTAGE"
           ]
          ],
          [
           [
            "PLASTERS IN TIN WOODLAND ANIMALS"
           ],
           [
            "PLASTERS IN TIN SPACEBOY"
           ]
          ],
          [
           [
            "SET/6 RED SPOTTY PAPER CUPS"
           ],
           [
            "SET/20 RED RETROSPOT PAPER NAPKINS ",
            "POSTAGE"
           ]
          ],
          [
           [
            "POSTAGE",
            "PLASTERS IN TIN WOODLAND ANIMALS"
           ],
           [
            "PLASTERS IN TIN CIRCUS PARADE "
           ]
          ],
          [
           [
            "POSTAGE",
            "PLASTERS IN TIN WOODLAND ANIMALS"
           ],
           [
            "PLASTERS IN TIN SPACEBOY"
           ]
          ],
          [
           [
            "ALARM CLOCK BAKELIKE PINK"
           ],
           [
            "ALARM CLOCK BAKELIKE GREEN",
            "POSTAGE"
           ]
          ],
          [
           [
            "PLASTERS IN TIN SPACEBOY"
           ],
           [
            "POSTAGE",
            "PLASTERS IN TIN WOODLAND ANIMALS"
           ]
          ],
          [
           [
            "PLASTERS IN TIN WOODLAND ANIMALS"
           ],
           [
            "PLASTERS IN TIN CIRCUS PARADE "
           ]
          ],
          [
           [
            "SET/6 RED SPOTTY PAPER CUPS"
           ],
           [
            "SET/20 RED RETROSPOT PAPER NAPKINS ",
            "SET/6 RED SPOTTY PAPER PLATES",
            "POSTAGE"
           ]
          ],
          [
           [
            "PLASTERS IN TIN CIRCUS PARADE "
           ],
           [
            "PLASTERS IN TIN WOODLAND ANIMALS"
           ]
          ],
          [
           [
            "LUNCH BAG APPLE DESIGN",
            "POSTAGE"
           ],
           [
            "LUNCH BAG RED RETROSPOT"
           ]
          ],
          [
           [
            "ROUND SNACK BOXES SET OF 4 FRUITS "
           ],
           [
            "ROUND SNACK BOXES SET OF4 WOODLAND "
           ]
          ],
          [
           [
            "SPACEBOY LUNCH BOX "
           ],
           [
            "DOLLY GIRL LUNCH BOX"
           ]
          ],
          [
           [
            "PLASTERS IN TIN CIRCUS PARADE ",
            "POSTAGE"
           ],
           [
            "PLASTERS IN TIN WOODLAND ANIMALS"
           ]
          ],
          [
           [
            "LUNCH BAG WOODLAND"
           ],
           [
            "LUNCH BAG SPACEBOY DESIGN "
           ]
          ],
          [
           [
            "LUNCH BAG SPACEBOY DESIGN "
           ],
           [
            "LUNCH BAG APPLE DESIGN"
           ]
          ],
          [
           [
            "LUNCH BAG SPACEBOY DESIGN "
           ],
           [
            "LUNCH BAG WOODLAND"
           ]
          ],
          [
           [
            "LUNCH BAG SPACEBOY DESIGN "
           ],
           [
            "LUNCH BAG RED RETROSPOT"
           ]
          ],
          [
           [
            "PLASTERS IN TIN CIRCUS PARADE "
           ],
           [
            "PLASTERS IN TIN SPACEBOY"
           ]
          ],
          [
           [
            "PLASTERS IN TIN SPACEBOY"
           ],
           [
            "PLASTERS IN TIN CIRCUS PARADE ",
            "POSTAGE"
           ]
          ],
          [
           [
            "STRAWBERRY LUNCH BOX WITH CUTLERY"
           ],
           [
            "LUNCH BOX WITH CUTLERY RETROSPOT "
           ]
          ],
          [
           [
            "LUNCH BAG APPLE DESIGN"
           ],
           [
            "LUNCH BAG SPACEBOY DESIGN "
           ]
          ],
          [
           [
            "LUNCH BAG APPLE DESIGN"
           ],
           [
            "LUNCH BAG RED RETROSPOT"
           ]
          ],
          [
           [
            "PLASTERS IN TIN CIRCUS PARADE ",
            "POSTAGE"
           ],
           [
            "PLASTERS IN TIN SPACEBOY"
           ]
          ],
          [
           [
            "LUNCH BAG RED RETROSPOT",
            "POSTAGE"
           ],
           [
            "LUNCH BAG APPLE DESIGN"
           ]
          ],
          [
           [
            "PLASTERS IN TIN WOODLAND ANIMALS"
           ],
           [
            "PLASTERS IN TIN CIRCUS PARADE ",
            "POSTAGE"
           ]
          ],
          [
           [
            "PLASTERS IN TIN WOODLAND ANIMALS"
           ],
           [
            "PLASTERS IN TIN SPACEBOY",
            "POSTAGE"
           ]
          ],
          [
           [
            "PLASTERS IN TIN SPACEBOY"
           ],
           [
            "PLASTERS IN TIN CIRCUS PARADE ",
            "PLASTERS IN TIN WOODLAND ANIMALS"
           ]
          ],
          [
           [
            "PLASTERS IN TIN CIRCUS PARADE "
           ],
           [
            "POSTAGE",
            "PLASTERS IN TIN WOODLAND ANIMALS"
           ]
          ],
          [
           [
            "LUNCH BAG APPLE DESIGN"
           ],
           [
            "LUNCH BAG RED RETROSPOT",
            "POSTAGE"
           ]
          ],
          [
           [
            "LUNCH BOX WITH CUTLERY RETROSPOT "
           ],
           [
            "STRAWBERRY LUNCH BOX WITH CUTLERY"
           ]
          ],
          [
           [
            "PLASTERS IN TIN CIRCUS PARADE "
           ],
           [
            "PLASTERS IN TIN SPACEBOY",
            "POSTAGE"
           ]
          ],
          [
           [
            "LUNCH BAG RED RETROSPOT"
           ],
           [
            "LUNCH BAG SPACEBOY DESIGN "
           ]
          ],
          [
           [
            "LUNCH BAG RED RETROSPOT"
           ],
           [
            "LUNCH BAG APPLE DESIGN"
           ]
          ],
          [
           [
            "PLASTERS IN TIN WOODLAND ANIMALS"
           ],
           [
            "PLASTERS IN TIN CIRCUS PARADE ",
            "PLASTERS IN TIN SPACEBOY"
           ]
          ],
          [
           [
            "PLASTERS IN TIN CIRCUS PARADE "
           ],
           [
            "PLASTERS IN TIN SPACEBOY",
            "PLASTERS IN TIN WOODLAND ANIMALS"
           ]
          ],
          [
           [
            "LUNCH BAG RED RETROSPOT"
           ],
           [
            "LUNCH BAG APPLE DESIGN",
            "POSTAGE"
           ]
          ],
          [
           [
            "ROUND SNACK BOXES SET OF4 WOODLAND "
           ],
           [
            "ROUND SNACK BOXES SET OF 4 FRUITS "
           ]
          ]
         ],
         "hovertemplate": "support=%{x}<br>confidence=%{y}<br>lift=%{z}<br>antecedents=%{customdata[0]}<br>consequents=%{customdata[1]}<br>antecedent support=%{marker.color}<extra></extra>",
         "legendgroup": "",
         "marker": {
          "color": [
           0.0651,
           0.0868,
           0.0868,
           0.0716,
           0.0716,
           0.0564,
           0.0542,
           0.1085,
           0.0911,
           0.0803,
           0.1041,
           0.0629,
           0.0586,
           0.0586,
           0.0586,
           0.0564,
           0.0803,
           0.1388,
           0.0672,
           0.0629,
           0.0629,
           0.1171,
           0.0868,
           0.0694,
           0.0998,
           0.1627,
           0.0629,
           0.0629,
           0.0629,
           0.1562,
           0.0933,
           0.0607,
           0.1475,
           0.1171,
           0.102,
           0.0716,
           0.0846,
           0.0824,
           0.0824,
           0.1085,
           0.0803,
           0.1041,
           0.0651,
           0.0629,
           0.1128,
           0.0868,
           0.0868,
           0.0868,
           0.0868,
           0.0738,
           0.0846,
           0.1085,
           0.1193,
           0.1193,
           0.1041,
           0.0672,
           0.1453,
           0.0781,
           0.0889,
           0.0868,
           0.0868,
           0.0868,
           0.1085,
           0.1085,
           0.0846,
           0.1236,
           0.1323,
           0.0911,
           0.0803,
           0.0694,
           0.0889,
           0.1085,
           0.1171,
           0.1063,
           0.1128,
           0.1128,
           0.0933,
           0.0933,
           0.0738,
           0.0911,
           0.0803,
           0.1128,
           0.1041,
           0.0781,
           0.1193,
           0.0933,
           0.0846,
           0.0759,
           0.1171,
           0.1171,
           0.0976,
           0.0716,
           0.0868,
           0.0868,
           0.0868,
           0.1171,
           0.0846,
           0.0998,
           0.0803,
           0.0868,
           0.0998,
           0.0759,
           0.0803,
           0.0868,
           0.1041,
           0.1085,
           0.0889,
           0.1193,
           0.0868,
           0.0976,
           0.0846,
           0.1085,
           0.1128,
           0.1128,
           0.0868,
           0.1128,
           0.0846,
           0.1453,
           0.1171,
           0.1171,
           0.1171,
           0.0868,
           0.1193,
           0.1453,
           0.1171,
           0.1475,
           0.0889,
           0.0933,
           0.1063,
           0.1258,
           0.102,
           0.1041,
           0.1041,
           0.1041,
           0.1475,
           0.1193,
           0.1041,
           0.1085,
           0.1085,
           0.1258,
           0.1041,
           0.1453,
           0.1453,
           0.1193,
           0.1475,
           0.1085,
           0.1236,
           0.1475,
           0.1323,
           0.1323,
           0.1453,
           0.1475,
           0.1323,
           0.1388
          ],
          "coloraxis": "coloraxis",
          "opacity": 0.7,
          "symbol": "circle"
         },
         "mode": "markers",
         "name": "",
         "scene": "scene",
         "showlegend": false,
         "type": "scatter3d",
         "x": [
          0.0651,
          0.0846,
          0.0846,
          0.0694,
          0.0694,
          0.0542,
          0.0521,
          0.1041,
          0.0868,
          0.0759,
          0.0976,
          0.0586,
          0.0542,
          0.0542,
          0.0542,
          0.0521,
          0.0738,
          0.1258,
          0.0607,
          0.0564,
          0.0564,
          0.1041,
          0.0759,
          0.0607,
          0.0868,
          0.141,
          0.0542,
          0.0542,
          0.0542,
          0.1345,
          0.0803,
          0.0521,
          0.1258,
          0.0998,
          0.0868,
          0.0607,
          0.0716,
          0.0694,
          0.0694,
          0.0911,
          0.0672,
          0.0868,
          0.0542,
          0.0521,
          0.0933,
          0.0716,
          0.0716,
          0.0716,
          0.0716,
          0.0607,
          0.0694,
          0.0889,
          0.0976,
          0.0976,
          0.0846,
          0.0542,
          0.1171,
          0.0629,
          0.0716,
          0.0694,
          0.0694,
          0.0694,
          0.0868,
          0.0868,
          0.0672,
          0.0976,
          0.1041,
          0.0716,
          0.0629,
          0.0542,
          0.0694,
          0.0846,
          0.0911,
          0.0824,
          0.0868,
          0.0868,
          0.0716,
          0.0716,
          0.0564,
          0.0694,
          0.0607,
          0.0846,
          0.0781,
          0.0586,
          0.0889,
          0.0694,
          0.0629,
          0.0564,
          0.0868,
          0.0868,
          0.0716,
          0.0521,
          0.0629,
          0.0629,
          0.0629,
          0.0846,
          0.0607,
          0.0716,
          0.0564,
          0.0607,
          0.0694,
          0.0521,
          0.0542,
          0.0586,
          0.0694,
          0.0716,
          0.0586,
          0.0781,
          0.0564,
          0.0629,
          0.0542,
          0.0694,
          0.0716,
          0.0716,
          0.0542,
          0.0694,
          0.0521,
          0.0889,
          0.0716,
          0.0716,
          0.0716,
          0.0521,
          0.0716,
          0.0868,
          0.0694,
          0.0868,
          0.0521,
          0.0542,
          0.0607,
          0.0716,
          0.0564,
          0.0564,
          0.0564,
          0.0564,
          0.0781,
          0.0629,
          0.0542,
          0.0564,
          0.0564,
          0.0629,
          0.0521,
          0.0716,
          0.0716,
          0.0586,
          0.0716,
          0.0521,
          0.0542,
          0.0629,
          0.0564,
          0.0564,
          0.0586,
          0.0586,
          0.0521,
          0.0542
         ],
         "y": [
          1,
          0.975,
          0.975,
          0.9697,
          0.9697,
          0.9615,
          0.96,
          0.96,
          0.9524,
          0.9459,
          0.9375,
          0.931,
          0.9259,
          0.9259,
          0.9259,
          0.9231,
          0.9189,
          0.9063,
          0.9032,
          0.8966,
          0.8966,
          0.8889,
          0.875,
          0.875,
          0.8696,
          0.8667,
          0.8621,
          0.8621,
          0.8621,
          0.8611,
          0.8605,
          0.8571,
          0.8529,
          0.8519,
          0.8511,
          0.8485,
          0.8462,
          0.8421,
          0.8421,
          0.84,
          0.8378,
          0.8333,
          0.8333,
          0.8276,
          0.8269,
          0.825,
          0.825,
          0.825,
          0.825,
          0.8235,
          0.8205,
          0.82,
          0.8182,
          0.8182,
          0.8125,
          0.8065,
          0.806,
          0.8056,
          0.8049,
          0.8,
          0.8,
          0.8,
          0.8,
          0.8,
          0.7949,
          0.7895,
          0.7869,
          0.7857,
          0.7838,
          0.7812,
          0.7805,
          0.78,
          0.7778,
          0.7755,
          0.7692,
          0.7692,
          0.7674,
          0.7674,
          0.7647,
          0.7619,
          0.7568,
          0.75,
          0.75,
          0.75,
          0.7455,
          0.7442,
          0.7436,
          0.7429,
          0.7407,
          0.7407,
          0.7333,
          0.7273,
          0.725,
          0.725,
          0.725,
          0.7222,
          0.7179,
          0.7174,
          0.7027,
          0.7,
          0.6957,
          0.6857,
          0.6757,
          0.675,
          0.6667,
          0.66,
          0.6585,
          0.6545,
          0.65,
          0.6444,
          0.641,
          0.64,
          0.6346,
          0.6346,
          0.625,
          0.6154,
          0.6154,
          0.6119,
          0.6111,
          0.6111,
          0.6111,
          0.6,
          0.6,
          0.597,
          0.5926,
          0.5882,
          0.5854,
          0.5814,
          0.5714,
          0.569,
          0.5532,
          0.5417,
          0.5417,
          0.5417,
          0.5294,
          0.5273,
          0.5208,
          0.52,
          0.52,
          0.5,
          0.5,
          0.4925,
          0.4925,
          0.4909,
          0.4853,
          0.48,
          0.4386,
          0.4265,
          0.4262,
          0.4262,
          0.403,
          0.3971,
          0.3934,
          0.3906
         ],
         "z": [
          1.4823,
          8.9895,
          8.3236,
          8.9406,
          8.2783,
          1.4253,
          1.423,
          8.1956,
          8.1305,
          1.4022,
          1.3897,
          1.3801,
          1.3725,
          1.3725,
          14.719,
          1.3683,
          1.3621,
          1.3433,
          1.3389,
          1.329,
          1.329,
          8.1956,
          1.297,
          1.297,
          8.0174,
          1.2847,
          14.719,
          10.7409,
          10.1901,
          1.2764,
          1.2755,
          1.2706,
          1.2643,
          1.2627,
          1.2615,
          10.5717,
          1.2543,
          1.2483,
          1.2483,
          1.2451,
          9.9037,
          1.2353,
          1.2353,
          1.2267,
          1.2258,
          1.2229,
          1.2229,
          1.2229,
          1.2229,
          9.7345,
          1.2163,
          1.2155,
          1.2128,
          1.2128,
          7.2031,
          9.2944,
          1.1947,
          1.1941,
          1.1931,
          7.0923,
          8.0174,
          8.781,
          8.0174,
          7.0923,
          9.9037,
          1.1702,
          1.1664,
          6.9657,
          9.0331,
          1.1581,
          1.1569,
          8.9895,
          1.1529,
          1.1496,
          6.567,
          7.0923,
          7.0758,
          6.5517,
          8.8132,
          8.781,
          10.5717,
          7.2031,
          1.1117,
          5.1604,
          5.1292,
          7.1473,
          8.5699,
          9.2556,
          8.1305,
          6.567,
          5.0458,
          8.3818,
          8.5699,
          9.0331,
          1.0747,
          8.3236,
          9.7345,
          6.3599,
          9.2556,
          6.5857,
          8.0174,
          8.1055,
          10.7409,
          5.6577,
          7.1473,
          7.0758,
          4.4645,
          4.4374,
          8.8132,
          4.369,
          10.1901,
          8.9406,
          6.9657,
          6.3599,
          9.2944,
          7.0923,
          8.1055,
          5.1292,
          6.5517,
          4.143,
          5.1222,
          8.3818,
          5.1222,
          4.0474,
          8.2783,
          4.0474,
          4.4238,
          4.1879,
          6.5857,
          3.9148,
          5.3129,
          4.9942,
          5.3129,
          4.0936,
          4.4374,
          4.1909,
          4.2124,
          4.9942,
          3.9298,
          4.1909,
          4.61,
          3.9148,
          5.0458,
          5.6577,
          4.143,
          4.61,
          4.2124,
          4.369,
          4.0936,
          3.9298,
          5.1604,
          4.4645,
          4.4238,
          4.1879
         ]
        }
       ],
       "layout": {
        "coloraxis": {
         "colorbar": {
          "title": {
           "text": "antecedent support"
          }
         },
         "colorscale": [
          [
           0,
           "#0d0887"
          ],
          [
           0.1111111111111111,
           "#46039f"
          ],
          [
           0.2222222222222222,
           "#7201a8"
          ],
          [
           0.3333333333333333,
           "#9c179e"
          ],
          [
           0.4444444444444444,
           "#bd3786"
          ],
          [
           0.5555555555555556,
           "#d8576b"
          ],
          [
           0.6666666666666666,
           "#ed7953"
          ],
          [
           0.7777777777777778,
           "#fb9f3a"
          ],
          [
           0.8888888888888888,
           "#fdca26"
          ],
          [
           1,
           "#f0f921"
          ]
         ]
        },
        "height": 800,
        "legend": {
         "tracegroupgap": 0
        },
        "scene": {
         "domain": {
          "x": [
           0,
           1
          ],
          "y": [
           0,
           1
          ]
         },
         "xaxis": {
          "title": {
           "text": "support"
          }
         },
         "yaxis": {
          "title": {
           "text": "confidence"
          }
         },
         "zaxis": {
          "title": {
           "text": "lift"
          }
         }
        },
        "template": {
         "data": {
          "bar": [
           {
            "error_x": {
             "color": "#2a3f5f"
            },
            "error_y": {
             "color": "#2a3f5f"
            },
            "marker": {
             "line": {
              "color": "#E5ECF6",
              "width": 0.5
             },
             "pattern": {
              "fillmode": "overlay",
              "size": 10,
              "solidity": 0.2
             }
            },
            "type": "bar"
           }
          ],
          "barpolar": [
           {
            "marker": {
             "line": {
              "color": "#E5ECF6",
              "width": 0.5
             },
             "pattern": {
              "fillmode": "overlay",
              "size": 10,
              "solidity": 0.2
             }
            },
            "type": "barpolar"
           }
          ],
          "carpet": [
           {
            "aaxis": {
             "endlinecolor": "#2a3f5f",
             "gridcolor": "white",
             "linecolor": "white",
             "minorgridcolor": "white",
             "startlinecolor": "#2a3f5f"
            },
            "baxis": {
             "endlinecolor": "#2a3f5f",
             "gridcolor": "white",
             "linecolor": "white",
             "minorgridcolor": "white",
             "startlinecolor": "#2a3f5f"
            },
            "type": "carpet"
           }
          ],
          "choropleth": [
           {
            "colorbar": {
             "outlinewidth": 0,
             "ticks": ""
            },
            "type": "choropleth"
           }
          ],
          "contour": [
           {
            "colorbar": {
             "outlinewidth": 0,
             "ticks": ""
            },
            "colorscale": [
             [
              0,
              "#0d0887"
             ],
             [
              0.1111111111111111,
              "#46039f"
             ],
             [
              0.2222222222222222,
              "#7201a8"
             ],
             [
              0.3333333333333333,
              "#9c179e"
             ],
             [
              0.4444444444444444,
              "#bd3786"
             ],
             [
              0.5555555555555556,
              "#d8576b"
             ],
             [
              0.6666666666666666,
              "#ed7953"
             ],
             [
              0.7777777777777778,
              "#fb9f3a"
             ],
             [
              0.8888888888888888,
              "#fdca26"
             ],
             [
              1,
              "#f0f921"
             ]
            ],
            "type": "contour"
           }
          ],
          "contourcarpet": [
           {
            "colorbar": {
             "outlinewidth": 0,
             "ticks": ""
            },
            "type": "contourcarpet"
           }
          ],
          "heatmap": [
           {
            "colorbar": {
             "outlinewidth": 0,
             "ticks": ""
            },
            "colorscale": [
             [
              0,
              "#0d0887"
             ],
             [
              0.1111111111111111,
              "#46039f"
             ],
             [
              0.2222222222222222,
              "#7201a8"
             ],
             [
              0.3333333333333333,
              "#9c179e"
             ],
             [
              0.4444444444444444,
              "#bd3786"
             ],
             [
              0.5555555555555556,
              "#d8576b"
             ],
             [
              0.6666666666666666,
              "#ed7953"
             ],
             [
              0.7777777777777778,
              "#fb9f3a"
             ],
             [
              0.8888888888888888,
              "#fdca26"
             ],
             [
              1,
              "#f0f921"
             ]
            ],
            "type": "heatmap"
           }
          ],
          "heatmapgl": [
           {
            "colorbar": {
             "outlinewidth": 0,
             "ticks": ""
            },
            "colorscale": [
             [
              0,
              "#0d0887"
             ],
             [
              0.1111111111111111,
              "#46039f"
             ],
             [
              0.2222222222222222,
              "#7201a8"
             ],
             [
              0.3333333333333333,
              "#9c179e"
             ],
             [
              0.4444444444444444,
              "#bd3786"
             ],
             [
              0.5555555555555556,
              "#d8576b"
             ],
             [
              0.6666666666666666,
              "#ed7953"
             ],
             [
              0.7777777777777778,
              "#fb9f3a"
             ],
             [
              0.8888888888888888,
              "#fdca26"
             ],
             [
              1,
              "#f0f921"
             ]
            ],
            "type": "heatmapgl"
           }
          ],
          "histogram": [
           {
            "marker": {
             "pattern": {
              "fillmode": "overlay",
              "size": 10,
              "solidity": 0.2
             }
            },
            "type": "histogram"
           }
          ],
          "histogram2d": [
           {
            "colorbar": {
             "outlinewidth": 0,
             "ticks": ""
            },
            "colorscale": [
             [
              0,
              "#0d0887"
             ],
             [
              0.1111111111111111,
              "#46039f"
             ],
             [
              0.2222222222222222,
              "#7201a8"
             ],
             [
              0.3333333333333333,
              "#9c179e"
             ],
             [
              0.4444444444444444,
              "#bd3786"
             ],
             [
              0.5555555555555556,
              "#d8576b"
             ],
             [
              0.6666666666666666,
              "#ed7953"
             ],
             [
              0.7777777777777778,
              "#fb9f3a"
             ],
             [
              0.8888888888888888,
              "#fdca26"
             ],
             [
              1,
              "#f0f921"
             ]
            ],
            "type": "histogram2d"
           }
          ],
          "histogram2dcontour": [
           {
            "colorbar": {
             "outlinewidth": 0,
             "ticks": ""
            },
            "colorscale": [
             [
              0,
              "#0d0887"
             ],
             [
              0.1111111111111111,
              "#46039f"
             ],
             [
              0.2222222222222222,
              "#7201a8"
             ],
             [
              0.3333333333333333,
              "#9c179e"
             ],
             [
              0.4444444444444444,
              "#bd3786"
             ],
             [
              0.5555555555555556,
              "#d8576b"
             ],
             [
              0.6666666666666666,
              "#ed7953"
             ],
             [
              0.7777777777777778,
              "#fb9f3a"
             ],
             [
              0.8888888888888888,
              "#fdca26"
             ],
             [
              1,
              "#f0f921"
             ]
            ],
            "type": "histogram2dcontour"
           }
          ],
          "mesh3d": [
           {
            "colorbar": {
             "outlinewidth": 0,
             "ticks": ""
            },
            "type": "mesh3d"
           }
          ],
          "parcoords": [
           {
            "line": {
             "colorbar": {
              "outlinewidth": 0,
              "ticks": ""
             }
            },
            "type": "parcoords"
           }
          ],
          "pie": [
           {
            "automargin": true,
            "type": "pie"
           }
          ],
          "scatter": [
           {
            "fillpattern": {
             "fillmode": "overlay",
             "size": 10,
             "solidity": 0.2
            },
            "type": "scatter"
           }
          ],
          "scatter3d": [
           {
            "line": {
             "colorbar": {
              "outlinewidth": 0,
              "ticks": ""
             }
            },
            "marker": {
             "colorbar": {
              "outlinewidth": 0,
              "ticks": ""
             }
            },
            "type": "scatter3d"
           }
          ],
          "scattercarpet": [
           {
            "marker": {
             "colorbar": {
              "outlinewidth": 0,
              "ticks": ""
             }
            },
            "type": "scattercarpet"
           }
          ],
          "scattergeo": [
           {
            "marker": {
             "colorbar": {
              "outlinewidth": 0,
              "ticks": ""
             }
            },
            "type": "scattergeo"
           }
          ],
          "scattergl": [
           {
            "marker": {
             "colorbar": {
              "outlinewidth": 0,
              "ticks": ""
             }
            },
            "type": "scattergl"
           }
          ],
          "scattermapbox": [
           {
            "marker": {
             "colorbar": {
              "outlinewidth": 0,
              "ticks": ""
             }
            },
            "type": "scattermapbox"
           }
          ],
          "scatterpolar": [
           {
            "marker": {
             "colorbar": {
              "outlinewidth": 0,
              "ticks": ""
             }
            },
            "type": "scatterpolar"
           }
          ],
          "scatterpolargl": [
           {
            "marker": {
             "colorbar": {
              "outlinewidth": 0,
              "ticks": ""
             }
            },
            "type": "scatterpolargl"
           }
          ],
          "scatterternary": [
           {
            "marker": {
             "colorbar": {
              "outlinewidth": 0,
              "ticks": ""
             }
            },
            "type": "scatterternary"
           }
          ],
          "surface": [
           {
            "colorbar": {
             "outlinewidth": 0,
             "ticks": ""
            },
            "colorscale": [
             [
              0,
              "#0d0887"
             ],
             [
              0.1111111111111111,
              "#46039f"
             ],
             [
              0.2222222222222222,
              "#7201a8"
             ],
             [
              0.3333333333333333,
              "#9c179e"
             ],
             [
              0.4444444444444444,
              "#bd3786"
             ],
             [
              0.5555555555555556,
              "#d8576b"
             ],
             [
              0.6666666666666666,
              "#ed7953"
             ],
             [
              0.7777777777777778,
              "#fb9f3a"
             ],
             [
              0.8888888888888888,
              "#fdca26"
             ],
             [
              1,
              "#f0f921"
             ]
            ],
            "type": "surface"
           }
          ],
          "table": [
           {
            "cells": {
             "fill": {
              "color": "#EBF0F8"
             },
             "line": {
              "color": "white"
             }
            },
            "header": {
             "fill": {
              "color": "#C8D4E3"
             },
             "line": {
              "color": "white"
             }
            },
            "type": "table"
           }
          ]
         },
         "layout": {
          "annotationdefaults": {
           "arrowcolor": "#2a3f5f",
           "arrowhead": 0,
           "arrowwidth": 1
          },
          "autotypenumbers": "strict",
          "coloraxis": {
           "colorbar": {
            "outlinewidth": 0,
            "ticks": ""
           }
          },
          "colorscale": {
           "diverging": [
            [
             0,
             "#8e0152"
            ],
            [
             0.1,
             "#c51b7d"
            ],
            [
             0.2,
             "#de77ae"
            ],
            [
             0.3,
             "#f1b6da"
            ],
            [
             0.4,
             "#fde0ef"
            ],
            [
             0.5,
             "#f7f7f7"
            ],
            [
             0.6,
             "#e6f5d0"
            ],
            [
             0.7,
             "#b8e186"
            ],
            [
             0.8,
             "#7fbc41"
            ],
            [
             0.9,
             "#4d9221"
            ],
            [
             1,
             "#276419"
            ]
           ],
           "sequential": [
            [
             0,
             "#0d0887"
            ],
            [
             0.1111111111111111,
             "#46039f"
            ],
            [
             0.2222222222222222,
             "#7201a8"
            ],
            [
             0.3333333333333333,
             "#9c179e"
            ],
            [
             0.4444444444444444,
             "#bd3786"
            ],
            [
             0.5555555555555556,
             "#d8576b"
            ],
            [
             0.6666666666666666,
             "#ed7953"
            ],
            [
             0.7777777777777778,
             "#fb9f3a"
            ],
            [
             0.8888888888888888,
             "#fdca26"
            ],
            [
             1,
             "#f0f921"
            ]
           ],
           "sequentialminus": [
            [
             0,
             "#0d0887"
            ],
            [
             0.1111111111111111,
             "#46039f"
            ],
            [
             0.2222222222222222,
             "#7201a8"
            ],
            [
             0.3333333333333333,
             "#9c179e"
            ],
            [
             0.4444444444444444,
             "#bd3786"
            ],
            [
             0.5555555555555556,
             "#d8576b"
            ],
            [
             0.6666666666666666,
             "#ed7953"
            ],
            [
             0.7777777777777778,
             "#fb9f3a"
            ],
            [
             0.8888888888888888,
             "#fdca26"
            ],
            [
             1,
             "#f0f921"
            ]
           ]
          },
          "colorway": [
           "#636efa",
           "#EF553B",
           "#00cc96",
           "#ab63fa",
           "#FFA15A",
           "#19d3f3",
           "#FF6692",
           "#B6E880",
           "#FF97FF",
           "#FECB52"
          ],
          "font": {
           "color": "#2a3f5f"
          },
          "geo": {
           "bgcolor": "white",
           "lakecolor": "white",
           "landcolor": "#E5ECF6",
           "showlakes": true,
           "showland": true,
           "subunitcolor": "white"
          },
          "hoverlabel": {
           "align": "left"
          },
          "hovermode": "closest",
          "mapbox": {
           "style": "light"
          },
          "paper_bgcolor": "white",
          "plot_bgcolor": "#E5ECF6",
          "polar": {
           "angularaxis": {
            "gridcolor": "white",
            "linecolor": "white",
            "ticks": ""
           },
           "bgcolor": "#E5ECF6",
           "radialaxis": {
            "gridcolor": "white",
            "linecolor": "white",
            "ticks": ""
           }
          },
          "scene": {
           "xaxis": {
            "backgroundcolor": "#E5ECF6",
            "gridcolor": "white",
            "gridwidth": 2,
            "linecolor": "white",
            "showbackground": true,
            "ticks": "",
            "zerolinecolor": "white"
           },
           "yaxis": {
            "backgroundcolor": "#E5ECF6",
            "gridcolor": "white",
            "gridwidth": 2,
            "linecolor": "white",
            "showbackground": true,
            "ticks": "",
            "zerolinecolor": "white"
           },
           "zaxis": {
            "backgroundcolor": "#E5ECF6",
            "gridcolor": "white",
            "gridwidth": 2,
            "linecolor": "white",
            "showbackground": true,
            "ticks": "",
            "zerolinecolor": "white"
           }
          },
          "shapedefaults": {
           "line": {
            "color": "#2a3f5f"
           }
          },
          "ternary": {
           "aaxis": {
            "gridcolor": "white",
            "linecolor": "white",
            "ticks": ""
           },
           "baxis": {
            "gridcolor": "white",
            "linecolor": "white",
            "ticks": ""
           },
           "bgcolor": "#E5ECF6",
           "caxis": {
            "gridcolor": "white",
            "linecolor": "white",
            "ticks": ""
           }
          },
          "title": {
           "x": 0.05
          },
          "xaxis": {
           "automargin": true,
           "gridcolor": "white",
           "linecolor": "white",
           "ticks": "",
           "title": {
            "standoff": 15
           },
           "zerolinecolor": "white",
           "zerolinewidth": 2
          },
          "yaxis": {
           "automargin": true,
           "gridcolor": "white",
           "linecolor": "white",
           "ticks": "",
           "title": {
            "standoff": 15
           },
           "zerolinecolor": "white",
           "zerolinewidth": 2
          }
         }
        },
        "title": {
         "text": "3d Plot for Rule Mining"
        },
        "width": 900
       }
      },
      "text/html": [
       "<div>                            <div id=\"720b9f1f-62c0-4a21-9579-8a366dbc987d\" class=\"plotly-graph-div\" style=\"height:800px; width:900px;\"></div>            <script type=\"text/javascript\">                require([\"plotly\"], function(Plotly) {                    window.PLOTLYENV=window.PLOTLYENV || {};                                    if (document.getElementById(\"720b9f1f-62c0-4a21-9579-8a366dbc987d\")) {                    Plotly.newPlot(                        \"720b9f1f-62c0-4a21-9579-8a366dbc987d\",                        [{\"customdata\":[[[\"JUMBO BAG WOODLAND ANIMALS\"],[\"POSTAGE\"]],[[\"SET/6 RED SPOTTY PAPER CUPS\",\"SET/20 RED RETROSPOT PAPER NAPKINS \"],[\"SET/6 RED SPOTTY PAPER PLATES\"]],[[\"SET/20 RED RETROSPOT PAPER NAPKINS \",\"SET/6 RED SPOTTY PAPER PLATES\"],[\"SET/6 RED SPOTTY PAPER CUPS\"]],[[\"SET/6 RED SPOTTY PAPER CUPS\",\"SET/20 RED RETROSPOT PAPER NAPKINS \",\"POSTAGE\"],[\"SET/6 RED SPOTTY PAPER PLATES\"]],[[\"SET/20 RED RETROSPOT PAPER NAPKINS \",\"SET/6 RED SPOTTY PAPER PLATES\",\"POSTAGE\"],[\"SET/6 RED SPOTTY PAPER CUPS\"]],[[\"SET OF 9 BLACK SKULL BALLOONS\"],[\"POSTAGE\"]],[[\"PACK OF 6 SKULL PAPER CUPS\"],[\"POSTAGE\"]],[[\"SET/6 RED SPOTTY PAPER PLATES\"],[\"SET/6 RED SPOTTY PAPER CUPS\"]],[[\"SET/6 RED SPOTTY PAPER PLATES\",\"POSTAGE\"],[\"SET/6 RED SPOTTY PAPER CUPS\"]],[[\"TEA PARTY BIRTHDAY CARD\"],[\"POSTAGE\"]],[[\"STRAWBERRY LUNCH BOX WITH CUTLERY\"],[\"POSTAGE\"]],[[\"RED RETROSPOT PICNIC BAG\"],[\"POSTAGE\"]],[[\"SET OF 2 TEA TOWELS APPLE AND PEARS\"],[\"POSTAGE\"]],[[\"ASSORTED COLOUR MINI CASES\"],[\"POSTAGE\"]],[[\"CHILDRENS CUTLERY SPACEBOY \"],[\"CHILDRENS CUTLERY DOLLY GIRL \"]],[[\"LUNCH BAG RED RETROSPOT\",\"LUNCH BAG APPLE DESIGN\"],[\"POSTAGE\"]],[[\"ALARM CLOCK BAKELIKE RED \"],[\"POSTAGE\"]],[[\"ROUND SNACK BOXES SET OF4 WOODLAND \"],[\"POSTAGE\"]],[[\"ALARM CLOCK BAKELIKE RED \",\"ALARM CLOCK BAKELIKE GREEN\"],[\"POSTAGE\"]],[[\"WOODLAND CHARLOTTE BAG\"],[\"POSTAGE\"]],[[\"ALARM CLOCK BAKELIKE RED \",\"ALARM CLOCK BAKELIKE PINK\"],[\"POSTAGE\"]],[[\"SET/6 RED SPOTTY PAPER CUPS\"],[\"SET/6 RED SPOTTY PAPER PLATES\"]],[[\"ALARM CLOCK BAKELIKE PINK\"],[\"POSTAGE\"]],[[\"PAPER BUNTING RETROSPOT\"],[\"POSTAGE\"]],[[\"SET/6 RED SPOTTY PAPER CUPS\",\"POSTAGE\"],[\"SET/6 RED SPOTTY PAPER PLATES\"]],[[\"RABBIT NIGHT LIGHT\"],[\"POSTAGE\"]],[[\"CHILDRENS CUTLERY DOLLY GIRL \"],[\"CHILDRENS CUTLERY SPACEBOY \"]],[[\"ALARM CLOCK BAKELIKE PINK\",\"ALARM CLOCK BAKELIKE GREEN\"],[\"ALARM CLOCK BAKELIKE RED \"]],[[\"ALARM CLOCK BAKELIKE RED \",\"ALARM CLOCK BAKELIKE PINK\"],[\"ALARM CLOCK BAKELIKE GREEN\"]],[[\"RED TOADSTOOL LED NIGHT LIGHT\"],[\"POSTAGE\"]],[[\"ROUND SNACK BOXES SET OF 4 FRUITS \"],[\"POSTAGE\"]],[[\"COFFEE MUG APPLES DESIGN\"],[\"POSTAGE\"]],[[\"PLASTERS IN TIN CIRCUS PARADE \"],[\"POSTAGE\"]],[[\"SET/6 RED SPOTTY PAPER CUPS\"],[\"POSTAGE\"]],[[\"LUNCH BAG WOODLAND\"],[\"POSTAGE\"]],[[\"ALARM CLOCK BAKELIKE GREEN\",\"POSTAGE\"],[\"ALARM CLOCK BAKELIKE RED \"]],[[\"ALARM CLOCK BAKELIKE GREEN\"],[\"POSTAGE\"]],[[\"JUMBO BAG RED RETROSPOT\"],[\"POSTAGE\"]],[[\"RED RETROSPOT CHARLOTTE BAG\"],[\"POSTAGE\"]],[[\"SET/6 RED SPOTTY PAPER PLATES\"],[\"POSTAGE\"]],[[\"ALARM CLOCK BAKELIKE RED \"],[\"ALARM CLOCK BAKELIKE GREEN\"]],[[\"SET/6 RED SPOTTY PAPER CUPS\",\"SET/6 RED SPOTTY PAPER PLATES\"],[\"POSTAGE\"]],[[\"SET/10 RED POLKADOT PARTY CANDLES\"],[\"POSTAGE\"]],[[\"ALARM CLOCK BAKELIKE PINK\",\"ALARM CLOCK BAKELIKE GREEN\"],[\"POSTAGE\"]],[[\"SET/20 RED RETROSPOT PAPER NAPKINS \"],[\"POSTAGE\"]],[[\"SET/6 RED SPOTTY PAPER CUPS\",\"SET/20 RED RETROSPOT PAPER NAPKINS \"],[\"POSTAGE\"]],[[\"SET/20 RED RETROSPOT PAPER NAPKINS \",\"SET/6 RED SPOTTY PAPER PLATES\"],[\"POSTAGE\"]],[[\"PLASTERS IN TIN CIRCUS PARADE \",\"PLASTERS IN TIN WOODLAND ANIMALS\"],[\"POSTAGE\"]],[[\"PACK OF 72 RETROSPOT CAKE CASES\"],[\"POSTAGE\"]],[[\"ALARM CLOCK BAKELIKE RED \",\"POSTAGE\"],[\"ALARM CLOCK BAKELIKE GREEN\"]],[[\"SET/6 RED SPOTTY PAPER CUPS\",\"SET/20 RED RETROSPOT PAPER NAPKINS \",\"SET/6 RED SPOTTY PAPER PLATES\"],[\"POSTAGE\"]],[[\"LUNCH BAG APPLE DESIGN\"],[\"POSTAGE\"]],[[\"PLASTERS IN TIN SPACEBOY\"],[\"POSTAGE\"]],[[\"RED RETROSPOT MINI CASES\"],[\"POSTAGE\"]],[[\"SET/6 RED SPOTTY PAPER CUPS\",\"SET/6 RED SPOTTY PAPER PLATES\"],[\"SET/20 RED RETROSPOT PAPER NAPKINS \"]],[[\"ALARM CLOCK BAKELIKE RED \",\"ALARM CLOCK BAKELIKE GREEN\"],[\"ALARM CLOCK BAKELIKE PINK\"]],[[\"PLASTERS IN TIN WOODLAND ANIMALS\"],[\"POSTAGE\"]],[[\"PLASTERS IN TIN CIRCUS PARADE \",\"PLASTERS IN TIN SPACEBOY\"],[\"POSTAGE\"]],[[\"PLASTERS IN TIN SPACEBOY\",\"PLASTERS IN TIN WOODLAND ANIMALS\"],[\"POSTAGE\"]],[[\"SET/6 RED SPOTTY PAPER CUPS\",\"SET/6 RED SPOTTY PAPER PLATES\",\"POSTAGE\"],[\"SET/20 RED RETROSPOT PAPER NAPKINS \"]],[[\"SET/20 RED RETROSPOT PAPER NAPKINS \",\"SET/6 RED SPOTTY PAPER PLATES\"],[\"SET/6 RED SPOTTY PAPER CUPS\",\"POSTAGE\"]],[[\"SET/6 RED SPOTTY PAPER CUPS\",\"SET/20 RED RETROSPOT PAPER NAPKINS \"],[\"SET/6 RED SPOTTY PAPER PLATES\",\"POSTAGE\"]],[[\"SET/6 RED SPOTTY PAPER PLATES\"],[\"SET/6 RED SPOTTY PAPER CUPS\",\"POSTAGE\"]],[[\"SET/6 RED SPOTTY PAPER PLATES\"],[\"SET/20 RED RETROSPOT PAPER NAPKINS \"]],[[\"ALARM CLOCK BAKELIKE GREEN\"],[\"ALARM CLOCK BAKELIKE RED \"]],[[\"LUNCH BOX WITH CUTLERY RETROSPOT \"],[\"POSTAGE\"]],[[\"LUNCH BAG RED RETROSPOT\"],[\"POSTAGE\"]],[[\"SET/6 RED SPOTTY PAPER PLATES\",\"POSTAGE\"],[\"SET/20 RED RETROSPOT PAPER NAPKINS \"]],[[\"ALARM CLOCK BAKELIKE RED \"],[\"ALARM CLOCK BAKELIKE PINK\"]],[[\"PLASTERS IN TIN STRONGMAN\"],[\"POSTAGE\"]],[[\"MINI PAINT SET VINTAGE \"],[\"POSTAGE\"]],[[\"SET/6 RED SPOTTY PAPER PLATES\"],[\"SET/6 RED SPOTTY PAPER CUPS\",\"SET/20 RED RETROSPOT PAPER NAPKINS \"]],[[\"REGENCY CAKESTAND 3 TIER\"],[\"POSTAGE\"]],[[\"SPACEBOY LUNCH BOX \"],[\"POSTAGE\"]],[[\"SET/20 RED RETROSPOT PAPER NAPKINS \"],[\"SET/6 RED SPOTTY PAPER CUPS\"]],[[\"SET/20 RED RETROSPOT PAPER NAPKINS \"],[\"SET/6 RED SPOTTY PAPER PLATES\"]],[[\"SET/20 RED RETROSPOT PAPER NAPKINS \",\"POSTAGE\"],[\"SET/6 RED SPOTTY PAPER PLATES\"]],[[\"SET/20 RED RETROSPOT PAPER NAPKINS \",\"POSTAGE\"],[\"SET/6 RED SPOTTY PAPER CUPS\"]],[[\"ALARM CLOCK BAKELIKE RED \",\"POSTAGE\"],[\"ALARM CLOCK BAKELIKE PINK\"]],[[\"SET/6 RED SPOTTY PAPER PLATES\",\"POSTAGE\"],[\"SET/6 RED SPOTTY PAPER CUPS\",\"SET/20 RED RETROSPOT PAPER NAPKINS \"]],[[\"ALARM CLOCK BAKELIKE RED \"],[\"ALARM CLOCK BAKELIKE GREEN\",\"POSTAGE\"]],[[\"SET/20 RED RETROSPOT PAPER NAPKINS \"],[\"SET/6 RED SPOTTY PAPER CUPS\",\"SET/6 RED SPOTTY PAPER PLATES\"]],[[\"LUNCH BAG SPACEBOY DESIGN \"],[\"POSTAGE\"]],[[\"PLASTERS IN TIN CIRCUS PARADE \",\"PLASTERS IN TIN SPACEBOY\"],[\"PLASTERS IN TIN WOODLAND ANIMALS\"]],[[\"PLASTERS IN TIN SPACEBOY\"],[\"PLASTERS IN TIN WOODLAND ANIMALS\"]],[[\"SET/20 RED RETROSPOT PAPER NAPKINS \",\"POSTAGE\"],[\"SET/6 RED SPOTTY PAPER CUPS\",\"SET/6 RED SPOTTY PAPER PLATES\"]],[[\"ALARM CLOCK BAKELIKE GREEN\"],[\"ALARM CLOCK BAKELIKE PINK\"]],[[\"ALARM CLOCK BAKELIKE PINK\",\"POSTAGE\"],[\"ALARM CLOCK BAKELIKE RED \"]],[[\"SET/6 RED SPOTTY PAPER CUPS\"],[\"SET/6 RED SPOTTY PAPER PLATES\",\"POSTAGE\"]],[[\"SET/6 RED SPOTTY PAPER CUPS\"],[\"SET/20 RED RETROSPOT PAPER NAPKINS \"]],[[\"PLASTERS IN TIN SPACEBOY\",\"POSTAGE\"],[\"PLASTERS IN TIN WOODLAND ANIMALS\"]],[[\"ALARM CLOCK BAKELIKE GREEN\",\"POSTAGE\"],[\"ALARM CLOCK BAKELIKE PINK\"]],[[\"ALARM CLOCK BAKELIKE PINK\"],[\"ALARM CLOCK BAKELIKE GREEN\"]],[[\"ALARM CLOCK BAKELIKE PINK\"],[\"ALARM CLOCK BAKELIKE RED \"]],[[\"DOLLY GIRL LUNCH BOX\"],[\"POSTAGE\"]],[[\"SET/6 RED SPOTTY PAPER CUPS\"],[\"SET/20 RED RETROSPOT PAPER NAPKINS \",\"SET/6 RED SPOTTY PAPER PLATES\"]],[[\"ALARM CLOCK BAKELIKE GREEN\"],[\"ALARM CLOCK BAKELIKE RED \",\"POSTAGE\"]],[[\"SET/6 RED SPOTTY PAPER CUPS\",\"POSTAGE\"],[\"SET/20 RED RETROSPOT PAPER NAPKINS \"]],[[\"ALARM CLOCK BAKELIKE RED \"],[\"ALARM CLOCK BAKELIKE PINK\",\"POSTAGE\"]],[[\"DOLLY GIRL LUNCH BOX\"],[\"SPACEBOY LUNCH BOX \"]],[[\"SET/6 RED SPOTTY PAPER CUPS\",\"POSTAGE\"],[\"SET/20 RED RETROSPOT PAPER NAPKINS \",\"SET/6 RED SPOTTY PAPER PLATES\"]],[[\"ALARM CLOCK BAKELIKE PINK\",\"POSTAGE\"],[\"ALARM CLOCK BAKELIKE GREEN\"]],[[\"ALARM CLOCK BAKELIKE RED \"],[\"ALARM CLOCK BAKELIKE PINK\",\"ALARM CLOCK BAKELIKE GREEN\"]],[[\"PLASTERS IN TIN CIRCUS PARADE \",\"PLASTERS IN TIN WOODLAND ANIMALS\"],[\"PLASTERS IN TIN SPACEBOY\"]],[[\"SET/6 RED SPOTTY PAPER CUPS\",\"SET/6 RED SPOTTY PAPER PLATES\"],[\"SET/20 RED RETROSPOT PAPER NAPKINS \",\"POSTAGE\"]],[[\"SET/6 RED SPOTTY PAPER PLATES\"],[\"SET/20 RED RETROSPOT PAPER NAPKINS \",\"POSTAGE\"]],[[\"PLASTERS IN TIN SPACEBOY\",\"PLASTERS IN TIN WOODLAND ANIMALS\"],[\"PLASTERS IN TIN CIRCUS PARADE \"]],[[\"PLASTERS IN TIN SPACEBOY\"],[\"PLASTERS IN TIN CIRCUS PARADE \"]],[[\"ALARM CLOCK BAKELIKE PINK\"],[\"ALARM CLOCK BAKELIKE RED \",\"POSTAGE\"]],[[\"PLASTERS IN TIN SPACEBOY\",\"POSTAGE\"],[\"PLASTERS IN TIN CIRCUS PARADE \"]],[[\"ALARM CLOCK BAKELIKE GREEN\"],[\"ALARM CLOCK BAKELIKE RED \",\"ALARM CLOCK BAKELIKE PINK\"]],[[\"SET/6 RED SPOTTY PAPER PLATES\"],[\"SET/6 RED SPOTTY PAPER CUPS\",\"SET/20 RED RETROSPOT PAPER NAPKINS \",\"POSTAGE\"]],[[\"SET/20 RED RETROSPOT PAPER NAPKINS \"],[\"SET/6 RED SPOTTY PAPER PLATES\",\"POSTAGE\"]],[[\"SET/20 RED RETROSPOT PAPER NAPKINS \"],[\"SET/6 RED SPOTTY PAPER CUPS\",\"POSTAGE\"]],[[\"ALARM CLOCK BAKELIKE PINK\"],[\"ALARM CLOCK BAKELIKE RED \",\"ALARM CLOCK BAKELIKE GREEN\"]],[[\"SET/20 RED RETROSPOT PAPER NAPKINS \"],[\"SET/6 RED SPOTTY PAPER CUPS\",\"SET/6 RED SPOTTY PAPER PLATES\",\"POSTAGE\"]],[[\"ALARM CLOCK BAKELIKE GREEN\"],[\"ALARM CLOCK BAKELIKE PINK\",\"POSTAGE\"]],[[\"PLASTERS IN TIN WOODLAND ANIMALS\"],[\"PLASTERS IN TIN SPACEBOY\"]],[[\"SET/6 RED SPOTTY PAPER CUPS\"],[\"SET/20 RED RETROSPOT PAPER NAPKINS \",\"POSTAGE\"]],[[\"POSTAGE\",\"PLASTERS IN TIN WOODLAND ANIMALS\"],[\"PLASTERS IN TIN CIRCUS PARADE \"]],[[\"POSTAGE\",\"PLASTERS IN TIN WOODLAND ANIMALS\"],[\"PLASTERS IN TIN SPACEBOY\"]],[[\"ALARM CLOCK BAKELIKE PINK\"],[\"ALARM CLOCK BAKELIKE GREEN\",\"POSTAGE\"]],[[\"PLASTERS IN TIN SPACEBOY\"],[\"POSTAGE\",\"PLASTERS IN TIN WOODLAND ANIMALS\"]],[[\"PLASTERS IN TIN WOODLAND ANIMALS\"],[\"PLASTERS IN TIN CIRCUS PARADE \"]],[[\"SET/6 RED SPOTTY PAPER CUPS\"],[\"SET/20 RED RETROSPOT PAPER NAPKINS \",\"SET/6 RED SPOTTY PAPER PLATES\",\"POSTAGE\"]],[[\"PLASTERS IN TIN CIRCUS PARADE \"],[\"PLASTERS IN TIN WOODLAND ANIMALS\"]],[[\"LUNCH BAG APPLE DESIGN\",\"POSTAGE\"],[\"LUNCH BAG RED RETROSPOT\"]],[[\"ROUND SNACK BOXES SET OF 4 FRUITS \"],[\"ROUND SNACK BOXES SET OF4 WOODLAND \"]],[[\"SPACEBOY LUNCH BOX \"],[\"DOLLY GIRL LUNCH BOX\"]],[[\"PLASTERS IN TIN CIRCUS PARADE \",\"POSTAGE\"],[\"PLASTERS IN TIN WOODLAND ANIMALS\"]],[[\"LUNCH BAG WOODLAND\"],[\"LUNCH BAG SPACEBOY DESIGN \"]],[[\"LUNCH BAG SPACEBOY DESIGN \"],[\"LUNCH BAG APPLE DESIGN\"]],[[\"LUNCH BAG SPACEBOY DESIGN \"],[\"LUNCH BAG WOODLAND\"]],[[\"LUNCH BAG SPACEBOY DESIGN \"],[\"LUNCH BAG RED RETROSPOT\"]],[[\"PLASTERS IN TIN CIRCUS PARADE \"],[\"PLASTERS IN TIN SPACEBOY\"]],[[\"PLASTERS IN TIN SPACEBOY\"],[\"PLASTERS IN TIN CIRCUS PARADE \",\"POSTAGE\"]],[[\"STRAWBERRY LUNCH BOX WITH CUTLERY\"],[\"LUNCH BOX WITH CUTLERY RETROSPOT \"]],[[\"LUNCH BAG APPLE DESIGN\"],[\"LUNCH BAG SPACEBOY DESIGN \"]],[[\"LUNCH BAG APPLE DESIGN\"],[\"LUNCH BAG RED RETROSPOT\"]],[[\"PLASTERS IN TIN CIRCUS PARADE \",\"POSTAGE\"],[\"PLASTERS IN TIN SPACEBOY\"]],[[\"LUNCH BAG RED RETROSPOT\",\"POSTAGE\"],[\"LUNCH BAG APPLE DESIGN\"]],[[\"PLASTERS IN TIN WOODLAND ANIMALS\"],[\"PLASTERS IN TIN CIRCUS PARADE \",\"POSTAGE\"]],[[\"PLASTERS IN TIN WOODLAND ANIMALS\"],[\"PLASTERS IN TIN SPACEBOY\",\"POSTAGE\"]],[[\"PLASTERS IN TIN SPACEBOY\"],[\"PLASTERS IN TIN CIRCUS PARADE \",\"PLASTERS IN TIN WOODLAND ANIMALS\"]],[[\"PLASTERS IN TIN CIRCUS PARADE \"],[\"POSTAGE\",\"PLASTERS IN TIN WOODLAND ANIMALS\"]],[[\"LUNCH BAG APPLE DESIGN\"],[\"LUNCH BAG RED RETROSPOT\",\"POSTAGE\"]],[[\"LUNCH BOX WITH CUTLERY RETROSPOT \"],[\"STRAWBERRY LUNCH BOX WITH CUTLERY\"]],[[\"PLASTERS IN TIN CIRCUS PARADE \"],[\"PLASTERS IN TIN SPACEBOY\",\"POSTAGE\"]],[[\"LUNCH BAG RED RETROSPOT\"],[\"LUNCH BAG SPACEBOY DESIGN \"]],[[\"LUNCH BAG RED RETROSPOT\"],[\"LUNCH BAG APPLE DESIGN\"]],[[\"PLASTERS IN TIN WOODLAND ANIMALS\"],[\"PLASTERS IN TIN CIRCUS PARADE \",\"PLASTERS IN TIN SPACEBOY\"]],[[\"PLASTERS IN TIN CIRCUS PARADE \"],[\"PLASTERS IN TIN SPACEBOY\",\"PLASTERS IN TIN WOODLAND ANIMALS\"]],[[\"LUNCH BAG RED RETROSPOT\"],[\"LUNCH BAG APPLE DESIGN\",\"POSTAGE\"]],[[\"ROUND SNACK BOXES SET OF4 WOODLAND \"],[\"ROUND SNACK BOXES SET OF 4 FRUITS \"]]],\"hovertemplate\":\"support=%{x}<br>confidence=%{y}<br>lift=%{z}<br>antecedents=%{customdata[0]}<br>consequents=%{customdata[1]}<br>antecedent support=%{marker.color}<extra></extra>\",\"legendgroup\":\"\",\"marker\":{\"color\":[0.0651,0.0868,0.0868,0.0716,0.0716,0.0564,0.0542,0.1085,0.0911,0.0803,0.1041,0.0629,0.0586,0.0586,0.0586,0.0564,0.0803,0.1388,0.0672,0.0629,0.0629,0.1171,0.0868,0.0694,0.0998,0.1627,0.0629,0.0629,0.0629,0.1562,0.0933,0.0607,0.1475,0.1171,0.102,0.0716,0.0846,0.0824,0.0824,0.1085,0.0803,0.1041,0.0651,0.0629,0.1128,0.0868,0.0868,0.0868,0.0868,0.0738,0.0846,0.1085,0.1193,0.1193,0.1041,0.0672,0.1453,0.0781,0.0889,0.0868,0.0868,0.0868,0.1085,0.1085,0.0846,0.1236,0.1323,0.0911,0.0803,0.0694,0.0889,0.1085,0.1171,0.1063,0.1128,0.1128,0.0933,0.0933,0.0738,0.0911,0.0803,0.1128,0.1041,0.0781,0.1193,0.0933,0.0846,0.0759,0.1171,0.1171,0.0976,0.0716,0.0868,0.0868,0.0868,0.1171,0.0846,0.0998,0.0803,0.0868,0.0998,0.0759,0.0803,0.0868,0.1041,0.1085,0.0889,0.1193,0.0868,0.0976,0.0846,0.1085,0.1128,0.1128,0.0868,0.1128,0.0846,0.1453,0.1171,0.1171,0.1171,0.0868,0.1193,0.1453,0.1171,0.1475,0.0889,0.0933,0.1063,0.1258,0.102,0.1041,0.1041,0.1041,0.1475,0.1193,0.1041,0.1085,0.1085,0.1258,0.1041,0.1453,0.1453,0.1193,0.1475,0.1085,0.1236,0.1475,0.1323,0.1323,0.1453,0.1475,0.1323,0.1388],\"coloraxis\":\"coloraxis\",\"opacity\":0.7,\"symbol\":\"circle\"},\"mode\":\"markers\",\"name\":\"\",\"scene\":\"scene\",\"showlegend\":false,\"x\":[0.0651,0.0846,0.0846,0.0694,0.0694,0.0542,0.0521,0.1041,0.0868,0.0759,0.0976,0.0586,0.0542,0.0542,0.0542,0.0521,0.0738,0.1258,0.0607,0.0564,0.0564,0.1041,0.0759,0.0607,0.0868,0.141,0.0542,0.0542,0.0542,0.1345,0.0803,0.0521,0.1258,0.0998,0.0868,0.0607,0.0716,0.0694,0.0694,0.0911,0.0672,0.0868,0.0542,0.0521,0.0933,0.0716,0.0716,0.0716,0.0716,0.0607,0.0694,0.0889,0.0976,0.0976,0.0846,0.0542,0.1171,0.0629,0.0716,0.0694,0.0694,0.0694,0.0868,0.0868,0.0672,0.0976,0.1041,0.0716,0.0629,0.0542,0.0694,0.0846,0.0911,0.0824,0.0868,0.0868,0.0716,0.0716,0.0564,0.0694,0.0607,0.0846,0.0781,0.0586,0.0889,0.0694,0.0629,0.0564,0.0868,0.0868,0.0716,0.0521,0.0629,0.0629,0.0629,0.0846,0.0607,0.0716,0.0564,0.0607,0.0694,0.0521,0.0542,0.0586,0.0694,0.0716,0.0586,0.0781,0.0564,0.0629,0.0542,0.0694,0.0716,0.0716,0.0542,0.0694,0.0521,0.0889,0.0716,0.0716,0.0716,0.0521,0.0716,0.0868,0.0694,0.0868,0.0521,0.0542,0.0607,0.0716,0.0564,0.0564,0.0564,0.0564,0.0781,0.0629,0.0542,0.0564,0.0564,0.0629,0.0521,0.0716,0.0716,0.0586,0.0716,0.0521,0.0542,0.0629,0.0564,0.0564,0.0586,0.0586,0.0521,0.0542],\"y\":[1.0,0.975,0.975,0.9697,0.9697,0.9615,0.96,0.96,0.9524,0.9459,0.9375,0.931,0.9259,0.9259,0.9259,0.9231,0.9189,0.9063,0.9032,0.8966,0.8966,0.8889,0.875,0.875,0.8696,0.8667,0.8621,0.8621,0.8621,0.8611,0.8605,0.8571,0.8529,0.8519,0.8511,0.8485,0.8462,0.8421,0.8421,0.84,0.8378,0.8333,0.8333,0.8276,0.8269,0.825,0.825,0.825,0.825,0.8235,0.8205,0.82,0.8182,0.8182,0.8125,0.8065,0.806,0.8056,0.8049,0.8,0.8,0.8,0.8,0.8,0.7949,0.7895,0.7869,0.7857,0.7838,0.7812,0.7805,0.78,0.7778,0.7755,0.7692,0.7692,0.7674,0.7674,0.7647,0.7619,0.7568,0.75,0.75,0.75,0.7455,0.7442,0.7436,0.7429,0.7407,0.7407,0.7333,0.7273,0.725,0.725,0.725,0.7222,0.7179,0.7174,0.7027,0.7,0.6957,0.6857,0.6757,0.675,0.6667,0.66,0.6585,0.6545,0.65,0.6444,0.641,0.64,0.6346,0.6346,0.625,0.6154,0.6154,0.6119,0.6111,0.6111,0.6111,0.6,0.6,0.597,0.5926,0.5882,0.5854,0.5814,0.5714,0.569,0.5532,0.5417,0.5417,0.5417,0.5294,0.5273,0.5208,0.52,0.52,0.5,0.5,0.4925,0.4925,0.4909,0.4853,0.48,0.4386,0.4265,0.4262,0.4262,0.403,0.3971,0.3934,0.3906],\"z\":[1.4823,8.9895,8.3236,8.9406,8.2783,1.4253,1.423,8.1956,8.1305,1.4022,1.3897,1.3801,1.3725,1.3725,14.719,1.3683,1.3621,1.3433,1.3389,1.329,1.329,8.1956,1.297,1.297,8.0174,1.2847,14.719,10.7409,10.1901,1.2764,1.2755,1.2706,1.2643,1.2627,1.2615,10.5717,1.2543,1.2483,1.2483,1.2451,9.9037,1.2353,1.2353,1.2267,1.2258,1.2229,1.2229,1.2229,1.2229,9.7345,1.2163,1.2155,1.2128,1.2128,7.2031,9.2944,1.1947,1.1941,1.1931,7.0923,8.0174,8.781,8.0174,7.0923,9.9037,1.1702,1.1664,6.9657,9.0331,1.1581,1.1569,8.9895,1.1529,1.1496,6.567,7.0923,7.0758,6.5517,8.8132,8.781,10.5717,7.2031,1.1117,5.1604,5.1292,7.1473,8.5699,9.2556,8.1305,6.567,5.0458,8.3818,8.5699,9.0331,1.0747,8.3236,9.7345,6.3599,9.2556,6.5857,8.0174,8.1055,10.7409,5.6577,7.1473,7.0758,4.4645,4.4374,8.8132,4.369,10.1901,8.9406,6.9657,6.3599,9.2944,7.0923,8.1055,5.1292,6.5517,4.143,5.1222,8.3818,5.1222,4.0474,8.2783,4.0474,4.4238,4.1879,6.5857,3.9148,5.3129,4.9942,5.3129,4.0936,4.4374,4.1909,4.2124,4.9942,3.9298,4.1909,4.61,3.9148,5.0458,5.6577,4.143,4.61,4.2124,4.369,4.0936,3.9298,5.1604,4.4645,4.4238,4.1879],\"type\":\"scatter3d\"}],                        {\"template\":{\"data\":{\"histogram2dcontour\":[{\"type\":\"histogram2dcontour\",\"colorbar\":{\"outlinewidth\":0,\"ticks\":\"\"},\"colorscale\":[[0.0,\"#0d0887\"],[0.1111111111111111,\"#46039f\"],[0.2222222222222222,\"#7201a8\"],[0.3333333333333333,\"#9c179e\"],[0.4444444444444444,\"#bd3786\"],[0.5555555555555556,\"#d8576b\"],[0.6666666666666666,\"#ed7953\"],[0.7777777777777778,\"#fb9f3a\"],[0.8888888888888888,\"#fdca26\"],[1.0,\"#f0f921\"]]}],\"choropleth\":[{\"type\":\"choropleth\",\"colorbar\":{\"outlinewidth\":0,\"ticks\":\"\"}}],\"histogram2d\":[{\"type\":\"histogram2d\",\"colorbar\":{\"outlinewidth\":0,\"ticks\":\"\"},\"colorscale\":[[0.0,\"#0d0887\"],[0.1111111111111111,\"#46039f\"],[0.2222222222222222,\"#7201a8\"],[0.3333333333333333,\"#9c179e\"],[0.4444444444444444,\"#bd3786\"],[0.5555555555555556,\"#d8576b\"],[0.6666666666666666,\"#ed7953\"],[0.7777777777777778,\"#fb9f3a\"],[0.8888888888888888,\"#fdca26\"],[1.0,\"#f0f921\"]]}],\"heatmap\":[{\"type\":\"heatmap\",\"colorbar\":{\"outlinewidth\":0,\"ticks\":\"\"},\"colorscale\":[[0.0,\"#0d0887\"],[0.1111111111111111,\"#46039f\"],[0.2222222222222222,\"#7201a8\"],[0.3333333333333333,\"#9c179e\"],[0.4444444444444444,\"#bd3786\"],[0.5555555555555556,\"#d8576b\"],[0.6666666666666666,\"#ed7953\"],[0.7777777777777778,\"#fb9f3a\"],[0.8888888888888888,\"#fdca26\"],[1.0,\"#f0f921\"]]}],\"heatmapgl\":[{\"type\":\"heatmapgl\",\"colorbar\":{\"outlinewidth\":0,\"ticks\":\"\"},\"colorscale\":[[0.0,\"#0d0887\"],[0.1111111111111111,\"#46039f\"],[0.2222222222222222,\"#7201a8\"],[0.3333333333333333,\"#9c179e\"],[0.4444444444444444,\"#bd3786\"],[0.5555555555555556,\"#d8576b\"],[0.6666666666666666,\"#ed7953\"],[0.7777777777777778,\"#fb9f3a\"],[0.8888888888888888,\"#fdca26\"],[1.0,\"#f0f921\"]]}],\"contourcarpet\":[{\"type\":\"contourcarpet\",\"colorbar\":{\"outlinewidth\":0,\"ticks\":\"\"}}],\"contour\":[{\"type\":\"contour\",\"colorbar\":{\"outlinewidth\":0,\"ticks\":\"\"},\"colorscale\":[[0.0,\"#0d0887\"],[0.1111111111111111,\"#46039f\"],[0.2222222222222222,\"#7201a8\"],[0.3333333333333333,\"#9c179e\"],[0.4444444444444444,\"#bd3786\"],[0.5555555555555556,\"#d8576b\"],[0.6666666666666666,\"#ed7953\"],[0.7777777777777778,\"#fb9f3a\"],[0.8888888888888888,\"#fdca26\"],[1.0,\"#f0f921\"]]}],\"surface\":[{\"type\":\"surface\",\"colorbar\":{\"outlinewidth\":0,\"ticks\":\"\"},\"colorscale\":[[0.0,\"#0d0887\"],[0.1111111111111111,\"#46039f\"],[0.2222222222222222,\"#7201a8\"],[0.3333333333333333,\"#9c179e\"],[0.4444444444444444,\"#bd3786\"],[0.5555555555555556,\"#d8576b\"],[0.6666666666666666,\"#ed7953\"],[0.7777777777777778,\"#fb9f3a\"],[0.8888888888888888,\"#fdca26\"],[1.0,\"#f0f921\"]]}],\"mesh3d\":[{\"type\":\"mesh3d\",\"colorbar\":{\"outlinewidth\":0,\"ticks\":\"\"}}],\"scatter\":[{\"fillpattern\":{\"fillmode\":\"overlay\",\"size\":10,\"solidity\":0.2},\"type\":\"scatter\"}],\"parcoords\":[{\"type\":\"parcoords\",\"line\":{\"colorbar\":{\"outlinewidth\":0,\"ticks\":\"\"}}}],\"scatterpolargl\":[{\"type\":\"scatterpolargl\",\"marker\":{\"colorbar\":{\"outlinewidth\":0,\"ticks\":\"\"}}}],\"bar\":[{\"error_x\":{\"color\":\"#2a3f5f\"},\"error_y\":{\"color\":\"#2a3f5f\"},\"marker\":{\"line\":{\"color\":\"#E5ECF6\",\"width\":0.5},\"pattern\":{\"fillmode\":\"overlay\",\"size\":10,\"solidity\":0.2}},\"type\":\"bar\"}],\"scattergeo\":[{\"type\":\"scattergeo\",\"marker\":{\"colorbar\":{\"outlinewidth\":0,\"ticks\":\"\"}}}],\"scatterpolar\":[{\"type\":\"scatterpolar\",\"marker\":{\"colorbar\":{\"outlinewidth\":0,\"ticks\":\"\"}}}],\"histogram\":[{\"marker\":{\"pattern\":{\"fillmode\":\"overlay\",\"size\":10,\"solidity\":0.2}},\"type\":\"histogram\"}],\"scattergl\":[{\"type\":\"scattergl\",\"marker\":{\"colorbar\":{\"outlinewidth\":0,\"ticks\":\"\"}}}],\"scatter3d\":[{\"type\":\"scatter3d\",\"line\":{\"colorbar\":{\"outlinewidth\":0,\"ticks\":\"\"}},\"marker\":{\"colorbar\":{\"outlinewidth\":0,\"ticks\":\"\"}}}],\"scattermapbox\":[{\"type\":\"scattermapbox\",\"marker\":{\"colorbar\":{\"outlinewidth\":0,\"ticks\":\"\"}}}],\"scatterternary\":[{\"type\":\"scatterternary\",\"marker\":{\"colorbar\":{\"outlinewidth\":0,\"ticks\":\"\"}}}],\"scattercarpet\":[{\"type\":\"scattercarpet\",\"marker\":{\"colorbar\":{\"outlinewidth\":0,\"ticks\":\"\"}}}],\"carpet\":[{\"aaxis\":{\"endlinecolor\":\"#2a3f5f\",\"gridcolor\":\"white\",\"linecolor\":\"white\",\"minorgridcolor\":\"white\",\"startlinecolor\":\"#2a3f5f\"},\"baxis\":{\"endlinecolor\":\"#2a3f5f\",\"gridcolor\":\"white\",\"linecolor\":\"white\",\"minorgridcolor\":\"white\",\"startlinecolor\":\"#2a3f5f\"},\"type\":\"carpet\"}],\"table\":[{\"cells\":{\"fill\":{\"color\":\"#EBF0F8\"},\"line\":{\"color\":\"white\"}},\"header\":{\"fill\":{\"color\":\"#C8D4E3\"},\"line\":{\"color\":\"white\"}},\"type\":\"table\"}],\"barpolar\":[{\"marker\":{\"line\":{\"color\":\"#E5ECF6\",\"width\":0.5},\"pattern\":{\"fillmode\":\"overlay\",\"size\":10,\"solidity\":0.2}},\"type\":\"barpolar\"}],\"pie\":[{\"automargin\":true,\"type\":\"pie\"}]},\"layout\":{\"autotypenumbers\":\"strict\",\"colorway\":[\"#636efa\",\"#EF553B\",\"#00cc96\",\"#ab63fa\",\"#FFA15A\",\"#19d3f3\",\"#FF6692\",\"#B6E880\",\"#FF97FF\",\"#FECB52\"],\"font\":{\"color\":\"#2a3f5f\"},\"hovermode\":\"closest\",\"hoverlabel\":{\"align\":\"left\"},\"paper_bgcolor\":\"white\",\"plot_bgcolor\":\"#E5ECF6\",\"polar\":{\"bgcolor\":\"#E5ECF6\",\"angularaxis\":{\"gridcolor\":\"white\",\"linecolor\":\"white\",\"ticks\":\"\"},\"radialaxis\":{\"gridcolor\":\"white\",\"linecolor\":\"white\",\"ticks\":\"\"}},\"ternary\":{\"bgcolor\":\"#E5ECF6\",\"aaxis\":{\"gridcolor\":\"white\",\"linecolor\":\"white\",\"ticks\":\"\"},\"baxis\":{\"gridcolor\":\"white\",\"linecolor\":\"white\",\"ticks\":\"\"},\"caxis\":{\"gridcolor\":\"white\",\"linecolor\":\"white\",\"ticks\":\"\"}},\"coloraxis\":{\"colorbar\":{\"outlinewidth\":0,\"ticks\":\"\"}},\"colorscale\":{\"sequential\":[[0.0,\"#0d0887\"],[0.1111111111111111,\"#46039f\"],[0.2222222222222222,\"#7201a8\"],[0.3333333333333333,\"#9c179e\"],[0.4444444444444444,\"#bd3786\"],[0.5555555555555556,\"#d8576b\"],[0.6666666666666666,\"#ed7953\"],[0.7777777777777778,\"#fb9f3a\"],[0.8888888888888888,\"#fdca26\"],[1.0,\"#f0f921\"]],\"sequentialminus\":[[0.0,\"#0d0887\"],[0.1111111111111111,\"#46039f\"],[0.2222222222222222,\"#7201a8\"],[0.3333333333333333,\"#9c179e\"],[0.4444444444444444,\"#bd3786\"],[0.5555555555555556,\"#d8576b\"],[0.6666666666666666,\"#ed7953\"],[0.7777777777777778,\"#fb9f3a\"],[0.8888888888888888,\"#fdca26\"],[1.0,\"#f0f921\"]],\"diverging\":[[0,\"#8e0152\"],[0.1,\"#c51b7d\"],[0.2,\"#de77ae\"],[0.3,\"#f1b6da\"],[0.4,\"#fde0ef\"],[0.5,\"#f7f7f7\"],[0.6,\"#e6f5d0\"],[0.7,\"#b8e186\"],[0.8,\"#7fbc41\"],[0.9,\"#4d9221\"],[1,\"#276419\"]]},\"xaxis\":{\"gridcolor\":\"white\",\"linecolor\":\"white\",\"ticks\":\"\",\"title\":{\"standoff\":15},\"zerolinecolor\":\"white\",\"automargin\":true,\"zerolinewidth\":2},\"yaxis\":{\"gridcolor\":\"white\",\"linecolor\":\"white\",\"ticks\":\"\",\"title\":{\"standoff\":15},\"zerolinecolor\":\"white\",\"automargin\":true,\"zerolinewidth\":2},\"scene\":{\"xaxis\":{\"backgroundcolor\":\"#E5ECF6\",\"gridcolor\":\"white\",\"linecolor\":\"white\",\"showbackground\":true,\"ticks\":\"\",\"zerolinecolor\":\"white\",\"gridwidth\":2},\"yaxis\":{\"backgroundcolor\":\"#E5ECF6\",\"gridcolor\":\"white\",\"linecolor\":\"white\",\"showbackground\":true,\"ticks\":\"\",\"zerolinecolor\":\"white\",\"gridwidth\":2},\"zaxis\":{\"backgroundcolor\":\"#E5ECF6\",\"gridcolor\":\"white\",\"linecolor\":\"white\",\"showbackground\":true,\"ticks\":\"\",\"zerolinecolor\":\"white\",\"gridwidth\":2}},\"shapedefaults\":{\"line\":{\"color\":\"#2a3f5f\"}},\"annotationdefaults\":{\"arrowcolor\":\"#2a3f5f\",\"arrowhead\":0,\"arrowwidth\":1},\"geo\":{\"bgcolor\":\"white\",\"landcolor\":\"#E5ECF6\",\"subunitcolor\":\"white\",\"showland\":true,\"showlakes\":true,\"lakecolor\":\"white\"},\"title\":{\"x\":0.05},\"mapbox\":{\"style\":\"light\"}}},\"scene\":{\"domain\":{\"x\":[0.0,1.0],\"y\":[0.0,1.0]},\"xaxis\":{\"title\":{\"text\":\"support\"}},\"yaxis\":{\"title\":{\"text\":\"confidence\"}},\"zaxis\":{\"title\":{\"text\":\"lift\"}}},\"coloraxis\":{\"colorbar\":{\"title\":{\"text\":\"antecedent support\"}},\"colorscale\":[[0.0,\"#0d0887\"],[0.1111111111111111,\"#46039f\"],[0.2222222222222222,\"#7201a8\"],[0.3333333333333333,\"#9c179e\"],[0.4444444444444444,\"#bd3786\"],[0.5555555555555556,\"#d8576b\"],[0.6666666666666666,\"#ed7953\"],[0.7777777777777778,\"#fb9f3a\"],[0.8888888888888888,\"#fdca26\"],[1.0,\"#f0f921\"]]},\"legend\":{\"tracegroupgap\":0},\"title\":{\"text\":\"3d Plot for Rule Mining\"},\"height\":800,\"width\":900},                        {\"responsive\": true}                    ).then(function(){\n",
       "                            \n",
       "var gd = document.getElementById('720b9f1f-62c0-4a21-9579-8a366dbc987d');\n",
       "var x = new MutationObserver(function (mutations, observer) {{\n",
       "        var display = window.getComputedStyle(gd).display;\n",
       "        if (!display || display === 'none') {{\n",
       "            console.log([gd, 'removed!']);\n",
       "            Plotly.purge(gd);\n",
       "            observer.disconnect();\n",
       "        }}\n",
       "}});\n",
       "\n",
       "// Listen for the removal of the full notebook cells\n",
       "var notebookContainer = gd.closest('#notebook-container');\n",
       "if (notebookContainer) {{\n",
       "    x.observe(notebookContainer, {childList: true});\n",
       "}}\n",
       "\n",
       "// Listen for the clearing of the current output cell\n",
       "var outputEl = gd.closest('.output');\n",
       "if (outputEl) {{\n",
       "    x.observe(outputEl, {childList: true});\n",
       "}}\n",
       "\n",
       "                        })                };                });            </script>        </div>"
      ]
     },
     "metadata": {},
     "output_type": "display_data"
    }
   ],
   "source": [
    "plot_model(model, plot='3d')"
   ]
  },
  {
   "cell_type": "code",
   "execution_count": null,
   "metadata": {},
   "outputs": [],
   "source": []
  }
 ],
 "metadata": {
  "kernelspec": {
   "display_name": "Python 3.8.15 ('venv': venv)",
   "language": "python",
   "name": "python3"
  },
  "language_info": {
   "codemirror_mode": {
    "name": "ipython",
    "version": 3
   },
   "file_extension": ".py",
   "mimetype": "text/x-python",
   "name": "python",
   "nbconvert_exporter": "python",
   "pygments_lexer": "ipython3",
   "version": "3.8.15"
  },
  "orig_nbformat": 4,
  "vscode": {
   "interpreter": {
    "hash": "144d929da0570c40592d9dc325047f87d05d6a3c34760fe6027613ddef8a9521"
   }
  }
 },
 "nbformat": 4,
 "nbformat_minor": 2
}
