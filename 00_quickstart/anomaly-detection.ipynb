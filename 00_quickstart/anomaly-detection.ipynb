{
 "cells": [
  {
   "cell_type": "code",
   "execution_count": 1,
   "metadata": {},
   "outputs": [],
   "source": [
    "import pandas as pd\n",
    "pd.set_option(\"display.max_columns\", None)"
   ]
  },
  {
   "cell_type": "markdown",
   "metadata": {},
   "source": [
    "# [Quickstart](https://pycaret.gitbook.io/docs/get-started/quickstart)\n",
    "\n",
    "## [Anomaly Detection](https://pycaret.gitbook.io/docs/get-started/quickstart#https://pycaret.gitbook.io/docs/get-started/quickstart#anomaly-detection)（異常検出）"
   ]
  },
  {
   "cell_type": "markdown",
   "metadata": {},
   "source": [
    "PyCaret’s **Anomaly Detection Module** is an unsupervised machine learning module that is used for identifying **rare items**, **events**, or **observations** that raise suspicions by differing significantly from the majority of the data. Typically, the anomalous items will translate to some kind of problems such as bank fraud, a structural defect, medical problems, or errors. It provides several [pre-processing](https://pycaret.gitbook.io/docs/get-started/preprocessing) features that prepare the data for modeling through the [setup](https://pycaret.gitbook.io/docs/get-started/functions#setting-up-environment) function. It has over 10 ready-to-use algorithms and [several plots](https://pycaret.gitbook.io/docs/get-started/functions#plot-model) to analyze the performance of trained models."
   ]
  },
  {
   "cell_type": "markdown",
   "metadata": {},
   "source": [
    "PyCaret の **異常検出モジュール** は教師なし機械学習モジュールで、データの大部分と大きく異なることで疑いを持たれる **稀な項目**、**イベント**、**観測** を特定するために使用されます。通常、異常な項目は、銀行詐欺、構造的欠陥、医療問題、エラーなど、何らかの問題に変換される。[セットアップ](https://pycaret.gitbook.io/docs/get-started/functions#setting-up-environment)機能を通じて、データをモデリングするための準備となる[前処理](https://pycaret.gitbook.io/docs/get-started/preprocessing)機能をいくつか提供します。また、10種類以上のすぐに使えるアルゴリズムと、学習したモデルの性能を分析するための[複数のプロット](https://pycaret.gitbook.io/docs/get-started/functions#plot-model)を備えています。"
   ]
  },
  {
   "cell_type": "markdown",
   "metadata": {},
   "source": [
    "### Setup\n",
    "\n",
    "This function initializes the training environment and creates the transformation pipeline. The setup function must be called before executing any other function. It takes one mandatory parameter only: `data`. All the other parameters are optional.\n",
    "\n",
    "### セットアップ\n",
    "\n",
    "この関数は、学習環境を初期化し、変換パイプラインを作成します。setup 関数は他の関数を実行する前に呼び出さなければならない。この関数が受け取る必須パラメータは `data` だけである。他の全てのパラメータは任意である。"
   ]
  },
  {
   "cell_type": "code",
   "execution_count": 2,
   "metadata": {},
   "outputs": [
    {
     "data": {
      "text/html": [
       "<div>\n",
       "<style scoped>\n",
       "    .dataframe tbody tr th:only-of-type {\n",
       "        vertical-align: middle;\n",
       "    }\n",
       "\n",
       "    .dataframe tbody tr th {\n",
       "        vertical-align: top;\n",
       "    }\n",
       "\n",
       "    .dataframe thead th {\n",
       "        text-align: right;\n",
       "    }\n",
       "</style>\n",
       "<table border=\"1\" class=\"dataframe\">\n",
       "  <thead>\n",
       "    <tr style=\"text-align: right;\">\n",
       "      <th></th>\n",
       "      <th>Col1</th>\n",
       "      <th>Col2</th>\n",
       "      <th>Col3</th>\n",
       "      <th>Col4</th>\n",
       "      <th>Col5</th>\n",
       "      <th>Col6</th>\n",
       "      <th>Col7</th>\n",
       "      <th>Col8</th>\n",
       "      <th>Col9</th>\n",
       "      <th>Col10</th>\n",
       "    </tr>\n",
       "  </thead>\n",
       "  <tbody>\n",
       "    <tr>\n",
       "      <th>0</th>\n",
       "      <td>0.263995</td>\n",
       "      <td>0.764929</td>\n",
       "      <td>0.138424</td>\n",
       "      <td>0.935242</td>\n",
       "      <td>0.605867</td>\n",
       "      <td>0.518790</td>\n",
       "      <td>0.912225</td>\n",
       "      <td>0.608234</td>\n",
       "      <td>0.723782</td>\n",
       "      <td>0.733591</td>\n",
       "    </tr>\n",
       "    <tr>\n",
       "      <th>1</th>\n",
       "      <td>0.546092</td>\n",
       "      <td>0.653975</td>\n",
       "      <td>0.065575</td>\n",
       "      <td>0.227772</td>\n",
       "      <td>0.845269</td>\n",
       "      <td>0.837066</td>\n",
       "      <td>0.272379</td>\n",
       "      <td>0.331679</td>\n",
       "      <td>0.429297</td>\n",
       "      <td>0.367422</td>\n",
       "    </tr>\n",
       "    <tr>\n",
       "      <th>2</th>\n",
       "      <td>0.336714</td>\n",
       "      <td>0.538842</td>\n",
       "      <td>0.192801</td>\n",
       "      <td>0.553563</td>\n",
       "      <td>0.074515</td>\n",
       "      <td>0.332993</td>\n",
       "      <td>0.365792</td>\n",
       "      <td>0.861309</td>\n",
       "      <td>0.899017</td>\n",
       "      <td>0.088600</td>\n",
       "    </tr>\n",
       "    <tr>\n",
       "      <th>3</th>\n",
       "      <td>0.092108</td>\n",
       "      <td>0.995017</td>\n",
       "      <td>0.014465</td>\n",
       "      <td>0.176371</td>\n",
       "      <td>0.241530</td>\n",
       "      <td>0.514724</td>\n",
       "      <td>0.562208</td>\n",
       "      <td>0.158963</td>\n",
       "      <td>0.073715</td>\n",
       "      <td>0.208463</td>\n",
       "    </tr>\n",
       "    <tr>\n",
       "      <th>4</th>\n",
       "      <td>0.325261</td>\n",
       "      <td>0.805968</td>\n",
       "      <td>0.957033</td>\n",
       "      <td>0.331665</td>\n",
       "      <td>0.307923</td>\n",
       "      <td>0.355315</td>\n",
       "      <td>0.501899</td>\n",
       "      <td>0.558449</td>\n",
       "      <td>0.885169</td>\n",
       "      <td>0.182754</td>\n",
       "    </tr>\n",
       "  </tbody>\n",
       "</table>\n",
       "</div>"
      ],
      "text/plain": [
       "       Col1      Col2      Col3      Col4      Col5      Col6      Col7  \\\n",
       "0  0.263995  0.764929  0.138424  0.935242  0.605867  0.518790  0.912225   \n",
       "1  0.546092  0.653975  0.065575  0.227772  0.845269  0.837066  0.272379   \n",
       "2  0.336714  0.538842  0.192801  0.553563  0.074515  0.332993  0.365792   \n",
       "3  0.092108  0.995017  0.014465  0.176371  0.241530  0.514724  0.562208   \n",
       "4  0.325261  0.805968  0.957033  0.331665  0.307923  0.355315  0.501899   \n",
       "\n",
       "       Col8      Col9     Col10  \n",
       "0  0.608234  0.723782  0.733591  \n",
       "1  0.331679  0.429297  0.367422  \n",
       "2  0.861309  0.899017  0.088600  \n",
       "3  0.158963  0.073715  0.208463  \n",
       "4  0.558449  0.885169  0.182754  "
      ]
     },
     "metadata": {},
     "output_type": "display_data"
    }
   ],
   "source": [
    "from pycaret.datasets import get_data\n",
    "data = get_data('anomaly')"
   ]
  },
  {
   "cell_type": "markdown",
   "metadata": {},
   "source": [
    "When the `setup` is executed, PyCaret's inference algorithm will automatically infer the data types for all features based on certain properties. The data type should be inferred correctly but this is not always the case. To handle this, PyCaret displays a prompt, asking for data types confirmation, once you execute the `setup`. You can press enter if all data types are correct or type `quit` to exit the setup.\n",
    "\n",
    "Ensuring that the data types are correct is really important in PyCaret as it automatically performs multiple type-specific preprocessing tasks which are imperative for machine learning models.\n",
    "\n",
    "Alternatively, you can also use `numeric_features` and `categorical_features` parameters in the `setup` to pre-define the data types."
   ]
  },
  {
   "cell_type": "markdown",
   "metadata": {},
   "source": [
    "`setup` を実行すると、PyCaret の推論アルゴリズムが、特定のプロパティに基づいてすべての素性のデータ型を自動的に推論します。データ型は正しく推論されるはずですが、必ずしもそうなるとは限りません。これを処理するために、PyCaret は `setup` を実行すると、データ型の確認を求めるプロンプトを表示します。すべてのデータ型が正しい場合は Enter キーを、セットアップを終了する場合は `quit` と入力してください。\n",
    "\n",
    "PyCaret は機械学習モデルで必須となる複数の型固有の前処理を自動的に行うため、データ型が正しいかどうかを確認することは非常に重要です。\n",
    "\n",
    "また、 `setup` の `numeric_features` と `categorical_features` パラメータを使用して、データ型を事前に定義することも可能です。"
   ]
  },
  {
   "cell_type": "code",
   "execution_count": 3,
   "metadata": {},
   "outputs": [
    {
     "data": {
      "text/html": [
       "<style type=\"text/css\">\n",
       "</style>\n",
       "<table id=\"T_58d1b\">\n",
       "  <thead>\n",
       "    <tr>\n",
       "      <th class=\"blank level0\" >&nbsp;</th>\n",
       "      <th id=\"T_58d1b_level0_col0\" class=\"col_heading level0 col0\" >Description</th>\n",
       "      <th id=\"T_58d1b_level0_col1\" class=\"col_heading level0 col1\" >Value</th>\n",
       "    </tr>\n",
       "  </thead>\n",
       "  <tbody>\n",
       "    <tr>\n",
       "      <th id=\"T_58d1b_level0_row0\" class=\"row_heading level0 row0\" >0</th>\n",
       "      <td id=\"T_58d1b_row0_col0\" class=\"data row0 col0\" >session_id</td>\n",
       "      <td id=\"T_58d1b_row0_col1\" class=\"data row0 col1\" >2788</td>\n",
       "    </tr>\n",
       "    <tr>\n",
       "      <th id=\"T_58d1b_level0_row1\" class=\"row_heading level0 row1\" >1</th>\n",
       "      <td id=\"T_58d1b_row1_col0\" class=\"data row1 col0\" >Original Data</td>\n",
       "      <td id=\"T_58d1b_row1_col1\" class=\"data row1 col1\" >(1000, 10)</td>\n",
       "    </tr>\n",
       "    <tr>\n",
       "      <th id=\"T_58d1b_level0_row2\" class=\"row_heading level0 row2\" >2</th>\n",
       "      <td id=\"T_58d1b_row2_col0\" class=\"data row2 col0\" >Missing Values</td>\n",
       "      <td id=\"T_58d1b_row2_col1\" class=\"data row2 col1\" >False</td>\n",
       "    </tr>\n",
       "    <tr>\n",
       "      <th id=\"T_58d1b_level0_row3\" class=\"row_heading level0 row3\" >3</th>\n",
       "      <td id=\"T_58d1b_row3_col0\" class=\"data row3 col0\" >Numeric Features</td>\n",
       "      <td id=\"T_58d1b_row3_col1\" class=\"data row3 col1\" >10</td>\n",
       "    </tr>\n",
       "    <tr>\n",
       "      <th id=\"T_58d1b_level0_row4\" class=\"row_heading level0 row4\" >4</th>\n",
       "      <td id=\"T_58d1b_row4_col0\" class=\"data row4 col0\" >Categorical Features</td>\n",
       "      <td id=\"T_58d1b_row4_col1\" class=\"data row4 col1\" >0</td>\n",
       "    </tr>\n",
       "    <tr>\n",
       "      <th id=\"T_58d1b_level0_row5\" class=\"row_heading level0 row5\" >5</th>\n",
       "      <td id=\"T_58d1b_row5_col0\" class=\"data row5 col0\" >Ordinal Features</td>\n",
       "      <td id=\"T_58d1b_row5_col1\" class=\"data row5 col1\" >False</td>\n",
       "    </tr>\n",
       "    <tr>\n",
       "      <th id=\"T_58d1b_level0_row6\" class=\"row_heading level0 row6\" >6</th>\n",
       "      <td id=\"T_58d1b_row6_col0\" class=\"data row6 col0\" >High Cardinality Features</td>\n",
       "      <td id=\"T_58d1b_row6_col1\" class=\"data row6 col1\" >False</td>\n",
       "    </tr>\n",
       "    <tr>\n",
       "      <th id=\"T_58d1b_level0_row7\" class=\"row_heading level0 row7\" >7</th>\n",
       "      <td id=\"T_58d1b_row7_col0\" class=\"data row7 col0\" >High Cardinality Method</td>\n",
       "      <td id=\"T_58d1b_row7_col1\" class=\"data row7 col1\" >None</td>\n",
       "    </tr>\n",
       "    <tr>\n",
       "      <th id=\"T_58d1b_level0_row8\" class=\"row_heading level0 row8\" >8</th>\n",
       "      <td id=\"T_58d1b_row8_col0\" class=\"data row8 col0\" >Transformed Data</td>\n",
       "      <td id=\"T_58d1b_row8_col1\" class=\"data row8 col1\" >(1000, 10)</td>\n",
       "    </tr>\n",
       "    <tr>\n",
       "      <th id=\"T_58d1b_level0_row9\" class=\"row_heading level0 row9\" >9</th>\n",
       "      <td id=\"T_58d1b_row9_col0\" class=\"data row9 col0\" >CPU Jobs</td>\n",
       "      <td id=\"T_58d1b_row9_col1\" class=\"data row9 col1\" >-1</td>\n",
       "    </tr>\n",
       "    <tr>\n",
       "      <th id=\"T_58d1b_level0_row10\" class=\"row_heading level0 row10\" >10</th>\n",
       "      <td id=\"T_58d1b_row10_col0\" class=\"data row10 col0\" >Use GPU</td>\n",
       "      <td id=\"T_58d1b_row10_col1\" class=\"data row10 col1\" >False</td>\n",
       "    </tr>\n",
       "    <tr>\n",
       "      <th id=\"T_58d1b_level0_row11\" class=\"row_heading level0 row11\" >11</th>\n",
       "      <td id=\"T_58d1b_row11_col0\" class=\"data row11 col0\" >Log Experiment</td>\n",
       "      <td id=\"T_58d1b_row11_col1\" class=\"data row11 col1\" >False</td>\n",
       "    </tr>\n",
       "    <tr>\n",
       "      <th id=\"T_58d1b_level0_row12\" class=\"row_heading level0 row12\" >12</th>\n",
       "      <td id=\"T_58d1b_row12_col0\" class=\"data row12 col0\" >Experiment Name</td>\n",
       "      <td id=\"T_58d1b_row12_col1\" class=\"data row12 col1\" >anomaly-default-name</td>\n",
       "    </tr>\n",
       "    <tr>\n",
       "      <th id=\"T_58d1b_level0_row13\" class=\"row_heading level0 row13\" >13</th>\n",
       "      <td id=\"T_58d1b_row13_col0\" class=\"data row13 col0\" >USI</td>\n",
       "      <td id=\"T_58d1b_row13_col1\" class=\"data row13 col1\" >71cc</td>\n",
       "    </tr>\n",
       "    <tr>\n",
       "      <th id=\"T_58d1b_level0_row14\" class=\"row_heading level0 row14\" >14</th>\n",
       "      <td id=\"T_58d1b_row14_col0\" class=\"data row14 col0\" >Imputation Type</td>\n",
       "      <td id=\"T_58d1b_row14_col1\" class=\"data row14 col1\" >simple</td>\n",
       "    </tr>\n",
       "    <tr>\n",
       "      <th id=\"T_58d1b_level0_row15\" class=\"row_heading level0 row15\" >15</th>\n",
       "      <td id=\"T_58d1b_row15_col0\" class=\"data row15 col0\" >Iterative Imputation Iteration</td>\n",
       "      <td id=\"T_58d1b_row15_col1\" class=\"data row15 col1\" >None</td>\n",
       "    </tr>\n",
       "    <tr>\n",
       "      <th id=\"T_58d1b_level0_row16\" class=\"row_heading level0 row16\" >16</th>\n",
       "      <td id=\"T_58d1b_row16_col0\" class=\"data row16 col0\" >Numeric Imputer</td>\n",
       "      <td id=\"T_58d1b_row16_col1\" class=\"data row16 col1\" >mean</td>\n",
       "    </tr>\n",
       "    <tr>\n",
       "      <th id=\"T_58d1b_level0_row17\" class=\"row_heading level0 row17\" >17</th>\n",
       "      <td id=\"T_58d1b_row17_col0\" class=\"data row17 col0\" >Iterative Imputation Numeric Model</td>\n",
       "      <td id=\"T_58d1b_row17_col1\" class=\"data row17 col1\" >None</td>\n",
       "    </tr>\n",
       "    <tr>\n",
       "      <th id=\"T_58d1b_level0_row18\" class=\"row_heading level0 row18\" >18</th>\n",
       "      <td id=\"T_58d1b_row18_col0\" class=\"data row18 col0\" >Categorical Imputer</td>\n",
       "      <td id=\"T_58d1b_row18_col1\" class=\"data row18 col1\" >mode</td>\n",
       "    </tr>\n",
       "    <tr>\n",
       "      <th id=\"T_58d1b_level0_row19\" class=\"row_heading level0 row19\" >19</th>\n",
       "      <td id=\"T_58d1b_row19_col0\" class=\"data row19 col0\" >Iterative Imputation Categorical Model</td>\n",
       "      <td id=\"T_58d1b_row19_col1\" class=\"data row19 col1\" >None</td>\n",
       "    </tr>\n",
       "    <tr>\n",
       "      <th id=\"T_58d1b_level0_row20\" class=\"row_heading level0 row20\" >20</th>\n",
       "      <td id=\"T_58d1b_row20_col0\" class=\"data row20 col0\" >Unknown Categoricals Handling</td>\n",
       "      <td id=\"T_58d1b_row20_col1\" class=\"data row20 col1\" >least_frequent</td>\n",
       "    </tr>\n",
       "    <tr>\n",
       "      <th id=\"T_58d1b_level0_row21\" class=\"row_heading level0 row21\" >21</th>\n",
       "      <td id=\"T_58d1b_row21_col0\" class=\"data row21 col0\" >Normalize</td>\n",
       "      <td id=\"T_58d1b_row21_col1\" class=\"data row21 col1\" >False</td>\n",
       "    </tr>\n",
       "    <tr>\n",
       "      <th id=\"T_58d1b_level0_row22\" class=\"row_heading level0 row22\" >22</th>\n",
       "      <td id=\"T_58d1b_row22_col0\" class=\"data row22 col0\" >Normalize Method</td>\n",
       "      <td id=\"T_58d1b_row22_col1\" class=\"data row22 col1\" >None</td>\n",
       "    </tr>\n",
       "    <tr>\n",
       "      <th id=\"T_58d1b_level0_row23\" class=\"row_heading level0 row23\" >23</th>\n",
       "      <td id=\"T_58d1b_row23_col0\" class=\"data row23 col0\" >Transformation</td>\n",
       "      <td id=\"T_58d1b_row23_col1\" class=\"data row23 col1\" >False</td>\n",
       "    </tr>\n",
       "    <tr>\n",
       "      <th id=\"T_58d1b_level0_row24\" class=\"row_heading level0 row24\" >24</th>\n",
       "      <td id=\"T_58d1b_row24_col0\" class=\"data row24 col0\" >Transformation Method</td>\n",
       "      <td id=\"T_58d1b_row24_col1\" class=\"data row24 col1\" >None</td>\n",
       "    </tr>\n",
       "    <tr>\n",
       "      <th id=\"T_58d1b_level0_row25\" class=\"row_heading level0 row25\" >25</th>\n",
       "      <td id=\"T_58d1b_row25_col0\" class=\"data row25 col0\" >PCA</td>\n",
       "      <td id=\"T_58d1b_row25_col1\" class=\"data row25 col1\" >False</td>\n",
       "    </tr>\n",
       "    <tr>\n",
       "      <th id=\"T_58d1b_level0_row26\" class=\"row_heading level0 row26\" >26</th>\n",
       "      <td id=\"T_58d1b_row26_col0\" class=\"data row26 col0\" >PCA Method</td>\n",
       "      <td id=\"T_58d1b_row26_col1\" class=\"data row26 col1\" >None</td>\n",
       "    </tr>\n",
       "    <tr>\n",
       "      <th id=\"T_58d1b_level0_row27\" class=\"row_heading level0 row27\" >27</th>\n",
       "      <td id=\"T_58d1b_row27_col0\" class=\"data row27 col0\" >PCA Components</td>\n",
       "      <td id=\"T_58d1b_row27_col1\" class=\"data row27 col1\" >None</td>\n",
       "    </tr>\n",
       "    <tr>\n",
       "      <th id=\"T_58d1b_level0_row28\" class=\"row_heading level0 row28\" >28</th>\n",
       "      <td id=\"T_58d1b_row28_col0\" class=\"data row28 col0\" >Ignore Low Variance</td>\n",
       "      <td id=\"T_58d1b_row28_col1\" class=\"data row28 col1\" >False</td>\n",
       "    </tr>\n",
       "    <tr>\n",
       "      <th id=\"T_58d1b_level0_row29\" class=\"row_heading level0 row29\" >29</th>\n",
       "      <td id=\"T_58d1b_row29_col0\" class=\"data row29 col0\" >Combine Rare Levels</td>\n",
       "      <td id=\"T_58d1b_row29_col1\" class=\"data row29 col1\" >False</td>\n",
       "    </tr>\n",
       "    <tr>\n",
       "      <th id=\"T_58d1b_level0_row30\" class=\"row_heading level0 row30\" >30</th>\n",
       "      <td id=\"T_58d1b_row30_col0\" class=\"data row30 col0\" >Rare Level Threshold</td>\n",
       "      <td id=\"T_58d1b_row30_col1\" class=\"data row30 col1\" >None</td>\n",
       "    </tr>\n",
       "    <tr>\n",
       "      <th id=\"T_58d1b_level0_row31\" class=\"row_heading level0 row31\" >31</th>\n",
       "      <td id=\"T_58d1b_row31_col0\" class=\"data row31 col0\" >Numeric Binning</td>\n",
       "      <td id=\"T_58d1b_row31_col1\" class=\"data row31 col1\" >False</td>\n",
       "    </tr>\n",
       "    <tr>\n",
       "      <th id=\"T_58d1b_level0_row32\" class=\"row_heading level0 row32\" >32</th>\n",
       "      <td id=\"T_58d1b_row32_col0\" class=\"data row32 col0\" >Remove Outliers</td>\n",
       "      <td id=\"T_58d1b_row32_col1\" class=\"data row32 col1\" >False</td>\n",
       "    </tr>\n",
       "    <tr>\n",
       "      <th id=\"T_58d1b_level0_row33\" class=\"row_heading level0 row33\" >33</th>\n",
       "      <td id=\"T_58d1b_row33_col0\" class=\"data row33 col0\" >Outliers Threshold</td>\n",
       "      <td id=\"T_58d1b_row33_col1\" class=\"data row33 col1\" >None</td>\n",
       "    </tr>\n",
       "    <tr>\n",
       "      <th id=\"T_58d1b_level0_row34\" class=\"row_heading level0 row34\" >34</th>\n",
       "      <td id=\"T_58d1b_row34_col0\" class=\"data row34 col0\" >Remove Multicollinearity</td>\n",
       "      <td id=\"T_58d1b_row34_col1\" class=\"data row34 col1\" >False</td>\n",
       "    </tr>\n",
       "    <tr>\n",
       "      <th id=\"T_58d1b_level0_row35\" class=\"row_heading level0 row35\" >35</th>\n",
       "      <td id=\"T_58d1b_row35_col0\" class=\"data row35 col0\" >Multicollinearity Threshold</td>\n",
       "      <td id=\"T_58d1b_row35_col1\" class=\"data row35 col1\" >None</td>\n",
       "    </tr>\n",
       "    <tr>\n",
       "      <th id=\"T_58d1b_level0_row36\" class=\"row_heading level0 row36\" >36</th>\n",
       "      <td id=\"T_58d1b_row36_col0\" class=\"data row36 col0\" >Remove Perfect Collinearity</td>\n",
       "      <td id=\"T_58d1b_row36_col1\" class=\"data row36 col1\" >False</td>\n",
       "    </tr>\n",
       "    <tr>\n",
       "      <th id=\"T_58d1b_level0_row37\" class=\"row_heading level0 row37\" >37</th>\n",
       "      <td id=\"T_58d1b_row37_col0\" class=\"data row37 col0\" >Clustering</td>\n",
       "      <td id=\"T_58d1b_row37_col1\" class=\"data row37 col1\" >False</td>\n",
       "    </tr>\n",
       "    <tr>\n",
       "      <th id=\"T_58d1b_level0_row38\" class=\"row_heading level0 row38\" >38</th>\n",
       "      <td id=\"T_58d1b_row38_col0\" class=\"data row38 col0\" >Clustering Iteration</td>\n",
       "      <td id=\"T_58d1b_row38_col1\" class=\"data row38 col1\" >None</td>\n",
       "    </tr>\n",
       "    <tr>\n",
       "      <th id=\"T_58d1b_level0_row39\" class=\"row_heading level0 row39\" >39</th>\n",
       "      <td id=\"T_58d1b_row39_col0\" class=\"data row39 col0\" >Polynomial Features</td>\n",
       "      <td id=\"T_58d1b_row39_col1\" class=\"data row39 col1\" >False</td>\n",
       "    </tr>\n",
       "    <tr>\n",
       "      <th id=\"T_58d1b_level0_row40\" class=\"row_heading level0 row40\" >40</th>\n",
       "      <td id=\"T_58d1b_row40_col0\" class=\"data row40 col0\" >Polynomial Degree</td>\n",
       "      <td id=\"T_58d1b_row40_col1\" class=\"data row40 col1\" >None</td>\n",
       "    </tr>\n",
       "    <tr>\n",
       "      <th id=\"T_58d1b_level0_row41\" class=\"row_heading level0 row41\" >41</th>\n",
       "      <td id=\"T_58d1b_row41_col0\" class=\"data row41 col0\" >Trignometry Features</td>\n",
       "      <td id=\"T_58d1b_row41_col1\" class=\"data row41 col1\" >False</td>\n",
       "    </tr>\n",
       "    <tr>\n",
       "      <th id=\"T_58d1b_level0_row42\" class=\"row_heading level0 row42\" >42</th>\n",
       "      <td id=\"T_58d1b_row42_col0\" class=\"data row42 col0\" >Polynomial Threshold</td>\n",
       "      <td id=\"T_58d1b_row42_col1\" class=\"data row42 col1\" >None</td>\n",
       "    </tr>\n",
       "    <tr>\n",
       "      <th id=\"T_58d1b_level0_row43\" class=\"row_heading level0 row43\" >43</th>\n",
       "      <td id=\"T_58d1b_row43_col0\" class=\"data row43 col0\" >Group Features</td>\n",
       "      <td id=\"T_58d1b_row43_col1\" class=\"data row43 col1\" >False</td>\n",
       "    </tr>\n",
       "    <tr>\n",
       "      <th id=\"T_58d1b_level0_row44\" class=\"row_heading level0 row44\" >44</th>\n",
       "      <td id=\"T_58d1b_row44_col0\" class=\"data row44 col0\" >Feature Selection</td>\n",
       "      <td id=\"T_58d1b_row44_col1\" class=\"data row44 col1\" >False</td>\n",
       "    </tr>\n",
       "    <tr>\n",
       "      <th id=\"T_58d1b_level0_row45\" class=\"row_heading level0 row45\" >45</th>\n",
       "      <td id=\"T_58d1b_row45_col0\" class=\"data row45 col0\" >Feature Selection Method</td>\n",
       "      <td id=\"T_58d1b_row45_col1\" class=\"data row45 col1\" >classic</td>\n",
       "    </tr>\n",
       "    <tr>\n",
       "      <th id=\"T_58d1b_level0_row46\" class=\"row_heading level0 row46\" >46</th>\n",
       "      <td id=\"T_58d1b_row46_col0\" class=\"data row46 col0\" >Features Selection Threshold</td>\n",
       "      <td id=\"T_58d1b_row46_col1\" class=\"data row46 col1\" >None</td>\n",
       "    </tr>\n",
       "    <tr>\n",
       "      <th id=\"T_58d1b_level0_row47\" class=\"row_heading level0 row47\" >47</th>\n",
       "      <td id=\"T_58d1b_row47_col0\" class=\"data row47 col0\" >Feature Interaction</td>\n",
       "      <td id=\"T_58d1b_row47_col1\" class=\"data row47 col1\" >False</td>\n",
       "    </tr>\n",
       "    <tr>\n",
       "      <th id=\"T_58d1b_level0_row48\" class=\"row_heading level0 row48\" >48</th>\n",
       "      <td id=\"T_58d1b_row48_col0\" class=\"data row48 col0\" >Feature Ratio</td>\n",
       "      <td id=\"T_58d1b_row48_col1\" class=\"data row48 col1\" >False</td>\n",
       "    </tr>\n",
       "    <tr>\n",
       "      <th id=\"T_58d1b_level0_row49\" class=\"row_heading level0 row49\" >49</th>\n",
       "      <td id=\"T_58d1b_row49_col0\" class=\"data row49 col0\" >Interaction Threshold</td>\n",
       "      <td id=\"T_58d1b_row49_col1\" class=\"data row49 col1\" >None</td>\n",
       "    </tr>\n",
       "  </tbody>\n",
       "</table>\n"
      ],
      "text/plain": [
       "<pandas.io.formats.style.Styler at 0x13ac0a220>"
      ]
     },
     "metadata": {},
     "output_type": "display_data"
    }
   ],
   "source": [
    "from pycaret.anomaly import *\n",
    "s = setup(data)"
   ]
  },
  {
   "cell_type": "markdown",
   "metadata": {},
   "source": [
    "### Create Model\n",
    "\n",
    "This function trains an unsupervised anomaly detection model. All the available models can be accessed using the `models` function.\n",
    "\n",
    "### モデルの作成\n",
    "\n",
    "この関数は教師なし異常検知モデルを学習する。利用可能なすべてのモデルには `models` 関数を使ってアクセスすることができる。"
   ]
  },
  {
   "cell_type": "code",
   "execution_count": 4,
   "metadata": {},
   "outputs": [
    {
     "name": "stdout",
     "output_type": "stream",
     "text": [
      "IForest(behaviour='new', bootstrap=False, contamination=0.05,\n",
      "    max_features=1.0, max_samples='auto', n_estimators=100, n_jobs=-1,\n",
      "    random_state=2788, verbose=0)\n"
     ]
    }
   ],
   "source": [
    "iforest = create_model('iforest')\n",
    "print(iforest)"
   ]
  },
  {
   "cell_type": "code",
   "execution_count": 5,
   "metadata": {},
   "outputs": [
    {
     "data": {
      "text/html": [
       "<div>\n",
       "<style scoped>\n",
       "    .dataframe tbody tr th:only-of-type {\n",
       "        vertical-align: middle;\n",
       "    }\n",
       "\n",
       "    .dataframe tbody tr th {\n",
       "        vertical-align: top;\n",
       "    }\n",
       "\n",
       "    .dataframe thead th {\n",
       "        text-align: right;\n",
       "    }\n",
       "</style>\n",
       "<table border=\"1\" class=\"dataframe\">\n",
       "  <thead>\n",
       "    <tr style=\"text-align: right;\">\n",
       "      <th></th>\n",
       "      <th>Name</th>\n",
       "      <th>Reference</th>\n",
       "    </tr>\n",
       "    <tr>\n",
       "      <th>ID</th>\n",
       "      <th></th>\n",
       "      <th></th>\n",
       "    </tr>\n",
       "  </thead>\n",
       "  <tbody>\n",
       "    <tr>\n",
       "      <th>abod</th>\n",
       "      <td>Angle-base Outlier Detection</td>\n",
       "      <td>pyod.models.abod.ABOD</td>\n",
       "    </tr>\n",
       "    <tr>\n",
       "      <th>cluster</th>\n",
       "      <td>Clustering-Based Local Outlier</td>\n",
       "      <td>pyod.models.cblof.CBLOF</td>\n",
       "    </tr>\n",
       "    <tr>\n",
       "      <th>cof</th>\n",
       "      <td>Connectivity-Based Local Outlier</td>\n",
       "      <td>pyod.models.cof.COF</td>\n",
       "    </tr>\n",
       "    <tr>\n",
       "      <th>iforest</th>\n",
       "      <td>Isolation Forest</td>\n",
       "      <td>pyod.models.iforest.IForest</td>\n",
       "    </tr>\n",
       "    <tr>\n",
       "      <th>histogram</th>\n",
       "      <td>Histogram-based Outlier Detection</td>\n",
       "      <td>pyod.models.hbos.HBOS</td>\n",
       "    </tr>\n",
       "    <tr>\n",
       "      <th>knn</th>\n",
       "      <td>K-Nearest Neighbors Detector</td>\n",
       "      <td>pyod.models.knn.KNN</td>\n",
       "    </tr>\n",
       "    <tr>\n",
       "      <th>lof</th>\n",
       "      <td>Local Outlier Factor</td>\n",
       "      <td>pyod.models.lof.LOF</td>\n",
       "    </tr>\n",
       "    <tr>\n",
       "      <th>svm</th>\n",
       "      <td>One-class SVM detector</td>\n",
       "      <td>pyod.models.ocsvm.OCSVM</td>\n",
       "    </tr>\n",
       "    <tr>\n",
       "      <th>pca</th>\n",
       "      <td>Principal Component Analysis</td>\n",
       "      <td>pyod.models.pca.PCA</td>\n",
       "    </tr>\n",
       "    <tr>\n",
       "      <th>mcd</th>\n",
       "      <td>Minimum Covariance Determinant</td>\n",
       "      <td>pyod.models.mcd.MCD</td>\n",
       "    </tr>\n",
       "    <tr>\n",
       "      <th>sod</th>\n",
       "      <td>Subspace Outlier Detection</td>\n",
       "      <td>pyod.models.sod.SOD</td>\n",
       "    </tr>\n",
       "    <tr>\n",
       "      <th>sos</th>\n",
       "      <td>Stochastic Outlier Selection</td>\n",
       "      <td>pyod.models.sos.SOS</td>\n",
       "    </tr>\n",
       "  </tbody>\n",
       "</table>\n",
       "</div>"
      ],
      "text/plain": [
       "                                        Name                    Reference\n",
       "ID                                                                       \n",
       "abod            Angle-base Outlier Detection        pyod.models.abod.ABOD\n",
       "cluster       Clustering-Based Local Outlier      pyod.models.cblof.CBLOF\n",
       "cof         Connectivity-Based Local Outlier          pyod.models.cof.COF\n",
       "iforest                     Isolation Forest  pyod.models.iforest.IForest\n",
       "histogram  Histogram-based Outlier Detection        pyod.models.hbos.HBOS\n",
       "knn             K-Nearest Neighbors Detector          pyod.models.knn.KNN\n",
       "lof                     Local Outlier Factor          pyod.models.lof.LOF\n",
       "svm                   One-class SVM detector      pyod.models.ocsvm.OCSVM\n",
       "pca             Principal Component Analysis          pyod.models.pca.PCA\n",
       "mcd           Minimum Covariance Determinant          pyod.models.mcd.MCD\n",
       "sod               Subspace Outlier Detection          pyod.models.sod.SOD\n",
       "sos             Stochastic Outlier Selection          pyod.models.sos.SOS"
      ]
     },
     "execution_count": 5,
     "metadata": {},
     "output_type": "execute_result"
    }
   ],
   "source": [
    "models()"
   ]
  },
  {
   "cell_type": "markdown",
   "metadata": {},
   "source": [
    "### Analyze Model\n",
    "\n",
    "### モデルの分析"
   ]
  },
  {
   "cell_type": "code",
   "execution_count": 6,
   "metadata": {},
   "outputs": [
    {
     "data": {
      "application/vnd.plotly.v1+json": {
       "config": {
        "plotlyServerURL": "https://plot.ly"
       },
       "data": [
        {
         "customdata": [
          [
           0.263995357
          ],
          [
           0.546092303
          ],
          [
           0.336714104
          ],
          [
           0.092107835
          ],
          [
           0.325261175
          ],
          [
           0.212464853
          ],
          [
           0.258565714
          ],
          [
           0.869236755
          ],
          [
           0.197077957
          ],
          [
           0.292984504
          ],
          [
           0.82178316
          ],
          [
           0.796622959
          ],
          [
           0.045577011
          ],
          [
           0.613660351
          ],
          [
           0.950744566
          ],
          [
           0.336346337
          ],
          [
           0.034440667
          ],
          [
           0.741544275
          ],
          [
           0.18443265
          ],
          [
           0.664514943
          ],
          [
           0.162824858
          ],
          [
           0.729838445
          ],
          [
           0.62837389
          ],
          [
           0.057883661
          ],
          [
           0.445534827
          ],
          [
           0.80183695
          ],
          [
           0.27709612
          ],
          [
           0.228634015
          ],
          [
           0.834860657
          ],
          [
           0.669766511
          ],
          [
           0.532527349
          ],
          [
           0.170459071
          ],
          [
           0.510288468
          ],
          [
           0.977561989
          ],
          [
           0.249775993
          ],
          [
           0.975500682
          ],
          [
           0.613701727
          ],
          [
           0.167420363
          ],
          [
           0.537472516
          ],
          [
           0.379899131
          ],
          [
           0.633897303
          ],
          [
           0.633960424
          ],
          [
           0.549974653
          ],
          [
           0.178172988
          ],
          [
           0.85563814
          ],
          [
           0.321796672
          ],
          [
           0.817490537
          ],
          [
           0.254879417
          ],
          [
           0.344140513
          ],
          [
           0.806145726
          ],
          [
           0.277081671
          ],
          [
           0.544328519
          ],
          [
           0.07708393
          ],
          [
           0.273081458
          ],
          [
           0.390877336
          ],
          [
           0.349621385
          ],
          [
           0.214549744
          ],
          [
           0.206075222
          ],
          [
           0.86461997
          ],
          [
           0.981708854
          ],
          [
           0.334829646
          ],
          [
           0.648387061
          ],
          [
           0.093643561
          ],
          [
           0.837802698
          ],
          [
           0.760343967
          ],
          [
           0.291404174
          ],
          [
           0.3413454
          ],
          [
           0.761112484
          ],
          [
           0.541899775
          ],
          [
           0.684176639
          ],
          [
           0.983535597
          ],
          [
           0.52081245
          ],
          [
           0.328227724
          ],
          [
           0.097157938
          ],
          [
           0.876088593
          ],
          [
           0.870214512
          ],
          [
           0.656086992
          ],
          [
           0.306791514
          ],
          [
           0.48126734
          ],
          [
           0.259559174
          ],
          [
           0.326123655
          ],
          [
           0.930568042
          ],
          [
           0.6583894
          ],
          [
           0.689992335
          ],
          [
           0.315781109
          ],
          [
           0.566905093
          ],
          [
           0.637526619
          ],
          [
           0.687540723
          ],
          [
           0.324300602
          ],
          [
           0.592704906
          ],
          [
           0.740253126
          ],
          [
           0.594032877
          ],
          [
           0.596452977
          ],
          [
           0.277680817
          ],
          [
           0.258329663
          ],
          [
           0.142460864
          ],
          [
           0.435533461
          ],
          [
           0.702499044
          ],
          [
           0.58897535
          ],
          [
           0.653304374
          ],
          [
           0.336968524
          ],
          [
           0.631244736
          ],
          [
           0.73530076
          ],
          [
           0.050390366
          ],
          [
           0.064264924
          ],
          [
           0.665359476
          ],
          [
           0.917835245
          ],
          [
           0.44651012
          ],
          [
           0.661938199
          ],
          [
           0.439359853
          ],
          [
           0.687572404
          ],
          [
           0.363462248
          ],
          [
           0.654262182
          ],
          [
           0.578553536
          ],
          [
           0.065927945
          ],
          [
           0.550148559
          ],
          [
           0.139182814
          ],
          [
           0.080004635
          ],
          [
           0.278228358
          ],
          [
           0.560124266
          ],
          [
           0.53639864
          ],
          [
           0.426531904
          ],
          [
           0.789109796
          ],
          [
           0.742900474
          ],
          [
           0.901692589
          ],
          [
           0.650337401
          ],
          [
           0.114057311
          ],
          [
           0.260812592
          ],
          [
           0.43991232
          ],
          [
           0.964409284
          ],
          [
           0.184401415
          ],
          [
           0.345145446
          ],
          [
           0.175894581
          ],
          [
           0.312514453
          ],
          [
           0.674131879
          ],
          [
           0.32825045
          ],
          [
           0.598231057
          ],
          [
           0.092598817
          ],
          [
           0.497916521
          ],
          [
           0.419776521
          ],
          [
           0.3121767
          ],
          [
           0.937857107
          ],
          [
           0.049030963
          ],
          [
           0.476104526
          ],
          [
           0.447397526
          ],
          [
           0.295806058
          ],
          [
           0.737363977
          ],
          [
           0.625896253
          ],
          [
           0.408813429
          ],
          [
           0.437511156
          ],
          [
           0.691351375
          ],
          [
           0.935555275
          ],
          [
           0.437846654
          ],
          [
           0.072217715
          ],
          [
           0.67636067
          ],
          [
           0.468883999
          ],
          [
           0.543820644
          ],
          [
           0.655522647
          ],
          [
           0.693528924
          ],
          [
           0.108878312
          ],
          [
           0.285463743
          ],
          [
           0
          ],
          [
           0.706495497
          ],
          [
           0.273530633
          ],
          [
           0.292320271
          ],
          [
           0.673984307
          ],
          [
           0.126121828
          ],
          [
           0.946707459
          ],
          [
           0.936338898
          ],
          [
           0.853755364
          ],
          [
           0.706071361
          ],
          [
           0.693682186
          ],
          [
           0.508527882
          ],
          [
           0.347170389
          ],
          [
           0.704154263
          ],
          [
           0.658730088
          ],
          [
           0.155841557
          ],
          [
           0.311085435
          ],
          [
           0.281135347
          ],
          [
           0.094587802
          ],
          [
           0.683260954
          ],
          [
           0.907729251
          ],
          [
           0.291512674
          ],
          [
           0.752734459
          ],
          [
           0.93482964
          ],
          [
           0.071413953
          ],
          [
           0.594896327
          ],
          [
           0.404672015
          ],
          [
           0.13837621
          ],
          [
           0.747338468
          ],
          [
           0.530882486
          ],
          [
           0.282649594
          ],
          [
           0.699335734
          ],
          [
           0.056111251
          ],
          [
           0.855234998
          ],
          [
           0.077895127
          ],
          [
           0.891649583
          ],
          [
           0.386742279
          ],
          [
           0.27113158
          ],
          [
           0.958888961
          ],
          [
           0.085120869
          ],
          [
           0.526902249
          ],
          [
           0.066577785
          ],
          [
           0.841506738
          ],
          [
           0.255342095
          ],
          [
           0.060545771
          ],
          [
           0.073385869
          ],
          [
           0.187493723
          ],
          [
           0.858365688
          ],
          [
           0.090640352
          ],
          [
           0.709725227
          ],
          [
           0.631300647
          ],
          [
           0.247504474
          ],
          [
           0.822843584
          ],
          [
           0.373476759
          ],
          [
           0.625538582
          ],
          [
           0.292951715
          ],
          [
           0.299730324
          ],
          [
           0.25121407
          ],
          [
           0.344480551
          ],
          [
           0.293064767
          ],
          [
           0.762803224
          ],
          [
           0.738470804
          ],
          [
           0.674883265
          ],
          [
           0.719151612
          ],
          [
           0.130980216
          ],
          [
           0.511328036
          ],
          [
           0.04492903
          ],
          [
           0.560914449
          ],
          [
           0.744040641
          ],
          [
           0.266961634
          ],
          [
           0.644231853
          ],
          [
           0.038113352
          ],
          [
           0.057155299
          ],
          [
           0.341392461
          ],
          [
           0.720463632
          ],
          [
           0.402878236
          ],
          [
           0.635148967
          ],
          [
           0.320729467
          ],
          [
           0.091209694
          ],
          [
           0.23414609
          ],
          [
           0.890221131
          ],
          [
           0.602170884
          ],
          [
           0.633652055
          ],
          [
           0.806240837
          ],
          [
           0.739731184
          ],
          [
           0.465231269
          ],
          [
           0.7321109
          ],
          [
           0.373874305
          ],
          [
           0.501587947
          ],
          [
           0.115383158
          ],
          [
           0.731946604
          ],
          [
           0.418298728
          ],
          [
           0.062259591
          ],
          [
           0.391496379
          ],
          [
           0.35984929
          ],
          [
           0.245235627
          ],
          [
           0.610028339
          ],
          [
           0.435403602
          ],
          [
           0.434309675
          ],
          [
           0.523763344
          ],
          [
           0.171187866
          ],
          [
           0.187734303
          ],
          [
           0.945014638
          ],
          [
           0.027851097
          ],
          [
           0.68445706
          ],
          [
           0.178014532
          ],
          [
           0.643427879
          ],
          [
           0.59588355
          ],
          [
           0.372361682
          ],
          [
           0.586103584
          ],
          [
           0.271658852
          ],
          [
           0.59951107
          ],
          [
           0.468363088
          ],
          [
           0.314515565
          ],
          [
           0.21893726
          ],
          [
           0.254716562
          ],
          [
           0.25612815
          ],
          [
           0.602259755
          ],
          [
           0.134381075
          ],
          [
           0.513887424
          ],
          [
           0.624241636
          ],
          [
           0.160251854
          ],
          [
           0.580708108
          ],
          [
           0.270540486
          ],
          [
           0.832919932
          ],
          [
           0.93032134
          ],
          [
           0.719157884
          ],
          [
           0.886720033
          ],
          [
           0.098792281
          ],
          [
           0.787174286
          ],
          [
           0.365592376
          ],
          [
           0.719576193
          ],
          [
           0.8058956
          ],
          [
           0.755578334
          ],
          [
           0.526005909
          ],
          [
           0.68880424
          ],
          [
           0.221115312
          ],
          [
           0.739369477
          ],
          [
           0.408440236
          ],
          [
           0.348926542
          ],
          [
           0.433713763
          ],
          [
           0.596496607
          ],
          [
           0.6942953
          ],
          [
           0.709030966
          ],
          [
           0.867652984
          ],
          [
           0.89332545
          ],
          [
           0.746020922
          ],
          [
           0.538284443
          ],
          [
           0.892219314
          ],
          [
           0.935175765
          ],
          [
           0.260527707
          ],
          [
           0.956780449
          ],
          [
           0.204932484
          ],
          [
           0.687733351
          ],
          [
           0.329063619
          ],
          [
           0.632149831
          ],
          [
           0.463744506
          ],
          [
           0.698859621
          ],
          [
           0.385446564
          ],
          [
           0.479975377
          ],
          [
           0.732279108
          ],
          [
           0.3813543
          ],
          [
           0.459326013
          ],
          [
           0.257401434
          ],
          [
           0.665014804
          ],
          [
           0.103399542
          ],
          [
           0.425284413
          ],
          [
           0.943529051
          ],
          [
           0.594750236
          ],
          [
           0.543776817
          ],
          [
           0.18203988
          ],
          [
           0.235842084
          ],
          [
           0.585984497
          ],
          [
           0.762013168
          ],
          [
           0.684982907
          ],
          [
           0.676936933
          ],
          [
           0.290184964
          ],
          [
           0.481068222
          ],
          [
           0.492766033
          ],
          [
           0.221856234
          ],
          [
           0.053875998
          ],
          [
           0.082751144
          ],
          [
           0.385366225
          ],
          [
           0.702513961
          ],
          [
           0.91553156
          ],
          [
           0.082087436
          ],
          [
           0.251280378
          ],
          [
           0.416721817
          ],
          [
           0.277032672
          ],
          [
           0.579539754
          ],
          [
           0.569363476
          ],
          [
           0.133399703
          ],
          [
           0.265045463
          ],
          [
           0.936571901
          ],
          [
           0.252618554
          ],
          [
           0.054033081
          ],
          [
           0.802481439
          ],
          [
           0.528197693
          ],
          [
           0.9515026
          ],
          [
           0.572121173
          ],
          [
           0.752938227
          ],
          [
           0.143857535
          ],
          [
           0.513484576
          ],
          [
           0.313322389
          ],
          [
           0.687797396
          ],
          [
           0.37705984
          ],
          [
           0.348226142
          ],
          [
           0.67763282
          ],
          [
           0.241387521
          ],
          [
           0.850650179
          ],
          [
           0.220348103
          ],
          [
           0.476445464
          ],
          [
           0.690324025
          ],
          [
           0.364695946
          ],
          [
           0.649249197
          ],
          [
           0.943701921
          ],
          [
           0.529645971
          ],
          [
           0.299097002
          ],
          [
           0.96696247
          ],
          [
           0.272005242
          ],
          [
           0.314161447
          ],
          [
           0.752020991
          ],
          [
           0.221882453
          ],
          [
           0.720332673
          ],
          [
           0.379204782
          ],
          [
           0.60168653
          ],
          [
           0.582932673
          ],
          [
           0.950809853
          ],
          [
           0.58830141
          ],
          [
           0.880887227
          ],
          [
           0.467857701
          ],
          [
           0.879902171
          ],
          [
           0.619844009
          ],
          [
           0.359002573
          ],
          [
           0.291511278
          ],
          [
           0.694157143
          ],
          [
           0.727960353
          ],
          [
           0.617703921
          ],
          [
           0.39581257
          ],
          [
           0.58317282
          ],
          [
           0.710332374
          ],
          [
           0.253753693
          ],
          [
           0.049412228
          ],
          [
           0.728378695
          ],
          [
           0.432432881
          ],
          [
           0.58612345
          ],
          [
           0.052342373
          ],
          [
           0.053483902
          ],
          [
           0.518729378
          ],
          [
           0.933040208
          ],
          [
           0.703554284
          ],
          [
           0.268989899
          ],
          [
           0.733006927
          ],
          [
           0.444352467
          ],
          [
           0.583394621
          ],
          [
           0.871172692
          ],
          [
           0.428767078
          ],
          [
           0.300460841
          ],
          [
           0.953329459
          ],
          [
           0.606443965
          ],
          [
           0.90986815
          ],
          [
           0.714896449
          ],
          [
           0.497349509
          ],
          [
           0.853097486
          ],
          [
           0.721804145
          ],
          [
           0.303467328
          ],
          [
           0.664485096
          ],
          [
           0.27978062
          ],
          [
           0.569481665
          ],
          [
           0.628628926
          ],
          [
           0.088368123
          ],
          [
           0.733567326
          ],
          [
           0.537436778
          ],
          [
           0.638593691
          ],
          [
           0.954726948
          ],
          [
           0.632202332
          ],
          [
           0.642134651
          ],
          [
           0.744653087
          ],
          [
           0.115714007
          ],
          [
           0.486250073
          ],
          [
           0.440356144
          ],
          [
           0.08272289
          ],
          [
           0.511591027
          ],
          [
           0.394627555
          ],
          [
           0.224394
          ],
          [
           0.626927584
          ],
          [
           0.290254057
          ],
          [
           0.779008053
          ],
          [
           0.86610579
          ],
          [
           0.873326081
          ],
          [
           0.49548916
          ],
          [
           0.594297695
          ],
          [
           0.918201584
          ],
          [
           0.577042754
          ],
          [
           0.019467671
          ],
          [
           0.670298282
          ],
          [
           0.546595316
          ],
          [
           0.591665146
          ],
          [
           0.42155819
          ],
          [
           0.685608559
          ],
          [
           0.340303024
          ],
          [
           0.675626741
          ],
          [
           0.319067345
          ],
          [
           0.388499664
          ],
          [
           0.706949589
          ],
          [
           0.559409515
          ],
          [
           0.687663508
          ],
          [
           0.708804554
          ],
          [
           0.681888094
          ],
          [
           0.422535109
          ],
          [
           0.320004605
          ],
          [
           0.658281368
          ],
          [
           0.634154867
          ],
          [
           0.777332009
          ],
          [
           0.812677205
          ],
          [
           0.074280797
          ],
          [
           0.39600217
          ],
          [
           0.054933913
          ],
          [
           0.825058925
          ],
          [
           0.382642009
          ],
          [
           0.868729818
          ],
          [
           0.588043346
          ],
          [
           0.891551577
          ],
          [
           0.10920046
          ],
          [
           0.647682781
          ],
          [
           0.724342512
          ],
          [
           0.070163044
          ],
          [
           0.280882054
          ],
          [
           0.039113261
          ],
          [
           0.579641592
          ],
          [
           0.639000922
          ],
          [
           0.281745925
          ],
          [
           0.647857744
          ],
          [
           0.647905797
          ],
          [
           0.875226264
          ],
          [
           0.567603305
          ],
          [
           0.262940591
          ],
          [
           0.268026042
          ],
          [
           0.40519133
          ],
          [
           0.479965451
          ],
          [
           0.33552403
          ],
          [
           0.777165379
          ],
          [
           0.425487963
          ],
          [
           0.237986115
          ],
          [
           0.142522971
          ],
          [
           0.724176488
          ],
          [
           0.234698933
          ],
          [
           0.078182281
          ],
          [
           0.855990155
          ],
          [
           0.270251765
          ],
          [
           0.435517841
          ],
          [
           0.762697513
          ],
          [
           0.464487258
          ],
          [
           0.396112685
          ],
          [
           0.376380921
          ],
          [
           0.294594677
          ],
          [
           0.694492121
          ],
          [
           0.622767949
          ],
          [
           0.847559722
          ],
          [
           0.301463054
          ],
          [
           0.912937812
          ],
          [
           0.500017182
          ],
          [
           0.902587935
          ],
          [
           0.304517943
          ],
          [
           0.299165673
          ],
          [
           0.092014087
          ],
          [
           0.488548917
          ],
          [
           0.664664437
          ],
          [
           0.265349549
          ],
          [
           0.723657021
          ],
          [
           0.149262385
          ],
          [
           0.04577339
          ],
          [
           0.69661064
          ],
          [
           0.42181486
          ],
          [
           0.733845785
          ],
          [
           0.418795386
          ],
          [
           0.677443529
          ],
          [
           0.261283603
          ],
          [
           0.268527767
          ],
          [
           0.544322236
          ],
          [
           0.431632036
          ],
          [
           0.981018141
          ],
          [
           0.214980724
          ],
          [
           0.394729993
          ],
          [
           0.122224944
          ],
          [
           0.297496875
          ],
          [
           0.374904431
          ],
          [
           0.68698771
          ],
          [
           0.388549207
          ],
          [
           0.039296071
          ],
          [
           0.73553424
          ],
          [
           0.379294893
          ],
          [
           0.732123386
          ],
          [
           0.339221439
          ],
          [
           0.659450594
          ],
          [
           0.054838642
          ],
          [
           0.640112102
          ],
          [
           0.307141704
          ],
          [
           0.396611907
          ],
          [
           0.420439161
          ],
          [
           0.241714974
          ],
          [
           0.065893153
          ],
          [
           0.910521937
          ],
          [
           0.697163103
          ],
          [
           0.072559853
          ],
          [
           0.81825094
          ],
          [
           0.311888815
          ],
          [
           0.961644609
          ],
          [
           0.816325524
          ],
          [
           0.14647302
          ],
          [
           0.548753945
          ],
          [
           0.946158087
          ],
          [
           0.293992717
          ],
          [
           0.331479643
          ],
          [
           0.906220031
          ],
          [
           0.525540416
          ],
          [
           0.83301411
          ],
          [
           0.514849806
          ],
          [
           0.574609024
          ],
          [
           0.468711853
          ],
          [
           0.71002775
          ],
          [
           0.645973276
          ],
          [
           0.229794416
          ],
          [
           0.551783393
          ],
          [
           0.055822991
          ],
          [
           0.331750941
          ],
          [
           0.715520198
          ],
          [
           0.583924357
          ],
          [
           0.306957691
          ],
          [
           0.791478237
          ],
          [
           0.164236639
          ],
          [
           0.065711219
          ],
          [
           0.948993132
          ],
          [
           0.080423835
          ],
          [
           0.052495426
          ],
          [
           0.566346135
          ],
          [
           0.3630266
          ],
          [
           0.605442195
          ],
          [
           0.630850584
          ],
          [
           0.065791238
          ],
          [
           0.286817071
          ],
          [
           0.685462839
          ],
          [
           0.260853706
          ],
          [
           0.659122429
          ],
          [
           0.443173922
          ],
          [
           0.602063986
          ],
          [
           0.060366911
          ],
          [
           0.781903153
          ],
          [
           0.514579807
          ],
          [
           0.483886213
          ],
          [
           0.600213807
          ],
          [
           0.497364052
          ],
          [
           0.411145245
          ],
          [
           0.116999171
          ],
          [
           0.341890141
          ],
          [
           0.746950848
          ],
          [
           0.396292746
          ],
          [
           0.622143843
          ],
          [
           0.335271141
          ],
          [
           0.140257137
          ],
          [
           0.081620681
          ],
          [
           0.069837569
          ],
          [
           0.468940008
          ],
          [
           0.990857417
          ],
          [
           0.896616832
          ],
          [
           0.255310561
          ],
          [
           0.224645267
          ],
          [
           0.01991825
          ],
          [
           0.296480415
          ],
          [
           0.155458996
          ],
          [
           0.577916714
          ],
          [
           0.956303031
          ],
          [
           0.813464394
          ],
          [
           0.529675785
          ],
          [
           0.287671353
          ],
          [
           0.48039136
          ],
          [
           0.281044822
          ],
          [
           0.633196521
          ],
          [
           0.093325377
          ],
          [
           0.284473981
          ],
          [
           0.052223775
          ],
          [
           0.051129385
          ],
          [
           0.967405608
          ],
          [
           0.040045728
          ],
          [
           0.908582921
          ],
          [
           0.662117416
          ],
          [
           0.424703209
          ],
          [
           0.72207806
          ],
          [
           0.666193327
          ],
          [
           0.509681253
          ],
          [
           0.751353621
          ],
          [
           0.279073124
          ],
          [
           0.074927
          ],
          [
           0.916359535
          ],
          [
           0.31040327
          ],
          [
           0.716604052
          ],
          [
           0.485587085
          ],
          [
           0.306075181
          ],
          [
           0.477558204
          ],
          [
           0.711923941
          ],
          [
           0.066348638
          ],
          [
           0.274539351
          ],
          [
           0.31082252
          ],
          [
           0.476073127
          ],
          [
           0.186795565
          ],
          [
           0.26654207
          ],
          [
           0.070231142
          ],
          [
           0.26951927
          ],
          [
           0.800004713
          ],
          [
           0.273633667
          ],
          [
           0.146479192
          ],
          [
           0.378318951
          ],
          [
           0.373849065
          ],
          [
           0.242170835
          ],
          [
           0.249796488
          ],
          [
           0.066591188
          ],
          [
           0.372956798
          ],
          [
           0.501812291
          ],
          [
           0.313097752
          ],
          [
           0.880202196
          ],
          [
           0.51981893
          ],
          [
           0.364138746
          ],
          [
           0.492682896
          ],
          [
           0.285732652
          ],
          [
           0.890114985
          ],
          [
           0.316419561
          ],
          [
           0.26866354
          ],
          [
           0.771975959
          ],
          [
           0.968888992
          ],
          [
           0.080334377
          ],
          [
           0.736828221
          ],
          [
           0.300558071
          ],
          [
           0.917950393
          ],
          [
           0.465815039
          ],
          [
           0.054036682
          ],
          [
           0.963150123
          ],
          [
           0.089653503
          ],
          [
           0.707693234
          ],
          [
           0.636416037
          ],
          [
           0.539521117
          ],
          [
           0.114757161
          ],
          [
           0.357312419
          ],
          [
           0.67639834
          ],
          [
           0.43482839
          ],
          [
           0.032326387
          ],
          [
           0.711365605
          ],
          [
           0.187486519
          ],
          [
           0.052789653
          ],
          [
           0.505863613
          ],
          [
           0.927431873
          ],
          [
           0.680984256
          ],
          [
           0.882822186
          ],
          [
           0.495705441
          ],
          [
           0.596240398
          ],
          [
           0.320610701
          ],
          [
           0.3413685
          ],
          [
           0.159681797
          ],
          [
           0.318133669
          ],
          [
           0.839301048
          ],
          [
           0.064359251
          ],
          [
           0.470216633
          ],
          [
           0.776252291
          ],
          [
           0.635843383
          ],
          [
           0.62510543
          ],
          [
           0.52959065
          ],
          [
           0.986900166
          ],
          [
           0.078585688
          ],
          [
           0.233284267
          ],
          [
           0.363330957
          ],
          [
           0.716716981
          ],
          [
           0.375889792
          ],
          [
           0.223316889
          ],
          [
           0.299343986
          ],
          [
           0.538595767
          ],
          [
           0.730297124
          ],
          [
           0.66033077
          ],
          [
           0.435296009
          ],
          [
           0.326494313
          ],
          [
           0.854402708
          ],
          [
           0.573493847
          ],
          [
           0.757786135
          ],
          [
           0.704743233
          ],
          [
           0.281575597
          ],
          [
           0.671968208
          ],
          [
           0.313726015
          ],
          [
           0.364338275
          ],
          [
           0.368216396
          ],
          [
           0.386295207
          ],
          [
           0.655971865
          ],
          [
           0.566025273
          ],
          [
           0.424999093
          ],
          [
           0.090110371
          ],
          [
           0.772350538
          ],
          [
           0.331047258
          ],
          [
           0.273716188
          ],
          [
           0.23877568
          ],
          [
           0.373079772
          ],
          [
           0.331185868
          ],
          [
           0.256134531
          ],
          [
           0.678373225
          ],
          [
           0.434638338
          ],
          [
           0.654668307
          ],
          [
           0.986681065
          ],
          [
           0.371520495
          ],
          [
           0.408359618
          ],
          [
           0.40932365
          ],
          [
           0.283412082
          ],
          [
           0.395246531
          ],
          [
           0.010984428
          ],
          [
           0.306013869
          ],
          [
           0.266194806
          ],
          [
           0.299318521
          ],
          [
           0.318293946
          ],
          [
           0.74282591
          ],
          [
           0.097664329
          ],
          [
           0.079666942
          ],
          [
           0.613258767
          ],
          [
           0.99443072
          ],
          [
           0.568835082
          ],
          [
           0.708034516
          ],
          [
           0.370592719
          ],
          [
           0.669867361
          ],
          [
           0.651295625
          ],
          [
           0.462531569
          ],
          [
           0.719625619
          ],
          [
           0.45377248
          ],
          [
           0.394863946
          ],
          [
           0.323974831
          ],
          [
           0.146454724
          ],
          [
           0.779067041
          ],
          [
           0.401828915
          ],
          [
           0.601479585
          ],
          [
           0.856423023
          ],
          [
           0.565242962
          ],
          [
           0.301225108
          ],
          [
           0.282108144
          ],
          [
           0.594378011
          ],
          [
           0.705312368
          ],
          [
           0.540869628
          ],
          [
           0.319249574
          ],
          [
           0.361766138
          ],
          [
           0.625000704
          ],
          [
           0.316287401
          ],
          [
           0.047239021
          ],
          [
           0.801182233
          ],
          [
           0.508474436
          ],
          [
           0.817893411
          ],
          [
           0.399235601
          ],
          [
           0.974051999
          ],
          [
           0.72241535
          ],
          [
           0.039564764
          ],
          [
           0.908684108
          ],
          [
           0.473010134
          ],
          [
           0.718049628
          ],
          [
           0.763479069
          ],
          [
           0.647596537
          ],
          [
           0.894997386
          ],
          [
           0.222825901
          ],
          [
           0.359012234
          ],
          [
           0.944910252
          ],
          [
           0.297877816
          ],
          [
           0.172517997
          ],
          [
           0.556586265
          ],
          [
           0.876481735
          ],
          [
           0.486677843
          ],
          [
           0.459496733
          ],
          [
           0.474126377
          ],
          [
           0.70101144
          ],
          [
           0.337597387
          ],
          [
           0.537578886
          ],
          [
           0.966992448
          ],
          [
           0.056849545
          ],
          [
           0.233249065
          ],
          [
           0.380054711
          ],
          [
           0.602929443
          ],
          [
           0.303847999
          ],
          [
           0.170194553
          ],
          [
           0.972168554
          ],
          [
           0.332168927
          ],
          [
           0.688728689
          ],
          [
           0.110773401
          ],
          [
           0.273352065
          ],
          [
           0.572939678
          ],
          [
           0.491457065
          ],
          [
           0.281389999
          ],
          [
           0.821697261
          ],
          [
           0.674977683
          ],
          [
           0.585134549
          ],
          [
           0.710596116
          ],
          [
           0.040488789
          ],
          [
           0.568054311
          ],
          [
           0.321752928
          ],
          [
           0.611850232
          ],
          [
           0.926096887
          ],
          [
           0.618347428
          ],
          [
           0.667629785
          ],
          [
           0.397733466
          ],
          [
           0.290875487
          ],
          [
           0.594375103
          ],
          [
           0.508255233
          ],
          [
           0.338571357
          ],
          [
           0.432302347
          ],
          [
           0.302221978
          ],
          [
           0.87619819
          ],
          [
           0.080204492
          ],
          [
           0.092333532
          ],
          [
           0.093656447
          ],
          [
           0.608452351
          ],
          [
           0.732654598
          ],
          [
           0.944158855
          ],
          [
           0.26742308
          ],
          [
           0.731124201
          ],
          [
           0.661308553
          ],
          [
           0.387766262
          ],
          [
           0.962585273
          ],
          [
           0.322067067
          ],
          [
           0.634081093
          ],
          [
           0.475345002
          ],
          [
           0.353558973
          ],
          [
           0.885936316
          ],
          [
           0.876798106
          ],
          [
           0.221581064
          ],
          [
           0.394362449
          ],
          [
           0.805035676
          ],
          [
           0.452898486
          ],
          [
           0.592520516
          ],
          [
           0.761026394
          ],
          [
           0.245049023
          ],
          [
           0.372139363
          ],
          [
           0.681054822
          ],
          [
           0.747143148
          ],
          [
           0.920739529
          ],
          [
           0.097207945
          ],
          [
           0.699302998
          ],
          [
           0.721647006
          ],
          [
           0.535356114
          ],
          [
           0.738293805
          ],
          [
           0.706467551
          ],
          [
           0.67395061
          ],
          [
           0.711212291
          ],
          [
           0.302558708
          ],
          [
           0.080097855
          ],
          [
           0.707010837
          ],
          [
           0.512248622
          ],
          [
           0.659627472
          ],
          [
           0.657559694
          ],
          [
           0.100645606
          ],
          [
           0.92665363
          ],
          [
           0.892879338
          ],
          [
           0.839157508
          ],
          [
           0.890959718
          ],
          [
           0.556754471
          ],
          [
           0.960361937
          ],
          [
           0.631037864
          ],
          [
           0.029838065
          ],
          [
           0.278843351
          ],
          [
           0.926157705
          ],
          [
           0.551504258
          ],
          [
           0.485942349
          ],
          [
           0.437234696
          ],
          [
           0.252318018
          ],
          [
           0.515466972
          ],
          [
           0.437252296
          ],
          [
           0.493724207
          ],
          [
           0.83324725
          ],
          [
           0.317521477
          ],
          [
           0.286234562
          ],
          [
           0.726833965
          ],
          [
           0.495667033
          ],
          [
           0.028645255
          ],
          [
           0.319671917
          ],
          [
           0.674344598
          ],
          [
           0.766037189
          ],
          [
           0.65456992
          ],
          [
           0.756514381
          ],
          [
           0.528253719
          ],
          [
           0.389719491
          ],
          [
           0.355087459
          ],
          [
           0.87015202
          ],
          [
           0.739083306
          ],
          [
           0.305761846
          ],
          [
           0.411587673
          ],
          [
           0.063633094
          ],
          [
           0.735409395
          ],
          [
           0.605916669
          ],
          [
           0.539395562
          ],
          [
           0.566183532
          ],
          [
           0.674795186
          ],
          [
           0.070993366
          ],
          [
           0.1252641
          ],
          [
           0.279601492
          ],
          [
           0.952174402
          ],
          [
           0.233806762
          ],
          [
           0.437247429
          ],
          [
           0.925423095
          ],
          [
           0.433498634
          ],
          [
           0.52517902
          ],
          [
           0.088435529
          ],
          [
           0.447677638
          ],
          [
           0.647000631
          ],
          [
           0.903603337
          ],
          [
           0.265790738
          ],
          [
           0.66419695
          ],
          [
           0.498120658
          ],
          [
           0.490188944
          ],
          [
           0.747084187
          ],
          [
           0.906783648
          ],
          [
           0.678770917
          ],
          [
           0.348599859
          ],
          [
           0.294839683
          ],
          [
           0.705691827
          ],
          [
           0.211917931
          ],
          [
           0.063201124
          ],
          [
           0.276699543
          ],
          [
           0.672459395
          ],
          [
           0.808205949
          ],
          [
           0.296538373
          ],
          [
           0.160126862
          ],
          [
           0.439385032
          ],
          [
           0.555951416
          ],
          [
           0.386240112
          ],
          [
           0.158689619
          ],
          [
           0.214499855
          ],
          [
           0.299579429
          ],
          [
           0.569161656
          ],
          [
           0.488614799
          ],
          [
           0.878295021
          ],
          [
           0.649380949
          ],
          [
           0.465713341
          ],
          [
           0.16813774
          ],
          [
           0.87529545
          ],
          [
           0.841132341
          ],
          [
           0.33292081
          ],
          [
           0.513047859
          ],
          [
           0.305055078
          ],
          [
           0.812626991
          ],
          [
           0.25096706
          ],
          [
           0.502435578
          ],
          [
           0.457990741
          ]
         ],
         "hovertemplate": "0=%{x}<br>1=%{y}<br>2=%{z}<br>Feature=%{customdata[0]}<br>Anomaly=%{marker.color}<extra></extra>",
         "legendgroup": "",
         "marker": {
          "color": [
           0,
           0,
           0,
           1,
           0,
           0,
           0,
           1,
           1,
           0,
           0,
           1,
           0,
           0,
           1,
           0,
           0,
           0,
           0,
           0,
           1,
           0,
           0,
           1,
           1,
           1,
           0,
           0,
           1,
           1,
           0,
           0,
           0,
           1,
           1,
           0,
           1,
           0,
           0,
           0,
           1,
           0,
           0,
           1,
           0,
           0,
           1,
           0,
           1,
           0,
           0,
           1,
           0,
           0,
           0,
           1,
           0,
           0,
           0,
           1,
           0,
           0,
           1,
           1,
           0,
           0,
           1,
           0,
           0,
           1,
           0,
           0,
           0,
           0,
           0,
           0,
           0,
           0,
           0,
           0,
           0,
           0,
           0,
           0,
           0,
           0,
           0,
           0,
           0,
           0,
           0,
           0,
           0,
           0,
           0,
           0,
           0,
           0,
           0,
           0,
           0,
           0,
           0,
           0,
           0,
           0,
           0,
           0,
           0,
           0,
           0,
           0,
           0,
           0,
           0,
           0,
           0,
           0,
           0,
           0,
           0,
           0,
           0,
           0,
           0,
           0,
           0,
           0,
           0,
           0,
           1,
           0,
           0,
           0,
           0,
           0,
           1,
           0,
           0,
           0,
           0,
           0,
           0,
           0,
           0,
           0,
           0,
           0,
           0,
           0,
           0,
           0,
           0,
           0,
           0,
           0,
           0,
           0,
           0,
           0,
           0,
           0,
           0,
           0,
           0,
           0,
           0,
           0,
           0,
           0,
           0,
           0,
           0,
           0,
           0,
           0,
           0,
           0,
           0,
           0,
           0,
           0,
           0,
           0,
           0,
           0,
           0,
           0,
           0,
           0,
           0,
           0,
           0,
           0,
           0,
           0,
           0,
           0,
           0,
           0,
           0,
           0,
           0,
           0,
           0,
           0,
           0,
           0,
           0,
           0,
           0,
           0,
           0,
           0,
           0,
           0,
           0,
           0,
           0,
           0,
           0,
           0,
           0,
           0,
           0,
           0,
           0,
           0,
           0,
           0,
           0,
           0,
           0,
           0,
           0,
           0,
           0,
           0,
           0,
           0,
           0,
           0,
           0,
           0,
           0,
           0,
           0,
           0,
           0,
           0,
           0,
           0,
           0,
           0,
           0,
           0,
           0,
           0,
           0,
           0,
           0,
           0,
           0,
           0,
           0,
           0,
           0,
           0,
           0,
           0,
           0,
           0,
           0,
           0,
           0,
           0,
           0,
           0,
           0,
           0,
           0,
           0,
           0,
           0,
           0,
           0,
           0,
           0,
           0,
           0,
           0,
           0,
           0,
           0,
           0,
           0,
           0,
           0,
           0,
           0,
           0,
           0,
           0,
           0,
           0,
           0,
           0,
           0,
           0,
           0,
           0,
           0,
           0,
           0,
           0,
           0,
           0,
           0,
           0,
           0,
           0,
           0,
           0,
           0,
           0,
           0,
           0,
           0,
           0,
           0,
           0,
           0,
           0,
           0,
           0,
           0,
           0,
           0,
           0,
           0,
           0,
           0,
           0,
           0,
           0,
           0,
           0,
           0,
           0,
           0,
           0,
           0,
           0,
           0,
           0,
           0,
           0,
           0,
           0,
           0,
           0,
           0,
           0,
           0,
           0,
           0,
           0,
           0,
           0,
           0,
           0,
           0,
           0,
           0,
           0,
           0,
           0,
           0,
           0,
           0,
           0,
           0,
           0,
           0,
           0,
           0,
           0,
           0,
           0,
           0,
           0,
           0,
           1,
           0,
           0,
           0,
           0,
           0,
           0,
           0,
           0,
           0,
           0,
           0,
           0,
           0,
           0,
           0,
           0,
           0,
           0,
           0,
           0,
           0,
           0,
           0,
           0,
           0,
           0,
           0,
           0,
           0,
           0,
           0,
           0,
           0,
           0,
           0,
           0,
           0,
           0,
           0,
           0,
           0,
           0,
           0,
           0,
           0,
           0,
           0,
           0,
           0,
           0,
           0,
           0,
           0,
           0,
           0,
           0,
           0,
           0,
           0,
           0,
           0,
           0,
           0,
           0,
           0,
           0,
           0,
           0,
           0,
           0,
           0,
           0,
           0,
           0,
           0,
           0,
           0,
           0,
           0,
           0,
           0,
           0,
           0,
           0,
           0,
           0,
           0,
           0,
           0,
           0,
           0,
           0,
           0,
           0,
           0,
           0,
           0,
           0,
           0,
           0,
           0,
           0,
           0,
           0,
           0,
           0,
           0,
           0,
           0,
           0,
           0,
           0,
           0,
           0,
           0,
           0,
           0,
           0,
           0,
           0,
           0,
           0,
           0,
           0,
           0,
           0,
           0,
           0,
           0,
           0,
           1,
           0,
           0,
           0,
           0,
           0,
           0,
           0,
           0,
           0,
           0,
           0,
           0,
           0,
           0,
           0,
           0,
           0,
           0,
           0,
           0,
           0,
           0,
           0,
           0,
           0,
           0,
           0,
           0,
           0,
           0,
           0,
           0,
           0,
           0,
           0,
           0,
           0,
           0,
           0,
           0,
           0,
           0,
           0,
           0,
           0,
           0,
           0,
           0,
           0,
           0,
           0,
           0,
           0,
           0,
           0,
           0,
           0,
           0,
           0,
           0,
           0,
           0,
           0,
           0,
           0,
           0,
           0,
           0,
           0,
           0,
           0,
           0,
           0,
           0,
           0,
           0,
           0,
           0,
           1,
           0,
           0,
           0,
           0,
           0,
           0,
           0,
           0,
           0,
           0,
           0,
           0,
           0,
           0,
           0,
           0,
           0,
           0,
           0,
           0,
           0,
           1,
           0,
           0,
           0,
           0,
           0,
           0,
           0,
           0,
           0,
           0,
           0,
           0,
           0,
           0,
           0,
           0,
           0,
           0,
           0,
           0,
           0,
           0,
           0,
           0,
           0,
           0,
           0,
           0,
           0,
           0,
           0,
           0,
           0,
           0,
           0,
           0,
           0,
           0,
           0,
           0,
           0,
           0,
           0,
           0,
           0,
           0,
           0,
           0,
           0,
           0,
           0,
           0,
           0,
           0,
           0,
           0,
           0,
           0,
           0,
           0,
           0,
           0,
           0,
           0,
           0,
           0,
           0,
           0,
           0,
           0,
           0,
           0,
           0,
           0,
           0,
           1,
           1,
           0,
           1,
           1,
           0,
           0,
           1,
           1,
           0,
           1,
           0,
           0,
           1,
           0,
           0,
           1,
           1,
           1,
           0,
           1,
           0,
           1,
           1,
           1,
           0,
           0,
           0,
           1,
           0,
           0,
           0,
           0,
           0,
           0,
           0,
           0,
           0,
           0,
           0,
           0,
           0,
           0,
           1,
           0,
           0,
           0,
           0,
           0,
           0,
           0,
           0,
           0,
           0,
           0,
           0,
           0,
           0,
           0,
           0,
           0,
           0,
           0,
           0,
           0,
           0,
           0,
           0,
           0,
           0,
           0,
           0,
           0,
           0,
           0,
           0,
           0,
           0,
           0,
           0,
           0,
           0,
           0,
           0,
           0,
           0,
           0,
           0,
           0,
           0,
           0,
           0,
           0,
           0,
           0,
           0,
           0,
           0,
           0,
           1,
           0,
           0,
           0,
           0,
           0,
           0,
           0,
           0,
           0,
           0,
           0,
           0,
           0,
           0,
           0,
           0,
           0,
           0,
           0,
           0,
           0,
           0,
           0,
           0,
           0,
           0,
           0,
           0,
           0,
           0,
           0,
           0,
           0,
           0,
           0,
           0,
           0,
           0,
           0,
           0,
           0,
           0,
           0,
           0,
           0,
           0,
           0,
           0,
           0,
           0,
           0,
           0,
           0,
           0,
           0,
           0,
           0,
           0,
           0,
           0,
           0,
           0,
           0,
           0,
           0,
           0,
           0,
           0,
           0,
           0,
           0,
           0,
           0,
           0,
           0,
           0,
           0,
           0,
           0,
           0,
           0,
           0,
           0,
           0,
           0,
           0,
           0,
           0,
           0,
           0,
           0,
           0,
           0,
           0,
           0,
           0,
           0,
           0,
           0,
           0,
           0,
           0,
           0,
           0,
           0,
           0,
           0,
           0,
           0,
           0,
           0,
           0,
           0,
           0,
           0,
           0,
           0,
           0,
           0,
           0,
           0,
           1,
           0,
           0,
           0,
           0,
           0,
           0,
           0,
           0,
           0,
           0,
           0,
           0,
           0,
           0,
           0,
           0,
           0,
           0,
           0,
           0,
           0,
           0,
           0,
           0,
           0,
           0,
           0,
           0,
           0,
           0,
           0,
           0,
           0,
           0,
           0,
           0,
           0,
           0,
           0,
           0,
           0,
           0,
           0,
           0,
           0,
           0,
           0,
           0,
           0,
           0,
           0,
           0,
           0,
           0,
           0,
           0,
           0,
           0,
           0,
           0,
           0,
           0,
           0,
           0,
           0,
           0,
           0,
           0,
           0,
           0,
           0,
           0,
           0,
           0,
           0,
           0,
           0,
           0
          ],
          "coloraxis": "coloraxis",
          "opacity": 0.7,
          "symbol": "circle"
         },
         "mode": "markers",
         "name": "",
         "scene": "scene",
         "showlegend": false,
         "type": "scatter3d",
         "x": [
          -8.137357,
          6.1100464,
          -7.8619456,
          3.1053004,
          -11.067628,
          4.9668617,
          10.828204,
          1.3018758,
          -6.7722397,
          -2.8420227,
          3.8477297,
          -5.5958285,
          7.0227137,
          -11.794166,
          -5.197772,
          1.3456733,
          7.0540514,
          2.3601937,
          -6.7703223,
          -4.062978,
          5.2320747,
          -3.9468012,
          -10.902306,
          -6.704543,
          0.13682795,
          -1.8048912,
          -6.22895,
          -4.80138,
          -7.312047,
          -2.8702047,
          -5.7391076,
          7.434694,
          -5.896312,
          -6.0904865,
          2.211826,
          -3.0081403,
          -4.2309775,
          -4.876667,
          -5.965053,
          4.6998544,
          6.387652,
          -3.6019423,
          1.2698638,
          -0.00921539,
          -4.9371595,
          1.8758198,
          -5.207052,
          -6.434425,
          -5.7554812,
          4.248411,
          4.814025,
          -5.2598715,
          0.87083656,
          1.8667567,
          4.5688696,
          8.917834,
          5.695338,
          6.0600586,
          -5.63327,
          -4.687764,
          -3.7422712,
          1.4508601,
          -0.98595756,
          -3.0450103,
          2.6128118,
          -5.489333,
          7.228487,
          1.9458629,
          -6.11881,
          2.1050103,
          -4.5434275,
          0.47847104,
          -7.115856,
          5.1784782,
          -5.1279783,
          -3.748585,
          -5.641767,
          -1.2953153,
          -4.0234575,
          -1.7764695,
          -2.0271137,
          -2.423105,
          -8.620325,
          0.90848607,
          7.708894,
          3.2628803,
          1.9283828,
          5.8119483,
          2.4031353,
          -2.9430883,
          -5.5837464,
          3.9707575,
          -0.058029238,
          10.199049,
          8.283636,
          -2.2574248,
          0.1336565,
          2.785633,
          5.8525534,
          -6.1865664,
          -6.7013006,
          5.533869,
          2.661225,
          2.16276,
          -0.354682,
          -6.2822094,
          -0.021304939,
          5.3349366,
          -4.107136,
          -1.9839249,
          -2.8619485,
          -5.043428,
          6.7109184,
          -3.7408714,
          -8.809201,
          -1.7844863,
          12.461473,
          10.365989,
          4.046116,
          6.6186666,
          -1.6128088,
          0.6163036,
          4.3117995,
          3.3188357,
          -1.494968,
          4.595427,
          7.1305594,
          2.1572495,
          6.995237,
          3.2452962,
          2.9740376,
          0.5636446,
          3.809447,
          9.137035,
          6.5259027,
          -6.1678643,
          -9.643497,
          2.7208638,
          5.6063724,
          -1.6989042,
          4.7928042,
          -1.6562593,
          2.601951,
          -8.953946,
          7.7715716,
          -4.1022205,
          2.2404225,
          5.9877524,
          6.2273765,
          -1.8249713,
          -2.7392018,
          -4.094591,
          2.1537607,
          3.5230114,
          -5.1040473,
          0.7574728,
          3.3681104,
          4.8098187,
          -6.931442,
          4.9415674,
          12.029982,
          5.6026387,
          -6.3311615,
          -2.6334903,
          2.9322965,
          5.539429,
          4.738205,
          -4.8497458,
          -6.1028256,
          -1.5864131,
          0.64992166,
          1.8358731,
          1.6878176,
          -9.338979,
          -1.1139559,
          5.269286,
          3.4954224,
          -8.920394,
          6.823796,
          2.0832756,
          0.24763554,
          0.36233455,
          7.4218206,
          -3.5691469,
          -4.5325937,
          12.056173,
          -2.1350582,
          3.2858567,
          -2.550851,
          -3.7437046,
          5.839745,
          -9.071701,
          4.145935,
          -9.117319,
          9.495908,
          11.288107,
          1.2145005,
          5.102786,
          -7.442815,
          -1.458908,
          0.8244246,
          -2.0673542,
          8.603199,
          -8.355018,
          -8.444661,
          7.411525,
          0.02993062,
          1.4451399,
          1.2845538,
          7.052364,
          -0.10482272,
          -0.78749603,
          -3.0492513,
          -1.7942522,
          0.61414295,
          0.7460811,
          6.5810413,
          0.01189193,
          -1.9566299,
          -2.6658547,
          -8.633829,
          3.5166388,
          -7.680076,
          -3.6119823,
          8.474002,
          -0.03136312,
          2.4862993,
          -1.5070335,
          6.9908037,
          0.46990898,
          10.250418,
          0.18567929,
          2.9298587,
          2.5999258,
          8.800895,
          3.3353043,
          -2.0244753,
          -3.348121,
          1.835997,
          -9.730425,
          1.6699619,
          1.842982,
          -8.118585,
          6.597205,
          -0.24598008,
          7.6472774,
          -4.4614625,
          -5.8447967,
          2.626348,
          -10.444424,
          4.406215,
          -2.3169553,
          0.43744555,
          5.303354,
          -5.5768857,
          -4.441908,
          -7.7186604,
          7.5355606,
          0.5416669,
          7.882657,
          -9.244246,
          4.144774,
          -10.077911,
          -1.181296,
          2.9027426,
          6.388273,
          1.8921791,
          10.0691595,
          -4.2429733,
          3.82373,
          3.988814,
          9.410962,
          -7.140107,
          -9.255993,
          3.8264902,
          5.6486363,
          -2.029821,
          -9.012839,
          4.5305142,
          -2.7550654,
          2.6383758,
          -9.0683,
          -3.6999547,
          -4.763896,
          -8.156494,
          3.1639261,
          4.3829045,
          3.8258336,
          7.4918895,
          -8.062296,
          -2.2372541,
          6.106668,
          -0.18105048,
          2.9291766,
          0.82922274,
          6.0388947,
          2.0429125,
          -3.0384104,
          -1.0896093,
          -6.6676726,
          4.153186,
          9.003081,
          -3.4781733,
          0.11731541,
          0.66290396,
          -6.4271655,
          2.3565714,
          -5.7708,
          6.0212445,
          -4.5109134,
          -4.162378,
          7.003878,
          -0.12246435,
          -9.6853075,
          2.7506917,
          -8.270158,
          -1.6248786,
          8.457811,
          -6.098996,
          8.595994,
          3.5164552,
          -5.8515477,
          1.321335,
          4.5980024,
          0.23285386,
          -4.4426403,
          0.6665479,
          1.353974,
          -6.0996475,
          1.6693938,
          10.300516,
          -0.4610729,
          5.1731486,
          -0.44932887,
          5.3069305,
          -6.007871,
          4.357274,
          -6.512769,
          -2.001986,
          -0.82602656,
          -7.4283547,
          -3.338552,
          4.2820635,
          4.313961,
          1.1684803,
          -7.2655053,
          9.508505,
          7.6735563,
          2.7789967,
          0.012351157,
          -3.3582969,
          -6.9524603,
          8.183665,
          8.948736,
          4.4115963,
          -2.9422839,
          1.3024548,
          1.6825026,
          -3.1461158,
          -3.023687,
          4.7546573,
          3.0165567,
          -4.284211,
          5.1106157,
          2.249236,
          -6.1721005,
          -2.1093574,
          10.619138,
          7.576278,
          5.9514604,
          0.74333537,
          1.6650833,
          -6.769229,
          -4.357247,
          1.3265374,
          2.5382814,
          -4.6996,
          1.0960283,
          8.847389,
          -2.3176112,
          3.9875963,
          -1.9048307,
          -5.159161,
          -7.8969855,
          4.184043,
          -0.2879423,
          -0.26013052,
          -1.1914008,
          -1.1665173,
          -4.9500785,
          3.8731036,
          -0.17707616,
          -6.9583035,
          -3.6714244,
          8.034777,
          9.062555,
          -6.2564244,
          -0.41962472,
          -5.390886,
          -4.053767,
          6.4314647,
          2.8858628,
          6.954736,
          7.8737984,
          -1.3355498,
          10.441769,
          -6.197434,
          -2.4305632,
          6.317671,
          5.718983,
          4.3684573,
          -2.431352,
          -1.4244773,
          -5.8412466,
          6.8228774,
          0.760386,
          4.321623,
          7.358173,
          1.8134252,
          -6.8630285,
          -4.866117,
          -0.16744192,
          3.4954922,
          5.0869737,
          -5.695961,
          7.008087,
          9.974963,
          1.1396455,
          -7.3641577,
          -5.435564,
          -2.137087,
          11.997075,
          1.3617812,
          0.61890286,
          -4.369353,
          -0.8857095,
          7.784279,
          -6.978263,
          -3.9932725,
          -7.795832,
          -5.636932,
          -4.296995,
          -8.363628,
          -5.114689,
          1.2811885,
          3.1379826,
          -3.2752233,
          4.5653634,
          -9.187266,
          0.5785191,
          2.9550712,
          -9.142711,
          3.0197437,
          -6.230297,
          5.548467,
          7.6522255,
          -2.1846266,
          -9.453252,
          -4.367035,
          -7.1646705,
          4.031159,
          -7.280454,
          1.3459331,
          -2.202624,
          -4.5428505,
          -5.7081304,
          -3.9449453,
          -2.4119701,
          5.783222,
          -6.8425174,
          -1.2917804,
          9.238534,
          1.7643272,
          -5.2203956,
          2.0784528,
          9.265076,
          10.656903,
          1.0786928,
          -6.789201,
          5.879016,
          5.2135506,
          2.0607119,
          -0.23893689,
          -5.645874,
          12.30295,
          -6.0759263,
          0.9013527,
          -8.009247,
          -6.8424067,
          -10.667167,
          -5.369956,
          5.75136,
          1.4567883,
          -4.009884,
          -7.7025723,
          1.5923522,
          5.2026834,
          5.592096,
          3.6181195,
          -3.7715132,
          5.6255336,
          -4.60187,
          -3.6831625,
          1.8984957,
          -7.6290183,
          -10.350253,
          -5.3035393,
          7.7449284,
          -7.877172,
          -0.508739,
          -9.158198,
          5.4375973,
          2.1302547,
          -0.88726926,
          -3.1393995,
          4.575064,
          4.451974,
          -4.823511,
          -3.193254,
          2.5938325,
          -6.723703,
          -7.415657,
          -0.039066684,
          -5.793619,
          -1.7432122,
          12.286113,
          -8.556776,
          8.95146,
          -1.7043083,
          -8.9740715,
          2.6039717,
          -1.7718543,
          5.7944193,
          0.31280532,
          5.8368707,
          -3.591783,
          6.6833215,
          -7.720132,
          -4.7188525,
          4.153343,
          -1.7639414,
          3.3171108,
          4.067686,
          7.0867395,
          7.7096043,
          5.896442,
          -5.0000176,
          2.6954255,
          1.0852511,
          -4.3166447,
          2.4462771,
          -4.4012313,
          -7.032692,
          -6.948707,
          5.0829034,
          5.3795786,
          6.0938787,
          -6.6536255,
          1.2247007,
          -4.368597,
          -5.524098,
          -1.9185559,
          5.653925,
          3.0267773,
          5.3281317,
          -0.94670045,
          4.271144,
          -4.212693,
          0.6933266,
          4.619056,
          -7.777504,
          5.3172956,
          0.17939728,
          -0.14314437,
          7.714004,
          -4.7908773,
          7.36613,
          6.6671295,
          -5.402588,
          -1.5483161,
          -5.439377,
          -3.4722943,
          -4.755101,
          8.140716,
          5.8998876,
          0.24013871,
          -8.79269,
          -0.089949615,
          9.552139,
          -1.9120991,
          2.9702132,
          4.5179143,
          -4.880184,
          -0.7321199,
          -3.6175888,
          2.3889225,
          0.9874783,
          -3.0401719,
          0.99732727,
          -5.490081,
          4.0471354,
          0.5669633,
          -1.1448697,
          11.085766,
          2.7011847,
          5.884703,
          0.69588494,
          -1.6520593,
          6.3355827,
          4.4711795,
          0.084338725,
          -2.2891085,
          -6.0632935,
          -7.7362328,
          -1.9174439,
          5.5717835,
          1.0099916,
          2.8759065,
          -1.5916822,
          -8.728543,
          -4.976586,
          2.1168902,
          3.8596423,
          -3.8871994,
          -5.590238,
          -0.8555729,
          11.849311,
          -9.503833,
          -1.3070047,
          -2.5050309,
          4.776214,
          4.597801,
          -5.9024296,
          -7.981808,
          -3.1780322,
          -4.8697014,
          -0.79902947,
          -4.5427914,
          5.3282638,
          -3.2571218,
          -8.476751,
          7.0848174,
          11.073647,
          -1.8878616,
          -1.8806129,
          -6.7968493,
          -6.742605,
          -4.6492915,
          -0.5318511,
          -6.953285,
          2.4075356,
          4.3276663,
          -1.4671179,
          4.3915377,
          5.2683063,
          5.3896728,
          -7.2007036,
          -5.2940817,
          -1.2417624,
          -1.6699533,
          -3.4390402,
          1.5170171,
          -4.573088,
          -7.3457437,
          2.8707485,
          -1.975185,
          1.2881362,
          9.459478,
          5.270781,
          5.0396852,
          -1.6955742,
          -3.4137487,
          4.639838,
          -3.1633742,
          4.2110457,
          2.62593,
          7.769718,
          6.9816337,
          1.6789227,
          9.030457,
          -6.1236687,
          1.7113277,
          -7.2954073,
          1.9460001,
          7.2759986,
          5.5299315,
          -4.627841,
          7.0939164,
          4.059421,
          -4.564968,
          -2.7474449,
          -3.4443507,
          -2.0021718,
          -0.36540535,
          5.817957,
          6.203852,
          -3.190659,
          -0.02537006,
          -5.9515533,
          -2.2881505,
          1.7496617,
          3.6368556,
          -11.764108,
          -7.3656487,
          -4.6872573,
          8.877212,
          2.912404,
          -0.36774567,
          -5.8226566,
          0.047693,
          -5.9448705,
          4.073337,
          -1.3991143,
          -1.6583098,
          2.9625149,
          5.5953465,
          5.02509,
          2.6123104,
          2.9859483,
          -0.7157109,
          -6.857386,
          12.210871,
          0.24409331,
          -5.174721,
          -1.1784011,
          -5.92481,
          0.37103707,
          6.6676507,
          2.0369065,
          4.360894,
          0.27217668,
          -5.5990367,
          -3.591134,
          -3.5791988,
          -2.1622252,
          4.70422,
          -2.0763795,
          -4.481187,
          -3.6483445,
          -1.1427276,
          -2.248921,
          -3.3087606,
          -4.348435,
          1.5626903,
          -5.270041,
          -2.9651964,
          -0.3372018,
          6.4785805,
          -9.494273,
          -3.4865165,
          5.746423,
          -7.0653305,
          8.571963,
          9.55347,
          3.6111014,
          -8.978039,
          -1.7417461,
          3.9136894,
          -1.1017613,
          7.79189,
          -3.7519145,
          4.7498174,
          1.2608726,
          5.784852,
          -8.050926,
          10.702403,
          10.526441,
          -8.105662,
          8.667939,
          -9.1192665,
          -1.9349074,
          -5.8407245,
          -5.3014894,
          9.977053,
          -4.79625,
          5.2949347,
          -1.3508703,
          1.1053486,
          -5.9918895,
          -6.027448,
          -2.6357453,
          10.786641,
          2.166835,
          -2.4647005,
          -5.4496474,
          -3.8576567,
          4.0083275,
          4.29715,
          -1.5035589,
          0.7873094,
          -1.5678552,
          -3.436611,
          0.23701979,
          -6.6987944,
          10.295061,
          8.070405,
          2.9234612,
          -9.185509,
          -3.4203875,
          6.047973,
          1.1646396,
          -2.7497811,
          -2.4023283,
          6.7936754,
          -9.791627,
          5.664005,
          4.8745966,
          5.1753354,
          4.8730607,
          -0.15807973,
          -7.2324314,
          2.3163667,
          -6.170075,
          -4.8837447,
          2.3049352,
          -9.013057,
          3.3753982,
          -1.2876364,
          3.2417512,
          2.7019713,
          3.094227,
          -9.715709,
          -3.2288303,
          4.3071923,
          1.650692,
          9.182363,
          4.8427405,
          -1.931299,
          -6.127281,
          -2.066126,
          5.3310685,
          -3.2183952,
          -1.7315457,
          1.3198076,
          -9.978895,
          2.725539,
          -5.8706956,
          -9.679915,
          3.2783844,
          4.29491,
          -2.8535144,
          2.0532854,
          2.6690345,
          4.983129,
          8.668623,
          5.8447556,
          2.4380572,
          -2.9806533,
          -2.2577791,
          -1.5928986,
          5.9202843,
          -5.892136,
          4.1376944,
          -2.324192,
          -1.2453159,
          3.0591662,
          -0.26436117,
          6.379857,
          -1.0833677,
          0.4510999,
          -5.6035132,
          -1.4758712,
          -3.601596,
          0.0540219,
          2.2377954,
          2.758822,
          10.813732,
          0.36310473,
          2.9661672,
          -2.1112587,
          0.71301264,
          2.5068955,
          1.9693571,
          -1.7267127,
          9.744131,
          0.120314755,
          8.20254,
          2.3817177,
          -4.9778104,
          -7.6685634,
          -1.6197498,
          -7.7079396,
          -3.3812513,
          0.33117887,
          -0.39643988,
          6.38013,
          -5.7855134,
          -0.7091114,
          -7.061652,
          0.24169946,
          -7.8367515,
          -3.7108421,
          -5.843864,
          -2.6571884,
          -4.5304875,
          -2.657708,
          -5.3571534,
          6.2470455,
          -1.7237688,
          -4.1636543,
          3.1971796,
          3.9456863,
          4.140338,
          -1.0846542,
          0.15991727,
          -8.882956,
          1.8582418,
          6.6065207,
          -5.5708094,
          -3.95745,
          3.104116,
          -0.1555303,
          -0.23056851,
          -5.310722,
          -0.3837165,
          -9.457456,
          -5.6372657,
          2.54344,
          6.197876,
          5.285539,
          -5.9764028,
          3.5224116,
          6.5088134,
          -3.456091,
          3.3425722,
          -2.2504623,
          8.768217,
          -5.9719143,
          -1.061289,
          3.4523196,
          -9.569128,
          2.923199,
          1.3805828,
          -2.691884,
          0.18986845,
          -5.550132,
          0.18256775,
          -7.1339765,
          6.450101,
          3.4340594,
          -5.4537187,
          3.1267524,
          -3.6940274,
          6.3204985,
          -5.782982,
          -1.232015,
          -5.1988473,
          -5.746436,
          3.9415934,
          9.294422,
          -6.7329807,
          -2.5420716,
          -1.1646209,
          2.0493026,
          -1.4486207,
          4.269548,
          5.77572,
          -1.4605485,
          1.4851388,
          2.0984464,
          9.623183,
          -0.2290102,
          -8.917582,
          -4.774507,
          -5.4425254,
          5.7442536,
          2.968945,
          -7.174695,
          -1.1767112,
          4.7464104,
          -2.023492,
          -2.2379205,
          -7.492328,
          -9.097431,
          -2.3616354,
          7.7509527,
          5.915007,
          -1.3043078,
          -3.6109235,
          4.421777,
          -0.40315273,
          -6.5816245,
          -3.0010815,
          11.534165,
          -0.8415563,
          3.0590084,
          2.3282008,
          2.2041047,
          4.9077625,
          -6.2580557,
          3.9188643,
          -6.6524405,
          -7.066334,
          -7.0534854,
          -0.34453377,
          -6.10995,
          6.417811,
          -1.3959334,
          1.2973899,
          -5.715681
         ],
         "y": [
          0.4688778,
          -9.329193,
          10.363626,
          10.616522,
          14.218382,
          4.294391,
          -7.568463,
          9.437693,
          -3.554507,
          -7.5765166,
          7.758743,
          16.058268,
          11.568408,
          8.040223,
          7.24433,
          14.470754,
          11.52703,
          -12.3994,
          9.699481,
          3.9482636,
          3.6729126,
          2.6224432,
          9.101254,
          -3.3402712,
          5.7353544,
          2.5292041,
          14.643524,
          -6.5865974,
          12.716482,
          9.495045,
          -5.377175,
          -4.876515,
          3.1544333,
          7.790603,
          -3.9316359,
          1.4941425,
          2.9587274,
          -6.8682775,
          3.0121744,
          4.1439333,
          -13.73203,
          7.806428,
          -12.874925,
          5.4494305,
          7.9144053,
          14.988143,
          7.214898,
          -3.446762,
          15.722057,
          -13.879122,
          11.633616,
          9.012153,
          -5.2947717,
          14.83619,
          6.6581373,
          -0.16217339,
          3.5429099,
          -3.5551655,
          8.009553,
          10.75927,
          -0.25171617,
          -10.611094,
          15.828477,
          7.710492,
          -14.742876,
          6.4664903,
          -9.194678,
          -12.693921,
          14.90236,
          4.628878,
          13.079892,
          10.029885,
          2.9590318,
          10.335863,
          2.069646,
          -1.0305396,
          13.357026,
          11.718795,
          -1.3908541,
          -3.1926997,
          -3.6799228,
          -0.07508567,
          11.932774,
          -9.299623,
          -7.867876,
          -6.6898756,
          -12.396484,
          -12.583467,
          -4.1587276,
          2.7854602,
          0.61936605,
          7.881271,
          -13.234305,
          -8.493873,
          -2.623971,
          15.276361,
          -8.300185,
          -5.748368,
          -7.2365017,
          12.872916,
          4.0411,
          -12.780235,
          -6.2121086,
          -6.159402,
          14.903167,
          -5.2044024,
          -9.556863,
          -4.7542696,
          2.2022498,
          10.690393,
          2.758135,
          5.2841067,
          7.0371256,
          -2.5134284,
          13.449935,
          0.48279756,
          -11.050233,
          -8.454481,
          10.186112,
          -8.096304,
          -0.07377578,
          -3.6733484,
          -3.3962796,
          -13.066745,
          -9.430072,
          -8.2420845,
          -3.3596313,
          9.849869,
          -7.9542246,
          -8.312328,
          -1.7734427,
          -7.568382,
          12.251805,
          -6.464492,
          -13.426522,
          -2.8982177,
          11.562657,
          12.718132,
          -7.12265,
          -4.6518073,
          10.277618,
          2.171551,
          -5.487718,
          13.322293,
          -8.852095,
          -4.3988733,
          6.827256,
          -11.229437,
          -7.8937,
          -7.188373,
          3.5877166,
          -0.7390519,
          -2.31889,
          -5.667691,
          2.5915933,
          -9.148925,
          -14.421421,
          -13.901187,
          0.79942214,
          8.185299,
          -10.17183,
          -3.720654,
          -2.219917,
          -2.1795893,
          8.563385,
          -14.159107,
          11.084429,
          10.03171,
          10.034368,
          -10.751557,
          -9.75187,
          -6.038379,
          6.036656,
          11.476659,
          -6.4066978,
          -12.904677,
          6.777561,
          10.645724,
          -7.251045,
          11.53877,
          -5.268832,
          4.253685,
          -3.3617108,
          10.035178,
          9.971159,
          -10.345562,
          9.061466,
          -2.5737355,
          -4.3370233,
          -0.6879697,
          -11.851114,
          14.1183195,
          8.491736,
          12.405258,
          -13.867905,
          -8.673848,
          -4.830982,
          -3.0779347,
          5.1052523,
          -8.595898,
          -2.0316336,
          -6.177534,
          -3.9047036,
          12.67165,
          11.309287,
          -4.467721,
          -3.0224943,
          -2.0009878,
          4.4070487,
          -5.810628,
          -7.140473,
          10.88813,
          11.943336,
          1.5758164,
          -3.4576719,
          -5.3937387,
          -6.4359317,
          12.678783,
          14.145211,
          -3.9259214,
          11.598209,
          -7.39674,
          12.763643,
          1.1907966,
          -13.93504,
          -2.474693,
          -11.516546,
          -5.226147,
          -13.779829,
          9.465626,
          -8.722476,
          -13.340766,
          11.279218,
          12.337574,
          -8.4276495,
          -7.061697,
          -1.1418499,
          -1.3298033,
          9.770602,
          9.715291,
          -2.3092217,
          -3.6943758,
          8.995474,
          -11.101923,
          8.126902,
          -13.84646,
          -3.7741325,
          -2.0217931,
          -10.919744,
          10.132154,
          -3.2693303,
          -6.1643233,
          9.81068,
          -3.8263943,
          -5.348567,
          -3.360063,
          -1.0687462,
          -11.329303,
          10.055136,
          -8.385605,
          9.599019,
          -3.8574913,
          13.173404,
          -7.0467978,
          -3.5362542,
          -10.978059,
          13.184856,
          -12.32937,
          2.2297409,
          -2.0513663,
          -4.834176,
          -3.9271839,
          -2.2299063,
          8.768677,
          8.354596,
          -6.909521,
          14.315939,
          14.262947,
          -5.745442,
          -4.4419703,
          -12.027942,
          8.769276,
          -5.4093666,
          -1.5295758,
          13.087927,
          -9.468776,
          -9.938881,
          -7.370416,
          -12.657905,
          4.8169484,
          3.6640198,
          -5.6401577,
          -9.176081,
          -9.560252,
          -9.304228,
          8.900977,
          6.7147017,
          -3.2354062,
          -8.82081,
          0.08533107,
          -6.5691423,
          -10.423634,
          11.648985,
          8.866471,
          6.402181,
          -0.15201703,
          -5.020956,
          -1.0902549,
          -12.924774,
          9.800118,
          9.26412,
          -10.956657,
          4.1039023,
          9.448014,
          -5.4955273,
          0.18513303,
          -10.451984,
          -9.201412,
          -0.057161458,
          -3.956936,
          -6.892876,
          -2.2698867,
          10.642473,
          -5.453242,
          -0.083801575,
          0.83310485,
          13.725845,
          12.587617,
          9.16483,
          6.708186,
          -12.482411,
          13.453137,
          -5.639287,
          -8.761655,
          -12.746598,
          12.267225,
          -7.766104,
          -3.3754091,
          9.0955305,
          12.401979,
          -2.903257,
          -6.022763,
          10.302152,
          -5.9142904,
          9.845524,
          10.484185,
          -5.9526286,
          -13.560597,
          9.685784,
          13.6315565,
          -6.206628,
          -2.9035032,
          -7.5053124,
          -3.9089391,
          -9.890483,
          -6.394901,
          -5.065471,
          -7.716148,
          14.993699,
          2.452315,
          -8.629615,
          -5.926641,
          -2.8001528,
          -12.063525,
          10.256126,
          -2.5508652,
          12.129284,
          -10.986385,
          -11.699503,
          -4.496385,
          -12.759388,
          -2.562981,
          14.100456,
          9.343906,
          10.650419,
          -12.913509,
          0.5308319,
          7.2874403,
          -3.5661786,
          1.4359646,
          8.505254,
          -4.6552925,
          1.962267,
          2.517006,
          -8.710123,
          -8.098193,
          -8.788352,
          -8.250127,
          -7.7494335,
          4.701317,
          -10.851449,
          -8.243698,
          -1.0394852,
          -1.4863803,
          -7.613816,
          -3.8254669,
          -5.1972594,
          8.473265,
          1.5021272,
          -4.553876,
          -7.7745156,
          -8.153472,
          -10.621231,
          -4.105477,
          9.826748,
          -11.538563,
          11.059288,
          -4.0568547,
          7.929949,
          -2.378027,
          -10.492647,
          0.84634054,
          14.609644,
          -1.1114677,
          -5.808683,
          -13.032816,
          -13.105003,
          -8.900358,
          12.685061,
          10.716512,
          4.9250283,
          -10.655271,
          -7.380095,
          -7.5569086,
          10.625601,
          -13.186582,
          -8.617857,
          6.58794,
          2.508471,
          13.112381,
          0.6173913,
          -9.290044,
          -9.455329,
          8.26004,
          13.439522,
          -7.5230193,
          -10.272053,
          13.231152,
          1.4786198,
          11.774656,
          -5.055585,
          -2.0879693,
          12.460099,
          14.961931,
          -5.1959853,
          7.139028,
          11.838323,
          -7.267258,
          9.478536,
          4.546888,
          -8.880684,
          12.118752,
          -12.841703,
          -0.4424961,
          7.168413,
          -3.154583,
          -5.2262106,
          11.006156,
          -0.91816604,
          2.8767226,
          -9.272115,
          12.192154,
          -12.958113,
          -5.8815913,
          -4.2629013,
          0.69753253,
          2.5559475,
          12.144391,
          -13.902825,
          10.429533,
          -0.8490452,
          -10.079867,
          -12.951825,
          -3.0143254,
          -12.838378,
          -13.472276,
          -8.2276125,
          7.0133514,
          -2.2026606,
          -10.361005,
          -12.7234535,
          -9.10931,
          6.7588844,
          13.184728,
          -10.528811,
          14.16105,
          -5.6312156,
          2.7470691,
          -2.3499517,
          10.375221,
          -2.302053,
          8.216184,
          7.8206325,
          11.987899,
          9.539193,
          6.636062,
          -2.3950777,
          7.904325,
          -6.138107,
          3.2454743,
          -7.2948933,
          -6.1138225,
          1.5329055,
          -4.089865,
          2.1779604,
          10.171596,
          0.30758736,
          -12.251259,
          3.3440206,
          4.130089,
          14.5172615,
          -13.915308,
          -4.3002763,
          11.851998,
          -2.060609,
          -8.20946,
          -4.163973,
          -0.23428415,
          -6.2003336,
          -4.163224,
          4.5055084,
          11.623971,
          9.429216,
          9.160175,
          14.84721,
          -12.151774,
          2.0808532,
          -10.645435,
          -6.405618,
          -0.3902776,
          -6.024087,
          11.837852,
          9.429217,
          -12.341866,
          7.290114,
          8.697694,
          -2.796794,
          13.504367,
          -2.1803164,
          -2.237979,
          -3.9628258,
          6.5941186,
          -10.401068,
          -7.80348,
          -13.812372,
          11.384444,
          -4.761551,
          8.259652,
          6.769345,
          -4.8945026,
          -8.046926,
          -2.0141068,
          13.559307,
          0.82088244,
          -6.7652683,
          -9.407912,
          8.661172,
          2.0220017,
          13.308762,
          -3.3838313,
          15.333378,
          14.273657,
          -7.347168,
          5.9828916,
          -9.47738,
          -3.280355,
          -12.753088,
          -5.9535093,
          5.7384615,
          5.9338574,
          1.2324378,
          6.8832736,
          9.502027,
          13.9690275,
          -6.3982687,
          11.058325,
          -9.439886,
          -12.523725,
          -1.3164065,
          0.51372564,
          4.5678573,
          -0.5193636,
          9.558454,
          -8.752836,
          -13.07194,
          -3.1971917,
          -0.2401963,
          -10.111174,
          -13.039927,
          12.100034,
          -8.120699,
          -10.42773,
          -2.61153,
          9.737725,
          -2.5680747,
          -4.9496307,
          9.664699,
          11.897276,
          6.1208305,
          14.401553,
          11.0457535,
          -2.9944198,
          4.190016,
          -8.819742,
          5.4617333,
          -7.2025547,
          12.08376,
          14.815381,
          -8.724987,
          -5.9570823,
          8.948082,
          2.261645,
          3.872889,
          -1.9114026,
          -6.2853208,
          -8.548638,
          -4.0518303,
          -3.605279,
          -10.093222,
          -0.64395595,
          -2.9836648,
          -5.786276,
          -3.43341,
          -5.8984265,
          9.197769,
          11.959247,
          -10.253709,
          14.202363,
          -4.146179,
          -5.5946627,
          -3.1679265,
          -3.2753675,
          0.77056456,
          11.749996,
          2.9627419,
          -2.0406735,
          2.3666832,
          -2.7942352,
          6.8266053,
          -1.6766248,
          11.059085,
          -5.5851026,
          -8.683914,
          1.478763,
          13.2850275,
          -1.953801,
          10.085685,
          -3.4897468,
          6.0771933,
          -2.0021465,
          -11.49855,
          -12.193681,
          -4.352574,
          11.74506,
          -13.273377,
          -5.2173586,
          12.654322,
          -1.6708676,
          -6.9187737,
          10.940867,
          11.652621,
          -5.472589,
          -3.9692104,
          0.16894653,
          7.264293,
          -1.0161836,
          12.293308,
          -6.2739096,
          -3.115273,
          -12.648544,
          -4.077991,
          -6.2434835,
          -4.3160176,
          -2.1107936,
          7.3763037,
          -8.950295,
          -6.309502,
          7.4896207,
          8.086269,
          -6.578727,
          9.501025,
          -12.638221,
          -3.306001,
          5.9539113,
          -6.8373694,
          -12.783688,
          -4.1755433,
          -13.68533,
          7.6768975,
          10.510618,
          12.6111,
          8.456073,
          14.457692,
          -5.712702,
          8.412876,
          9.236635,
          1.5294087,
          -2.4165003,
          1.1577977,
          8.812178,
          -2.7539093,
          -5.1661444,
          8.073886,
          12.737516,
          -5.0952816,
          -1.152575,
          8.801085,
          13.1259365,
          -2.7244265,
          6.1250563,
          7.4867444,
          -13.661647,
          -11.663291,
          2.5299737,
          2.0416913,
          5.6899304,
          4.0433297,
          14.975764,
          2.048592,
          -11.374086,
          9.746446,
          -12.988422,
          -5.000889,
          8.981886,
          1.8572848,
          3.1792376,
          4.2384257,
          9.588568,
          10.786166,
          4.3088655,
          -7.360115,
          14.35287,
          -2.2336545,
          -10.348922,
          -4.6129913,
          6.7986307,
          1.1115,
          -3.258821,
          -2.699986,
          8.943324,
          -7.2157283,
          -1.1594145,
          -1.4634436,
          8.916005,
          1.660257,
          -2.9195344,
          -0.42290977,
          7.634766,
          10.9545,
          12.311626,
          -8.771671,
          13.7485285,
          -2.2167914,
          -13.742211,
          -11.744318,
          11.147735,
          -3.1953247,
          -4.083813,
          12.197509,
          -12.623793,
          10.362123,
          -4.1641803,
          -10.624174,
          -14.315172,
          0.45714584,
          -10.922716,
          -11.567039,
          14.487725,
          -8.925081,
          14.997379,
          -3.2672622,
          -2.2790468,
          -3.9425356,
          -8.748916,
          0.17970014,
          -10.687543,
          -4.234251,
          -3.5782523,
          0.84453666,
          0.16395268,
          -0.67178607,
          -10.994033,
          -6.2062044,
          3.1503205,
          -2.4984736,
          11.51839,
          -5.5393915,
          7.2584457,
          -2.0734034,
          -2.6563468,
          9.819479,
          -2.469356,
          9.282651,
          0.50354064,
          -13.081507,
          -3.589448,
          -10.07284,
          9.920932,
          -0.2545103,
          -10.760937,
          -5.2820635,
          -4.893888,
          -6.4099402,
          -8.614164,
          10.420242,
          -13.628917,
          -7.906065,
          -9.465572,
          10.232512,
          -12.518198,
          12.638246,
          8.343195,
          0.67190194,
          5.139546,
          -6.3998446,
          9.392356,
          -5.939193,
          11.080097,
          5.9479284,
          9.133433,
          5.988345,
          9.073709,
          -3.1611516,
          -5.396215,
          -4.7900696,
          -10.437677,
          10.007403,
          -1.917236,
          -0.23266833,
          12.527642,
          -9.203871,
          1.5928987,
          15.096395,
          7.9230695,
          11.083482,
          5.600684,
          15.1366415,
          13.927942,
          5.085245,
          -7.272993,
          -0.26489148,
          -5.950936,
          9.712066,
          -5.995057,
          -10.290653,
          7.6899366,
          -3.2247238,
          -0.34656087,
          2.8043592,
          -9.664568,
          8.683282,
          3.8848357,
          -6.3461123,
          -0.15763482,
          -7.2715354,
          -3.3680677,
          -5.872487,
          10.332517,
          -2.0532496,
          9.382563,
          3.1610076,
          -2.3171825,
          -3.453671,
          -0.42198917,
          -4.5059934,
          12.503328,
          -8.783629,
          -2.6031127,
          5.838861,
          2.3014019,
          4.9435596,
          -8.305831,
          -12.313862,
          2.6046798,
          -3.1481202,
          -10.745023,
          -7.4970546,
          -5.1500397,
          -1.3499118,
          10.41476,
          3.3166728,
          -2.239347,
          -6.2493014,
          11.379096,
          8.5307665,
          7.4690194,
          0.21416438,
          -9.241909,
          -0.2929855,
          6.8703547,
          12.817202,
          9.566565,
          9.831009,
          -5.9452167,
          9.6101,
          -0.094659165,
          -2.7784712,
          -12.949833,
          -6.2927294,
          -6.949651,
          -7.3078637,
          -4.318124,
          -10.266879,
          11.793468,
          0.14875631,
          12.582437,
          7.1995397,
          -4.9269385,
          9.466094,
          1.014108,
          -8.657472,
          -10.411561,
          -13.484611,
          1.9217912,
          8.41017,
          14.586431,
          -1.6471037,
          -8.886827,
          9.597716,
          7.2951145,
          3.9883866,
          12.3422165,
          -7.592461,
          -3.600325,
          -2.440078,
          4.045971,
          -4.0262623,
          -1.5383846,
          -8.731529,
          -3.1999767,
          15.373259,
          -7.67765,
          -12.369051,
          11.605454,
          8.824402,
          12.426198,
          -8.757602,
          10.826154,
          -7.733056,
          6.272451,
          10.843279,
          -2.2800965,
          -2.0248404,
          8.427592,
          -0.9213677,
          10.102685,
          -2.462639,
          -1.9692206,
          -6.2459383,
          -4.5755153,
          -2.5382853,
          -4.5160985,
          10.791835,
          11.230895,
          -7.5790772,
          -13.06825,
          8.157099,
          9.326517,
          7.9030757,
          -3.8739436,
          -12.771821,
          -10.677554,
          10.092878,
          -0.7515489,
          -1.5335971,
          -14.182863,
          -8.956802,
          0.9072391,
          8.666436,
          -5.827967,
          13.6741705,
          0.17365824,
          -3.4041705,
          14.46814,
          -3.8323672,
          -11.475854,
          -10.65074,
          13.659226,
          -2.275025,
          6.7652845,
          8.976694,
          4.2892723,
          -3.866542,
          -9.653335,
          13.236139,
          -7.798243,
          -4.832716,
          5.881614,
          6.543224,
          14.694147,
          8.418064,
          0.75907564,
          -2.202021,
          10.884324,
          10.333504,
          -1.9579483,
          -9.256876,
          -2.3208055,
          7.719494,
          14.762756
         ],
         "z": [
          5.143851,
          -7.813894,
          2.839493,
          -5.952806,
          -2.257843,
          -4.002156,
          -1.7620599,
          -13.28557,
          -1.4255384,
          12.364299,
          -14.239907,
          -0.19010343,
          -6.566348,
          -4.7079244,
          -2.7755747,
          -5.4924364,
          -6.6201096,
          -2.1433249,
          3.9630983,
          -5.292626,
          -3.4407039,
          6.1702166,
          -4.189901,
          -2.2112048,
          -5.0542755,
          3.3041275,
          -0.06576073,
          1.374778,
          -9.631383,
          -8.710951,
          -0.10850067,
          -7.1451297,
          2.6909108,
          -8.204752,
          4.178401,
          4.99375,
          -5.0208025,
          1.7088878,
          6.187028,
          -5.619939,
          6.2705135,
          -6.814443,
          4.195015,
          -2.5972276,
          -5.6360707,
          -5.7433653,
          -6.260937,
          -1.8661427,
          -0.18491144,
          1.5190753,
          -12.400459,
          4.8540373,
          5.6314006,
          -5.6347885,
          -4.5087614,
          -3.6556606,
          -6.2653956,
          1.2246076,
          -7.993414,
          -0.15264252,
          -0.43815503,
          -0.8266838,
          -7.489786,
          -7.148168,
          4.996447,
          -6.148186,
          5.2163634,
          -2.39654,
          -0.99066377,
          -7.6219287,
          -10.689756,
          -9.654061,
          8.35162,
          -8.90843,
          15.451257,
          8.953034,
          -2.6346586,
          -7.321752,
          17.865849,
          14.993776,
          14.559398,
          9.90933,
          -4.8758636,
          -0.70722705,
          -2.910549,
          -7.9999022,
          0.9883606,
          -1.5953748,
          1.013791,
          9.054352,
          10.320408,
          -12.155088,
          3.6330228,
          -0.57918984,
          -3.7735355,
          -7.8831487,
          5.9304924,
          -5.94986,
          0.23540542,
          -3.5509784,
          7.1863074,
          2.2047505,
          -5.916152,
          6.7277975,
          -9.203202,
          13.114054,
          2.477967,
          -3.371575,
          15.490333,
          -7.6632876,
          11.115109,
          7.430197,
          -12.551637,
          9.507795,
          -0.25220808,
          12.140813,
          -2.0092573,
          -0.2849067,
          -7.1197386,
          1.4601654,
          12.844555,
          1.3269678,
          -4.9020557,
          4.5393443,
          -2.9891307,
          -6.2102666,
          -3.1676633,
          -7.625365,
          -3.5338519,
          -5.9636393,
          2.4352105,
          5.9571967,
          -11.896563,
          -2.9369419,
          1.5183942,
          7.556475,
          -2.9776657,
          -9.332769,
          -5.8559103,
          0.3807878,
          -9.981185,
          8.131666,
          6.392506,
          -3.627982,
          1.5185308,
          14.180431,
          -11.154523,
          3.3794513,
          -6.615628,
          2.0196846,
          10.462977,
          11.650875,
          -1.9582999,
          7.107131,
          6.894289,
          6.0658126,
          2.865972,
          4.4425817,
          12.635089,
          -7.0042524,
          -3.1657772,
          2.1334124,
          13.833119,
          17.979292,
          -6.8567557,
          2.5856369,
          -9.54634,
          -9.38406,
          -1.8437784,
          -1.8220682,
          2.9979985,
          -6.7644367,
          -5.702848,
          -0.3235442,
          -2.8980215,
          -0.16970249,
          -5.0081944,
          0.09739711,
          -6.9459014,
          -8.846703,
          -1.4068582,
          -8.689522,
          -6.7035003,
          -12.18287,
          -10.344311,
          -1.080266,
          -5.5046535,
          2.77402,
          12.36662,
          11.271975,
          3.1054268,
          -2.6901047,
          -12.907695,
          0.5532682,
          -2.0961173,
          -3.7703269,
          -1.9514892,
          -3.657744,
          7.2197843,
          -3.411762,
          2.0359764,
          1.1651,
          -2.5971694,
          -4.9578986,
          1.3147756,
          -6.9310637,
          15.913226,
          1.8057436,
          -9.086983,
          -4.6793284,
          -2.7487855,
          -4.4849772,
          -6.99351,
          11.351804,
          1.1439962,
          -0.06261567,
          -4.9329987,
          -7.4345813,
          -8.668855,
          -0.92626065,
          1.9428904,
          -3.4704676,
          -4.046231,
          16.372602,
          -0.6826925,
          14.839692,
          4.285296,
          12.95788,
          2.0797982,
          -1.6396048,
          -3.0320613,
          3.5530417,
          -9.150822,
          -9.20348,
          0.037427917,
          -3.0139873,
          -0.2786868,
          10.98419,
          -7.7646084,
          0.84787214,
          1.4727986,
          -5.2580686,
          -1.0133486,
          -2.5722408,
          -11.064311,
          -0.22683996,
          10.854062,
          16.618658,
          4.593542,
          -3.7852786,
          5.675293,
          -1.0002774,
          -9.160778,
          2.4037373,
          13.687116,
          -2.8785012,
          6.936338,
          -0.49835357,
          -2.1502666,
          1.4684607,
          -1.1319765,
          3.223664,
          -1.8192807,
          -1.3533475,
          6.4942427,
          -2.8734818,
          -10.456483,
          -2.834362,
          15.273148,
          -2.8029435,
          -3.0243511,
          -4.9940495,
          9.114466,
          -0.8370576,
          -6.255866,
          4.5222216,
          -6.563022,
          -2.5799825,
          -3.0937376,
          12.170987,
          4.5193667,
          -1.1841255,
          13.118193,
          6.6561313,
          -0.44702986,
          -4.403898,
          1.628529,
          -3.8552165,
          -1.6878034,
          6.850697,
          9.361499,
          -2.6961598,
          2.687465,
          -3.491944,
          -0.63847375,
          -10.859585,
          -9.921129,
          17.207296,
          0.7850386,
          6.5864987,
          -8.770431,
          -0.32357782,
          -8.9458885,
          -11.143177,
          -7.8343015,
          13.928415,
          -4.326041,
          13.286407,
          5.7783403,
          -10.785434,
          -10.051526,
          4.572542,
          -7.974771,
          0.18593994,
          -0.4458561,
          7.041222,
          -1.7819118,
          -2.9248645,
          14.9464035,
          -3.3820705,
          -8.080184,
          11.112536,
          -9.864306,
          -5.999307,
          14.290703,
          7.0690084,
          -9.512498,
          -11.460527,
          -3.9394073,
          -8.47688,
          -2.5996332,
          -5.8487353,
          3.7268841,
          6.56473,
          -1.4075966,
          -2.9367611,
          -5.437628,
          7.347501,
          -5.914745,
          -4.2659845,
          7.717307,
          14.826612,
          -7.132848,
          6.8188825,
          -12.584231,
          -4.413606,
          -3.1983685,
          4.2150064,
          -7.728043,
          -6.2067714,
          -1.2093642,
          9.1652,
          1.8046621,
          -5.074637,
          1.6257155,
          14.665639,
          4.064671,
          -3.8386083,
          -8.954641,
          5.4838185,
          -7.194089,
          -4.535868,
          1.9306414,
          4.8108144,
          -9.234382,
          14.123336,
          -8.847912,
          -0.06555536,
          -0.17353529,
          -2.9770622,
          5.969626,
          1.4433535,
          -2.5658891,
          -3.167428,
          -9.749084,
          5.8682013,
          14.456404,
          -8.361757,
          -3.7792957,
          7.430841,
          -8.701261,
          1.8012593,
          14.028743,
          8.991658,
          -6.2707114,
          5.361646,
          2.7950785,
          2.3066459,
          -3.6823554,
          8.303697,
          1.8429258,
          6.5325613,
          10.443477,
          11.644777,
          0.27090797,
          -4.9986744,
          12.676721,
          -10.847317,
          6.8816605,
          11.195509,
          1.4570606,
          0.6151218,
          4.392195,
          -7.2280507,
          -12.598563,
          -2.6047945,
          -0.40374297,
          3.054119,
          -7.1682444,
          -6.0926666,
          -4.2274303,
          8.843332,
          -10.081571,
          14.315325,
          -2.395565,
          3.8028767,
          -0.8962545,
          -4.720509,
          -11.359924,
          -4.531588,
          8.327467,
          1.1306561,
          -3.1513565,
          -7.9462724,
          -2.208542,
          0.4104877,
          -2.492326,
          -8.305752,
          7.1732464,
          -2.9252813,
          11.637328,
          -1.9332395,
          -0.5096732,
          -8.769763,
          -9.947744,
          -0.9728103,
          0.6094227,
          -3.0940151,
          15.787266,
          1.3089032,
          13.122496,
          17.467558,
          0.67603207,
          -4.6278043,
          1.9131802,
          -5.504286,
          -9.954385,
          5.4291224,
          -3.3722043,
          -10.47482,
          1.0802854,
          -2.8235137,
          5.2692294,
          14.213923,
          -12.261208,
          -3.2550967,
          -4.3194003,
          -2.4034739,
          17.343866,
          10.007725,
          -6.3178296,
          -0.34303373,
          2.8834052,
          15.940488,
          -1.6831878,
          10.58388,
          15.432217,
          -11.391372,
          2.2984407,
          -1.8946195,
          13.419725,
          2.004109,
          1.7222822,
          10.053918,
          6.4217186,
          -1.5313911,
          -3.9347792,
          -6.5293555,
          5.3473463,
          -3.9799695,
          5.051105,
          0.07608749,
          -7.981794,
          -5.106575,
          -1.8937513,
          -4.4138536,
          -6.275444,
          7.690347,
          7.1197186,
          0.85569,
          15.144522,
          -11.264628,
          -4.0129585,
          -8.706745,
          -1.2462312,
          -10.901293,
          -5.437575,
          -8.4732,
          5.370617,
          9.242439,
          -5.5556803,
          0.69195473,
          6.88437,
          0.8122297,
          7.027585,
          0.2847869,
          16.95109,
          4.122435,
          8.36128,
          -7.9850593,
          -1.6136676,
          4.285917,
          -3.256675,
          -4.75689,
          17.351936,
          6.97457,
          6.680638,
          17.434668,
          -1.3864641,
          -4.1542997,
          9.026488,
          -6.0742154,
          -3.6905222,
          -4.3275557,
          -8.376416,
          -2.2380872,
          8.483122,
          -0.35610136,
          -3.1106107,
          7.988046,
          -5.827391,
          -7.8500037,
          -8.174218,
          5.908307,
          -10.108931,
          -9.935994,
          -6.4759974,
          -4.849105,
          3.4698257,
          -3.1042187,
          -1.1541287,
          -8.469729,
          -4.282093,
          -6.498268,
          3.6883466,
          -10.508198,
          14.18933,
          -9.065578,
          -10.354228,
          13.3909445,
          6.5535254,
          7.970353,
          -1.2050196,
          12.603578,
          4.6320186,
          -2.3268902,
          -7.50121,
          14.797063,
          -10.433148,
          -3.1191733,
          -4.373674,
          -9.171396,
          4.7625165,
          -11.747048,
          1.4334543,
          16.770185,
          2.422512,
          0.53097373,
          -11.919384,
          -11.431983,
          6.4687514,
          -11.007338,
          -12.3798065,
          -6.2485514,
          -7.5290227,
          -10.448025,
          -4.4063973,
          -1.8076899,
          6.7346478,
          13.544408,
          7.778259,
          14.48165,
          -2.7059727,
          -4.2698007,
          5.744441,
          16.067348,
          7.5431204,
          4.5493817,
          -0.79746044,
          -8.660865,
          -0.16125709,
          5.912361,
          -2.1167808,
          -12.337202,
          -0.8695785,
          6.282073,
          -11.106529,
          -7.467966,
          -7.1811867,
          -4.267446,
          -8.521142,
          2.4253757,
          -7.636803,
          -1.9279366,
          -8.695989,
          -5.80053,
          -11.945913,
          -6.4986286,
          0.9872992,
          -7.899075,
          -3.251227,
          9.580116,
          9.418696,
          8.098504,
          14.43662,
          5.0555873,
          -1.1814836,
          0.43244475,
          -2.1730697,
          7.9887805,
          0.86214226,
          5.514019,
          6.2903886,
          -0.92571175,
          -3.6791809,
          -12.486298,
          -2.4642062,
          -0.26972663,
          2.6582747,
          16.131205,
          4.0600896,
          -4.3201323,
          16.653542,
          -5.444849,
          8.798276,
          3.675095,
          9.992886,
          0.64242566,
          -12.120486,
          -0.18393745,
          1.4503846,
          -4.6288424,
          -3.6170626,
          8.076084,
          -5.4211893,
          14.844087,
          -0.7627292,
          8.443647,
          -6.3511577,
          10.060944,
          4.250602,
          2.1363347,
          1.3592366,
          -9.871218,
          0.19422491,
          -6.3120465,
          -3.9840157,
          7.2883644,
          2.6742005,
          -7.74085,
          -10.394433,
          4.796691,
          -1.551203,
          6.1861577,
          -8.867394,
          -0.37994283,
          -8.514042,
          -3.3513188,
          -3.4263532,
          1.0786377,
          -0.16384378,
          14.127924,
          6.704523,
          0.9346521,
          -6.459421,
          6.1564164,
          -6.166584,
          -11.126009,
          -9.332767,
          -2.8035123,
          -1.9861419,
          4.728337,
          8.609448,
          -5.6777463,
          4.0243354,
          1.0322193,
          14.947209,
          5.1681485,
          -12.827279,
          -9.7994585,
          -5.2778735,
          -9.886618,
          -9.675124,
          -5.5545554,
          -13.184225,
          -7.154661,
          6.5000677,
          14.565316,
          11.418758,
          -4.725447,
          -0.2999379,
          8.882342,
          -4.6879587,
          -9.654733,
          11.221707,
          -3.7451622,
          -12.649314,
          -2.686585,
          1.8172216,
          -3.0080965,
          -7.5299273,
          4.562821,
          -1.4209825,
          3.1105452,
          5.394137,
          -7.137381,
          -3.9340372,
          -5.713986,
          5.3726683,
          2.3637996,
          3.8979187,
          -2.539139,
          -6.8850956,
          4.895307,
          -6.9619613,
          2.6027806,
          -9.458196,
          -6.683696,
          -10.534069,
          -5.2633495,
          -2.6841943,
          -2.5474205,
          0.8804872,
          -0.82162315,
          -4.5399656,
          -12.491553,
          11.537566,
          15.661734,
          17.127903,
          -2.7755873,
          1.2278416,
          7.306881,
          7.5568223,
          -2.8822825,
          6.783617,
          17.023249,
          13.533037,
          -11.565128,
          -1.6983019,
          -10.466166,
          -7.3069816,
          -1.8700114,
          -3.777,
          -2.0438635,
          5.398246,
          0.3542695,
          14.817231,
          3.2194457,
          -5.055404,
          4.0221534,
          -11.5367155,
          6.75529,
          3.7792668,
          -0.7102759,
          6.6372375,
          -0.68655014,
          -2.5641599,
          -2.5576982,
          -2.918047,
          -2.7598026,
          14.467574,
          5.313813,
          -0.30927855,
          -3.0783074,
          7.257346,
          5.921269,
          2.5359976,
          -0.7567475,
          16.52482,
          8.297836,
          11.764728,
          -1.6499897,
          -7.0333967,
          10.481183,
          16.989521,
          -10.998443,
          2.5524185,
          -7.156442,
          17.25126,
          14.223025,
          -13.190049,
          11.388545,
          -2.1010144,
          14.282491,
          -1.7906991,
          -7.6636267,
          5.747158,
          -2.880057,
          13.321406,
          4.0058637,
          2.168937,
          2.3023162,
          -2.3346338,
          -7.5207105,
          0.8500677,
          1.8291014,
          6.78423,
          -3.121147,
          -10.728772,
          6.274355,
          -3.0699315,
          -3.676392,
          14.911852,
          7.5692677,
          -7.5616474,
          -3.358753,
          -5.3497314,
          -12.162008,
          -4.8301015,
          -9.370505,
          -11.899594,
          -0.15351263,
          17.942772,
          -7.4340124,
          -2.8919265,
          1.0689626,
          -10.788397,
          15.570605,
          10.72756,
          -7.479706,
          -1.9905396,
          6.561727,
          -6.9682746,
          -3.7691114,
          -2.2353883,
          -7.708424,
          -3.1880176,
          -2.8855474,
          -11.120294,
          5.591583,
          12.674671,
          6.5712557,
          -9.15398,
          -2.7563798,
          -2.5075815,
          -8.644369,
          -6.036564,
          13.386544,
          11.016819,
          -2.8714652,
          -7.4899044,
          9.652665,
          6.4177485,
          12.632244,
          -3.136098,
          -3.4980595,
          -0.512899,
          -10.91811,
          15.798632,
          -2.1229763,
          7.1923966,
          14.469489,
          -3.805583,
          13.088845,
          -4.1155434,
          -9.464803,
          -0.04708034,
          14.413152,
          -8.713012,
          8.525132,
          -11.524437,
          6.2634115,
          0.93348694,
          11.565143,
          -3.413142,
          3.9020388,
          0.029149242,
          0.14912142,
          5.385622,
          0.46203667,
          9.0813465,
          14.742867,
          14.043774,
          -8.846264,
          -11.203274,
          -12.424862,
          8.460035,
          1.7652807,
          6.673935,
          -3.3101015,
          -3.630882,
          -10.244777,
          -2.8064456,
          13.352302,
          -11.713005,
          9.944995,
          8.276609,
          0.169169,
          -3.5023444,
          -2.5899673,
          -3.7506063,
          3.4130988,
          5.970159,
          -12.028703,
          14.287381,
          -4.9960475,
          -10.280391,
          -6.919807,
          -2.9559624,
          16.464565,
          -1.2312585,
          3.6185884,
          3.576149,
          15.842751,
          -2.5277982,
          -0.66498053,
          4.477188,
          -5.731184,
          -11.001608,
          -12.953646,
          8.660418,
          -11.946013,
          0.5714675,
          11.660494,
          -3.2317379,
          10.038475,
          -5.749567,
          5.1655464,
          0.46774337,
          -3.4090822,
          -1.5576445,
          4.924861,
          1.0559971,
          -10.828485,
          -10.992344,
          -2.7040286,
          5.773918,
          1.0253515,
          -7.1577473,
          -12.194034,
          -0.46978816,
          2.6108575,
          17.358788,
          -8.641553,
          14.83957,
          -3.567663,
          15.321068,
          11.924587,
          -3.4573839,
          -6.352528,
          4.964625,
          2.4888184,
          -12.23191,
          -9.677564,
          2.4067671,
          -0.95509017,
          -12.994877,
          -6.6707067,
          -3.6441739,
          0.58886176,
          -0.5360341,
          1.4274915,
          0.2990079,
          16.789335,
          6.938806,
          4.162646,
          -2.9659011,
          12.012488,
          -3.7885044,
          4.081146,
          -7.668707,
          14.4525,
          7.8927217,
          -0.713223,
          12.6251135,
          -2.5847802,
          -3.174185,
          -6.5001006,
          0.8149343,
          -7.2309546,
          -3.4488065,
          7.2569194,
          17.172564,
          -1.0844271,
          -6.875107,
          1.0215394,
          0.61644214,
          -9.818634,
          -11.069426,
          -4.0886483,
          -7.130816,
          14.566332,
          15.017072,
          0.8900521,
          -4.732659,
          6.1190295,
          0.97730166,
          16.696625,
          -8.390892,
          -2.9530563
         ]
        }
       ],
       "layout": {
        "coloraxis": {
         "colorbar": {
          "title": {
           "text": "Anomaly"
          }
         },
         "colorscale": [
          [
           0,
           "#0d0887"
          ],
          [
           0.1111111111111111,
           "#46039f"
          ],
          [
           0.2222222222222222,
           "#7201a8"
          ],
          [
           0.3333333333333333,
           "#9c179e"
          ],
          [
           0.4444444444444444,
           "#bd3786"
          ],
          [
           0.5555555555555556,
           "#d8576b"
          ],
          [
           0.6666666666666666,
           "#ed7953"
          ],
          [
           0.7777777777777778,
           "#fb9f3a"
          ],
          [
           0.8888888888888888,
           "#fdca26"
          ],
          [
           1,
           "#f0f921"
          ]
         ]
        },
        "height": 800,
        "legend": {
         "tracegroupgap": 0
        },
        "scene": {
         "domain": {
          "x": [
           0,
           1
          ],
          "y": [
           0,
           1
          ]
         },
         "xaxis": {
          "title": {
           "text": "0"
          }
         },
         "yaxis": {
          "title": {
           "text": "1"
          }
         },
         "zaxis": {
          "title": {
           "text": "2"
          }
         }
        },
        "template": {
         "data": {
          "bar": [
           {
            "error_x": {
             "color": "#2a3f5f"
            },
            "error_y": {
             "color": "#2a3f5f"
            },
            "marker": {
             "line": {
              "color": "#E5ECF6",
              "width": 0.5
             },
             "pattern": {
              "fillmode": "overlay",
              "size": 10,
              "solidity": 0.2
             }
            },
            "type": "bar"
           }
          ],
          "barpolar": [
           {
            "marker": {
             "line": {
              "color": "#E5ECF6",
              "width": 0.5
             },
             "pattern": {
              "fillmode": "overlay",
              "size": 10,
              "solidity": 0.2
             }
            },
            "type": "barpolar"
           }
          ],
          "carpet": [
           {
            "aaxis": {
             "endlinecolor": "#2a3f5f",
             "gridcolor": "white",
             "linecolor": "white",
             "minorgridcolor": "white",
             "startlinecolor": "#2a3f5f"
            },
            "baxis": {
             "endlinecolor": "#2a3f5f",
             "gridcolor": "white",
             "linecolor": "white",
             "minorgridcolor": "white",
             "startlinecolor": "#2a3f5f"
            },
            "type": "carpet"
           }
          ],
          "choropleth": [
           {
            "colorbar": {
             "outlinewidth": 0,
             "ticks": ""
            },
            "type": "choropleth"
           }
          ],
          "contour": [
           {
            "colorbar": {
             "outlinewidth": 0,
             "ticks": ""
            },
            "colorscale": [
             [
              0,
              "#0d0887"
             ],
             [
              0.1111111111111111,
              "#46039f"
             ],
             [
              0.2222222222222222,
              "#7201a8"
             ],
             [
              0.3333333333333333,
              "#9c179e"
             ],
             [
              0.4444444444444444,
              "#bd3786"
             ],
             [
              0.5555555555555556,
              "#d8576b"
             ],
             [
              0.6666666666666666,
              "#ed7953"
             ],
             [
              0.7777777777777778,
              "#fb9f3a"
             ],
             [
              0.8888888888888888,
              "#fdca26"
             ],
             [
              1,
              "#f0f921"
             ]
            ],
            "type": "contour"
           }
          ],
          "contourcarpet": [
           {
            "colorbar": {
             "outlinewidth": 0,
             "ticks": ""
            },
            "type": "contourcarpet"
           }
          ],
          "heatmap": [
           {
            "colorbar": {
             "outlinewidth": 0,
             "ticks": ""
            },
            "colorscale": [
             [
              0,
              "#0d0887"
             ],
             [
              0.1111111111111111,
              "#46039f"
             ],
             [
              0.2222222222222222,
              "#7201a8"
             ],
             [
              0.3333333333333333,
              "#9c179e"
             ],
             [
              0.4444444444444444,
              "#bd3786"
             ],
             [
              0.5555555555555556,
              "#d8576b"
             ],
             [
              0.6666666666666666,
              "#ed7953"
             ],
             [
              0.7777777777777778,
              "#fb9f3a"
             ],
             [
              0.8888888888888888,
              "#fdca26"
             ],
             [
              1,
              "#f0f921"
             ]
            ],
            "type": "heatmap"
           }
          ],
          "heatmapgl": [
           {
            "colorbar": {
             "outlinewidth": 0,
             "ticks": ""
            },
            "colorscale": [
             [
              0,
              "#0d0887"
             ],
             [
              0.1111111111111111,
              "#46039f"
             ],
             [
              0.2222222222222222,
              "#7201a8"
             ],
             [
              0.3333333333333333,
              "#9c179e"
             ],
             [
              0.4444444444444444,
              "#bd3786"
             ],
             [
              0.5555555555555556,
              "#d8576b"
             ],
             [
              0.6666666666666666,
              "#ed7953"
             ],
             [
              0.7777777777777778,
              "#fb9f3a"
             ],
             [
              0.8888888888888888,
              "#fdca26"
             ],
             [
              1,
              "#f0f921"
             ]
            ],
            "type": "heatmapgl"
           }
          ],
          "histogram": [
           {
            "marker": {
             "pattern": {
              "fillmode": "overlay",
              "size": 10,
              "solidity": 0.2
             }
            },
            "type": "histogram"
           }
          ],
          "histogram2d": [
           {
            "colorbar": {
             "outlinewidth": 0,
             "ticks": ""
            },
            "colorscale": [
             [
              0,
              "#0d0887"
             ],
             [
              0.1111111111111111,
              "#46039f"
             ],
             [
              0.2222222222222222,
              "#7201a8"
             ],
             [
              0.3333333333333333,
              "#9c179e"
             ],
             [
              0.4444444444444444,
              "#bd3786"
             ],
             [
              0.5555555555555556,
              "#d8576b"
             ],
             [
              0.6666666666666666,
              "#ed7953"
             ],
             [
              0.7777777777777778,
              "#fb9f3a"
             ],
             [
              0.8888888888888888,
              "#fdca26"
             ],
             [
              1,
              "#f0f921"
             ]
            ],
            "type": "histogram2d"
           }
          ],
          "histogram2dcontour": [
           {
            "colorbar": {
             "outlinewidth": 0,
             "ticks": ""
            },
            "colorscale": [
             [
              0,
              "#0d0887"
             ],
             [
              0.1111111111111111,
              "#46039f"
             ],
             [
              0.2222222222222222,
              "#7201a8"
             ],
             [
              0.3333333333333333,
              "#9c179e"
             ],
             [
              0.4444444444444444,
              "#bd3786"
             ],
             [
              0.5555555555555556,
              "#d8576b"
             ],
             [
              0.6666666666666666,
              "#ed7953"
             ],
             [
              0.7777777777777778,
              "#fb9f3a"
             ],
             [
              0.8888888888888888,
              "#fdca26"
             ],
             [
              1,
              "#f0f921"
             ]
            ],
            "type": "histogram2dcontour"
           }
          ],
          "mesh3d": [
           {
            "colorbar": {
             "outlinewidth": 0,
             "ticks": ""
            },
            "type": "mesh3d"
           }
          ],
          "parcoords": [
           {
            "line": {
             "colorbar": {
              "outlinewidth": 0,
              "ticks": ""
             }
            },
            "type": "parcoords"
           }
          ],
          "pie": [
           {
            "automargin": true,
            "type": "pie"
           }
          ],
          "scatter": [
           {
            "fillpattern": {
             "fillmode": "overlay",
             "size": 10,
             "solidity": 0.2
            },
            "type": "scatter"
           }
          ],
          "scatter3d": [
           {
            "line": {
             "colorbar": {
              "outlinewidth": 0,
              "ticks": ""
             }
            },
            "marker": {
             "colorbar": {
              "outlinewidth": 0,
              "ticks": ""
             }
            },
            "type": "scatter3d"
           }
          ],
          "scattercarpet": [
           {
            "marker": {
             "colorbar": {
              "outlinewidth": 0,
              "ticks": ""
             }
            },
            "type": "scattercarpet"
           }
          ],
          "scattergeo": [
           {
            "marker": {
             "colorbar": {
              "outlinewidth": 0,
              "ticks": ""
             }
            },
            "type": "scattergeo"
           }
          ],
          "scattergl": [
           {
            "marker": {
             "colorbar": {
              "outlinewidth": 0,
              "ticks": ""
             }
            },
            "type": "scattergl"
           }
          ],
          "scattermapbox": [
           {
            "marker": {
             "colorbar": {
              "outlinewidth": 0,
              "ticks": ""
             }
            },
            "type": "scattermapbox"
           }
          ],
          "scatterpolar": [
           {
            "marker": {
             "colorbar": {
              "outlinewidth": 0,
              "ticks": ""
             }
            },
            "type": "scatterpolar"
           }
          ],
          "scatterpolargl": [
           {
            "marker": {
             "colorbar": {
              "outlinewidth": 0,
              "ticks": ""
             }
            },
            "type": "scatterpolargl"
           }
          ],
          "scatterternary": [
           {
            "marker": {
             "colorbar": {
              "outlinewidth": 0,
              "ticks": ""
             }
            },
            "type": "scatterternary"
           }
          ],
          "surface": [
           {
            "colorbar": {
             "outlinewidth": 0,
             "ticks": ""
            },
            "colorscale": [
             [
              0,
              "#0d0887"
             ],
             [
              0.1111111111111111,
              "#46039f"
             ],
             [
              0.2222222222222222,
              "#7201a8"
             ],
             [
              0.3333333333333333,
              "#9c179e"
             ],
             [
              0.4444444444444444,
              "#bd3786"
             ],
             [
              0.5555555555555556,
              "#d8576b"
             ],
             [
              0.6666666666666666,
              "#ed7953"
             ],
             [
              0.7777777777777778,
              "#fb9f3a"
             ],
             [
              0.8888888888888888,
              "#fdca26"
             ],
             [
              1,
              "#f0f921"
             ]
            ],
            "type": "surface"
           }
          ],
          "table": [
           {
            "cells": {
             "fill": {
              "color": "#EBF0F8"
             },
             "line": {
              "color": "white"
             }
            },
            "header": {
             "fill": {
              "color": "#C8D4E3"
             },
             "line": {
              "color": "white"
             }
            },
            "type": "table"
           }
          ]
         },
         "layout": {
          "annotationdefaults": {
           "arrowcolor": "#2a3f5f",
           "arrowhead": 0,
           "arrowwidth": 1
          },
          "autotypenumbers": "strict",
          "coloraxis": {
           "colorbar": {
            "outlinewidth": 0,
            "ticks": ""
           }
          },
          "colorscale": {
           "diverging": [
            [
             0,
             "#8e0152"
            ],
            [
             0.1,
             "#c51b7d"
            ],
            [
             0.2,
             "#de77ae"
            ],
            [
             0.3,
             "#f1b6da"
            ],
            [
             0.4,
             "#fde0ef"
            ],
            [
             0.5,
             "#f7f7f7"
            ],
            [
             0.6,
             "#e6f5d0"
            ],
            [
             0.7,
             "#b8e186"
            ],
            [
             0.8,
             "#7fbc41"
            ],
            [
             0.9,
             "#4d9221"
            ],
            [
             1,
             "#276419"
            ]
           ],
           "sequential": [
            [
             0,
             "#0d0887"
            ],
            [
             0.1111111111111111,
             "#46039f"
            ],
            [
             0.2222222222222222,
             "#7201a8"
            ],
            [
             0.3333333333333333,
             "#9c179e"
            ],
            [
             0.4444444444444444,
             "#bd3786"
            ],
            [
             0.5555555555555556,
             "#d8576b"
            ],
            [
             0.6666666666666666,
             "#ed7953"
            ],
            [
             0.7777777777777778,
             "#fb9f3a"
            ],
            [
             0.8888888888888888,
             "#fdca26"
            ],
            [
             1,
             "#f0f921"
            ]
           ],
           "sequentialminus": [
            [
             0,
             "#0d0887"
            ],
            [
             0.1111111111111111,
             "#46039f"
            ],
            [
             0.2222222222222222,
             "#7201a8"
            ],
            [
             0.3333333333333333,
             "#9c179e"
            ],
            [
             0.4444444444444444,
             "#bd3786"
            ],
            [
             0.5555555555555556,
             "#d8576b"
            ],
            [
             0.6666666666666666,
             "#ed7953"
            ],
            [
             0.7777777777777778,
             "#fb9f3a"
            ],
            [
             0.8888888888888888,
             "#fdca26"
            ],
            [
             1,
             "#f0f921"
            ]
           ]
          },
          "colorway": [
           "#636efa",
           "#EF553B",
           "#00cc96",
           "#ab63fa",
           "#FFA15A",
           "#19d3f3",
           "#FF6692",
           "#B6E880",
           "#FF97FF",
           "#FECB52"
          ],
          "font": {
           "color": "#2a3f5f"
          },
          "geo": {
           "bgcolor": "white",
           "lakecolor": "white",
           "landcolor": "#E5ECF6",
           "showlakes": true,
           "showland": true,
           "subunitcolor": "white"
          },
          "hoverlabel": {
           "align": "left"
          },
          "hovermode": "closest",
          "mapbox": {
           "style": "light"
          },
          "paper_bgcolor": "white",
          "plot_bgcolor": "#E5ECF6",
          "polar": {
           "angularaxis": {
            "gridcolor": "white",
            "linecolor": "white",
            "ticks": ""
           },
           "bgcolor": "#E5ECF6",
           "radialaxis": {
            "gridcolor": "white",
            "linecolor": "white",
            "ticks": ""
           }
          },
          "scene": {
           "xaxis": {
            "backgroundcolor": "#E5ECF6",
            "gridcolor": "white",
            "gridwidth": 2,
            "linecolor": "white",
            "showbackground": true,
            "ticks": "",
            "zerolinecolor": "white"
           },
           "yaxis": {
            "backgroundcolor": "#E5ECF6",
            "gridcolor": "white",
            "gridwidth": 2,
            "linecolor": "white",
            "showbackground": true,
            "ticks": "",
            "zerolinecolor": "white"
           },
           "zaxis": {
            "backgroundcolor": "#E5ECF6",
            "gridcolor": "white",
            "gridwidth": 2,
            "linecolor": "white",
            "showbackground": true,
            "ticks": "",
            "zerolinecolor": "white"
           }
          },
          "shapedefaults": {
           "line": {
            "color": "#2a3f5f"
           }
          },
          "ternary": {
           "aaxis": {
            "gridcolor": "white",
            "linecolor": "white",
            "ticks": ""
           },
           "baxis": {
            "gridcolor": "white",
            "linecolor": "white",
            "ticks": ""
           },
           "bgcolor": "#E5ECF6",
           "caxis": {
            "gridcolor": "white",
            "linecolor": "white",
            "ticks": ""
           }
          },
          "title": {
           "x": 0.05
          },
          "xaxis": {
           "automargin": true,
           "gridcolor": "white",
           "linecolor": "white",
           "ticks": "",
           "title": {
            "standoff": 15
           },
           "zerolinecolor": "white",
           "zerolinewidth": 2
          },
          "yaxis": {
           "automargin": true,
           "gridcolor": "white",
           "linecolor": "white",
           "ticks": "",
           "title": {
            "standoff": 15
           },
           "zerolinecolor": "white",
           "zerolinewidth": 2
          }
         }
        },
        "title": {
         "text": "3d TSNE Plot for Outliers"
        },
        "width": 900
       }
      }
     },
     "metadata": {},
     "output_type": "display_data"
    }
   ],
   "source": [
    "plot_model(iforest, plot='tsne')"
   ]
  },
  {
   "cell_type": "code",
   "execution_count": 7,
   "metadata": {},
   "outputs": [
    {
     "data": {
      "application/vnd.plotly.v1+json": {
       "config": {
        "plotlyServerURL": "https://plot.ly"
       },
       "data": [
        {
         "customdata": [
          [
           0.263995357
          ],
          [
           0.546092303
          ],
          [
           0.336714104
          ],
          [
           0.092107835
          ],
          [
           0.325261175
          ],
          [
           0.212464853
          ],
          [
           0.258565714
          ],
          [
           0.869236755
          ],
          [
           0.197077957
          ],
          [
           0.292984504
          ],
          [
           0.82178316
          ],
          [
           0.796622959
          ],
          [
           0.045577011
          ],
          [
           0.613660351
          ],
          [
           0.950744566
          ],
          [
           0.336346337
          ],
          [
           0.034440667
          ],
          [
           0.741544275
          ],
          [
           0.18443265
          ],
          [
           0.664514943
          ],
          [
           0.162824858
          ],
          [
           0.729838445
          ],
          [
           0.62837389
          ],
          [
           0.057883661
          ],
          [
           0.445534827
          ],
          [
           0.80183695
          ],
          [
           0.27709612
          ],
          [
           0.228634015
          ],
          [
           0.834860657
          ],
          [
           0.669766511
          ],
          [
           0.532527349
          ],
          [
           0.170459071
          ],
          [
           0.510288468
          ],
          [
           0.977561989
          ],
          [
           0.249775993
          ],
          [
           0.975500682
          ],
          [
           0.613701727
          ],
          [
           0.167420363
          ],
          [
           0.537472516
          ],
          [
           0.379899131
          ],
          [
           0.633897303
          ],
          [
           0.633960424
          ],
          [
           0.549974653
          ],
          [
           0.178172988
          ],
          [
           0.85563814
          ],
          [
           0.321796672
          ],
          [
           0.817490537
          ],
          [
           0.254879417
          ],
          [
           0.344140513
          ],
          [
           0.806145726
          ],
          [
           0.277081671
          ],
          [
           0.544328519
          ],
          [
           0.07708393
          ],
          [
           0.273081458
          ],
          [
           0.390877336
          ],
          [
           0.349621385
          ],
          [
           0.214549744
          ],
          [
           0.206075222
          ],
          [
           0.86461997
          ],
          [
           0.981708854
          ],
          [
           0.334829646
          ],
          [
           0.648387061
          ],
          [
           0.093643561
          ],
          [
           0.837802698
          ],
          [
           0.760343967
          ],
          [
           0.291404174
          ],
          [
           0.3413454
          ],
          [
           0.761112484
          ],
          [
           0.541899775
          ],
          [
           0.684176639
          ],
          [
           0.983535597
          ],
          [
           0.52081245
          ],
          [
           0.328227724
          ],
          [
           0.097157938
          ],
          [
           0.876088593
          ],
          [
           0.870214512
          ],
          [
           0.656086992
          ],
          [
           0.306791514
          ],
          [
           0.48126734
          ],
          [
           0.259559174
          ],
          [
           0.326123655
          ],
          [
           0.930568042
          ],
          [
           0.6583894
          ],
          [
           0.689992335
          ],
          [
           0.315781109
          ],
          [
           0.566905093
          ],
          [
           0.637526619
          ],
          [
           0.687540723
          ],
          [
           0.324300602
          ],
          [
           0.592704906
          ],
          [
           0.740253126
          ],
          [
           0.594032877
          ],
          [
           0.596452977
          ],
          [
           0.277680817
          ],
          [
           0.258329663
          ],
          [
           0.142460864
          ],
          [
           0.435533461
          ],
          [
           0.702499044
          ],
          [
           0.58897535
          ],
          [
           0.653304374
          ],
          [
           0.336968524
          ],
          [
           0.631244736
          ],
          [
           0.73530076
          ],
          [
           0.050390366
          ],
          [
           0.064264924
          ],
          [
           0.665359476
          ],
          [
           0.917835245
          ],
          [
           0.44651012
          ],
          [
           0.661938199
          ],
          [
           0.439359853
          ],
          [
           0.687572404
          ],
          [
           0.363462248
          ],
          [
           0.654262182
          ],
          [
           0.578553536
          ],
          [
           0.065927945
          ],
          [
           0.550148559
          ],
          [
           0.139182814
          ],
          [
           0.080004635
          ],
          [
           0.278228358
          ],
          [
           0.560124266
          ],
          [
           0.53639864
          ],
          [
           0.426531904
          ],
          [
           0.789109796
          ],
          [
           0.742900474
          ],
          [
           0.901692589
          ],
          [
           0.650337401
          ],
          [
           0.114057311
          ],
          [
           0.260812592
          ],
          [
           0.43991232
          ],
          [
           0.964409284
          ],
          [
           0.184401415
          ],
          [
           0.345145446
          ],
          [
           0.175894581
          ],
          [
           0.312514453
          ],
          [
           0.674131879
          ],
          [
           0.32825045
          ],
          [
           0.598231057
          ],
          [
           0.092598817
          ],
          [
           0.497916521
          ],
          [
           0.419776521
          ],
          [
           0.3121767
          ],
          [
           0.937857107
          ],
          [
           0.049030963
          ],
          [
           0.476104526
          ],
          [
           0.447397526
          ],
          [
           0.295806058
          ],
          [
           0.737363977
          ],
          [
           0.625896253
          ],
          [
           0.408813429
          ],
          [
           0.437511156
          ],
          [
           0.691351375
          ],
          [
           0.935555275
          ],
          [
           0.437846654
          ],
          [
           0.072217715
          ],
          [
           0.67636067
          ],
          [
           0.468883999
          ],
          [
           0.543820644
          ],
          [
           0.655522647
          ],
          [
           0.693528924
          ],
          [
           0.108878312
          ],
          [
           0.285463743
          ],
          [
           0
          ],
          [
           0.706495497
          ],
          [
           0.273530633
          ],
          [
           0.292320271
          ],
          [
           0.673984307
          ],
          [
           0.126121828
          ],
          [
           0.946707459
          ],
          [
           0.936338898
          ],
          [
           0.853755364
          ],
          [
           0.706071361
          ],
          [
           0.693682186
          ],
          [
           0.508527882
          ],
          [
           0.347170389
          ],
          [
           0.704154263
          ],
          [
           0.658730088
          ],
          [
           0.155841557
          ],
          [
           0.311085435
          ],
          [
           0.281135347
          ],
          [
           0.094587802
          ],
          [
           0.683260954
          ],
          [
           0.907729251
          ],
          [
           0.291512674
          ],
          [
           0.752734459
          ],
          [
           0.93482964
          ],
          [
           0.071413953
          ],
          [
           0.594896327
          ],
          [
           0.404672015
          ],
          [
           0.13837621
          ],
          [
           0.747338468
          ],
          [
           0.530882486
          ],
          [
           0.282649594
          ],
          [
           0.699335734
          ],
          [
           0.056111251
          ],
          [
           0.855234998
          ],
          [
           0.077895127
          ],
          [
           0.891649583
          ],
          [
           0.386742279
          ],
          [
           0.27113158
          ],
          [
           0.958888961
          ],
          [
           0.085120869
          ],
          [
           0.526902249
          ],
          [
           0.066577785
          ],
          [
           0.841506738
          ],
          [
           0.255342095
          ],
          [
           0.060545771
          ],
          [
           0.073385869
          ],
          [
           0.187493723
          ],
          [
           0.858365688
          ],
          [
           0.090640352
          ],
          [
           0.709725227
          ],
          [
           0.631300647
          ],
          [
           0.247504474
          ],
          [
           0.822843584
          ],
          [
           0.373476759
          ],
          [
           0.625538582
          ],
          [
           0.292951715
          ],
          [
           0.299730324
          ],
          [
           0.25121407
          ],
          [
           0.344480551
          ],
          [
           0.293064767
          ],
          [
           0.762803224
          ],
          [
           0.738470804
          ],
          [
           0.674883265
          ],
          [
           0.719151612
          ],
          [
           0.130980216
          ],
          [
           0.511328036
          ],
          [
           0.04492903
          ],
          [
           0.560914449
          ],
          [
           0.744040641
          ],
          [
           0.266961634
          ],
          [
           0.644231853
          ],
          [
           0.038113352
          ],
          [
           0.057155299
          ],
          [
           0.341392461
          ],
          [
           0.720463632
          ],
          [
           0.402878236
          ],
          [
           0.635148967
          ],
          [
           0.320729467
          ],
          [
           0.091209694
          ],
          [
           0.23414609
          ],
          [
           0.890221131
          ],
          [
           0.602170884
          ],
          [
           0.633652055
          ],
          [
           0.806240837
          ],
          [
           0.739731184
          ],
          [
           0.465231269
          ],
          [
           0.7321109
          ],
          [
           0.373874305
          ],
          [
           0.501587947
          ],
          [
           0.115383158
          ],
          [
           0.731946604
          ],
          [
           0.418298728
          ],
          [
           0.062259591
          ],
          [
           0.391496379
          ],
          [
           0.35984929
          ],
          [
           0.245235627
          ],
          [
           0.610028339
          ],
          [
           0.435403602
          ],
          [
           0.434309675
          ],
          [
           0.523763344
          ],
          [
           0.171187866
          ],
          [
           0.187734303
          ],
          [
           0.945014638
          ],
          [
           0.027851097
          ],
          [
           0.68445706
          ],
          [
           0.178014532
          ],
          [
           0.643427879
          ],
          [
           0.59588355
          ],
          [
           0.372361682
          ],
          [
           0.586103584
          ],
          [
           0.271658852
          ],
          [
           0.59951107
          ],
          [
           0.468363088
          ],
          [
           0.314515565
          ],
          [
           0.21893726
          ],
          [
           0.254716562
          ],
          [
           0.25612815
          ],
          [
           0.602259755
          ],
          [
           0.134381075
          ],
          [
           0.513887424
          ],
          [
           0.624241636
          ],
          [
           0.160251854
          ],
          [
           0.580708108
          ],
          [
           0.270540486
          ],
          [
           0.832919932
          ],
          [
           0.93032134
          ],
          [
           0.719157884
          ],
          [
           0.886720033
          ],
          [
           0.098792281
          ],
          [
           0.787174286
          ],
          [
           0.365592376
          ],
          [
           0.719576193
          ],
          [
           0.8058956
          ],
          [
           0.755578334
          ],
          [
           0.526005909
          ],
          [
           0.68880424
          ],
          [
           0.221115312
          ],
          [
           0.739369477
          ],
          [
           0.408440236
          ],
          [
           0.348926542
          ],
          [
           0.433713763
          ],
          [
           0.596496607
          ],
          [
           0.6942953
          ],
          [
           0.709030966
          ],
          [
           0.867652984
          ],
          [
           0.89332545
          ],
          [
           0.746020922
          ],
          [
           0.538284443
          ],
          [
           0.892219314
          ],
          [
           0.935175765
          ],
          [
           0.260527707
          ],
          [
           0.956780449
          ],
          [
           0.204932484
          ],
          [
           0.687733351
          ],
          [
           0.329063619
          ],
          [
           0.632149831
          ],
          [
           0.463744506
          ],
          [
           0.698859621
          ],
          [
           0.385446564
          ],
          [
           0.479975377
          ],
          [
           0.732279108
          ],
          [
           0.3813543
          ],
          [
           0.459326013
          ],
          [
           0.257401434
          ],
          [
           0.665014804
          ],
          [
           0.103399542
          ],
          [
           0.425284413
          ],
          [
           0.943529051
          ],
          [
           0.594750236
          ],
          [
           0.543776817
          ],
          [
           0.18203988
          ],
          [
           0.235842084
          ],
          [
           0.585984497
          ],
          [
           0.762013168
          ],
          [
           0.684982907
          ],
          [
           0.676936933
          ],
          [
           0.290184964
          ],
          [
           0.481068222
          ],
          [
           0.492766033
          ],
          [
           0.221856234
          ],
          [
           0.053875998
          ],
          [
           0.082751144
          ],
          [
           0.385366225
          ],
          [
           0.702513961
          ],
          [
           0.91553156
          ],
          [
           0.082087436
          ],
          [
           0.251280378
          ],
          [
           0.416721817
          ],
          [
           0.277032672
          ],
          [
           0.579539754
          ],
          [
           0.569363476
          ],
          [
           0.133399703
          ],
          [
           0.265045463
          ],
          [
           0.936571901
          ],
          [
           0.252618554
          ],
          [
           0.054033081
          ],
          [
           0.802481439
          ],
          [
           0.528197693
          ],
          [
           0.9515026
          ],
          [
           0.572121173
          ],
          [
           0.752938227
          ],
          [
           0.143857535
          ],
          [
           0.513484576
          ],
          [
           0.313322389
          ],
          [
           0.687797396
          ],
          [
           0.37705984
          ],
          [
           0.348226142
          ],
          [
           0.67763282
          ],
          [
           0.241387521
          ],
          [
           0.850650179
          ],
          [
           0.220348103
          ],
          [
           0.476445464
          ],
          [
           0.690324025
          ],
          [
           0.364695946
          ],
          [
           0.649249197
          ],
          [
           0.943701921
          ],
          [
           0.529645971
          ],
          [
           0.299097002
          ],
          [
           0.96696247
          ],
          [
           0.272005242
          ],
          [
           0.314161447
          ],
          [
           0.752020991
          ],
          [
           0.221882453
          ],
          [
           0.720332673
          ],
          [
           0.379204782
          ],
          [
           0.60168653
          ],
          [
           0.582932673
          ],
          [
           0.950809853
          ],
          [
           0.58830141
          ],
          [
           0.880887227
          ],
          [
           0.467857701
          ],
          [
           0.879902171
          ],
          [
           0.619844009
          ],
          [
           0.359002573
          ],
          [
           0.291511278
          ],
          [
           0.694157143
          ],
          [
           0.727960353
          ],
          [
           0.617703921
          ],
          [
           0.39581257
          ],
          [
           0.58317282
          ],
          [
           0.710332374
          ],
          [
           0.253753693
          ],
          [
           0.049412228
          ],
          [
           0.728378695
          ],
          [
           0.432432881
          ],
          [
           0.58612345
          ],
          [
           0.052342373
          ],
          [
           0.053483902
          ],
          [
           0.518729378
          ],
          [
           0.933040208
          ],
          [
           0.703554284
          ],
          [
           0.268989899
          ],
          [
           0.733006927
          ],
          [
           0.444352467
          ],
          [
           0.583394621
          ],
          [
           0.871172692
          ],
          [
           0.428767078
          ],
          [
           0.300460841
          ],
          [
           0.953329459
          ],
          [
           0.606443965
          ],
          [
           0.90986815
          ],
          [
           0.714896449
          ],
          [
           0.497349509
          ],
          [
           0.853097486
          ],
          [
           0.721804145
          ],
          [
           0.303467328
          ],
          [
           0.664485096
          ],
          [
           0.27978062
          ],
          [
           0.569481665
          ],
          [
           0.628628926
          ],
          [
           0.088368123
          ],
          [
           0.733567326
          ],
          [
           0.537436778
          ],
          [
           0.638593691
          ],
          [
           0.954726948
          ],
          [
           0.632202332
          ],
          [
           0.642134651
          ],
          [
           0.744653087
          ],
          [
           0.115714007
          ],
          [
           0.486250073
          ],
          [
           0.440356144
          ],
          [
           0.08272289
          ],
          [
           0.511591027
          ],
          [
           0.394627555
          ],
          [
           0.224394
          ],
          [
           0.626927584
          ],
          [
           0.290254057
          ],
          [
           0.779008053
          ],
          [
           0.86610579
          ],
          [
           0.873326081
          ],
          [
           0.49548916
          ],
          [
           0.594297695
          ],
          [
           0.918201584
          ],
          [
           0.577042754
          ],
          [
           0.019467671
          ],
          [
           0.670298282
          ],
          [
           0.546595316
          ],
          [
           0.591665146
          ],
          [
           0.42155819
          ],
          [
           0.685608559
          ],
          [
           0.340303024
          ],
          [
           0.675626741
          ],
          [
           0.319067345
          ],
          [
           0.388499664
          ],
          [
           0.706949589
          ],
          [
           0.559409515
          ],
          [
           0.687663508
          ],
          [
           0.708804554
          ],
          [
           0.681888094
          ],
          [
           0.422535109
          ],
          [
           0.320004605
          ],
          [
           0.658281368
          ],
          [
           0.634154867
          ],
          [
           0.777332009
          ],
          [
           0.812677205
          ],
          [
           0.074280797
          ],
          [
           0.39600217
          ],
          [
           0.054933913
          ],
          [
           0.825058925
          ],
          [
           0.382642009
          ],
          [
           0.868729818
          ],
          [
           0.588043346
          ],
          [
           0.891551577
          ],
          [
           0.10920046
          ],
          [
           0.647682781
          ],
          [
           0.724342512
          ],
          [
           0.070163044
          ],
          [
           0.280882054
          ],
          [
           0.039113261
          ],
          [
           0.579641592
          ],
          [
           0.639000922
          ],
          [
           0.281745925
          ],
          [
           0.647857744
          ],
          [
           0.647905797
          ],
          [
           0.875226264
          ],
          [
           0.567603305
          ],
          [
           0.262940591
          ],
          [
           0.268026042
          ],
          [
           0.40519133
          ],
          [
           0.479965451
          ],
          [
           0.33552403
          ],
          [
           0.777165379
          ],
          [
           0.425487963
          ],
          [
           0.237986115
          ],
          [
           0.142522971
          ],
          [
           0.724176488
          ],
          [
           0.234698933
          ],
          [
           0.078182281
          ],
          [
           0.855990155
          ],
          [
           0.270251765
          ],
          [
           0.435517841
          ],
          [
           0.762697513
          ],
          [
           0.464487258
          ],
          [
           0.396112685
          ],
          [
           0.376380921
          ],
          [
           0.294594677
          ],
          [
           0.694492121
          ],
          [
           0.622767949
          ],
          [
           0.847559722
          ],
          [
           0.301463054
          ],
          [
           0.912937812
          ],
          [
           0.500017182
          ],
          [
           0.902587935
          ],
          [
           0.304517943
          ],
          [
           0.299165673
          ],
          [
           0.092014087
          ],
          [
           0.488548917
          ],
          [
           0.664664437
          ],
          [
           0.265349549
          ],
          [
           0.723657021
          ],
          [
           0.149262385
          ],
          [
           0.04577339
          ],
          [
           0.69661064
          ],
          [
           0.42181486
          ],
          [
           0.733845785
          ],
          [
           0.418795386
          ],
          [
           0.677443529
          ],
          [
           0.261283603
          ],
          [
           0.268527767
          ],
          [
           0.544322236
          ],
          [
           0.431632036
          ],
          [
           0.981018141
          ],
          [
           0.214980724
          ],
          [
           0.394729993
          ],
          [
           0.122224944
          ],
          [
           0.297496875
          ],
          [
           0.374904431
          ],
          [
           0.68698771
          ],
          [
           0.388549207
          ],
          [
           0.039296071
          ],
          [
           0.73553424
          ],
          [
           0.379294893
          ],
          [
           0.732123386
          ],
          [
           0.339221439
          ],
          [
           0.659450594
          ],
          [
           0.054838642
          ],
          [
           0.640112102
          ],
          [
           0.307141704
          ],
          [
           0.396611907
          ],
          [
           0.420439161
          ],
          [
           0.241714974
          ],
          [
           0.065893153
          ],
          [
           0.910521937
          ],
          [
           0.697163103
          ],
          [
           0.072559853
          ],
          [
           0.81825094
          ],
          [
           0.311888815
          ],
          [
           0.961644609
          ],
          [
           0.816325524
          ],
          [
           0.14647302
          ],
          [
           0.548753945
          ],
          [
           0.946158087
          ],
          [
           0.293992717
          ],
          [
           0.331479643
          ],
          [
           0.906220031
          ],
          [
           0.525540416
          ],
          [
           0.83301411
          ],
          [
           0.514849806
          ],
          [
           0.574609024
          ],
          [
           0.468711853
          ],
          [
           0.71002775
          ],
          [
           0.645973276
          ],
          [
           0.229794416
          ],
          [
           0.551783393
          ],
          [
           0.055822991
          ],
          [
           0.331750941
          ],
          [
           0.715520198
          ],
          [
           0.583924357
          ],
          [
           0.306957691
          ],
          [
           0.791478237
          ],
          [
           0.164236639
          ],
          [
           0.065711219
          ],
          [
           0.948993132
          ],
          [
           0.080423835
          ],
          [
           0.052495426
          ],
          [
           0.566346135
          ],
          [
           0.3630266
          ],
          [
           0.605442195
          ],
          [
           0.630850584
          ],
          [
           0.065791238
          ],
          [
           0.286817071
          ],
          [
           0.685462839
          ],
          [
           0.260853706
          ],
          [
           0.659122429
          ],
          [
           0.443173922
          ],
          [
           0.602063986
          ],
          [
           0.060366911
          ],
          [
           0.781903153
          ],
          [
           0.514579807
          ],
          [
           0.483886213
          ],
          [
           0.600213807
          ],
          [
           0.497364052
          ],
          [
           0.411145245
          ],
          [
           0.116999171
          ],
          [
           0.341890141
          ],
          [
           0.746950848
          ],
          [
           0.396292746
          ],
          [
           0.622143843
          ],
          [
           0.335271141
          ],
          [
           0.140257137
          ],
          [
           0.081620681
          ],
          [
           0.069837569
          ],
          [
           0.468940008
          ],
          [
           0.990857417
          ],
          [
           0.896616832
          ],
          [
           0.255310561
          ],
          [
           0.224645267
          ],
          [
           0.01991825
          ],
          [
           0.296480415
          ],
          [
           0.155458996
          ],
          [
           0.577916714
          ],
          [
           0.956303031
          ],
          [
           0.813464394
          ],
          [
           0.529675785
          ],
          [
           0.287671353
          ],
          [
           0.48039136
          ],
          [
           0.281044822
          ],
          [
           0.633196521
          ],
          [
           0.093325377
          ],
          [
           0.284473981
          ],
          [
           0.052223775
          ],
          [
           0.051129385
          ],
          [
           0.967405608
          ],
          [
           0.040045728
          ],
          [
           0.908582921
          ],
          [
           0.662117416
          ],
          [
           0.424703209
          ],
          [
           0.72207806
          ],
          [
           0.666193327
          ],
          [
           0.509681253
          ],
          [
           0.751353621
          ],
          [
           0.279073124
          ],
          [
           0.074927
          ],
          [
           0.916359535
          ],
          [
           0.31040327
          ],
          [
           0.716604052
          ],
          [
           0.485587085
          ],
          [
           0.306075181
          ],
          [
           0.477558204
          ],
          [
           0.711923941
          ],
          [
           0.066348638
          ],
          [
           0.274539351
          ],
          [
           0.31082252
          ],
          [
           0.476073127
          ],
          [
           0.186795565
          ],
          [
           0.26654207
          ],
          [
           0.070231142
          ],
          [
           0.26951927
          ],
          [
           0.800004713
          ],
          [
           0.273633667
          ],
          [
           0.146479192
          ],
          [
           0.378318951
          ],
          [
           0.373849065
          ],
          [
           0.242170835
          ],
          [
           0.249796488
          ],
          [
           0.066591188
          ],
          [
           0.372956798
          ],
          [
           0.501812291
          ],
          [
           0.313097752
          ],
          [
           0.880202196
          ],
          [
           0.51981893
          ],
          [
           0.364138746
          ],
          [
           0.492682896
          ],
          [
           0.285732652
          ],
          [
           0.890114985
          ],
          [
           0.316419561
          ],
          [
           0.26866354
          ],
          [
           0.771975959
          ],
          [
           0.968888992
          ],
          [
           0.080334377
          ],
          [
           0.736828221
          ],
          [
           0.300558071
          ],
          [
           0.917950393
          ],
          [
           0.465815039
          ],
          [
           0.054036682
          ],
          [
           0.963150123
          ],
          [
           0.089653503
          ],
          [
           0.707693234
          ],
          [
           0.636416037
          ],
          [
           0.539521117
          ],
          [
           0.114757161
          ],
          [
           0.357312419
          ],
          [
           0.67639834
          ],
          [
           0.43482839
          ],
          [
           0.032326387
          ],
          [
           0.711365605
          ],
          [
           0.187486519
          ],
          [
           0.052789653
          ],
          [
           0.505863613
          ],
          [
           0.927431873
          ],
          [
           0.680984256
          ],
          [
           0.882822186
          ],
          [
           0.495705441
          ],
          [
           0.596240398
          ],
          [
           0.320610701
          ],
          [
           0.3413685
          ],
          [
           0.159681797
          ],
          [
           0.318133669
          ],
          [
           0.839301048
          ],
          [
           0.064359251
          ],
          [
           0.470216633
          ],
          [
           0.776252291
          ],
          [
           0.635843383
          ],
          [
           0.62510543
          ],
          [
           0.52959065
          ],
          [
           0.986900166
          ],
          [
           0.078585688
          ],
          [
           0.233284267
          ],
          [
           0.363330957
          ],
          [
           0.716716981
          ],
          [
           0.375889792
          ],
          [
           0.223316889
          ],
          [
           0.299343986
          ],
          [
           0.538595767
          ],
          [
           0.730297124
          ],
          [
           0.66033077
          ],
          [
           0.435296009
          ],
          [
           0.326494313
          ],
          [
           0.854402708
          ],
          [
           0.573493847
          ],
          [
           0.757786135
          ],
          [
           0.704743233
          ],
          [
           0.281575597
          ],
          [
           0.671968208
          ],
          [
           0.313726015
          ],
          [
           0.364338275
          ],
          [
           0.368216396
          ],
          [
           0.386295207
          ],
          [
           0.655971865
          ],
          [
           0.566025273
          ],
          [
           0.424999093
          ],
          [
           0.090110371
          ],
          [
           0.772350538
          ],
          [
           0.331047258
          ],
          [
           0.273716188
          ],
          [
           0.23877568
          ],
          [
           0.373079772
          ],
          [
           0.331185868
          ],
          [
           0.256134531
          ],
          [
           0.678373225
          ],
          [
           0.434638338
          ],
          [
           0.654668307
          ],
          [
           0.986681065
          ],
          [
           0.371520495
          ],
          [
           0.408359618
          ],
          [
           0.40932365
          ],
          [
           0.283412082
          ],
          [
           0.395246531
          ],
          [
           0.010984428
          ],
          [
           0.306013869
          ],
          [
           0.266194806
          ],
          [
           0.299318521
          ],
          [
           0.318293946
          ],
          [
           0.74282591
          ],
          [
           0.097664329
          ],
          [
           0.079666942
          ],
          [
           0.613258767
          ],
          [
           0.99443072
          ],
          [
           0.568835082
          ],
          [
           0.708034516
          ],
          [
           0.370592719
          ],
          [
           0.669867361
          ],
          [
           0.651295625
          ],
          [
           0.462531569
          ],
          [
           0.719625619
          ],
          [
           0.45377248
          ],
          [
           0.394863946
          ],
          [
           0.323974831
          ],
          [
           0.146454724
          ],
          [
           0.779067041
          ],
          [
           0.401828915
          ],
          [
           0.601479585
          ],
          [
           0.856423023
          ],
          [
           0.565242962
          ],
          [
           0.301225108
          ],
          [
           0.282108144
          ],
          [
           0.594378011
          ],
          [
           0.705312368
          ],
          [
           0.540869628
          ],
          [
           0.319249574
          ],
          [
           0.361766138
          ],
          [
           0.625000704
          ],
          [
           0.316287401
          ],
          [
           0.047239021
          ],
          [
           0.801182233
          ],
          [
           0.508474436
          ],
          [
           0.817893411
          ],
          [
           0.399235601
          ],
          [
           0.974051999
          ],
          [
           0.72241535
          ],
          [
           0.039564764
          ],
          [
           0.908684108
          ],
          [
           0.473010134
          ],
          [
           0.718049628
          ],
          [
           0.763479069
          ],
          [
           0.647596537
          ],
          [
           0.894997386
          ],
          [
           0.222825901
          ],
          [
           0.359012234
          ],
          [
           0.944910252
          ],
          [
           0.297877816
          ],
          [
           0.172517997
          ],
          [
           0.556586265
          ],
          [
           0.876481735
          ],
          [
           0.486677843
          ],
          [
           0.459496733
          ],
          [
           0.474126377
          ],
          [
           0.70101144
          ],
          [
           0.337597387
          ],
          [
           0.537578886
          ],
          [
           0.966992448
          ],
          [
           0.056849545
          ],
          [
           0.233249065
          ],
          [
           0.380054711
          ],
          [
           0.602929443
          ],
          [
           0.303847999
          ],
          [
           0.170194553
          ],
          [
           0.972168554
          ],
          [
           0.332168927
          ],
          [
           0.688728689
          ],
          [
           0.110773401
          ],
          [
           0.273352065
          ],
          [
           0.572939678
          ],
          [
           0.491457065
          ],
          [
           0.281389999
          ],
          [
           0.821697261
          ],
          [
           0.674977683
          ],
          [
           0.585134549
          ],
          [
           0.710596116
          ],
          [
           0.040488789
          ],
          [
           0.568054311
          ],
          [
           0.321752928
          ],
          [
           0.611850232
          ],
          [
           0.926096887
          ],
          [
           0.618347428
          ],
          [
           0.667629785
          ],
          [
           0.397733466
          ],
          [
           0.290875487
          ],
          [
           0.594375103
          ],
          [
           0.508255233
          ],
          [
           0.338571357
          ],
          [
           0.432302347
          ],
          [
           0.302221978
          ],
          [
           0.87619819
          ],
          [
           0.080204492
          ],
          [
           0.092333532
          ],
          [
           0.093656447
          ],
          [
           0.608452351
          ],
          [
           0.732654598
          ],
          [
           0.944158855
          ],
          [
           0.26742308
          ],
          [
           0.731124201
          ],
          [
           0.661308553
          ],
          [
           0.387766262
          ],
          [
           0.962585273
          ],
          [
           0.322067067
          ],
          [
           0.634081093
          ],
          [
           0.475345002
          ],
          [
           0.353558973
          ],
          [
           0.885936316
          ],
          [
           0.876798106
          ],
          [
           0.221581064
          ],
          [
           0.394362449
          ],
          [
           0.805035676
          ],
          [
           0.452898486
          ],
          [
           0.592520516
          ],
          [
           0.761026394
          ],
          [
           0.245049023
          ],
          [
           0.372139363
          ],
          [
           0.681054822
          ],
          [
           0.747143148
          ],
          [
           0.920739529
          ],
          [
           0.097207945
          ],
          [
           0.699302998
          ],
          [
           0.721647006
          ],
          [
           0.535356114
          ],
          [
           0.738293805
          ],
          [
           0.706467551
          ],
          [
           0.67395061
          ],
          [
           0.711212291
          ],
          [
           0.302558708
          ],
          [
           0.080097855
          ],
          [
           0.707010837
          ],
          [
           0.512248622
          ],
          [
           0.659627472
          ],
          [
           0.657559694
          ],
          [
           0.100645606
          ],
          [
           0.92665363
          ],
          [
           0.892879338
          ],
          [
           0.839157508
          ],
          [
           0.890959718
          ],
          [
           0.556754471
          ],
          [
           0.960361937
          ],
          [
           0.631037864
          ],
          [
           0.029838065
          ],
          [
           0.278843351
          ],
          [
           0.926157705
          ],
          [
           0.551504258
          ],
          [
           0.485942349
          ],
          [
           0.437234696
          ],
          [
           0.252318018
          ],
          [
           0.515466972
          ],
          [
           0.437252296
          ],
          [
           0.493724207
          ],
          [
           0.83324725
          ],
          [
           0.317521477
          ],
          [
           0.286234562
          ],
          [
           0.726833965
          ],
          [
           0.495667033
          ],
          [
           0.028645255
          ],
          [
           0.319671917
          ],
          [
           0.674344598
          ],
          [
           0.766037189
          ],
          [
           0.65456992
          ],
          [
           0.756514381
          ],
          [
           0.528253719
          ],
          [
           0.389719491
          ],
          [
           0.355087459
          ],
          [
           0.87015202
          ],
          [
           0.739083306
          ],
          [
           0.305761846
          ],
          [
           0.411587673
          ],
          [
           0.063633094
          ],
          [
           0.735409395
          ],
          [
           0.605916669
          ],
          [
           0.539395562
          ],
          [
           0.566183532
          ],
          [
           0.674795186
          ],
          [
           0.070993366
          ],
          [
           0.1252641
          ],
          [
           0.279601492
          ],
          [
           0.952174402
          ],
          [
           0.233806762
          ],
          [
           0.437247429
          ],
          [
           0.925423095
          ],
          [
           0.433498634
          ],
          [
           0.52517902
          ],
          [
           0.088435529
          ],
          [
           0.447677638
          ],
          [
           0.647000631
          ],
          [
           0.903603337
          ],
          [
           0.265790738
          ],
          [
           0.66419695
          ],
          [
           0.498120658
          ],
          [
           0.490188944
          ],
          [
           0.747084187
          ],
          [
           0.906783648
          ],
          [
           0.678770917
          ],
          [
           0.348599859
          ],
          [
           0.294839683
          ],
          [
           0.705691827
          ],
          [
           0.211917931
          ],
          [
           0.063201124
          ],
          [
           0.276699543
          ],
          [
           0.672459395
          ],
          [
           0.808205949
          ],
          [
           0.296538373
          ],
          [
           0.160126862
          ],
          [
           0.439385032
          ],
          [
           0.555951416
          ],
          [
           0.386240112
          ],
          [
           0.158689619
          ],
          [
           0.214499855
          ],
          [
           0.299579429
          ],
          [
           0.569161656
          ],
          [
           0.488614799
          ],
          [
           0.878295021
          ],
          [
           0.649380949
          ],
          [
           0.465713341
          ],
          [
           0.16813774
          ],
          [
           0.87529545
          ],
          [
           0.841132341
          ],
          [
           0.33292081
          ],
          [
           0.513047859
          ],
          [
           0.305055078
          ],
          [
           0.812626991
          ],
          [
           0.25096706
          ],
          [
           0.502435578
          ],
          [
           0.457990741
          ]
         ],
         "hovertemplate": "0=%{x}<br>1=%{y}<br>Feature=%{customdata[0]}<br>Anomaly=%{marker.color}<extra></extra>",
         "legendgroup": "",
         "marker": {
          "color": [
           0,
           0,
           0,
           1,
           0,
           0,
           0,
           1,
           1,
           0,
           0,
           1,
           0,
           0,
           1,
           0,
           0,
           0,
           0,
           0,
           1,
           0,
           0,
           1,
           1,
           1,
           0,
           0,
           1,
           1,
           0,
           0,
           0,
           1,
           1,
           0,
           1,
           0,
           0,
           0,
           1,
           0,
           0,
           1,
           0,
           0,
           1,
           0,
           1,
           0,
           0,
           1,
           0,
           0,
           0,
           1,
           0,
           0,
           0,
           1,
           0,
           0,
           1,
           1,
           0,
           0,
           1,
           0,
           0,
           1,
           0,
           0,
           0,
           0,
           0,
           0,
           0,
           0,
           0,
           0,
           0,
           0,
           0,
           0,
           0,
           0,
           0,
           0,
           0,
           0,
           0,
           0,
           0,
           0,
           0,
           0,
           0,
           0,
           0,
           0,
           0,
           0,
           0,
           0,
           0,
           0,
           0,
           0,
           0,
           0,
           0,
           0,
           0,
           0,
           0,
           0,
           0,
           0,
           0,
           0,
           0,
           0,
           0,
           0,
           0,
           0,
           0,
           0,
           0,
           0,
           1,
           0,
           0,
           0,
           0,
           0,
           1,
           0,
           0,
           0,
           0,
           0,
           0,
           0,
           0,
           0,
           0,
           0,
           0,
           0,
           0,
           0,
           0,
           0,
           0,
           0,
           0,
           0,
           0,
           0,
           0,
           0,
           0,
           0,
           0,
           0,
           0,
           0,
           0,
           0,
           0,
           0,
           0,
           0,
           0,
           0,
           0,
           0,
           0,
           0,
           0,
           0,
           0,
           0,
           0,
           0,
           0,
           0,
           0,
           0,
           0,
           0,
           0,
           0,
           0,
           0,
           0,
           0,
           0,
           0,
           0,
           0,
           0,
           0,
           0,
           0,
           0,
           0,
           0,
           0,
           0,
           0,
           0,
           0,
           0,
           0,
           0,
           0,
           0,
           0,
           0,
           0,
           0,
           0,
           0,
           0,
           0,
           0,
           0,
           0,
           0,
           0,
           0,
           0,
           0,
           0,
           0,
           0,
           0,
           0,
           0,
           0,
           0,
           0,
           0,
           0,
           0,
           0,
           0,
           0,
           0,
           0,
           0,
           0,
           0,
           0,
           0,
           0,
           0,
           0,
           0,
           0,
           0,
           0,
           0,
           0,
           0,
           0,
           0,
           0,
           0,
           0,
           0,
           0,
           0,
           0,
           0,
           0,
           0,
           0,
           0,
           0,
           0,
           0,
           0,
           0,
           0,
           0,
           0,
           0,
           0,
           0,
           0,
           0,
           0,
           0,
           0,
           0,
           0,
           0,
           0,
           0,
           0,
           0,
           0,
           0,
           0,
           0,
           0,
           0,
           0,
           0,
           0,
           0,
           0,
           0,
           0,
           0,
           0,
           0,
           0,
           0,
           0,
           0,
           0,
           0,
           0,
           0,
           0,
           0,
           0,
           0,
           0,
           0,
           0,
           0,
           0,
           0,
           0,
           0,
           0,
           0,
           0,
           0,
           0,
           0,
           0,
           0,
           0,
           0,
           0,
           0,
           0,
           0,
           0,
           0,
           0,
           0,
           0,
           0,
           0,
           0,
           0,
           0,
           0,
           0,
           0,
           0,
           0,
           0,
           0,
           0,
           0,
           0,
           0,
           0,
           0,
           0,
           0,
           0,
           0,
           0,
           0,
           0,
           0,
           0,
           0,
           0,
           0,
           0,
           0,
           0,
           1,
           0,
           0,
           0,
           0,
           0,
           0,
           0,
           0,
           0,
           0,
           0,
           0,
           0,
           0,
           0,
           0,
           0,
           0,
           0,
           0,
           0,
           0,
           0,
           0,
           0,
           0,
           0,
           0,
           0,
           0,
           0,
           0,
           0,
           0,
           0,
           0,
           0,
           0,
           0,
           0,
           0,
           0,
           0,
           0,
           0,
           0,
           0,
           0,
           0,
           0,
           0,
           0,
           0,
           0,
           0,
           0,
           0,
           0,
           0,
           0,
           0,
           0,
           0,
           0,
           0,
           0,
           0,
           0,
           0,
           0,
           0,
           0,
           0,
           0,
           0,
           0,
           0,
           0,
           0,
           0,
           0,
           0,
           0,
           0,
           0,
           0,
           0,
           0,
           0,
           0,
           0,
           0,
           0,
           0,
           0,
           0,
           0,
           0,
           0,
           0,
           0,
           0,
           0,
           0,
           0,
           0,
           0,
           0,
           0,
           0,
           0,
           0,
           0,
           0,
           0,
           0,
           0,
           0,
           0,
           0,
           0,
           0,
           0,
           0,
           0,
           0,
           0,
           0,
           0,
           0,
           1,
           0,
           0,
           0,
           0,
           0,
           0,
           0,
           0,
           0,
           0,
           0,
           0,
           0,
           0,
           0,
           0,
           0,
           0,
           0,
           0,
           0,
           0,
           0,
           0,
           0,
           0,
           0,
           0,
           0,
           0,
           0,
           0,
           0,
           0,
           0,
           0,
           0,
           0,
           0,
           0,
           0,
           0,
           0,
           0,
           0,
           0,
           0,
           0,
           0,
           0,
           0,
           0,
           0,
           0,
           0,
           0,
           0,
           0,
           0,
           0,
           0,
           0,
           0,
           0,
           0,
           0,
           0,
           0,
           0,
           0,
           0,
           0,
           0,
           0,
           0,
           0,
           0,
           0,
           1,
           0,
           0,
           0,
           0,
           0,
           0,
           0,
           0,
           0,
           0,
           0,
           0,
           0,
           0,
           0,
           0,
           0,
           0,
           0,
           0,
           0,
           1,
           0,
           0,
           0,
           0,
           0,
           0,
           0,
           0,
           0,
           0,
           0,
           0,
           0,
           0,
           0,
           0,
           0,
           0,
           0,
           0,
           0,
           0,
           0,
           0,
           0,
           0,
           0,
           0,
           0,
           0,
           0,
           0,
           0,
           0,
           0,
           0,
           0,
           0,
           0,
           0,
           0,
           0,
           0,
           0,
           0,
           0,
           0,
           0,
           0,
           0,
           0,
           0,
           0,
           0,
           0,
           0,
           0,
           0,
           0,
           0,
           0,
           0,
           0,
           0,
           0,
           0,
           0,
           0,
           0,
           0,
           0,
           0,
           0,
           0,
           0,
           1,
           1,
           0,
           1,
           1,
           0,
           0,
           1,
           1,
           0,
           1,
           0,
           0,
           1,
           0,
           0,
           1,
           1,
           1,
           0,
           1,
           0,
           1,
           1,
           1,
           0,
           0,
           0,
           1,
           0,
           0,
           0,
           0,
           0,
           0,
           0,
           0,
           0,
           0,
           0,
           0,
           0,
           0,
           1,
           0,
           0,
           0,
           0,
           0,
           0,
           0,
           0,
           0,
           0,
           0,
           0,
           0,
           0,
           0,
           0,
           0,
           0,
           0,
           0,
           0,
           0,
           0,
           0,
           0,
           0,
           0,
           0,
           0,
           0,
           0,
           0,
           0,
           0,
           0,
           0,
           0,
           0,
           0,
           0,
           0,
           0,
           0,
           0,
           0,
           0,
           0,
           0,
           0,
           0,
           0,
           0,
           0,
           0,
           0,
           1,
           0,
           0,
           0,
           0,
           0,
           0,
           0,
           0,
           0,
           0,
           0,
           0,
           0,
           0,
           0,
           0,
           0,
           0,
           0,
           0,
           0,
           0,
           0,
           0,
           0,
           0,
           0,
           0,
           0,
           0,
           0,
           0,
           0,
           0,
           0,
           0,
           0,
           0,
           0,
           0,
           0,
           0,
           0,
           0,
           0,
           0,
           0,
           0,
           0,
           0,
           0,
           0,
           0,
           0,
           0,
           0,
           0,
           0,
           0,
           0,
           0,
           0,
           0,
           0,
           0,
           0,
           0,
           0,
           0,
           0,
           0,
           0,
           0,
           0,
           0,
           0,
           0,
           0,
           0,
           0,
           0,
           0,
           0,
           0,
           0,
           0,
           0,
           0,
           0,
           0,
           0,
           0,
           0,
           0,
           0,
           0,
           0,
           0,
           0,
           0,
           0,
           0,
           0,
           0,
           0,
           0,
           0,
           0,
           0,
           0,
           0,
           0,
           0,
           0,
           0,
           0,
           0,
           0,
           0,
           0,
           0,
           1,
           0,
           0,
           0,
           0,
           0,
           0,
           0,
           0,
           0,
           0,
           0,
           0,
           0,
           0,
           0,
           0,
           0,
           0,
           0,
           0,
           0,
           0,
           0,
           0,
           0,
           0,
           0,
           0,
           0,
           0,
           0,
           0,
           0,
           0,
           0,
           0,
           0,
           0,
           0,
           0,
           0,
           0,
           0,
           0,
           0,
           0,
           0,
           0,
           0,
           0,
           0,
           0,
           0,
           0,
           0,
           0,
           0,
           0,
           0,
           0,
           0,
           0,
           0,
           0,
           0,
           0,
           0,
           0,
           0,
           0,
           0,
           0,
           0,
           0,
           0,
           0,
           0,
           0
          ],
          "coloraxis": "coloraxis",
          "opacity": 0.7,
          "symbol": "circle"
         },
         "mode": "markers",
         "name": "",
         "orientation": "v",
         "showlegend": false,
         "type": "scatter",
         "x": [
          0.49591443,
          1.5489631,
          9.047976,
          9.361951,
          10.148083,
          8.126034,
          0.44464713,
          9.825672,
          0.62862486,
          -1.4336301,
          9.453173,
          10.305646,
          8.833868,
          0.1789088,
          9.350821,
          10.5086565,
          8.885968,
          -0.07064382,
          8.539636,
          9.621606,
          7.886939,
          0.4025119,
          9.528014,
          0.6761929,
          8.498726,
          0.47265154,
          10.191399,
          0.15809526,
          10.369341,
          9.9293785,
          0.57114136,
          1.7740661,
          0.11070553,
          9.535287,
          -0.014507271,
          0.39965647,
          -0.58958304,
          0.18336362,
          0.7148989,
          8.260303,
          -1.47564,
          9.797148,
          -0.94416887,
          8.131864,
          9.303137,
          10.508673,
          9.280585,
          0.69881886,
          10.29268,
          -0.87705624,
          9.600807,
          8.434072,
          -0.38296458,
          10.558367,
          8.288549,
          7.4459305,
          7.8570027,
          2.0633838,
          9.500451,
          9.254269,
          -0.06303482,
          0.12765689,
          10.8865385,
          9.612987,
          -1.1973842,
          9.035921,
          -0.60598904,
          -0.15376405,
          10.284972,
          8.707863,
          10.309794,
          9.849447,
          0.72373474,
          9.30274,
          -1.733377,
          -0.43248954,
          10.364327,
          10.335626,
          -2.31343,
          -2.1238456,
          -1.9604578,
          -0.378455,
          10.003658,
          0.49932826,
          0.8725358,
          1.7417059,
          -0.52814525,
          -0.38497522,
          1.7177086,
          0.2875469,
          -0.43210647,
          9.382155,
          -0.47534108,
          0.29445904,
          1.4500856,
          10.860108,
          -0.60346174,
          1.7515407,
          0.36991632,
          10.18004,
          0.92223424,
          -0.9343605,
          1.6426002,
          -0.85863906,
          10.813224,
          -1.6085713,
          -0.1504552,
          2.148367,
          -1.7288116,
          10.108212,
          -0.07993877,
          0.9044402,
          9.152615,
          -0.8192778,
          9.841425,
          -0.7116379,
          0.47078934,
          0.2805781,
          9.083295,
          0.20723881,
          -0.7794841,
          1.2382804,
          2.274748,
          -1.2013879,
          0.8768491,
          1.7033348,
          1.8765241,
          9.399524,
          1.2361635,
          1.7563798,
          1.1759477,
          -0.5680107,
          9.883045,
          1.0976015,
          -0.8799713,
          -0.22360352,
          9.679466,
          10.298056,
          1.730367,
          1.0805956,
          9.492203,
          0.28376904,
          -0.7832108,
          10.116126,
          0.17214547,
          -1.7710901,
          9.14506,
          -1.1232183,
          1.6923563,
          0.40828344,
          0.13474351,
          -0.87519616,
          1.8932788,
          -0.95451105,
          0.43038213,
          -0.5999206,
          -1.3172878,
          -1.3828033,
          -1.3771454,
          8.411153,
          0.3143557,
          -0.15063591,
          -1.5595033,
          -2.4684155,
          8.727913,
          -1.0259341,
          9.707994,
          9.927938,
          9.195516,
          0.5487004,
          -0.3480186,
          1.7866415,
          8.491067,
          9.255772,
          1.2011546,
          -0.7928545,
          8.438057,
          8.949246,
          1.7661833,
          10.072382,
          1.6201289,
          8.72639,
          1.7430145,
          9.966313,
          9.901608,
          0.3342456,
          9.35042,
          0.6273024,
          -1.6261293,
          -0.81933707,
          -1.1960486,
          10.22668,
          9.375475,
          9.3217325,
          -0.15938503,
          0.5874945,
          1.8277678,
          2.4356182,
          0.75960153,
          0.9781934,
          1.1772268,
          0.709841,
          1.48921,
          10.061224,
          9.161706,
          1.7686107,
          -2.3141227,
          1.342763,
          8.763876,
          1.811958,
          1.0551062,
          9.297004,
          10.436425,
          -0.3074161,
          1.3382187,
          1.6249486,
          1.7276831,
          10.419255,
          10.812063,
          1.1273991,
          9.293581,
          1.3280764,
          10.089099,
          -1.8946323,
          -0.26707527,
          -2.2481823,
          -1.235626,
          -1.628225,
          -1.0082092,
          8.660895,
          0.5580637,
          -0.7370167,
          10.134436,
          10.125213,
          0.08307165,
          1.4450547,
          1.2692074,
          -0.8034257,
          9.51912,
          8.820662,
          1.4460664,
          2.1047485,
          8.885912,
          0.45092708,
          9.650684,
          -0.48137352,
          -1.1307622,
          -1.9428436,
          -1.1607469,
          9.675305,
          -0.5711011,
          1.2892427,
          9.6249895,
          -0.11163944,
          -1.652806,
          0.58590734,
          0.26604733,
          0.011723543,
          8.706208,
          0.28032345,
          8.99957,
          -0.12256188,
          10.051343,
          1.283143,
          -0.6723177,
          0.7517178,
          10.390504,
          0.09588061,
          -1.7639292,
          2.5239403,
          2.2527826,
          1.3408992,
          -0.41676894,
          8.92623,
          8.486944,
          -1.0824611,
          10.760664,
          10.284721,
          2.006594,
          -1.635226,
          -1.2352586,
          8.965828,
          -1.5497642,
          -0.06500041,
          9.747473,
          1.8779085,
          -0.34116396,
          1.4648914,
          -0.30606332,
          0.88357586,
          0.19702323,
          2.0372643,
          -0.04723789,
          1.385529,
          0.41723266,
          9.173539,
          8.951166,
          -2.4427292,
          0.362546,
          0.24407409,
          1.5962712,
          0.09530509,
          10.429677,
          9.76363,
          8.819029,
          -1.5741842,
          2.1235018,
          -1.4217731,
          -1.4170463,
          9.890675,
          9.877491,
          -1.2846496,
          8.761499,
          8.846127,
          1.8510728,
          0.5341174,
          0.5171758,
          0.68017703,
          -1.7489029,
          1.4759291,
          1.6547037,
          -0.7904989,
          9.898546,
          1.5212399,
          -1.0829996,
          0.15397806,
          10.531936,
          10.3354845,
          9.354221,
          8.80669,
          0.18988983,
          10.421652,
          -0.3844301,
          -0.63276297,
          -0.5122715,
          10.166488,
          1.7193557,
          -0.2556686,
          9.520601,
          10.076214,
          -0.26252514,
          -1.610091,
          8.945928,
          -0.9506381,
          9.919742,
          9.668807,
          1.0555232,
          -1.3639059,
          9.388124,
          10.441995,
          1.228579,
          -0.50125647,
          0.36087298,
          1.3457712,
          -0.35371637,
          -1.6077546,
          0.56115437,
          1.3898416,
          10.710085,
          0.42422056,
          1.6334224,
          1.7850618,
          0.38114533,
          -1.3459538,
          9.83126,
          -1.5755979,
          10.413508,
          0.1503022,
          -0.14713386,
          2.1561904,
          -0.84698087,
          1.4498596,
          10.359284,
          9.167666,
          9.969305,
          -1.0625138,
          -1.6009512,
          8.906493,
          1.4350843,
          0.21895646,
          8.729389,
          0.8278005,
          -1.3859502,
          -1.3117899,
          1.660032,
          -0.57267773,
          -0.052231375,
          0.03928608,
          1.1601958,
          0.90772104,
          -0.670906,
          -0.57507235,
          -0.39692637,
          -0.90650827,
          0.2549979,
          1.4433185,
          -1.5913221,
          9.727446,
          0.22963218,
          -1.4749755,
          0.3759454,
          -0.28273532,
          -1.1177732,
          1.6740481,
          10.046751,
          0.50026727,
          9.261266,
          0.7389937,
          8.479222,
          2.356886,
          1.00919,
          0.056782324,
          10.845318,
          -1.6408715,
          2.012055,
          -0.8517887,
          -0.6619258,
          1.1763672,
          10.3459015,
          9.73271,
          0.9519314,
          0.29442567,
          1.3676138,
          1.489396,
          9.285571,
          -0.53032106,
          0.62918806,
          8.863006,
          0.77211857,
          10.353072,
          -0.6061169,
          0.33869806,
          0.28863442,
          8.983364,
          10.265201,
          0.68832153,
          0.01890318,
          10.24374,
          -1.7431103,
          9.149547,
          -1.5820978,
          -2.3378432,
          9.409885,
          10.632871,
          1.3350679,
          8.380418,
          10.397304,
          -1.058145,
          9.495688,
          9.127226,
          -0.4646293,
          9.793515,
          -1.1908907,
          -1.6785269,
          9.126383,
          1.6093676,
          1.0174989,
          9.571459,
          -2.1414275,
          -1.3204099,
          1.6578033,
          9.506029,
          -0.64704394,
          -1.7374365,
          0.80424744,
          -0.4405828,
          -1.7218057,
          10.324926,
          -0.9598678,
          9.214568,
          -0.98498404,
          -0.27877218,
          -0.5764083,
          -0.6141926,
          -0.8302701,
          -0.1627518,
          0.669345,
          8.555507,
          0.17002173,
          0.9388636,
          -1.4882303,
          -0.11623823,
          8.8296,
          10.4286375,
          0.46325094,
          10.513012,
          1.7363985,
          0.70996106,
          -0.122041084,
          8.796975,
          -1.7135,
          9.110552,
          8.342719,
          10.491041,
          9.055537,
          9.184319,
          2.382882,
          8.4678955,
          -0.7372193,
          0.4386655,
          1.7424349,
          0.4566452,
          0.2555877,
          1.613047,
          0.6979867,
          8.832171,
          -1.9727811,
          -1.3222305,
          0.67321813,
          8.755787,
          10.186077,
          -1.4430526,
          2.27499,
          9.974594,
          -2.3987646,
          -1.1204535,
          -0.7512574,
          -2.0513983,
          1.2317897,
          2.266308,
          0.8024416,
          10.072403,
          8.665981,
          9.4067955,
          10.819897,
          0.21072811,
          -0.9942875,
          0.124408744,
          1.168246,
          0.62525827,
          1.6839567,
          10.340441,
          8.563376,
          -0.7611792,
          8.878573,
          9.731258,
          1.8273258,
          10.160989,
          0.41423035,
          2.5503051,
          1.4447004,
          8.608406,
          1.220319,
          1.5898135,
          -1.1360849,
          9.593422,
          -1.7786381,
          9.0280905,
          9.092709,
          -1.4789611,
          -0.8647649,
          -0.23603083,
          10.11894,
          -1.4554983,
          -0.993985,
          0.97823995,
          8.520823,
          -1.7448045,
          10.462112,
          0.62996966,
          10.593117,
          10.888939,
          -1.0687402,
          8.998142,
          -0.027618457,
          -2.3841093,
          -0.8783725,
          0.5737265,
          9.475071,
          8.960725,
          0.55322856,
          9.054701,
          9.885536,
          10.489066,
          1.8211755,
          10.057863,
          0.9342074,
          -0.32081524,
          -0.0024073725,
          -0.80792016,
          0.8597269,
          -1.2550491,
          9.138227,
          0.9911918,
          -1.469331,
          -2.1476548,
          0.46348315,
          -0.564561,
          -0.09877695,
          10.448186,
          -0.0072490284,
          -1.3647585,
          0.56842244,
          10.008416,
          0.6706057,
          -0.7838747,
          9.838833,
          10.457161,
          8.71396,
          10.650205,
          9.709183,
          1.0382595,
          8.805886,
          0.40200737,
          8.612519,
          1.7281644,
          10.159747,
          10.689768,
          0.26476645,
          1.6182712,
          8.590715,
          0.050728448,
          0.89985526,
          -0.08392458,
          -1.4486495,
          -1.0931789,
          1.7387944,
          1.7042525,
          0.66056705,
          0.37667507,
          0.40718123,
          -0.48397434,
          -0.6591152,
          0.88682413,
          9.330258,
          10.106337,
          0.42980203,
          10.016814,
          0.74185073,
          -1.792968,
          -0.19111319,
          2.4104364,
          -1.8573523,
          9.983643,
          0.4440082,
          0.33014563,
          0.027683776,
          0.33851957,
          9.1381855,
          0.3092689,
          9.103074,
          1.8708473,
          0.53045624,
          0.19784118,
          10.320132,
          -1.6065134,
          9.084799,
          -0.65483534,
          9.047022,
          -0.50075144,
          -1.1759152,
          -0.86077946,
          1.0732958,
          9.825049,
          -0.72702193,
          1.8333668,
          10.171397,
          -0.12353923,
          0.34207216,
          10.220011,
          10.261151,
          -0.45557928,
          0.78180087,
          0.4204342,
          8.808253,
          1.2927878,
          10.204575,
          1.0866392,
          2.3896942,
          -0.9040544,
          1.1305853,
          -1.5662311,
          -0.7183421,
          0.35248864,
          8.379233,
          -1.016652,
          1.7970381,
          9.015193,
          9.020672,
          0.9857289,
          9.201677,
          -0.9748984,
          -0.41989082,
          8.488536,
          -1.2219083,
          -0.8568513,
          -1.9420763,
          -1.4078193,
          9.317585,
          10.077173,
          9.272676,
          9.316519,
          10.855116,
          1.0796033,
          9.350396,
          8.556301,
          0.28608996,
          -2.275012,
          -1.3902231,
          9.149736,
          1.5677503,
          -2.3127496,
          0.0559147,
          10.4478855,
          -1.4188639,
          1.34587,
          9.56799,
          9.858526,
          0.36859974,
          8.275956,
          9.366304,
          -1.3795496,
          0.29943043,
          2.1492753,
          0.1515006,
          8.19828,
          8.037901,
          10.484539,
          0.413032,
          -0.081983596,
          8.688688,
          0.14178139,
          1.8518784,
          8.442547,
          1.2857919,
          -0.105075106,
          8.863207,
          8.63791,
          9.895403,
          8.141097,
          1.1889366,
          10.452384,
          0.30315548,
          0.5273668,
          0.95062864,
          9.178656,
          -0.42869586,
          -2.1133103,
          -2.3721824,
          8.567233,
          0.47874722,
          -0.12439544,
          -0.1664843,
          8.468237,
          0.25373307,
          -2.3711076,
          -0.9235253,
          9.087146,
          9.435631,
          10.382813,
          1.6396958,
          10.234685,
          1.1043785,
          -0.10791874,
          -1.312503,
          9.154015,
          -2.0959952,
          -0.035975676,
          10.083471,
          -1.37232,
          10.009345,
          -0.67148566,
          -0.8529013,
          -0.5469937,
          0.47793338,
          0.19605428,
          0.38736165,
          10.290857,
          0.83038104,
          10.27418,
          -1.959763,
          0.14018111,
          0.57559645,
          0.6521504,
          0.08765317,
          -1.3547659,
          0.6907788,
          1.5793265,
          -1.8126943,
          -0.10120303,
          -0.7912498,
          0.48431477,
          1.7737889,
          0.028862981,
          -2.0443656,
          10.142144,
          -0.40344244,
          8.464597,
          -2.4004147,
          -2.2786107,
          10.052937,
          -1.1912079,
          8.648094,
          -1.6913705,
          0.030693771,
          1.7486608,
          -1.0637937,
          9.445517,
          -1.0055953,
          -1.1797116,
          1.0786569,
          0.6098641,
          1.2325293,
          1.6338272,
          8.845897,
          -1.0051365,
          -1.1413759,
          1.2695488,
          9.5374365,
          -0.68654054,
          10.105021,
          8.285939,
          -1.68145,
          0.9194578,
          1.819807,
          9.422866,
          1.5533397,
          10.089912,
          8.42348,
          9.38947,
          8.955589,
          8.884181,
          -2.4182816,
          1.6210988,
          1.9857851,
          -0.038855452,
          9.462096,
          -2.1864972,
          -0.56155115,
          10.538239,
          0.99559844,
          0.24760497,
          10.846196,
          8.368828,
          9.551979,
          8.680479,
          10.602484,
          10.216573,
          9.014217,
          -0.9200546,
          -0.96917427,
          -0.74410653,
          9.683759,
          1.9597659,
          0.5202885,
          8.520387,
          2.0427513,
          -0.9781255,
          -0.05848006,
          0.8132374,
          8.443147,
          0.9154214,
          -0.9654348,
          -0.87170815,
          1.2306553,
          2.4375145,
          1.3641322,
          9.363206,
          -2.3294635,
          8.622776,
          0.7373978,
          -2.0389857,
          0.7633931,
          -0.9533349,
          2.2149212,
          10.233662,
          0.3702773,
          -2.3182828,
          8.639236,
          0.3010391,
          9.335289,
          -0.830176,
          -0.4353599,
          -0.14097778,
          1.1111649,
          -0.5635575,
          -0.36498535,
          1.7432024,
          0.1929625,
          8.971137,
          0.16992344,
          -1.3184769,
          -1.523369,
          10.137454,
          9.815691,
          9.14452,
          -0.14197019,
          0.079716854,
          0.2537718,
          8.379917,
          10.139481,
          9.916438,
          9.257065,
          -1.511455,
          9.910276,
          -0.46876466,
          -0.34381065,
          -0.6691169,
          1.1847675,
          0.9992915,
          1.407133,
          -0.22259864,
          -1.3186479,
          10.158248,
          -1.2287227,
          10.012482,
          9.079704,
          1.8141105,
          9.270654,
          -1.8184319,
          0.7133691,
          -0.3842474,
          -0.68018794,
          -1.7278013,
          8.610182,
          10.115413,
          0.32483754,
          2.0416117,
          9.342121,
          9.175575,
          0.9114618,
          9.818836,
          0.40094945,
          -1.4486226,
          2.5215962,
          0.13199197,
          1.3325201,
          0.22604306,
          0.6224291,
          2.4827561,
          10.200999,
          -0.6147943,
          -0.4677357,
          10.308357,
          9.727511,
          10.132115,
          -0.5787704,
          9.049252,
          1.6496075,
          9.067146,
          9.228816,
          1.0399492,
          -2.3485854,
          8.5587015,
          -1.7209291,
          8.967181,
          -1.827876,
          -0.95022154,
          1.8586922,
          1.2682256,
          0.15485711,
          0.71733975,
          10.04523,
          10.10241,
          0.24964821,
          -0.65266687,
          9.267286,
          9.671109,
          8.366104,
          1.6951591,
          -0.10308329,
          0.12981267,
          9.000775,
          -2.0677364,
          -0.05727795,
          -1.3348138,
          1.2775851,
          -1.3899422,
          8.664852,
          -0.40994656,
          10.777468,
          -0.88038033,
          -0.24616595,
          10.097921,
          -1.7482637,
          0.35444742,
          0.72607243,
          10.503009,
          0.36215207,
          8.438964,
          8.658814,
          0.8608158,
          -2.3541944,
          0.2488135,
          10.495774,
          -0.36475506,
          1.6543341,
          8.84673,
          9.036922,
          10.528641,
          8.50496,
          -1.6373283,
          -1.6748655,
          9.014921,
          9.278439,
          0.08939618,
          0.17155173,
          -2.3793144,
          8.943032,
          10.563707
         ],
         "xaxis": "x",
         "y": [
          4.9452662,
          10.860769,
          6.073938,
          10.453903,
          6.119201,
          9.969039,
          11.584001,
          10.20811,
          7.9000564,
          5.0790277,
          11.221219,
          6.8733587,
          10.552197,
          8.713044,
          7.148318,
          9.368019,
          10.830801,
          10.002874,
          6.9378524,
          9.739027,
          9.984968,
          4.1456165,
          6.694039,
          7.93731,
          8.958512,
          4.233172,
          7.089408,
          8.6984215,
          8.200588,
          8.530186,
          8.302258,
          11.33477,
          8.520051,
          8.203133,
          7.938555,
          4.1568747,
          9.950189,
          8.6782675,
          4.304351,
          10.017662,
          10.564486,
          8.520887,
          9.657711,
          8.931972,
          8.028664,
          9.514495,
          8.098564,
          7.9538894,
          7.0585613,
          10.703307,
          10.989771,
          7.2529397,
          8.3456135,
          9.421561,
          9.718543,
          9.875015,
          10.138113,
          10.907679,
          8.2716,
          6.684071,
          7.963455,
          9.755014,
          9.168133,
          8.766159,
          9.607137,
          7.890542,
          9.408762,
          9.709569,
          6.8353457,
          9.8246155,
          8.390672,
          10.174838,
          4.4541636,
          10.809485,
          3.8020961,
          4.321432,
          6.7722397,
          8.993421,
          3.96213,
          4.51185,
          4.4533625,
          3.8262534,
          6.7687902,
          9.625842,
          11.145437,
          10.132861,
          10.371419,
          10.994827,
          8.256801,
          3.6588602,
          4.160184,
          11.291075,
          9.443691,
          11.252904,
          11.775462,
          9.082423,
          8.917951,
          9.881711,
          9.798535,
          6.7209535,
          4.3503056,
          10.735486,
          9.938113,
          8.406635,
          9.42861,
          5.3701515,
          9.34335,
          10.5150795,
          3.9281323,
          8.842629,
          3.5920918,
          4.23021,
          11.49017,
          4.369299,
          5.9173784,
          3.3137617,
          11.844707,
          11.146704,
          10.681728,
          10.251572,
          3.266656,
          8.196462,
          10.250863,
          9.94558,
          9.465054,
          10.675942,
          11.603797,
          10.379272,
          10.864756,
          10.469222,
          7.8967066,
          8.68243,
          10.8962145,
          11.395008,
          10.948403,
          4.9496884,
          6.3565497,
          10.617343,
          10.829431,
          8.907269,
          10.806724,
          3.709861,
          8.248667,
          6.252097,
          10.268397,
          5.0151496,
          10.432342,
          10.529377,
          10.928901,
          8.974945,
          3.5408597,
          3.765308,
          8.89785,
          8.187087,
          4.1965413,
          9.219667,
          9.699852,
          10.431451,
          3.7054684,
          10.534207,
          11.956106,
          8.031845,
          3.2656898,
          4.0857725,
          10.193752,
          10.761055,
          10.823845,
          8.298642,
          6.870011,
          9.564405,
          9.329293,
          9.79053,
          9.401009,
          6.077605,
          9.005301,
          10.897337,
          9.663329,
          6.0579324,
          11.043148,
          10.573154,
          8.883779,
          9.397205,
          11.470847,
          8.644041,
          8.388556,
          11.889328,
          8.743756,
          7.8396053,
          4.772256,
          3.7986958,
          10.463292,
          6.1124287,
          11.269248,
          5.908933,
          11.432216,
          11.64831,
          8.982828,
          10.280354,
          4.1937456,
          9.354128,
          8.070109,
          9.004374,
          11.796715,
          6.7631454,
          5.9482,
          11.488486,
          4.5931764,
          8.065931,
          9.6840515,
          11.146919,
          9.050776,
          8.891857,
          8.796351,
          3.3883684,
          8.179826,
          8.53519,
          10.93519,
          9.232455,
          8.98179,
          8.718187,
          5.8943276,
          10.215106,
          6.666588,
          3.915733,
          11.37627,
          4.6703362,
          9.605672,
          4.788107,
          10.957174,
          8.719392,
          11.596198,
          9.638964,
          10.566947,
          10.559757,
          10.604919,
          10.251451,
          10.583277,
          3.8591347,
          10.3471985,
          6.0475483,
          8.128592,
          9.564572,
          6.324468,
          10.945621,
          9.940047,
          11.103908,
          4.6803064,
          3.38506,
          9.501694,
          6.527833,
          7.8385215,
          9.181186,
          10.2769575,
          7.9844875,
          5.4444747,
          8.129187,
          4.9129605,
          11.018176,
          8.73004,
          10.423105,
          6.279693,
          7.852882,
          6.0569115,
          8.994413,
          8.06616,
          10.738816,
          10.518685,
          11.625004,
          3.910312,
          9.776622,
          10.221333,
          11.704892,
          4.563301,
          6.2244854,
          10.299817,
          8.640107,
          9.02617,
          6.172697,
          10.37956,
          4.745783,
          9.674974,
          6.2885804,
          5.0312867,
          4.882333,
          5.974688,
          10.242119,
          10.0542345,
          10.331232,
          11.148882,
          4.511468,
          3.5495503,
          10.689811,
          9.27477,
          10.339947,
          9.706749,
          11.235585,
          10.135454,
          4.153086,
          9.1278925,
          4.8278203,
          10.429141,
          11.104683,
          8.561375,
          9.993906,
          9.764785,
          3.4105997,
          9.790181,
          3.439286,
          10.47848,
          8.419041,
          8.361157,
          10.349244,
          9.145374,
          6.0696507,
          8.706673,
          4.763891,
          9.537932,
          11.23145,
          3.556614,
          11.757814,
          10.376363,
          4.3823752,
          10.391327,
          9.941064,
          3.3250926,
          4.382341,
          10.162702,
          10.400885,
          7.1423974,
          9.942522,
          11.668527,
          9.230839,
          8.077061,
          8.879532,
          10.921142,
          6.825172,
          10.554708,
          5.026334,
          8.861238,
          9.054869,
          4.980099,
          4.900226,
          10.658051,
          8.30798,
          10.165106,
          6.9548354,
          11.427914,
          10.792756,
          10.408167,
          9.26172,
          9.125811,
          4.729711,
          10.421605,
          11.718521,
          10.104242,
          4.8484874,
          8.183158,
          10.115082,
          8.81916,
          4.162777,
          10.754417,
          9.983028,
          7.9896317,
          10.240084,
          10.4490185,
          3.224642,
          8.801878,
          11.312271,
          11.095262,
          10.660345,
          9.758708,
          8.132663,
          6.5473285,
          7.363669,
          10.405667,
          9.504682,
          3.488881,
          9.955365,
          11.793487,
          3.8611584,
          10.53487,
          8.498415,
          3.9357498,
          4.451289,
          10.539478,
          8.94312,
          9.264457,
          9.223252,
          9.208254,
          4.0383687,
          10.109645,
          8.888659,
          4.3373833,
          3.854078,
          10.470338,
          11.677324,
          5.3819094,
          9.979405,
          4.3847175,
          4.719917,
          9.95783,
          9.706937,
          10.440322,
          11.570593,
          9.881705,
          11.793183,
          6.469679,
          8.218498,
          10.660301,
          10.164338,
          10.531397,
          3.8167372,
          8.984493,
          3.3323317,
          10.557753,
          9.679963,
          10.909787,
          10.898679,
          10.523572,
          7.0888414,
          4.075546,
          9.402838,
          10.250601,
          10.579951,
          6.9775414,
          11.090852,
          11.450548,
          9.901629,
          4.6268673,
          6.7275486,
          3.3848767,
          11.8966255,
          9.8009405,
          10.023392,
          8.247001,
          9.142233,
          10.685064,
          6.679805,
          3.8452,
          5.9902,
          5.310087,
          3.9453182,
          5.9497433,
          6.820033,
          8.2979145,
          9.663935,
          8.459019,
          8.609697,
          6.601734,
          9.754313,
          9.862688,
          6.3328743,
          9.791401,
          3.427447,
          11.462606,
          11.728127,
          8.768651,
          6.3440857,
          3.8692636,
          4.0735636,
          10.616896,
          6.138637,
          10.024264,
          4.396262,
          8.497196,
          4.1031904,
          4.0605307,
          8.586001,
          10.891219,
          6.737849,
          3.3376834,
          9.731289,
          10.410965,
          4.6142144,
          9.572739,
          11.511184,
          11.608607,
          9.624514,
          5.1928806,
          10.596608,
          10.326962,
          9.804908,
          9.775079,
          6.727728,
          11.939217,
          6.703385,
          9.389527,
          4.575683,
          5.0194736,
          6.060585,
          3.327646,
          11.320855,
          9.084571,
          8.39396,
          6.466141,
          10.266535,
          10.277442,
          10.71676,
          8.355514,
          3.9373357,
          10.875155,
          8.60007,
          4.200559,
          8.259945,
          4.7727323,
          6.0520763,
          3.7726276,
          10.596632,
          4.5065985,
          9.253025,
          6.0727706,
          10.546913,
          9.689919,
          9.092998,
          4.072744,
          8.711603,
          8.042115,
          3.7828612,
          9.002865,
          9.871298,
          4.157127,
          7.393321,
          8.786605,
          7.222202,
          8.98801,
          11.767001,
          4.751369,
          11.181529,
          9.100239,
          4.6861453,
          9.872772,
          8.8695,
          10.740976,
          9.628683,
          11.250113,
          8.479206,
          11.397578,
          6.596844,
          5.824484,
          9.999906,
          9.48571,
          9.975843,
          10.416034,
          10.957467,
          10.937881,
          10.912516,
          5.1854677,
          10.301858,
          10.128193,
          5.0711403,
          8.590523,
          4.7931848,
          6.48311,
          3.710977,
          8.588491,
          10.292395,
          10.720889,
          3.7901742,
          10.274676,
          8.415301,
          6.769537,
          8.88822,
          8.674056,
          10.924771,
          10.165628,
          4.4440994,
          10.434785,
          8.663392,
          10.178991,
          11.30772,
          4.8761873,
          11.394212,
          9.96152,
          9.180565,
          10.964585,
          8.35849,
          10.906965,
          11.105979,
          4.9183397,
          3.2638981,
          4.157915,
          3.3248801,
          6.9440317,
          11.120098,
          10.404462,
          4.676063,
          4.691097,
          9.3119135,
          11.542468,
          8.851744,
          9.764703,
          9.744292,
          7.9074707,
          9.880946,
          8.0791855,
          8.234912,
          10.205471,
          8.757862,
          9.660602,
          6.7557354,
          10.737887,
          8.216766,
          9.112289,
          11.7119665,
          9.946331,
          10.9483,
          10.182906,
          9.205229,
          10.19354,
          10.244422,
          8.769895,
          3.5573778,
          4.0113535,
          4.8324046,
          4.821615,
          8.905744,
          8.649624,
          8.246339,
          9.573889,
          4.764065,
          7.892633,
          8.363302,
          7.9292626,
          8.661891,
          7.1391716,
          9.929312,
          11.912085,
          6.0112,
          8.303329,
          4.4219275,
          7.5304914,
          10.180518,
          3.6124017,
          7.035347,
          3.8004072,
          5.6442285,
          3.6417184,
          7.9671683,
          11.470324,
          8.136808,
          6.0482845,
          11.148199,
          11.655457,
          3.8305552,
          9.165367,
          3.2195213,
          6.5114474,
          4.766748,
          8.615888,
          4.564668,
          9.591304,
          10.434186,
          8.497667,
          10.84492,
          10.949081,
          11.302521,
          6.7241817,
          4.8624954,
          8.72337,
          8.8176155,
          8.348097,
          8.430704,
          8.136317,
          4.9220877,
          10.126556,
          10.813321,
          10.358221,
          11.444849,
          10.444155,
          10.756398,
          8.876963,
          4.981946,
          8.024391,
          8.313389,
          10.298308,
          8.933078,
          11.173479,
          11.386828,
          10.090144,
          11.426562,
          6.9348645,
          9.673677,
          4.8341565,
          9.44777,
          8.789713,
          10.761025,
          5.080634,
          10.698687,
          11.36044,
          8.356773,
          9.262427,
          8.723551,
          8.862056,
          9.179204,
          11.38485,
          10.72633,
          4.107573,
          4.5945497,
          3.8393803,
          8.498059,
          8.331806,
          4.7708635,
          8.628044,
          8.27617,
          4.795378,
          11.899709,
          11.048927,
          9.198643,
          7.6265144,
          8.880297,
          8.1002865,
          10.21892,
          9.626834,
          9.219795,
          9.272069,
          10.394078,
          9.97768,
          9.520422,
          9.429638,
          9.358977,
          6.6944947,
          11.617815,
          9.381302,
          7.5486703,
          9.026679,
          8.6465225,
          9.489625,
          10.661485,
          10.484794,
          9.900273,
          9.243051,
          6.75176,
          8.198712,
          9.219563,
          8.663516,
          11.462702,
          3.3898084,
          4.010835,
          4.1244135,
          8.700826,
          8.887218,
          4.757349,
          4.785082,
          8.920336,
          4.3321486,
          4.222163,
          3.274452,
          11.411842,
          6.260004,
          8.397232,
          10.881017,
          6.4717097,
          11.880075,
          11.451702,
          9.720355,
          5.9808226,
          4.5559206,
          7.9151516,
          9.128285,
          10.704245,
          8.490377,
          7.9287305,
          9.435062,
          10.926815,
          4.8389916,
          11.548836,
          11.751043,
          6.2171745,
          11.215974,
          6.1123047,
          4.608091,
          5.2421646,
          8.08155,
          11.514998,
          4.4659877,
          10.01101,
          8.34558,
          8.352389,
          3.6785347,
          4.5906177,
          3.4748812,
          11.8289995,
          9.806024,
          3.510446,
          3.5360548,
          8.473241,
          8.002154,
          10.258451,
          4.320406,
          4.8297133,
          9.951392,
          4.4678116,
          8.789425,
          3.5577738,
          11.550797,
          11.427164,
          9.475031,
          6.496266,
          3.4193492,
          10.419953,
          8.414855,
          8.447873,
          9.038518,
          10.95989,
          6.014696,
          10.781962,
          8.636816,
          10.126253,
          10.9535675,
          9.6969795,
          6.6069336,
          9.181349,
          3.523314,
          4.0640397,
          9.88997,
          6.695131,
          9.923302,
          9.788179,
          9.612116,
          10.445566,
          10.943981,
          6.1311965,
          4.13812,
          10.049802,
          9.434019,
          10.750009,
          10.98491,
          4.2949176,
          4.2790623,
          8.843276,
          10.27173,
          4.1050954,
          9.057127,
          9.036611,
          6.2910876,
          9.880997,
          6.6902165,
          6.1173887,
          11.000909,
          8.484795,
          3.3531961,
          8.351098,
          10.516745,
          10.437527,
          11.312899,
          10.78421,
          9.793917,
          3.377391,
          3.5031054,
          9.49362,
          10.693211,
          3.9814332,
          8.396754,
          3.38316,
          9.179644,
          9.843999,
          8.846295,
          11.046657,
          4.5199685,
          8.763473,
          4.2789364,
          4.5810423,
          8.348395,
          3.3028944,
          9.716938,
          10.565996,
          11.278112,
          4.756452,
          10.042796,
          3.6755743,
          10.461006,
          8.643269,
          10.535452,
          3.3999062,
          11.872245,
          9.381489,
          8.470191,
          8.504436,
          5.227803,
          6.2055225,
          3.5561607,
          3.3447392,
          4.9754796,
          10.222351,
          9.958878,
          11.480963,
          4.5084157,
          9.366628,
          4.8635545,
          8.932647,
          6.598737,
          8.445896,
          7.0427012,
          5.020659,
          8.617246,
          3.8855858,
          4.7906713,
          10.996237,
          9.063516,
          9.66001,
          10.198967,
          7.9521027,
          9.489696,
          9.8638735,
          3.2172937,
          6.782843,
          10.190939,
          11.307276,
          7.056792,
          3.7728934,
          10.135596,
          9.401715,
          9.435442,
          3.8221943,
          8.812219,
          6.001314,
          5.231364,
          10.2368765,
          11.116041,
          11.507234,
          4.073123,
          10.761244,
          10.04581,
          4.6709943,
          9.850242,
          3.4664204,
          11.625147,
          5.229213,
          9.10451,
          9.9613695,
          6.0897694,
          8.672547,
          10.306968,
          8.371465,
          10.060517,
          6.91099,
          9.061646,
          6.181468,
          10.927563,
          11.072847,
          6.637991,
          7.873456,
          4.0346804,
          10.826704,
          3.3799896,
          8.719171,
          3.3009498,
          4.3718567,
          10.335363,
          11.68892,
          5.2522197,
          8.326543,
          9.871469,
          10.491393,
          8.892219,
          10.88086,
          11.443227,
          9.03002,
          9.03508,
          8.252767,
          11.520261,
          9.312819,
          6.114768,
          3.7549367,
          4.924886,
          10.61927,
          10.338811,
          3.7940724,
          8.796323,
          8.122449,
          8.979446,
          3.3942635,
          5.0136757,
          6.016347,
          4.699517,
          11.108611,
          10.644316,
          9.143148,
          8.135473,
          10.257579,
          8.727069,
          4.2707176,
          4.372078,
          11.732937,
          9.082406,
          9.551912,
          8.330022,
          10.113056,
          11.256402,
          6.6373687,
          10.359134,
          3.5549586,
          3.3144748,
          6.2057004,
          9.07522,
          5.1272626,
          10.309395,
          4.352499,
          10.012822,
          6.688941
         ],
         "yaxis": "y"
        }
       ],
       "layout": {
        "coloraxis": {
         "colorbar": {
          "title": {
           "text": "Anomaly"
          }
         },
         "colorscale": [
          [
           0,
           "#0d0887"
          ],
          [
           0.1111111111111111,
           "#46039f"
          ],
          [
           0.2222222222222222,
           "#7201a8"
          ],
          [
           0.3333333333333333,
           "#9c179e"
          ],
          [
           0.4444444444444444,
           "#bd3786"
          ],
          [
           0.5555555555555556,
           "#d8576b"
          ],
          [
           0.6666666666666666,
           "#ed7953"
          ],
          [
           0.7777777777777778,
           "#fb9f3a"
          ],
          [
           0.8888888888888888,
           "#fdca26"
          ],
          [
           1,
           "#f0f921"
          ]
         ]
        },
        "height": 800,
        "legend": {
         "tracegroupgap": 0
        },
        "template": {
         "data": {
          "bar": [
           {
            "error_x": {
             "color": "#2a3f5f"
            },
            "error_y": {
             "color": "#2a3f5f"
            },
            "marker": {
             "line": {
              "color": "#E5ECF6",
              "width": 0.5
             },
             "pattern": {
              "fillmode": "overlay",
              "size": 10,
              "solidity": 0.2
             }
            },
            "type": "bar"
           }
          ],
          "barpolar": [
           {
            "marker": {
             "line": {
              "color": "#E5ECF6",
              "width": 0.5
             },
             "pattern": {
              "fillmode": "overlay",
              "size": 10,
              "solidity": 0.2
             }
            },
            "type": "barpolar"
           }
          ],
          "carpet": [
           {
            "aaxis": {
             "endlinecolor": "#2a3f5f",
             "gridcolor": "white",
             "linecolor": "white",
             "minorgridcolor": "white",
             "startlinecolor": "#2a3f5f"
            },
            "baxis": {
             "endlinecolor": "#2a3f5f",
             "gridcolor": "white",
             "linecolor": "white",
             "minorgridcolor": "white",
             "startlinecolor": "#2a3f5f"
            },
            "type": "carpet"
           }
          ],
          "choropleth": [
           {
            "colorbar": {
             "outlinewidth": 0,
             "ticks": ""
            },
            "type": "choropleth"
           }
          ],
          "contour": [
           {
            "colorbar": {
             "outlinewidth": 0,
             "ticks": ""
            },
            "colorscale": [
             [
              0,
              "#0d0887"
             ],
             [
              0.1111111111111111,
              "#46039f"
             ],
             [
              0.2222222222222222,
              "#7201a8"
             ],
             [
              0.3333333333333333,
              "#9c179e"
             ],
             [
              0.4444444444444444,
              "#bd3786"
             ],
             [
              0.5555555555555556,
              "#d8576b"
             ],
             [
              0.6666666666666666,
              "#ed7953"
             ],
             [
              0.7777777777777778,
              "#fb9f3a"
             ],
             [
              0.8888888888888888,
              "#fdca26"
             ],
             [
              1,
              "#f0f921"
             ]
            ],
            "type": "contour"
           }
          ],
          "contourcarpet": [
           {
            "colorbar": {
             "outlinewidth": 0,
             "ticks": ""
            },
            "type": "contourcarpet"
           }
          ],
          "heatmap": [
           {
            "colorbar": {
             "outlinewidth": 0,
             "ticks": ""
            },
            "colorscale": [
             [
              0,
              "#0d0887"
             ],
             [
              0.1111111111111111,
              "#46039f"
             ],
             [
              0.2222222222222222,
              "#7201a8"
             ],
             [
              0.3333333333333333,
              "#9c179e"
             ],
             [
              0.4444444444444444,
              "#bd3786"
             ],
             [
              0.5555555555555556,
              "#d8576b"
             ],
             [
              0.6666666666666666,
              "#ed7953"
             ],
             [
              0.7777777777777778,
              "#fb9f3a"
             ],
             [
              0.8888888888888888,
              "#fdca26"
             ],
             [
              1,
              "#f0f921"
             ]
            ],
            "type": "heatmap"
           }
          ],
          "heatmapgl": [
           {
            "colorbar": {
             "outlinewidth": 0,
             "ticks": ""
            },
            "colorscale": [
             [
              0,
              "#0d0887"
             ],
             [
              0.1111111111111111,
              "#46039f"
             ],
             [
              0.2222222222222222,
              "#7201a8"
             ],
             [
              0.3333333333333333,
              "#9c179e"
             ],
             [
              0.4444444444444444,
              "#bd3786"
             ],
             [
              0.5555555555555556,
              "#d8576b"
             ],
             [
              0.6666666666666666,
              "#ed7953"
             ],
             [
              0.7777777777777778,
              "#fb9f3a"
             ],
             [
              0.8888888888888888,
              "#fdca26"
             ],
             [
              1,
              "#f0f921"
             ]
            ],
            "type": "heatmapgl"
           }
          ],
          "histogram": [
           {
            "marker": {
             "pattern": {
              "fillmode": "overlay",
              "size": 10,
              "solidity": 0.2
             }
            },
            "type": "histogram"
           }
          ],
          "histogram2d": [
           {
            "colorbar": {
             "outlinewidth": 0,
             "ticks": ""
            },
            "colorscale": [
             [
              0,
              "#0d0887"
             ],
             [
              0.1111111111111111,
              "#46039f"
             ],
             [
              0.2222222222222222,
              "#7201a8"
             ],
             [
              0.3333333333333333,
              "#9c179e"
             ],
             [
              0.4444444444444444,
              "#bd3786"
             ],
             [
              0.5555555555555556,
              "#d8576b"
             ],
             [
              0.6666666666666666,
              "#ed7953"
             ],
             [
              0.7777777777777778,
              "#fb9f3a"
             ],
             [
              0.8888888888888888,
              "#fdca26"
             ],
             [
              1,
              "#f0f921"
             ]
            ],
            "type": "histogram2d"
           }
          ],
          "histogram2dcontour": [
           {
            "colorbar": {
             "outlinewidth": 0,
             "ticks": ""
            },
            "colorscale": [
             [
              0,
              "#0d0887"
             ],
             [
              0.1111111111111111,
              "#46039f"
             ],
             [
              0.2222222222222222,
              "#7201a8"
             ],
             [
              0.3333333333333333,
              "#9c179e"
             ],
             [
              0.4444444444444444,
              "#bd3786"
             ],
             [
              0.5555555555555556,
              "#d8576b"
             ],
             [
              0.6666666666666666,
              "#ed7953"
             ],
             [
              0.7777777777777778,
              "#fb9f3a"
             ],
             [
              0.8888888888888888,
              "#fdca26"
             ],
             [
              1,
              "#f0f921"
             ]
            ],
            "type": "histogram2dcontour"
           }
          ],
          "mesh3d": [
           {
            "colorbar": {
             "outlinewidth": 0,
             "ticks": ""
            },
            "type": "mesh3d"
           }
          ],
          "parcoords": [
           {
            "line": {
             "colorbar": {
              "outlinewidth": 0,
              "ticks": ""
             }
            },
            "type": "parcoords"
           }
          ],
          "pie": [
           {
            "automargin": true,
            "type": "pie"
           }
          ],
          "scatter": [
           {
            "fillpattern": {
             "fillmode": "overlay",
             "size": 10,
             "solidity": 0.2
            },
            "type": "scatter"
           }
          ],
          "scatter3d": [
           {
            "line": {
             "colorbar": {
              "outlinewidth": 0,
              "ticks": ""
             }
            },
            "marker": {
             "colorbar": {
              "outlinewidth": 0,
              "ticks": ""
             }
            },
            "type": "scatter3d"
           }
          ],
          "scattercarpet": [
           {
            "marker": {
             "colorbar": {
              "outlinewidth": 0,
              "ticks": ""
             }
            },
            "type": "scattercarpet"
           }
          ],
          "scattergeo": [
           {
            "marker": {
             "colorbar": {
              "outlinewidth": 0,
              "ticks": ""
             }
            },
            "type": "scattergeo"
           }
          ],
          "scattergl": [
           {
            "marker": {
             "colorbar": {
              "outlinewidth": 0,
              "ticks": ""
             }
            },
            "type": "scattergl"
           }
          ],
          "scattermapbox": [
           {
            "marker": {
             "colorbar": {
              "outlinewidth": 0,
              "ticks": ""
             }
            },
            "type": "scattermapbox"
           }
          ],
          "scatterpolar": [
           {
            "marker": {
             "colorbar": {
              "outlinewidth": 0,
              "ticks": ""
             }
            },
            "type": "scatterpolar"
           }
          ],
          "scatterpolargl": [
           {
            "marker": {
             "colorbar": {
              "outlinewidth": 0,
              "ticks": ""
             }
            },
            "type": "scatterpolargl"
           }
          ],
          "scatterternary": [
           {
            "marker": {
             "colorbar": {
              "outlinewidth": 0,
              "ticks": ""
             }
            },
            "type": "scatterternary"
           }
          ],
          "surface": [
           {
            "colorbar": {
             "outlinewidth": 0,
             "ticks": ""
            },
            "colorscale": [
             [
              0,
              "#0d0887"
             ],
             [
              0.1111111111111111,
              "#46039f"
             ],
             [
              0.2222222222222222,
              "#7201a8"
             ],
             [
              0.3333333333333333,
              "#9c179e"
             ],
             [
              0.4444444444444444,
              "#bd3786"
             ],
             [
              0.5555555555555556,
              "#d8576b"
             ],
             [
              0.6666666666666666,
              "#ed7953"
             ],
             [
              0.7777777777777778,
              "#fb9f3a"
             ],
             [
              0.8888888888888888,
              "#fdca26"
             ],
             [
              1,
              "#f0f921"
             ]
            ],
            "type": "surface"
           }
          ],
          "table": [
           {
            "cells": {
             "fill": {
              "color": "#EBF0F8"
             },
             "line": {
              "color": "white"
             }
            },
            "header": {
             "fill": {
              "color": "#C8D4E3"
             },
             "line": {
              "color": "white"
             }
            },
            "type": "table"
           }
          ]
         },
         "layout": {
          "annotationdefaults": {
           "arrowcolor": "#2a3f5f",
           "arrowhead": 0,
           "arrowwidth": 1
          },
          "autotypenumbers": "strict",
          "coloraxis": {
           "colorbar": {
            "outlinewidth": 0,
            "ticks": ""
           }
          },
          "colorscale": {
           "diverging": [
            [
             0,
             "#8e0152"
            ],
            [
             0.1,
             "#c51b7d"
            ],
            [
             0.2,
             "#de77ae"
            ],
            [
             0.3,
             "#f1b6da"
            ],
            [
             0.4,
             "#fde0ef"
            ],
            [
             0.5,
             "#f7f7f7"
            ],
            [
             0.6,
             "#e6f5d0"
            ],
            [
             0.7,
             "#b8e186"
            ],
            [
             0.8,
             "#7fbc41"
            ],
            [
             0.9,
             "#4d9221"
            ],
            [
             1,
             "#276419"
            ]
           ],
           "sequential": [
            [
             0,
             "#0d0887"
            ],
            [
             0.1111111111111111,
             "#46039f"
            ],
            [
             0.2222222222222222,
             "#7201a8"
            ],
            [
             0.3333333333333333,
             "#9c179e"
            ],
            [
             0.4444444444444444,
             "#bd3786"
            ],
            [
             0.5555555555555556,
             "#d8576b"
            ],
            [
             0.6666666666666666,
             "#ed7953"
            ],
            [
             0.7777777777777778,
             "#fb9f3a"
            ],
            [
             0.8888888888888888,
             "#fdca26"
            ],
            [
             1,
             "#f0f921"
            ]
           ],
           "sequentialminus": [
            [
             0,
             "#0d0887"
            ],
            [
             0.1111111111111111,
             "#46039f"
            ],
            [
             0.2222222222222222,
             "#7201a8"
            ],
            [
             0.3333333333333333,
             "#9c179e"
            ],
            [
             0.4444444444444444,
             "#bd3786"
            ],
            [
             0.5555555555555556,
             "#d8576b"
            ],
            [
             0.6666666666666666,
             "#ed7953"
            ],
            [
             0.7777777777777778,
             "#fb9f3a"
            ],
            [
             0.8888888888888888,
             "#fdca26"
            ],
            [
             1,
             "#f0f921"
            ]
           ]
          },
          "colorway": [
           "#636efa",
           "#EF553B",
           "#00cc96",
           "#ab63fa",
           "#FFA15A",
           "#19d3f3",
           "#FF6692",
           "#B6E880",
           "#FF97FF",
           "#FECB52"
          ],
          "font": {
           "color": "#2a3f5f"
          },
          "geo": {
           "bgcolor": "white",
           "lakecolor": "white",
           "landcolor": "#E5ECF6",
           "showlakes": true,
           "showland": true,
           "subunitcolor": "white"
          },
          "hoverlabel": {
           "align": "left"
          },
          "hovermode": "closest",
          "mapbox": {
           "style": "light"
          },
          "paper_bgcolor": "white",
          "plot_bgcolor": "#E5ECF6",
          "polar": {
           "angularaxis": {
            "gridcolor": "white",
            "linecolor": "white",
            "ticks": ""
           },
           "bgcolor": "#E5ECF6",
           "radialaxis": {
            "gridcolor": "white",
            "linecolor": "white",
            "ticks": ""
           }
          },
          "scene": {
           "xaxis": {
            "backgroundcolor": "#E5ECF6",
            "gridcolor": "white",
            "gridwidth": 2,
            "linecolor": "white",
            "showbackground": true,
            "ticks": "",
            "zerolinecolor": "white"
           },
           "yaxis": {
            "backgroundcolor": "#E5ECF6",
            "gridcolor": "white",
            "gridwidth": 2,
            "linecolor": "white",
            "showbackground": true,
            "ticks": "",
            "zerolinecolor": "white"
           },
           "zaxis": {
            "backgroundcolor": "#E5ECF6",
            "gridcolor": "white",
            "gridwidth": 2,
            "linecolor": "white",
            "showbackground": true,
            "ticks": "",
            "zerolinecolor": "white"
           }
          },
          "shapedefaults": {
           "line": {
            "color": "#2a3f5f"
           }
          },
          "ternary": {
           "aaxis": {
            "gridcolor": "white",
            "linecolor": "white",
            "ticks": ""
           },
           "baxis": {
            "gridcolor": "white",
            "linecolor": "white",
            "ticks": ""
           },
           "bgcolor": "#E5ECF6",
           "caxis": {
            "gridcolor": "white",
            "linecolor": "white",
            "ticks": ""
           }
          },
          "title": {
           "x": 0.05
          },
          "xaxis": {
           "automargin": true,
           "gridcolor": "white",
           "linecolor": "white",
           "ticks": "",
           "title": {
            "standoff": 15
           },
           "zerolinecolor": "white",
           "zerolinewidth": 2
          },
          "yaxis": {
           "automargin": true,
           "gridcolor": "white",
           "linecolor": "white",
           "ticks": "",
           "title": {
            "standoff": 15
           },
           "zerolinecolor": "white",
           "zerolinewidth": 2
          }
         }
        },
        "title": {
         "text": "uMAP Plot for Outliers"
        },
        "width": 900,
        "xaxis": {
         "anchor": "y",
         "domain": [
          0,
          1
         ],
         "title": {
          "text": "0"
         }
        },
        "yaxis": {
         "anchor": "x",
         "domain": [
          0,
          1
         ],
         "title": {
          "text": "1"
         }
        }
       }
      }
     },
     "metadata": {},
     "output_type": "display_data"
    }
   ],
   "source": [
    "plot_model(iforest, plot='umap')"
   ]
  },
  {
   "cell_type": "markdown",
   "metadata": {},
   "source": [
    "### Assign Model\n",
    "\n",
    "This function assigns anomaly labels to the dataset for a given model. (1=outlier, 0=inlier).\n",
    "\n",
    "### モデルの割り当て\n",
    "\n",
    "この関数は、与えられたモデルに対して、データセットに異常値ラベルを割り当てる。(1=異常値（外れ値）, 0=インライヤ)。"
   ]
  },
  {
   "cell_type": "code",
   "execution_count": 8,
   "metadata": {},
   "outputs": [
    {
     "data": {
      "text/html": [
       "<div>\n",
       "<style scoped>\n",
       "    .dataframe tbody tr th:only-of-type {\n",
       "        vertical-align: middle;\n",
       "    }\n",
       "\n",
       "    .dataframe tbody tr th {\n",
       "        vertical-align: top;\n",
       "    }\n",
       "\n",
       "    .dataframe thead th {\n",
       "        text-align: right;\n",
       "    }\n",
       "</style>\n",
       "<table border=\"1\" class=\"dataframe\">\n",
       "  <thead>\n",
       "    <tr style=\"text-align: right;\">\n",
       "      <th></th>\n",
       "      <th>Col1</th>\n",
       "      <th>Col2</th>\n",
       "      <th>Col3</th>\n",
       "      <th>Col4</th>\n",
       "      <th>Col5</th>\n",
       "      <th>Col6</th>\n",
       "      <th>Col7</th>\n",
       "      <th>Col8</th>\n",
       "      <th>Col9</th>\n",
       "      <th>Col10</th>\n",
       "      <th>Anomaly</th>\n",
       "      <th>Anomaly_Score</th>\n",
       "    </tr>\n",
       "  </thead>\n",
       "  <tbody>\n",
       "    <tr>\n",
       "      <th>0</th>\n",
       "      <td>0.263995</td>\n",
       "      <td>0.764929</td>\n",
       "      <td>0.138424</td>\n",
       "      <td>0.935242</td>\n",
       "      <td>0.605867</td>\n",
       "      <td>0.518790</td>\n",
       "      <td>0.912225</td>\n",
       "      <td>0.608234</td>\n",
       "      <td>0.723782</td>\n",
       "      <td>0.733591</td>\n",
       "      <td>0</td>\n",
       "      <td>-0.023643</td>\n",
       "    </tr>\n",
       "    <tr>\n",
       "      <th>1</th>\n",
       "      <td>0.546092</td>\n",
       "      <td>0.653975</td>\n",
       "      <td>0.065575</td>\n",
       "      <td>0.227772</td>\n",
       "      <td>0.845269</td>\n",
       "      <td>0.837066</td>\n",
       "      <td>0.272379</td>\n",
       "      <td>0.331679</td>\n",
       "      <td>0.429297</td>\n",
       "      <td>0.367422</td>\n",
       "      <td>0</td>\n",
       "      <td>-0.070447</td>\n",
       "    </tr>\n",
       "    <tr>\n",
       "      <th>2</th>\n",
       "      <td>0.336714</td>\n",
       "      <td>0.538842</td>\n",
       "      <td>0.192801</td>\n",
       "      <td>0.553563</td>\n",
       "      <td>0.074515</td>\n",
       "      <td>0.332993</td>\n",
       "      <td>0.365792</td>\n",
       "      <td>0.861309</td>\n",
       "      <td>0.899017</td>\n",
       "      <td>0.088600</td>\n",
       "      <td>0</td>\n",
       "      <td>-0.002528</td>\n",
       "    </tr>\n",
       "    <tr>\n",
       "      <th>3</th>\n",
       "      <td>0.092108</td>\n",
       "      <td>0.995017</td>\n",
       "      <td>0.014465</td>\n",
       "      <td>0.176371</td>\n",
       "      <td>0.241530</td>\n",
       "      <td>0.514724</td>\n",
       "      <td>0.562208</td>\n",
       "      <td>0.158963</td>\n",
       "      <td>0.073715</td>\n",
       "      <td>0.208463</td>\n",
       "      <td>1</td>\n",
       "      <td>0.049406</td>\n",
       "    </tr>\n",
       "    <tr>\n",
       "      <th>4</th>\n",
       "      <td>0.325261</td>\n",
       "      <td>0.805968</td>\n",
       "      <td>0.957033</td>\n",
       "      <td>0.331665</td>\n",
       "      <td>0.307923</td>\n",
       "      <td>0.355315</td>\n",
       "      <td>0.501899</td>\n",
       "      <td>0.558449</td>\n",
       "      <td>0.885169</td>\n",
       "      <td>0.182754</td>\n",
       "      <td>0</td>\n",
       "      <td>-0.016433</td>\n",
       "    </tr>\n",
       "  </tbody>\n",
       "</table>\n",
       "</div>"
      ],
      "text/plain": [
       "       Col1      Col2      Col3      Col4      Col5      Col6      Col7  \\\n",
       "0  0.263995  0.764929  0.138424  0.935242  0.605867  0.518790  0.912225   \n",
       "1  0.546092  0.653975  0.065575  0.227772  0.845269  0.837066  0.272379   \n",
       "2  0.336714  0.538842  0.192801  0.553563  0.074515  0.332993  0.365792   \n",
       "3  0.092108  0.995017  0.014465  0.176371  0.241530  0.514724  0.562208   \n",
       "4  0.325261  0.805968  0.957033  0.331665  0.307923  0.355315  0.501899   \n",
       "\n",
       "       Col8      Col9     Col10  Anomaly  Anomaly_Score  \n",
       "0  0.608234  0.723782  0.733591        0      -0.023643  \n",
       "1  0.331679  0.429297  0.367422        0      -0.070447  \n",
       "2  0.861309  0.899017  0.088600        0      -0.002528  \n",
       "3  0.158963  0.073715  0.208463        1       0.049406  \n",
       "4  0.558449  0.885169  0.182754        0      -0.016433  "
      ]
     },
     "execution_count": 8,
     "metadata": {},
     "output_type": "execute_result"
    }
   ],
   "source": [
    "result = assign_model(iforest)\n",
    "result.head()"
   ]
  },
  {
   "cell_type": "markdown",
   "metadata": {},
   "source": [
    "### Predictions\n",
    "\n",
    "This function generates anomaly labels using a trained model on the new/unseen dataset.\n",
    "\n",
    "### 予測値\n",
    "\n",
    "この関数は、新規/未見データセットに対して学習したモデルを用いて、異常ラベルを生成する。"
   ]
  },
  {
   "cell_type": "code",
   "execution_count": 9,
   "metadata": {},
   "outputs": [
    {
     "data": {
      "text/html": [
       "<div>\n",
       "<style scoped>\n",
       "    .dataframe tbody tr th:only-of-type {\n",
       "        vertical-align: middle;\n",
       "    }\n",
       "\n",
       "    .dataframe tbody tr th {\n",
       "        vertical-align: top;\n",
       "    }\n",
       "\n",
       "    .dataframe thead th {\n",
       "        text-align: right;\n",
       "    }\n",
       "</style>\n",
       "<table border=\"1\" class=\"dataframe\">\n",
       "  <thead>\n",
       "    <tr style=\"text-align: right;\">\n",
       "      <th></th>\n",
       "      <th>Col1</th>\n",
       "      <th>Col2</th>\n",
       "      <th>Col3</th>\n",
       "      <th>Col4</th>\n",
       "      <th>Col5</th>\n",
       "      <th>Col6</th>\n",
       "      <th>Col7</th>\n",
       "      <th>Col8</th>\n",
       "      <th>Col9</th>\n",
       "      <th>Col10</th>\n",
       "      <th>Anomaly</th>\n",
       "      <th>Anomaly_Score</th>\n",
       "    </tr>\n",
       "  </thead>\n",
       "  <tbody>\n",
       "    <tr>\n",
       "      <th>0</th>\n",
       "      <td>0.263995</td>\n",
       "      <td>0.764929</td>\n",
       "      <td>0.138424</td>\n",
       "      <td>0.935242</td>\n",
       "      <td>0.605867</td>\n",
       "      <td>0.518790</td>\n",
       "      <td>0.912225</td>\n",
       "      <td>0.608234</td>\n",
       "      <td>0.723782</td>\n",
       "      <td>0.733591</td>\n",
       "      <td>0</td>\n",
       "      <td>-0.023643</td>\n",
       "    </tr>\n",
       "    <tr>\n",
       "      <th>1</th>\n",
       "      <td>0.546092</td>\n",
       "      <td>0.653975</td>\n",
       "      <td>0.065575</td>\n",
       "      <td>0.227772</td>\n",
       "      <td>0.845269</td>\n",
       "      <td>0.837066</td>\n",
       "      <td>0.272379</td>\n",
       "      <td>0.331679</td>\n",
       "      <td>0.429297</td>\n",
       "      <td>0.367422</td>\n",
       "      <td>0</td>\n",
       "      <td>-0.070447</td>\n",
       "    </tr>\n",
       "    <tr>\n",
       "      <th>2</th>\n",
       "      <td>0.336714</td>\n",
       "      <td>0.538842</td>\n",
       "      <td>0.192801</td>\n",
       "      <td>0.553563</td>\n",
       "      <td>0.074515</td>\n",
       "      <td>0.332993</td>\n",
       "      <td>0.365792</td>\n",
       "      <td>0.861309</td>\n",
       "      <td>0.899017</td>\n",
       "      <td>0.088600</td>\n",
       "      <td>0</td>\n",
       "      <td>-0.002528</td>\n",
       "    </tr>\n",
       "    <tr>\n",
       "      <th>3</th>\n",
       "      <td>0.092108</td>\n",
       "      <td>0.995017</td>\n",
       "      <td>0.014465</td>\n",
       "      <td>0.176371</td>\n",
       "      <td>0.241530</td>\n",
       "      <td>0.514724</td>\n",
       "      <td>0.562208</td>\n",
       "      <td>0.158963</td>\n",
       "      <td>0.073715</td>\n",
       "      <td>0.208463</td>\n",
       "      <td>1</td>\n",
       "      <td>0.049406</td>\n",
       "    </tr>\n",
       "    <tr>\n",
       "      <th>4</th>\n",
       "      <td>0.325261</td>\n",
       "      <td>0.805968</td>\n",
       "      <td>0.957033</td>\n",
       "      <td>0.331665</td>\n",
       "      <td>0.307923</td>\n",
       "      <td>0.355315</td>\n",
       "      <td>0.501899</td>\n",
       "      <td>0.558449</td>\n",
       "      <td>0.885169</td>\n",
       "      <td>0.182754</td>\n",
       "      <td>0</td>\n",
       "      <td>-0.016433</td>\n",
       "    </tr>\n",
       "  </tbody>\n",
       "</table>\n",
       "</div>"
      ],
      "text/plain": [
       "       Col1      Col2      Col3      Col4      Col5      Col6      Col7  \\\n",
       "0  0.263995  0.764929  0.138424  0.935242  0.605867  0.518790  0.912225   \n",
       "1  0.546092  0.653975  0.065575  0.227772  0.845269  0.837066  0.272379   \n",
       "2  0.336714  0.538842  0.192801  0.553563  0.074515  0.332993  0.365792   \n",
       "3  0.092108  0.995017  0.014465  0.176371  0.241530  0.514724  0.562208   \n",
       "4  0.325261  0.805968  0.957033  0.331665  0.307923  0.355315  0.501899   \n",
       "\n",
       "       Col8      Col9     Col10  Anomaly  Anomaly_Score  \n",
       "0  0.608234  0.723782  0.733591        0      -0.023643  \n",
       "1  0.331679  0.429297  0.367422        0      -0.070447  \n",
       "2  0.861309  0.899017  0.088600        0      -0.002528  \n",
       "3  0.158963  0.073715  0.208463        1       0.049406  \n",
       "4  0.558449  0.885169  0.182754        0      -0.016433  "
      ]
     },
     "execution_count": 9,
     "metadata": {},
     "output_type": "execute_result"
    }
   ],
   "source": [
    "predictions = predict_model(iforest, data=data)\n",
    "predictions.head()"
   ]
  },
  {
   "cell_type": "markdown",
   "metadata": {},
   "source": [
    "### Save the model\n",
    "\n",
    "### モデルの保存"
   ]
  },
  {
   "cell_type": "code",
   "execution_count": 10,
   "metadata": {},
   "outputs": [
    {
     "name": "stdout",
     "output_type": "stream",
     "text": [
      "Transformation Pipeline and Model Successfully Saved\n"
     ]
    },
    {
     "data": {
      "text/plain": [
       "(Pipeline(memory=None,\n",
       "          steps=[('dtypes',\n",
       "                  DataTypes_Auto_infer(categorical_features=[],\n",
       "                                       display_types=True, features_todrop=[],\n",
       "                                       id_columns=[], ml_usecase='regression',\n",
       "                                       numerical_features=[],\n",
       "                                       target='UNSUPERVISED_DUMMY_TARGET',\n",
       "                                       time_features=[])),\n",
       "                 ('imputer',\n",
       "                  Simple_Imputer(categorical_strategy='most frequent',\n",
       "                                 fill_value_categorical=None,\n",
       "                                 fill_value_numerical=None...\n",
       "                 ('fix_perfect', 'passthrough'),\n",
       "                 ('clean_names', Clean_Colum_Names()),\n",
       "                 ('feature_select', 'passthrough'), ('fix_multi', 'passthrough'),\n",
       "                 ('dfs', 'passthrough'), ('pca', 'passthrough'),\n",
       "                 ['trained_model',\n",
       "                  IForest(behaviour='new', bootstrap=False, contamination=0.05,\n",
       "     max_features=1.0, max_samples='auto', n_estimators=100, n_jobs=-1,\n",
       "     random_state=2788, verbose=0)]],\n",
       "          verbose=False),\n",
       " 'iforest_pipeline.pkl')"
      ]
     },
     "execution_count": 10,
     "metadata": {},
     "output_type": "execute_result"
    }
   ],
   "source": [
    "save_model(iforest, 'iforest_pipeline')"
   ]
  },
  {
   "cell_type": "markdown",
   "metadata": {},
   "source": [
    "#### To load the model back in the environment:\n",
    "\n",
    "#### モデルを環境に戻すには:"
   ]
  },
  {
   "cell_type": "code",
   "execution_count": 11,
   "metadata": {},
   "outputs": [
    {
     "name": "stdout",
     "output_type": "stream",
     "text": [
      "Transformation Pipeline and Model Successfully Loaded\n",
      "Pipeline(memory=None,\n",
      "         steps=[('dtypes',\n",
      "                 DataTypes_Auto_infer(categorical_features=[],\n",
      "                                      display_types=True, features_todrop=[],\n",
      "                                      id_columns=[], ml_usecase='regression',\n",
      "                                      numerical_features=[],\n",
      "                                      target='UNSUPERVISED_DUMMY_TARGET',\n",
      "                                      time_features=[])),\n",
      "                ('imputer',\n",
      "                 Simple_Imputer(categorical_strategy='most frequent',\n",
      "                                fill_value_categorical=None,\n",
      "                                fill_value_numerical=None...\n",
      "                ('fix_perfect', 'passthrough'),\n",
      "                ('clean_names', Clean_Colum_Names()),\n",
      "                ('feature_select', 'passthrough'), ('fix_multi', 'passthrough'),\n",
      "                ('dfs', 'passthrough'), ('pca', 'passthrough'),\n",
      "                ['trained_model',\n",
      "                 IForest(behaviour='new', bootstrap=False, contamination=0.05,\n",
      "    max_features=1.0, max_samples='auto', n_estimators=100, n_jobs=-1,\n",
      "    random_state=2788, verbose=0)]],\n",
      "         verbose=False)\n"
     ]
    }
   ],
   "source": [
    "loaded_model = load_model('iforest_pipeline')\n",
    "print(loaded_model)"
   ]
  },
  {
   "cell_type": "code",
   "execution_count": null,
   "metadata": {},
   "outputs": [],
   "source": []
  }
 ],
 "metadata": {
  "kernelspec": {
   "display_name": "Python 3.8.15 ('venv': venv)",
   "language": "python",
   "name": "python3"
  },
  "language_info": {
   "codemirror_mode": {
    "name": "ipython",
    "version": 3
   },
   "file_extension": ".py",
   "mimetype": "text/x-python",
   "name": "python",
   "nbconvert_exporter": "python",
   "pygments_lexer": "ipython3",
   "version": "3.8.15"
  },
  "orig_nbformat": 4,
  "vscode": {
   "interpreter": {
    "hash": "144d929da0570c40592d9dc325047f87d05d6a3c34760fe6027613ddef8a9521"
   }
  }
 },
 "nbformat": 4,
 "nbformat_minor": 2
}
